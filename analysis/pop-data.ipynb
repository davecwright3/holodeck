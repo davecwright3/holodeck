{
 "cells": [
  {
   "cell_type": "code",
   "execution_count": null,
   "metadata": {},
   "outputs": [],
   "source": [
    "import numpy as np\n",
    "import matplotlib.pyplot as plt\n",
    "\n",
    "import holodeck as holo\n",
    "import holodeck.plot\n",
    "import holodeck.utils\n",
    "from holodeck.constants import YR"
   ]
  },
  {
   "cell_type": "markdown",
   "metadata": {},
   "source": [
    "# SAM Populations"
   ]
  },
  {
   "cell_type": "code",
   "execution_count": null,
   "metadata": {},
   "outputs": [],
   "source": [
    "fname_real = \"./pop-sam_v0.2_b54efb6__d20.0_c0.100_sh0050_st+2.000/0000.npz\"\n",
    "fname_sam = \"./pop-sam_v0.2_b54efb6__d20.0_c0.100_sh0050_st+2.000/sam.npz\"\n",
    "\n",
    "data_sam = np.load(fname_sam)\n",
    "fobs = data_sam['fobs']\n",
    "print(f\"SAM frequencies: [{fobs[0]*YR:.2f}, {fobs[-1]*YR:.2f}] 1/yr, {fobs.size-1} bins\")\n",
    "\n",
    "data_real = np.load(fname_real)\n",
    "weights = data_real['weights']\n",
    "print(f\"Sample points: {weights.size:.4e}, effective number of binaries: {weights.sum():.4e}\")"
   ]
  },
  {
   "cell_type": "code",
   "execution_count": null,
   "metadata": {},
   "outputs": [],
   "source": [
    "nloud = 5\n",
    "\n",
    "hs, fo = holo.sam._strains_from_samples([data_real[kk] for kk in ['mtot', 'mrat', 'redz', 'fobs']])\n",
    "colors = holo.plot._get_cmap('plasma')(np.linspace(0.1, 0.9, nloud))\n",
    "\n",
    "fig, ax = holo.plot.figax(figsize=[12, 8], xlabel='Frequency [yr$^{-1}$]', ylabel='c-Strain')\n",
    "for ii in holo.utils.tqdm(range(fobs.size-1)):\n",
    "    fextr = [fobs[ii+jj] for jj in range(2)]\n",
    "    fextr = np.asarray(fextr)\n",
    "    cycles = 1.0 / np.diff(np.log(fextr))[0]\n",
    "\n",
    "    idx = (fextr[0] <= fo) & (fo < fextr[1])\n",
    "    hs_bin = hs[idx]\n",
    "    fo_bin = fo[idx]    \n",
    "    ww_bin = weights[idx]\n",
    "    ww = ww_bin * cycles\n",
    "\n",
    "    tot = np.sqrt(np.sum(ww * hs_bin**2))\n",
    "    ax.plot(fextr*YR, tot * np.ones_like(fextr), 'k--')\n",
    "\n",
    "    idx = np.argsort(hs_bin)[::-1]\n",
    "    if any(ww_bin[idx[:nloud]] > 1):\n",
    "        raise\n",
    "    \n",
    "    for jj, cc in enumerate(colors):\n",
    "        if jj > len(idx):\n",
    "            break\n",
    "        hi = idx[jj]\n",
    "        lo = idx[jj+1:]\n",
    "        gw_hi = np.sqrt(np.sum(ww[hi] * hs_bin[hi]**2))\n",
    "        gw_lo = np.sqrt(np.sum(ww[lo] * hs_bin[lo]**2))\n",
    "\n",
    "        fave = np.average(fo_bin[hi], weights=hs_bin[hi])\n",
    "        ax.plot(fextr*YR, gw_lo * np.ones_like(fextr), color=cc, lw=0.5)\n",
    "        ax.scatter(fave*YR, gw_hi, marker='.', color=cc, alpha=0.5)\n",
    "\n",
    "plt.show()"
   ]
  },
  {
   "cell_type": "markdown",
   "metadata": {},
   "source": [
    "# Illustris Population"
   ]
  },
  {
   "cell_type": "code",
   "execution_count": null,
   "metadata": {},
   "outputs": [],
   "source": [
    "fname = \"./pop-ill_v0.2_e6bc2cb__d20.0_c0.100_mamp+8.845098_mamp1.00/debug_0000.npz\"\n",
    "data = np.load(fname)\n",
    "print(list(data.keys()))\n",
    "print(f\"Loaded {data['redz'].size:.4e} samples\")"
   ]
  },
  {
   "cell_type": "code",
   "execution_count": null,
   "metadata": {},
   "outputs": [],
   "source": [
    "nloud = 5\n",
    "fobs = data['freq_bins']\n",
    "hs, fo = holo.sam._strains_from_samples([data[kk] for kk in ['mtot', 'mrat', 'redz', 'fobs']])\n",
    "colors = holo.plot._get_cmap('plasma')(np.linspace(0.1, 0.9, nloud))\n",
    "\n",
    "fig, ax = holo.plot.figax(figsize=[12, 8], xlabel='Frequency [yr$^{-1}$]', ylabel='c-Strain')\n",
    "for ii in holo.utils.tqdm(range(fobs.size-1)):\n",
    "    fextr = [fobs[ii+jj] for jj in range(2)]\n",
    "    fextr = np.asarray(fextr)\n",
    "    cycles = 1.0 / np.diff(np.log(fextr))[0]\n",
    "\n",
    "    idx = (fextr[0] <= fo) & (fo < fextr[1])\n",
    "    hs_bin = hs[idx]\n",
    "    fo_bin = fo[idx]    \n",
    "\n",
    "    tot = np.sqrt(np.sum(cycles * hs_bin**2))\n",
    "    ax.plot(fextr*YR, tot * np.ones_like(fextr), 'k--')\n",
    "\n",
    "    idx = np.argsort(hs_bin)[::-1]\n",
    "    \n",
    "    for jj, cc in enumerate(colors):\n",
    "        if jj >= len(idx):\n",
    "            break\n",
    "        hi = idx[jj]\n",
    "        lo = idx[jj+1:]\n",
    "        gw_hi = np.sqrt(np.sum(cycles * hs_bin[hi]**2))\n",
    "        gw_lo = np.sqrt(np.sum(cycles * hs_bin[lo]**2))\n",
    "\n",
    "        fave = np.average(fo_bin[hi], weights=hs_bin[hi])\n",
    "        ax.plot(fextr*YR, gw_lo * np.ones_like(fextr), color=cc, lw=0.5)\n",
    "        ax.scatter(fave*YR, gw_hi, marker='.', color=cc, alpha=0.5)\n",
    "\n",
    "plt.show()"
   ]
  }
 ],
 "metadata": {
  "interpreter": {
   "hash": "61b4062b24dfb1010f420dad5aa3bd73a4d2af47d0ec44eafec465a35a9d7239"
  },
  "kernelspec": {
   "display_name": "Python 3.9.12 ('py39')",
   "language": "python",
   "name": "python3"
  },
  "language_info": {
   "codemirror_mode": {
    "name": "ipython",
    "version": 3
   },
   "file_extension": ".py",
   "mimetype": "text/x-python",
   "name": "python",
   "nbconvert_exporter": "python",
   "pygments_lexer": "ipython3",
   "version": "3.9.12"
  }
 },
 "nbformat": 4,
 "nbformat_minor": 2
}
