{
 "cells": [
  {
   "cell_type": "code",
   "execution_count": null,
   "metadata": {},
   "outputs": [],
   "source": [
    "%reload_ext autoreload\n",
    "%autoreload 2\n",
    "from importlib import reload\n",
    "\n",
    "import numpy as np\n",
    "import matplotlib.pyplot as plt\n",
    "import matplotlib.cm as cm\n",
    "import h5py\n",
    "from tqdm import tqdm\n",
    "import os\n",
    "\n",
    "\n",
    "from holodeck import plot, detstats, utils\n",
    "import holodeck.single_sources as sings\n",
    "from holodeck.constants import YR, MSOL, MPC, GYR, PC\n",
    "import holodeck as holo\n",
    "from holodeck.sams import sam\n",
    "\n",
    "import hasasia.sim as hsim"
   ]
  },
  {
   "cell_type": "code",
   "execution_count": null,
   "metadata": {},
   "outputs": [],
   "source": [
    "SHAPE = None\n",
    "NREALS = 500\n",
    "NFREQS = 40\n",
    "NLOUDEST = 10\n",
    "BGL = 1\n",
    "\n",
    "TOL=0.01\n",
    "MAXBADS=5\n",
    "\n",
    "NVARS = 21\n",
    "\n",
    "NPSRS = 40\n",
    "NSKIES = 100\n",
    "\n",
    "ALL_TARGETS = ['hard_time', 'gsmf_phi0', 'gsmf_mchar0_log10', 'mmb_mamp_log10', 'mmb_scatter_dex', 'hard_gamma_inner']"
   ]
  },
  {
   "cell_type": "markdown",
   "metadata": {},
   "source": [
    "# Plot Number of Sources Contributing to EV_SS"
   ]
  },
  {
   "cell_type": "code",
   "execution_count": null,
   "metadata": {},
   "outputs": [],
   "source": [
    "BUILD_ARRAYS=False\n",
    "\n",
    "ylabel='$N(\\mathrm{DP_{SS}}>x)$'\n",
    "title = 'Number of Sources Contributing to $\\langle N \\\\rangle_\\mathrm{SS}$'\n",
    "\n",
    "fig, axs = plot.figax_single(nrows=3, ncols=2, sharey=True, sharex=False,\n",
    "                              xscale='linear', yscale='linear', height=7)\n",
    "fig.text(0.08, 0.5, ylabel, ha='center', va='center', rotation='vertical')\n",
    "fig.suptitle(title, fontsize=12)\n",
    "for tt,target in enumerate(ALL_TARGETS):\n",
    "    ax = axs.flatten()[tt]\n",
    "    ax.set_xlabel(plot.PARAM_KEYS[target])\n",
    "\n",
    "    xx, _ = detstats.get_ratio_arrays(target)\n",
    "    if BUILD_ARRAYS:\n",
    "        _, y1, y2, _, _ = detstats.build_noise_arrays(target)\n",
    "    else:\n",
    "        _, y1, y2, _, _ = detstats.get_noise_arrays_temp(target)\n",
    "\n",
    "    y1 = y1.reshape(NVARS, NSKIES*NREALS)\n",
    "    y2 = y2.reshape(NVARS, NREALS*NSKIES)\n",
    "\n",
    "    h1 = plot.draw_med_conf_color(ax, xx, y1, color='tab:orange')\n",
    "    h2 = plot.draw_med_conf_color(ax, xx, y2, color='tab:blue')\n",
    "\n",
    "plt.subplots_adjust(wspace=0.05, hspace=0.38, top=0.93)\n",
    "\n",
    "labels = ['$0.50$', '$0.01$']\n",
    "fig.legend(handles=[h1, h2], labels=labels, bbox_to_anchor=(0.5,-0.02), loc='lower center',\n",
    "           ncols=2, title='$x$ threshold')"
   ]
  },
  {
   "cell_type": "markdown",
   "metadata": {},
   "source": [
    "# Plot Noise"
   ]
  },
  {
   "cell_type": "code",
   "execution_count": null,
   "metadata": {},
   "outputs": [],
   "source": [
    "target='gsmf_phi0'\n",
    "white_noise, count50, count01, hc_ss, hc_bg = detstats.get_noise_arrays_temp(target)\n",
    "\n",
    "fobs, _ = holo.utils.pta_freqs()\n",
    "psd_bg = detstats._power_spectral_density(hc_bg, fobs[np.newaxis,:,np.newaxis],\n",
    "                                          reshape_freqs=False) # V,F,R\n",
    "psd_ss = detstats._power_spectral_density(hc_ss, fobs[np.newaxis,:,np.newaxis,np.newaxis],\n",
    "                                          reshape_freqs=False) # V,F,R,L\n",
    "\n",
    "# white_noise, count_cws = detstats.build_noise_arrays(target)"
   ]
  },
  {
   "cell_type": "code",
   "execution_count": null,
   "metadata": {},
   "outputs": [],
   "source": [
    "BUILD_ARRAYS=False\n",
    "\n",
    "title='Power Spectral Density $S_h=h_c^2/(12 \\pi^2 f^3)$ in the lowest frequency bin'\n",
    "ylabel = 'Power Spectral Density [Hz$^{-3}$]'\n",
    "ff=0\n",
    "\n",
    "fig, axs = plot.figax_single(nrows=3, ncols=2, sharey=True, sharex=False,\n",
    "                              xscale='linear', height=7)\n",
    "fig.text(0.02, 0.5, ylabel, ha='center', va='center', rotation='vertical')\n",
    "fig.suptitle(title, fontsize=12)\n",
    "for tt,target in enumerate(ALL_TARGETS):\n",
    "    ax = axs.flatten()[tt]\n",
    "    ax.set_xlabel(plot.PARAM_KEYS[target])\n",
    "\n",
    "    xx, _ = detstats.get_ratio_arrays(target)\n",
    "    if BUILD_ARRAYS:\n",
    "        white_noise, _, _, hc_ss, hc_bg = detstats.build_noise_arrays(target)\n",
    "    else:\n",
    "        white_noise, _, _, hc_ss, hc_bg= detstats.get_noise_arrays_temp(target)\n",
    "\n",
    "    print(white_noise.shape)\n",
    "    psd_bg = detstats._power_spectral_density(hc_bg, fobs[np.newaxis,:,np.newaxis],\n",
    "                                          reshape_freqs=False) # V,F,R\n",
    "    psd_ss = detstats._power_spectral_density(hc_ss, fobs[np.newaxis,:,np.newaxis,np.newaxis],\n",
    "                                          reshape_freqs=False) # V,F,R,L\n",
    "\n",
    "    yy_wn = white_noise.reshape(NVARS, NREALS)\n",
    "    yy_bg = psd_bg[:,ff].reshape(NVARS, NREALS)\n",
    "    yy_ss = np.sum(psd_ss[:,ff,:,:], axis=-1).reshape(NVARS, NREALS)\n",
    "\n",
    "    yy_l1 = psd_ss[:,ff,:,0].reshape(NVARS, NREALS)\n",
    "    yy_l2 = psd_ss[:,ff,:,1].reshape(NVARS, NREALS)\n",
    "    yy_lt = psd_ss[:,ff,:,9].reshape(NVARS, NREALS)\n",
    "\n",
    "    h1 = plot.draw_med_conf_color(ax, xx, yy_wn, color='grey', linestyle=':')\n",
    "    h2 = plot.draw_med_conf_color(ax, xx, yy_bg, color='tab:blue', linestyle='--')\n",
    "    h3 = plot.draw_med_conf_color(ax, xx, yy_ss, color='black', fracs=[0.5,])\n",
    "    h4 = plot.draw_med_conf_color(ax, xx, yy_l1, color='#00ff00')\n",
    "    h5 = plot.draw_med_conf_color(ax, xx, yy_l2, color='#ff0000' )\n",
    "    h6 = plot.draw_med_conf_color(ax, xx, yy_lt, color='#4000ff')\n",
    "\n",
    "\n",
    "\n",
    "plt.subplots_adjust(wspace=0.05, hspace=0.38, top=0.93)\n",
    "\n",
    "labels = ['WN', 'BG', 'SS', '1st Loudest', '2nd L', '10th L']\n",
    "fig.legend(handles=[h1, h2, h3, h4, h5, h6], labels=labels, bbox_to_anchor=(0.5,0.0), loc='lower center',\n",
    "           ncols=6, columnspacing=1.5)"
   ]
  },
  {
   "cell_type": "code",
   "execution_count": null,
   "metadata": {},
   "outputs": [],
   "source": []
  }
 ],
 "metadata": {
  "kernelspec": {
   "display_name": "holo310",
   "language": "python",
   "name": "python3"
  },
  "language_info": {
   "codemirror_mode": {
    "name": "ipython",
    "version": 3
   },
   "file_extension": ".py",
   "mimetype": "text/x-python",
   "name": "python",
   "nbconvert_exporter": "python",
   "pygments_lexer": "ipython3",
   "version": "3.10.10"
  }
 },
 "nbformat": 4,
 "nbformat_minor": 2
}
