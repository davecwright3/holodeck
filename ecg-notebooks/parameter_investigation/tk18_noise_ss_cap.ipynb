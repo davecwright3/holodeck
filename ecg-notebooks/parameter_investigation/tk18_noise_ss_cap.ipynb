{
 "cells": [
  {
   "cell_type": "code",
   "execution_count": null,
   "metadata": {},
   "outputs": [],
   "source": [
    "%reload_ext autoreload\n",
    "%autoreload 2\n",
    "from importlib import reload\n",
    "\n",
    "import numpy as np\n",
    "import matplotlib.pyplot as plt\n",
    "import matplotlib.cm as cm\n",
    "import h5py\n",
    "from tqdm import tqdm\n",
    "import os\n",
    "\n",
    "\n",
    "from holodeck import plot, detstats, utils\n",
    "import holodeck.single_sources as sings\n",
    "from holodeck.constants import YR, MSOL, MPC, GYR, PC\n",
    "import holodeck as holo\n",
    "from holodeck.sams import sam\n",
    "\n",
    "import hasasia.sim as hsim"
   ]
  },
  {
   "cell_type": "code",
   "execution_count": null,
   "metadata": {},
   "outputs": [],
   "source": [
    "SHAPE = None\n",
    "NREALS = 500\n",
    "NFREQS = 40\n",
    "NLOUDEST = 10\n",
    "BGL = 1\n",
    "\n",
    "TOL=0.01\n",
    "MAXBADS=5\n",
    "\n",
    "NVARS = 21\n",
    "\n",
    "NPSRS = 40\n",
    "NSKIES = 100\n",
    "\n",
    "ALL_TARGETS = ['gsmf_phi0', 'gsmf_mchar0_log10', 'mmb_mamp_log10', 'mmb_scatter_dex', 'hard_time',  'hard_gamma_inner']"
   ]
  },
  {
   "cell_type": "markdown",
   "metadata": {},
   "source": [
    "# Count n_ss"
   ]
  },
  {
   "cell_type": "code",
   "execution_count": null,
   "metadata": {},
   "outputs": [],
   "source": [
    "target = 'hard_time'\n",
    "data, params, dsdat = detstats.get_data(target,\n",
    "        gw_only=False, red2white=None, red_gamma=None,\n",
    "        nloudest=10, bgl=1, nexcl=0,\n",
    "        )\n"
   ]
  },
  {
   "cell_type": "code",
   "execution_count": null,
   "metadata": {},
   "outputs": [],
   "source": [
    "gamma_ssi1 = dsdat[10]['gamma_ssi']\n",
    "nn_ss1 = detstats.count_n_ss(gamma_ssi1)\n",
    "print(nn_ss1.shape)\n",
    "print(holo.utils.stats(nn_ss1))"
   ]
  },
  {
   "cell_type": "code",
   "execution_count": null,
   "metadata": {},
   "outputs": [],
   "source": [
    "print(gamma_ssi1.shape)"
   ]
  },
  {
   "cell_type": "code",
   "execution_count": null,
   "metadata": {},
   "outputs": [],
   "source": [
    "fig, ax = plot.figax(xlabel='Realization', ylabel='Max individual DP_ssi')\n",
    "xx = np.arange(NREALS)\n",
    "\n",
    "dpmax = np.max(gamma_ssi1, axis=(0,3))\n",
    "for pp in [50, 95]:\n",
    "    med, *conf = np.percentile(dpmax, (50, 50-pp/2, 50+pp/2), axis=1)\n",
    "    ax.plot(xx, med, color='tab:blue')\n",
    "    ax.fill_between(xx, *conf, color='tab:blue', alpha=0.2)\n"
   ]
  },
  {
   "cell_type": "code",
   "execution_count": null,
   "metadata": {},
   "outputs": [],
   "source": [
    "fig, ax = plot.figax(xlabel='Rank Loudest', ylabel='Individual DP_ssi in 0th Freq bin', xscale='linear')\n",
    "xx = np.arange(NLOUDEST)\n",
    "\n",
    "\n",
    "colors = ['purple', 'red', 'yellow']\n",
    "handles = []\n",
    "labels=[]\n",
    "\n",
    "for ii,pp in enumerate([50, 95, 99]):\n",
    "    med, *conf = np.percentile(gamma_ssi1[0], (50, 50-pp/2, 50+pp/2), axis=(0,1,))\n",
    "    print(med.shape)\n",
    "    h2, = ax.plot(xx, med, color='k')\n",
    "    hh = ax.fill_between(xx, *conf, color=colors[ii], alpha=0.2)\n",
    "    handles.append(hh)\n",
    "    labels.append(f\"{pp}% CI\")\n",
    "\n",
    "handles.append(h2)\n",
    "labels.append('median')\n",
    "\n",
    "ax.legend(handles=handles, labels=labels, loc='upper right')\n"
   ]
  },
  {
   "cell_type": "code",
   "execution_count": null,
   "metadata": {},
   "outputs": [],
   "source": [
    "xx = np.arange(NREALS)\n",
    "yy = nn_ss1\n",
    "\n",
    "fig, ax = plot.figax(xlabel='Strain Realization R', xscale='linear',\n",
    "                     ylabel = '$N_\\mathrm{SS}$', yscale='linear')\n",
    "\n",
    "nshow = 100\n",
    "for ss in range(nshow):\n",
    "    h1 = ax.scatter(xx, yy[:,ss], alpha=0.5, s=10, marker='x', label='random')\n",
    "\n",
    "for pp in [50, 95]:\n",
    "    lo, hi = np.percentile(yy, (50-pp/2, 50+pp/2), axis=1)\n",
    "    # ax.fill_between(xx, lo, hi, alpha=0.25, color='tab:blue')\n",
    "\n",
    "med = np.median(yy, axis=1)\n",
    "h2 = ax.scatter(xx, med, color='tab:blue', alpha=0.5, s=1, marker='o', label='median')\n",
    "\n",
    "ax.legend(handles=[h1, h2])\n",
    "ax.set_title(f'mean parameter model, {plot.PARAM_KEYS[target]}={params[10][target]}')"
   ]
  },
  {
   "cell_type": "code",
   "execution_count": null,
   "metadata": {},
   "outputs": [],
   "source": [
    "fig, ax = plot.figax(xlabel='$N_\\mathrm{SS}$', ylabel='Count of All Realizations', xscale='linear')\n",
    "\n",
    "bins = [-0.5, 0.5, 1.5, 2.5, 3.5]\n",
    "hist = ax.hist(nn_ss1.flatten(), bins=bins,)\n",
    "ax.set_xticks([0,1,2,3])\n",
    "ax.axhline(NREALS*NSKIES, label='Total # of Realizations', color='purple')\n",
    "ax.legend(loc='upper right')"
   ]
  },
  {
   "cell_type": "code",
   "execution_count": null,
   "metadata": {},
   "outputs": [],
   "source": [
    "fig, ax = plot.figax(xlabel='$N_\\mathrm{SS}$', ylabel='Fraction of All Realizations', xscale='linear')\n",
    "\n",
    "bins = [-0.5, 0.5, 1.5, 2.5, 3.5]\n",
    "hist = ax.hist(nn_ss1.flatten(), bins=bins, density=True)\n",
    "ax.set_xticks([0,1,2,3])"
   ]
  },
  {
   "cell_type": "code",
   "execution_count": null,
   "metadata": {},
   "outputs": [],
   "source": [
    "fig, ax = plot.figax(xlabel='$N_\\mathrm{SS}$', ylabel='Count of Sky Realizations', xscale='linear')\n",
    "\n",
    "bins = [-0.5, 0.5, 1.5, 2.5, 3.5]\n",
    "hist = ax.hist(nn_ss1, bins=bins)"
   ]
  },
  {
   "cell_type": "code",
   "execution_count": null,
   "metadata": {},
   "outputs": [],
   "source": [
    "xx_pars = []\n",
    "nn_ss = []\n",
    "for vv in range(NVARS):\n",
    "    gamma_ssi = dsdat[vv]['gamma_ssi']\n",
    "    _nn_ss = detstats.count_n_ss(gamma_ssi)\n",
    "    nn_ss.append(_nn_ss)\n",
    "    xx_pars.append(params[vv][target])"
   ]
  },
  {
   "cell_type": "code",
   "execution_count": null,
   "metadata": {},
   "outputs": [],
   "source": [
    "fig, ax = plot.figax(xlabel=plot.PARAM_KEYS[target], xscale = 'linear', \n",
    "                     ylabel='$N_\\mathrm{SS}$', yscale='linear')\n",
    "\n",
    "xx = np.array(xx_pars)\n",
    "yy = np.array(nn_ss)\n",
    "print(f\"{xx.shape=}, {yy.shape=}\")\n",
    "\n",
    "colors = ['purple', 'red', 'yellow']\n",
    "handles = []\n",
    "labels=[]\n",
    "for ii, pp in enumerate([50, 95, 99]):\n",
    "    lo, hi = np.percentile(yy, (50-pp/2, 50+pp/2), axis=(1,2))\n",
    "    hh = ax.fill_between(xx, lo, hi, alpha=0.25, color=colors[ii])\n",
    "    handles.append(hh)\n",
    "    labels.append(f\"{pp}% CI\")\n",
    "\n",
    "median = np.median(yy, axis=(1,2))\n",
    "hh, = ax.plot(xx, median, color='tab:blue')\n",
    "labels.append('median')\n",
    "handles.append(hh)\n",
    "\n",
    "mean = np.mean(yy, axis=(1,2))\n",
    "hh, = ax.plot(xx, mean, color='k', linestyle='--')\n",
    "handles.append(hh)\n",
    "labels.append('mean')\n",
    "print(handles)\n",
    "ax.legend(handles=handles, labels=labels, loc='upper left')"
   ]
  },
  {
   "cell_type": "code",
   "execution_count": null,
   "metadata": {},
   "outputs": [],
   "source": [
    "fig, ax = plot.figax(xlabel=plot.PARAM_KEYS[target], xscale = 'linear', \n",
    "                     ylabel='$N_\\mathrm{SS}$', yscale='log')\n",
    "\n",
    "xx = np.array(xx_pars)\n",
    "yy = np.array(nn_ss)\n",
    "print(f\"{xx.shape=}, {yy.shape=}\")\n",
    "\n",
    "colors = ['purple', 'red', 'yellow']\n",
    "handles = []\n",
    "labels=[]\n",
    "for ii, pp in enumerate([50, 95, 99]):\n",
    "    lo, hi = np.percentile(yy, (50-pp/2, 50+pp/2), axis=(1,2))\n",
    "    hh = ax.fill_between(xx, lo, hi, alpha=0.25, color=colors[ii])\n",
    "    handles.append(hh)\n",
    "    labels.append(f\"{pp}% CI\")\n",
    "\n",
    "median = np.median(yy, axis=(1,2))\n",
    "hh, = ax.plot(xx, median, color='tab:blue')\n",
    "labels.append('median')\n",
    "handles.append(hh)\n",
    "\n",
    "mean = np.mean(yy, axis=(1,2))\n",
    "hh, = ax.plot(xx, mean, color='k', linestyle='--')\n",
    "handles.append(hh)\n",
    "labels.append('mean')\n",
    "print(handles)\n",
    "ax.legend(handles=handles, labels=labels, loc='upper left')"
   ]
  },
  {
   "cell_type": "markdown",
   "metadata": {},
   "source": [
    "all sources N_SS"
   ]
  },
  {
   "cell_type": "code",
   "execution_count": null,
   "metadata": {},
   "outputs": [],
   "source": [
    "title='Randomly Sampled Number of Sources'\n",
    "ylabel = '$N_\\mathrm{SS}$'\n",
    "\n",
    "fig, axs = plot.figax_single(nrows=3, ncols=2, sharey=True, sharex=False,\n",
    "                              xscale='linear', height=7)\n",
    "fig.text(0.02, 0.5, ylabel, ha='center', va='center', rotation='vertical')\n",
    "fig.suptitle(title, fontsize=12)\n",
    "for tt,target in enumerate(ALL_TARGETS):\n",
    "    ax = axs.flatten()[tt]\n",
    "    ax.set_xlabel(plot.PARAM_KEYS[target])\n",
    "\n",
    "    data, params, dsdat = detstats.get_data(target,\n",
    "            gw_only=False, red2white=None, red_gamma=None,\n",
    "            nloudest=10, bgl=1, nexcl=0,\n",
    "            )\n",
    "    xx_pars = []\n",
    "    nn_ss = []\n",
    "    for vv in range(NVARS):\n",
    "        gamma_ssi = dsdat[vv]['gamma_ssi']\n",
    "        _nn_ss = detstats.count_n_ss(gamma_ssi)\n",
    "        nn_ss.append(_nn_ss)\n",
    "        xx_pars.append(params[vv][target])\n",
    "\n",
    "    xx = xx_pars\n",
    "    yy = nn_ss\n",
    "    for ii, pp in enumerate([50, 95, 99]):\n",
    "        lo, hi = np.percentile(yy, (50-pp/2, 50+pp/2), axis=(1,2))\n",
    "        hh = ax.fill_between(xx, lo, hi, alpha=0.25, color=colors[ii])\n",
    "\n",
    "        median = np.median(yy, axis=(1,2))\n",
    "        hh, = ax.plot(xx, median, color='tab:blue')\n",
    "\n",
    "        mean = np.mean(yy, axis=(1,2))\n",
    "        hh, = ax.plot(xx, mean, color='k', linestyle='--')\n",
    "\n",
    "plt.subplots_adjust(wspace=0.05, hspace=0.38, top=0.93)\n"
   ]
  },
  {
   "cell_type": "markdown",
   "metadata": {},
   "source": [
    "## Mean Parameter Model dp_2nd vs dp_1st"
   ]
  },
  {
   "cell_type": "code",
   "execution_count": null,
   "metadata": {},
   "outputs": [],
   "source": [
    "target = 'hard_time'\n",
    "data, params, dsdat = detstats.get_data(target,\n",
    "        gw_only=False, red2white=None, red_gamma=None,\n",
    "        nloudest=10, bgl=1, nexcl=0,\n",
    "        )\n",
    "dsdat_mean = dsdat[10]\n",
    "data_mean = data[10]"
   ]
  },
  {
   "cell_type": "code",
   "execution_count": null,
   "metadata": {},
   "outputs": [],
   "source": [
    "hss = data_mean['hc_ss'] # F,R,L\n",
    "hss = np.repeat(hss, NSKIES).reshape(NFREQS, NREALS,NLOUDEST,NSKIES) # F,R,L,S\n",
    "hss = np.swapaxes(hss, 1,2).reshape(NFREQS*NLOUDEST, NSKIES,NREALS) # F*L, R,S\n",
    "hss = np.swapaxes(hss, 1,2).reshape(NFREQS*NLOUDEST, NSKIES*NREALS) # F*L, S*R\n",
    "\n",
    "ssi = dsdat_mean['gamma_ssi'] # F,R,S,L\n",
    "ssi = np.swapaxes(ssi, 1,3).reshape(NFREQS*NLOUDEST, NSKIES*NREALS) # F*L, S*R\n",
    "argmax = np.argmax(ssi, axis=0) \n",
    "reals = np.arange(NREALS*NSKIES)\n",
    "dpmax1 = ssi[argmax, reals]\n",
    "hcmax1 = hss[argmax, reals]\n",
    "ssi[argmax, reals] = 0\n",
    "\n",
    "argmax = np.argmax(ssi, axis=0)\n",
    "dp2nd1 = ssi[argmax, reals]\n",
    "hc2nd1 = hss[argmax, reals]"
   ]
  },
  {
   "cell_type": "code",
   "execution_count": null,
   "metadata": {},
   "outputs": [],
   "source": [
    "print(dpmax1.shape, dp2nd1.shape)"
   ]
  },
  {
   "cell_type": "code",
   "execution_count": null,
   "metadata": {},
   "outputs": [],
   "source": [
    "fig, ax = plot.figax(xlabel='log DP 1st', ylabel='log DP 2nd', xscale='linear', yscale='linear')\n",
    "hist2d, xx_edges, yy_edges = np.histogram2d(np.log10(dpmax1), np.log10(dp2nd1), bins=(30,30))\n",
    "hist2d = hist2d.T # transpose to follow cartesian\n",
    "xx_grid, yy_grid = np.meshgrid(xx_edges, yy_edges)\n",
    "im = ax.pcolormesh(xx_grid, yy_grid, np.log10(hist2d))\n",
    "cbar = plt.colorbar(im, ax=ax, orientation='vertical', label='log$N$')"
   ]
  },
  {
   "cell_type": "code",
   "execution_count": null,
   "metadata": {},
   "outputs": [],
   "source": [
    "fig, axs = plot.figax(nrows=2, ylabel='Count')\n",
    "bins = np.logspace(-5, 0)\n",
    "\n",
    "labels = ['DP _1st','DP _2nd' ]\n",
    "for ii, dp in enumerate([dpmax1, dp2nd1]):\n",
    "    axs[ii].set_xlabel(labels[ii])\n",
    "    hist = axs[ii].hist(dp, bins=bins, histtype='step')\n",
    "\n",
    "fig.subplots_adjust(hspace=0.4)\n",
    "\n",
    "for ax in axs:\n",
    "    ax.axhline(NREALS*NSKIES, label='Total # of Realizations', color='purple')\n",
    "axs[1].legend(loc='upper right')"
   ]
  },
  {
   "cell_type": "code",
   "execution_count": null,
   "metadata": {},
   "outputs": [],
   "source": [
    "fig, ax = plot.figax(xlabel='log DP_1st', ylabel = 'log hc(DP_1st)', \n",
    "                     xscale='linear', yscale='linear')\n",
    "hist2d, xx_edges, yy_edges = np.histogram2d(np.log10(dpmax1), np.log10(hcmax1), bins = (40,40))\n",
    "hist2d = hist2d.T # transpose to follow cartesian\n",
    "xx_grid, yy_grid = np.meshgrid(xx_edges, yy_edges)\n",
    "im = ax.pcolormesh(xx_grid, yy_grid, np.log10(hist2d))\n",
    "cbar = plt.colorbar(im, ax=ax, orientation='vertical', label='log$N$')\n"
   ]
  },
  {
   "cell_type": "code",
   "execution_count": null,
   "metadata": {},
   "outputs": [],
   "source": [
    "fig, ax = plot.figax(xlabel='log DP_2nd', ylabel = 'log hc(DP_2nd)', \n",
    "                     xscale='linear', yscale='linear')\n",
    "hist2d, xx_edges, yy_edges = np.histogram2d(np.log10(dp2nd1), np.log10(hc2nd1), bins = (40,40))\n",
    "hist2d = hist2d.T # transpose to follow cartesian\n",
    "xx_grid, yy_grid = np.meshgrid(xx_edges, yy_edges)\n",
    "im = ax.pcolormesh(xx_grid, yy_grid, np.log10(hist2d))\n",
    "cbar = plt.colorbar(im, ax=ax, orientation='vertical', label='log$N$')\n"
   ]
  },
  {
   "cell_type": "code",
   "execution_count": null,
   "metadata": {},
   "outputs": [],
   "source": [
    "fig, ax = plot.figax(xlabel='log DP_1std', ylabel = 'log [$h_c$(DP_1st)/$h_c$(DP_2nd)]', \n",
    "                     xscale='linear', yscale='linear')\n",
    "hist2d, xx_edges, yy_edges = np.histogram2d(np.log10(dpmax1), np.log10(hcmax1/hc2nd1), bins = (40,40))\n",
    "hist2d = hist2d.T # transpose to follow cartesian\n",
    "xx_grid, yy_grid = np.meshgrid(xx_edges, yy_edges)\n",
    "im = ax.pcolormesh(xx_grid, yy_grid, np.log10(hist2d))\n",
    "cbar = plt.colorbar(im, ax=ax, orientation='vertical', label='log$N$')\n"
   ]
  },
  {
   "cell_type": "code",
   "execution_count": null,
   "metadata": {},
   "outputs": [],
   "source": [
    "fig, ax = plot.figax(xlabel='log $h_c$(DP_1st)', ylabel = 'log [$h_c$(DP_2nd)]', \n",
    "                     xscale='linear', yscale='linear')\n",
    "hist2d, xx_edges, yy_edges = np.histogram2d(np.log10(hcmax1), np.log10(hc2nd1), bins = (40,40), weights=dpmax1)\n",
    "hist2d = hist2d.T # transpose to follow cartesian\n",
    "xx_grid, yy_grid = np.meshgrid(xx_edges, yy_edges)\n",
    "im = ax.pcolormesh(xx_grid, yy_grid, np.log10(hist2d))\n",
    "cbar = plt.colorbar(im, ax=ax, orientation='vertical', label='log DP1st-weighted $N$')\n"
   ]
  },
  {
   "cell_type": "code",
   "execution_count": null,
   "metadata": {},
   "outputs": [],
   "source": [
    "hss = data_mean['hc_ss'][0] # R,L\n",
    "hss = np.repeat(hss, NSKIES).reshape(NREALS,NLOUDEST,NSKIES) # R,L,S\n",
    "hss = np.swapaxes(hss, 0,1).reshape(NLOUDEST, NREALS, NSKIES) # L, R,S\n",
    "hss = np.swapaxes(hss, 1,2).reshape(NLOUDEST, NSKIES*NREALS) # L, S*R\n",
    "\n",
    "ssi = dsdat_mean['gamma_ssi'][0] # R,S,L\n",
    "ssi = np.swapaxes(ssi, 0,2).reshape(NLOUDEST, NSKIES*NREALS) # F*L, S*R\n",
    "argmax = np.argmax(ssi, axis=0) \n",
    "reals = np.arange(NREALS*NSKIES)\n",
    "dpmax1 = ssi[argmax, reals]\n",
    "hcmax1 = hss[argmax, reals]\n",
    "ssi[argmax, reals] = 0\n",
    "\n",
    "argmax = np.argmax(ssi, axis=0)\n",
    "dp2nd1 = ssi[argmax, reals]\n",
    "hc2nd1 = hss[argmax, reals]"
   ]
  },
  {
   "cell_type": "code",
   "execution_count": null,
   "metadata": {},
   "outputs": [],
   "source": [
    "fig, ax = plot.figax(xlabel='log DP_1st', ylabel = 'log hc(DP_1st)', \n",
    "                     xscale='linear', yscale='linear')\n",
    "ax.set_title('1st Freq Bin')\n",
    "hist2d, xx_edges, yy_edges = np.histogram2d(np.log10(dpmax1), np.log10(hcmax1), bins = (40,40))\n",
    "hist2d = hist2d.T # transpose to follow cartesian\n",
    "xx_grid, yy_grid = np.meshgrid(xx_edges, yy_edges)\n",
    "im = ax.pcolormesh(xx_grid, yy_grid, np.log10(hist2d))\n",
    "cbar = plt.colorbar(im, ax=ax, orientation='vertical', label='log$N$')\n"
   ]
  },
  {
   "cell_type": "code",
   "execution_count": null,
   "metadata": {},
   "outputs": [],
   "source": [
    "fig, ax = plot.figax(xlabel='log DP_2nd', ylabel = 'log hc(DP_2nd)', \n",
    "                     xscale='linear', yscale='linear')\n",
    "ax.set_title('1st Freq Bin')\n",
    "\n",
    "hist2d, xx_edges, yy_edges = np.histogram2d(np.log10(dp2nd1), np.log10(hc2nd1), bins = (40,40))\n",
    "hist2d = hist2d.T # transpose to follow cartesian\n",
    "xx_grid, yy_grid = np.meshgrid(xx_edges, yy_edges)\n",
    "im = ax.pcolormesh(xx_grid, yy_grid, np.log10(hist2d))\n",
    "cbar = plt.colorbar(im, ax=ax, orientation='vertical', label='log$N$')\n"
   ]
  },
  {
   "cell_type": "code",
   "execution_count": null,
   "metadata": {},
   "outputs": [],
   "source": [
    "fig, ax = plot.figax(xlabel='log DP_1std', ylabel = 'log [$h_c$(DP_1st)/$h_c$(DP_2nd)]', \n",
    "                     xscale='linear', yscale='linear')\n",
    "ax.set_title('1st Freq Bin')\n",
    "hist2d, xx_edges, yy_edges = np.histogram2d(np.log10(dpmax1), np.log10(hcmax1/hc2nd1), bins = (40,40))\n",
    "hist2d = hist2d.T # transpose to follow cartesian\n",
    "xx_grid, yy_grid = np.meshgrid(xx_edges, yy_edges)\n",
    "im = ax.pcolormesh(xx_grid, yy_grid, np.log10(hist2d))\n",
    "cbar = plt.colorbar(im, ax=ax, orientation='vertical', label='log$N$')\n"
   ]
  },
  {
   "cell_type": "code",
   "execution_count": null,
   "metadata": {},
   "outputs": [],
   "source": []
  },
  {
   "cell_type": "markdown",
   "metadata": {},
   "source": [
    "# Plot Number of Sources Contributing to EV_SS"
   ]
  },
  {
   "cell_type": "code",
   "execution_count": null,
   "metadata": {},
   "outputs": [],
   "source": [
    "BUILD_ARRAYS=False\n",
    "\n",
    "ylabel='$N(\\mathrm{DP_{SS}}>x)$'\n",
    "title = 'Number of Sources Contributing to $\\langle N \\\\rangle_\\mathrm{SS}$'\n",
    "\n",
    "fig, axs = plot.figax_single(nrows=3, ncols=2, sharey=True, sharex=False,\n",
    "                              xscale='linear', yscale='linear', height=7)\n",
    "fig.text(0.08, 0.5, ylabel, ha='center', va='center', rotation='vertical')\n",
    "fig.suptitle(title, fontsize=12)\n",
    "for tt,target in enumerate(ALL_TARGETS):\n",
    "    ax = axs.flatten()[tt]\n",
    "    ax.set_xlabel(plot.PARAM_KEYS[target])\n",
    "\n",
    "    xx, _ = detstats.get_ratio_arrays(target)\n",
    "    if BUILD_ARRAYS:\n",
    "        _, y1, y2, _, _, _, _ = detstats.build_noise_arrays(target)\n",
    "    else:\n",
    "        _, y1, y2, _, _, _, _ = detstats.get_noise_arrays_temp(target)\n",
    "\n",
    "    y1 = y1.reshape(NVARS, NSKIES*NREALS)\n",
    "    y2 = y2.reshape(NVARS, NREALS*NSKIES)\n",
    "\n",
    "    h1 = plot.draw_med_conf_color(ax, xx, y1, color='tab:orange')\n",
    "    h2 = plot.draw_med_conf_color(ax, xx, y2, color='tab:blue')\n",
    "\n",
    "plt.subplots_adjust(wspace=0.05, hspace=0.38, top=0.93)\n",
    "\n",
    "labels = ['$0.50$', '$0.01$']\n",
    "fig.legend(handles=[h1, h2], labels=labels, bbox_to_anchor=(0.5,-0.02), loc='lower center',\n",
    "           ncols=2, title='$x$ threshold')"
   ]
  },
  {
   "cell_type": "markdown",
   "metadata": {},
   "source": [
    "### with n_excl=3: hard_time"
   ]
  },
  {
   "cell_type": "code",
   "execution_count": null,
   "metadata": {},
   "outputs": [],
   "source": [
    "# load data\n",
    "\n",
    "nexcl=3\n",
    "target='hard_time'\n",
    "white_noise, y1, y2, hc_ss, hc_bg, _, _ = detstats.build_noise_arrays(target, nexcl=nexcl, save_temp=False)\n"
   ]
  },
  {
   "cell_type": "code",
   "execution_count": null,
   "metadata": {},
   "outputs": [],
   "source": [
    "# plot data \n",
    "ylabel='$N(\\mathrm{DP_{SS}}>x)$'\n",
    "title = 'Number of Sources Contributing to $\\langle N \\\\rangle_\\mathrm{SS}$'\n",
    "\n",
    "fig, ax = plot.figax_single(\n",
    "                              xscale='linear', yscale='linear',)\n",
    "ax.set_ylabel(ylabel)\n",
    "ax.set_title(title, fontsize=12)\n",
    "ax.set_xlabel(plot.PARAM_KEYS[target])\n",
    "\n",
    "xx, _ = detstats.get_ratio_arrays(target)\n",
    "\n",
    "y1 = y1.reshape(NVARS, NSKIES*NREALS)\n",
    "y2 = y2.reshape(NVARS, NREALS*NSKIES)\n",
    "\n",
    "h1 = plot.draw_med_conf_color(ax, xx, y1, color='tab:orange')\n",
    "h2 = plot.draw_med_conf_color(ax, xx, y2, color='tab:blue')\n",
    "\n",
    "\n",
    "labels = ['$0.50$', '$0.01$']\n",
    "\n",
    "ax.legend(handles=[h1, h2], labels=labels, loc='upper left',\n",
    "           ncols=2, title='$x$ threshold')\n",
    "\n",
    "\n",
    "############################# 2nd plot #########################\n",
    "\n",
    "title='Power Spectral Density $S_h=h_c^2/(12 \\pi^2 f^3)$ in the lowest frequency bin'\n",
    "ylabel = 'Power Spectral Density [Hz$^{-3}$]'\n",
    "ff=0\n",
    "fobs, _ = holo.utils.pta_freqs()\n",
    "\n",
    "fig2, ax2 = plot.figax_single(xscale='linear')\n",
    "ax2.set_ylabel(ylabel)\n",
    "ax2.set_title(title, fontsize=12)\n",
    "psd_bg = detstats._power_spectral_density(hc_bg, fobs[np.newaxis,:,np.newaxis],\n",
    "                                          reshape_freqs=False) # V,F,R\n",
    "psd_ss = detstats._power_spectral_density(hc_ss, fobs[np.newaxis,:,np.newaxis,np.newaxis],\n",
    "                                        reshape_freqs=False) # V,F,R,L\n",
    "\n",
    "yy_wn = white_noise.reshape(NVARS, NREALS)\n",
    "yy_bg = psd_bg[:,ff].reshape(NVARS, NREALS)\n",
    "yy_ss = np.sum(psd_ss[:,ff,:,:], axis=-1).reshape(NVARS, NREALS)\n",
    "\n",
    "yy_l1 = psd_ss[:,ff,:,0].reshape(NVARS, NREALS)\n",
    "yy_l2 = psd_ss[:,ff,:,1].reshape(NVARS, NREALS)\n",
    "yy_lt = psd_ss[:,ff,:,9].reshape(NVARS, NREALS)\n",
    "\n",
    "h1 = plot.draw_med_conf_color(ax2, xx, yy_wn, color='grey', linestyle=':')\n",
    "h2 = plot.draw_med_conf_color(ax2, xx, yy_bg, color='tab:blue', linestyle='--')\n",
    "h3 = plot.draw_med_conf_color(ax2, xx, yy_ss, color='black', fracs=[0.5,])\n",
    "h4 = plot.draw_med_conf_color(ax2, xx, yy_l1, color='#00ff00')\n",
    "h5 = plot.draw_med_conf_color(ax2, xx, yy_l2, color='#ff0000' )\n",
    "h6 = plot.draw_med_conf_color(ax2, xx, yy_lt, color='#4000ff')\n",
    "labels = ['WN', 'BG', 'SS', '1st Loudest', '2nd L', '10th L']\n",
    "ax2.legend(handles=[h1, h2, h3, h4, h5, h6], labels=labels, bbox_to_anchor=(0.5,0.0), loc='lower center',\n",
    "           ncols=3, columnspacing=1.5)"
   ]
  },
  {
   "cell_type": "markdown",
   "metadata": {},
   "source": [
    "### with n_excl=3: gsmf_phi0"
   ]
  },
  {
   "cell_type": "code",
   "execution_count": null,
   "metadata": {},
   "outputs": [],
   "source": [
    "# load data\n",
    "\n",
    "nexcl=3\n",
    "target='gsmf_phi0'\n",
    "white_noise, y1, y2, hc_ss, hc_bg, _, _ = detstats.build_noise_arrays(target, nexcl=nexcl, save_temp=False)\n"
   ]
  },
  {
   "cell_type": "code",
   "execution_count": null,
   "metadata": {},
   "outputs": [],
   "source": [
    "# plot data \n",
    "ylabel='$N(\\mathrm{DP_{SS}}>x)$'\n",
    "title = 'Number of Sources Contributing to $\\langle N \\\\rangle_\\mathrm{SS}$'\n",
    "\n",
    "fig, ax = plot.figax_single(\n",
    "                              xscale='linear', yscale='linear',)\n",
    "ax.set_ylabel(ylabel)\n",
    "ax.set_title(title, fontsize=12)\n",
    "ax.set_xlabel(plot.PARAM_KEYS[target])\n",
    "\n",
    "xx, _ = detstats.get_ratio_arrays(target)\n",
    "\n",
    "y1 = y1.reshape(NVARS, NSKIES*NREALS)\n",
    "y2 = y2.reshape(NVARS, NREALS*NSKIES)\n",
    "\n",
    "h1 = plot.draw_med_conf_color(ax, xx, y1, color='tab:orange')\n",
    "h2 = plot.draw_med_conf_color(ax, xx, y2, color='tab:blue')\n",
    "\n",
    "\n",
    "labels = ['$0.50$', '$0.01$']\n",
    "\n",
    "ax.legend(handles=[h1, h2], labels=labels, loc='upper left',\n",
    "           ncols=2, title='$x$ threshold')\n",
    "\n",
    "\n",
    "############################# 2nd plot #########################\n",
    "\n",
    "title='Power Spectral Density $S_h=h_c^2/(12 \\pi^2 f^3)$ in the lowest frequency bin'\n",
    "ylabel = 'Power Spectral Density [Hz$^{-3}$]'\n",
    "ff=0\n",
    "fobs, _ = holo.utils.pta_freqs()\n",
    "\n",
    "fig2, ax2 = plot.figax_single(xscale='linear')\n",
    "ax2.set_ylabel(ylabel)\n",
    "ax2.set_title(title, fontsize=12)\n",
    "psd_bg = detstats._power_spectral_density(hc_bg, fobs[np.newaxis,:,np.newaxis],\n",
    "                                          reshape_freqs=False) # V,F,R\n",
    "psd_ss = detstats._power_spectral_density(hc_ss, fobs[np.newaxis,:,np.newaxis,np.newaxis],\n",
    "                                        reshape_freqs=False) # V,F,R,L\n",
    "\n",
    "yy_wn = white_noise.reshape(NVARS, NREALS)\n",
    "yy_bg = psd_bg[:,ff].reshape(NVARS, NREALS)\n",
    "yy_ss = np.sum(psd_ss[:,ff,:,:], axis=-1).reshape(NVARS, NREALS)\n",
    "\n",
    "yy_l1 = psd_ss[:,ff,:,0].reshape(NVARS, NREALS)\n",
    "yy_l2 = psd_ss[:,ff,:,1].reshape(NVARS, NREALS)\n",
    "yy_lt = psd_ss[:,ff,:,9].reshape(NVARS, NREALS)\n",
    "\n",
    "h1 = plot.draw_med_conf_color(ax2, xx, yy_wn, color='grey', linestyle=':')\n",
    "h2 = plot.draw_med_conf_color(ax2, xx, yy_bg, color='tab:blue', linestyle='--')\n",
    "h3 = plot.draw_med_conf_color(ax2, xx, yy_ss, color='black', fracs=[0.5,])\n",
    "h4 = plot.draw_med_conf_color(ax2, xx, yy_l1, color='#00ff00')\n",
    "h5 = plot.draw_med_conf_color(ax2, xx, yy_l2, color='#ff0000' )\n",
    "h6 = plot.draw_med_conf_color(ax2, xx, yy_lt, color='#4000ff')\n",
    "labels = ['WN', 'BG', 'SS', '1st Loudest', '2nd L', '10th L']\n",
    "ax2.legend(handles=[h1, h2, h3, h4, h5, h6], labels=labels, bbox_to_anchor=(0.5,0.0), loc='lower center',\n",
    "           ncols=3, columnspacing=1.5)"
   ]
  },
  {
   "cell_type": "markdown",
   "metadata": {},
   "source": [
    "# Plot Noise"
   ]
  },
  {
   "cell_type": "code",
   "execution_count": null,
   "metadata": {},
   "outputs": [],
   "source": [
    "fobs, _ = holo.utils.pta_freqs()"
   ]
  },
  {
   "cell_type": "code",
   "execution_count": null,
   "metadata": {},
   "outputs": [],
   "source": [
    "BUILD_ARRAYS=False\n",
    "\n",
    "title='Power Spectral Density $S_h=h_c^2/(12 \\pi^2 f^3)$ in the lowest frequency bin'\n",
    "ylabel = 'Power Spectral Density [Hz$^{-3}$]'\n",
    "ff=0\n",
    "\n",
    "fig, axs = plot.figax_single(nrows=3, ncols=2, sharey=True, sharex=False,\n",
    "                              xscale='linear', height=7)\n",
    "fig.text(0.02, 0.5, ylabel, ha='center', va='center', rotation='vertical')\n",
    "fig.suptitle(title, fontsize=12)\n",
    "for tt,target in enumerate(ALL_TARGETS):\n",
    "    ax = axs.flatten()[tt]\n",
    "    ax.set_xlabel(plot.PARAM_KEYS[target])\n",
    "\n",
    "    xx, _ = detstats.get_ratio_arrays(target)\n",
    "    if BUILD_ARRAYS:\n",
    "        white_noise, _, _, hc_ss, hc_bg, _, _ = detstats.build_noise_arrays(target)\n",
    "    else:\n",
    "        white_noise, _, _, hc_ss, hc_bg, _, _ = detstats.get_noise_arrays_temp(target)\n",
    "\n",
    "    psd_bg = detstats._power_spectral_density(hc_bg, fobs[np.newaxis,:,np.newaxis],\n",
    "                                          reshape_freqs=False) # V,F,R\n",
    "    psd_ss = detstats._power_spectral_density(hc_ss, fobs[np.newaxis,:,np.newaxis,np.newaxis],\n",
    "                                          reshape_freqs=False) # V,F,R,L\n",
    "\n",
    "    yy_wn = white_noise.reshape(NVARS, NREALS)\n",
    "    yy_bg = psd_bg[:,ff].reshape(NVARS, NREALS)\n",
    "    yy_ss = np.sum(psd_ss[:,ff,:,:], axis=-1).reshape(NVARS, NREALS)\n",
    "\n",
    "    yy_l1 = psd_ss[:,ff,:,0].reshape(NVARS, NREALS)\n",
    "    yy_l2 = psd_ss[:,ff,:,1].reshape(NVARS, NREALS)\n",
    "    yy_lt = psd_ss[:,ff,:,9].reshape(NVARS, NREALS)\n",
    "\n",
    "    h1 = plot.draw_med_conf_color(ax, xx, yy_wn, color='grey', linestyle=':')\n",
    "    h2 = plot.draw_med_conf_color(ax, xx, yy_bg, color='tab:blue', linestyle='--')\n",
    "    h3 = plot.draw_med_conf_color(ax, xx, yy_ss, color='black', fracs=[0.5,])\n",
    "    h4 = plot.draw_med_conf_color(ax, xx, yy_l1, color='#00ff00')\n",
    "    h5 = plot.draw_med_conf_color(ax, xx, yy_l2, color='#ff0000' )\n",
    "    h6 = plot.draw_med_conf_color(ax, xx, yy_lt, color='#4000ff')\n",
    "\n",
    "\n",
    "\n",
    "plt.subplots_adjust(wspace=0.05, hspace=0.38, top=0.93)\n",
    "\n",
    "labels = ['WN', 'BG', 'SS', '1st Loudest', '2nd L', '10th L']\n",
    "fig.legend(handles=[h1, h2, h3, h4, h5, h6], labels=labels, bbox_to_anchor=(0.5,0.0), loc='lower center',\n",
    "           ncols=6, columnspacing=1.5)"
   ]
  },
  {
   "cell_type": "code",
   "execution_count": null,
   "metadata": {},
   "outputs": [],
   "source": [
    "BUILD_ARRAYS=False\n",
    "\n",
    "title='Power Spectral Density $S_h=h_c^2/(12 \\pi^2 f^3)$ in the lowest frequency bin'\n",
    "ylabel = 'Power Spectral Density [Hz$^{-3}$]'\n",
    "ff=0\n",
    "\n",
    "fig, axs = plot.figax_single(nrows=3, ncols=2, sharey=True, sharex=False,\n",
    "                              xscale='linear', height=7)\n",
    "fig.text(0.02, 0.5, ylabel, ha='center', va='center', rotation='vertical')\n",
    "fig.suptitle(title, fontsize=12)\n",
    "for tt,target in enumerate(ALL_TARGETS):\n",
    "    ax = axs.flatten()[tt]\n",
    "    ax.set_xlabel(plot.PARAM_KEYS[target])\n",
    "\n",
    "    xx, _ = detstats.get_ratio_arrays(target)\n",
    "    if BUILD_ARRAYS:\n",
    "        white_noise, _, _, hc_ss, hc_bg, _, _ = detstats.build_noise_arrays(target)\n",
    "    else:\n",
    "        white_noise, _, _, hc_ss, hc_bg, _, _ = detstats.get_noise_arrays_temp(target)\n",
    "\n",
    "    psd_bg = detstats._power_spectral_density(hc_bg, fobs[np.newaxis,:,np.newaxis],\n",
    "                                          reshape_freqs=False) # V,F,R\n",
    "    psd_ss = detstats._power_spectral_density(hc_ss, fobs[np.newaxis,:,np.newaxis,np.newaxis],\n",
    "                                          reshape_freqs=False) # V,F,R,L\n",
    "\n",
    "    yy_wn = white_noise.reshape(NVARS, NREALS)\n",
    "    yy_bg = psd_bg[:,ff].reshape(NVARS, NREALS)\n",
    "    yy_ss = np.sum(psd_ss[:,ff,:,:], axis=-1).reshape(NVARS, NREALS)\n",
    "\n",
    "    yy_l1 = psd_ss[:,ff,:,0].reshape(NVARS, NREALS)\n",
    "    yy_l2 = psd_ss[:,ff,:,1].reshape(NVARS, NREALS)\n",
    "    yy_lt = psd_ss[:,ff,:,9].reshape(NVARS, NREALS)\n",
    "\n",
    "    h1 = plot.draw_med_conf_color(ax, xx, yy_wn, color='grey', linestyle=':')\n",
    "    h2 = plot.draw_med_conf_color(ax, xx, yy_bg, color='tab:blue', linestyle='--')\n",
    "    h3 = plot.draw_med_conf_color(ax, xx, yy_ss, color='black', fracs=[0.5,])\n",
    "    h4 = plot.draw_med_conf_color(ax, xx, yy_l1, color='#00ff00')\n",
    "    h5 = plot.draw_med_conf_color(ax, xx, yy_l2, color='#ff0000' )\n",
    "    h6 = plot.draw_med_conf_color(ax, xx, yy_lt, color='#4000ff')\n",
    "\n",
    "\n",
    "\n",
    "plt.subplots_adjust(wspace=0.05, hspace=0.38, top=0.93)\n",
    "\n",
    "labels = ['WN', 'BG', 'SS', '1st Loudest', '2nd L', '10th L']\n",
    "fig.legend(handles=[h1, h2, h3, h4, h5, h6], labels=labels, bbox_to_anchor=(0.5,0.0), loc='lower center',\n",
    "           ncols=6, columnspacing=1.5)"
   ]
  },
  {
   "cell_type": "code",
   "execution_count": null,
   "metadata": {},
   "outputs": [],
   "source": [
    "BUILD_ARRAYS=False\n",
    "\n",
    "title='Ratio of Power Spectral Density $S_h=h_c^2/(12 \\pi^2 f^3)$ in the lowest frequency bin'\n",
    "ylabel = 'Ratio of Power Spectral Density [Hz$^{-3}$/Hz$^{-3}$]'\n",
    "ff=0\n",
    "\n",
    "fig, axs = plot.figax_single(nrows=3, ncols=2, sharey=True, sharex=False,\n",
    "                              xscale='linear', height=7)\n",
    "fig.text(0.02, 0.5, ylabel, ha='center', va='center', rotation='vertical')\n",
    "fig.suptitle(title, fontsize=12)\n",
    "for tt,target in enumerate(ALL_TARGETS):\n",
    "    ax = axs.flatten()[tt]\n",
    "    ax.set_xlabel(plot.PARAM_KEYS[target])\n",
    "\n",
    "    xx, _ = detstats.get_ratio_arrays(target)\n",
    "    if BUILD_ARRAYS:\n",
    "        white_noise, _, _, hc_ss, hc_bg, _, _ = detstats.build_noise_arrays(target)\n",
    "    else:\n",
    "        white_noise, _, _, hc_ss, hc_bg, _, _ = detstats.get_noise_arrays_temp(target)\n",
    "\n",
    "    psd_bg = detstats._power_spectral_density(hc_bg, fobs[np.newaxis,:,np.newaxis],\n",
    "                                          reshape_freqs=False) # V,F,R\n",
    "    psd_ss = detstats._power_spectral_density(hc_ss, fobs[np.newaxis,:,np.newaxis,np.newaxis],\n",
    "                                          reshape_freqs=False) # V,F,R,L\n",
    "\n",
    "    yy_wn = white_noise.reshape(NVARS, NREALS)\n",
    "    yy_bg = psd_bg[:,ff].reshape(NVARS, NREALS)\n",
    "    yy_ss = np.sum(psd_ss[:,ff,:,:], axis=-1).reshape(NVARS, NREALS)\n",
    "\n",
    "    yy_l1l2 = (psd_ss[:,ff,:,0]/psd_ss[:,ff,:,1]).reshape(NVARS, NREALS)\n",
    "    yy_l1lt = (psd_ss[:,ff,:,0]/psd_ss[:,ff,:,9]).reshape(NVARS, NREALS)\n",
    "\n",
    "    # h1 = plot.draw_med_conf_color(ax, xx, yy_wn, color='grey', linestyle=':')\n",
    "    # h2 = plot.draw_med_conf_color(ax, xx, yy_bg, color='tab:blue', linestyle='--')\n",
    "    # h3 = plot.draw_med_conf_color(ax, xx, yy_ss, color='black', fracs=[0.5,])\n",
    "    h5 = plot.draw_med_conf_color(ax, xx, yy_l1lt, color='tab:blue', )\n",
    "    h4 = plot.draw_med_conf_color(ax, xx, yy_l1l2, color='#4000ff', )\n",
    "    \n",
    "\n",
    "\n",
    "plt.subplots_adjust(wspace=0.05, hspace=0.38, top=0.93)\n",
    "\n",
    "labels = ['1st/2nd L', '1st/10th L']\n",
    "fig.legend(handles=[ h4, h5], labels=labels, bbox_to_anchor=(0.5,0.0), loc='lower center',\n",
    "           ncols=6, columnspacing=1.5)"
   ]
  },
  {
   "cell_type": "markdown",
   "metadata": {},
   "source": [
    "# Look at rank of loudest vs rank of DP"
   ]
  },
  {
   "cell_type": "code",
   "execution_count": null,
   "metadata": {},
   "outputs": [],
   "source": [
    "target = 'hard_time'\n",
    "data, params, dsdat = detstats.get_data(target,\n",
    "        gw_only=False, red2white=None, red_gamma=None,\n",
    "        nloudest=10, bgl=1, nexcl=0,\n",
    "        )\n",
    "hc_ss = data[10]['hc_ss']\n",
    "gamma_ssi = dsdat[10]['gamma_ssi']"
   ]
  },
  {
   "cell_type": "code",
   "execution_count": null,
   "metadata": {},
   "outputs": [],
   "source": [
    "print(gamma_ssi.shape)"
   ]
  },
  {
   "cell_type": "code",
   "execution_count": null,
   "metadata": {},
   "outputs": [],
   "source": [
    "ff=0 # just look at lowest frequency bin\n",
    "argmax = np.argmax(gamma_ssi[ff], axis=(-1))\n",
    "argmax += 1\n",
    "print(f\"{argmax.shape=}, {np.max(argmax)=} should = 10\")\n",
    "fig, ax = plot.figax(xlabel='Rank of Loudest', ylabel='Number of Most Detectable',\n",
    "                     xscale='linear')\n",
    "bins = np.arange(0,11, dtype=float)\n",
    "print(bins)\n",
    "bins += 0.5\n",
    "\n",
    "ax.hist(np.swapaxes(argmax,0,1), bins)\n",
    "ax.set_xticks([1,2,3,4,5,6,7,8,9,10])"
   ]
  },
  {
   "cell_type": "code",
   "execution_count": null,
   "metadata": {},
   "outputs": [],
   "source": [
    "ff=0 # just look at lowest frequency bin\n",
    "argmax = np.argmax(gamma_ssi[ff], axis=(-1))\n",
    "argmax += 1\n",
    "print(f\"{argmax.shape=}, {np.max(argmax)=} should = 10\")\n",
    "fig, ax = plot.figax(xlabel='Rank of Loudest', ylabel='Number of Most Detectable',\n",
    "                     xscale='linear')\n",
    "bins = np.arange(0,11, dtype=float)\n",
    "print(bins)\n",
    "bins += 0.5\n",
    "\n",
    "ax.hist(argmax.flatten(), bins, density=True,)\n",
    "ax.set_xticks([1,2,3,4,5,6,7,8,9,10])"
   ]
  },
  {
   "cell_type": "markdown",
   "metadata": {},
   "source": [
    "# Look at dp_ssi comparison"
   ]
  },
  {
   "cell_type": "code",
   "execution_count": null,
   "metadata": {},
   "outputs": [],
   "source": [
    "BUILD_ARRAYS=True\n",
    "\n",
    "title='Ratio of detection probabilities'\n",
    "ylabel = 'DP_1st/DP_2nd'\n",
    "ff=0\n",
    "\n",
    "fig, axs = plot.figax_single(nrows=3, ncols=2, sharey=True, sharex=False,\n",
    "                              xscale='linear', height=7)\n",
    "fig.text(0.02, 0.5, ylabel, ha='center', va='center', rotation='vertical')\n",
    "fig.suptitle(title, fontsize=12)\n",
    "for tt,target in enumerate(ALL_TARGETS):\n",
    "    ax = axs.flatten()[tt]\n",
    "    ax.set_xlabel(plot.PARAM_KEYS[target])\n",
    "\n",
    "    xx, _ = detstats.get_ratio_arrays(target)\n",
    "    if BUILD_ARRAYS:\n",
    "        _, _, _, _, _, dp_l1, dp_l2 = detstats.build_noise_arrays(target)\n",
    "    else:\n",
    "        _, _, _, _, _, dp_l1, dp_l2 = detstats.get_noise_arrays_temp(target)\n",
    "\n",
    "   \n",
    "    yy = (dp_l1/dp_l2).reshape(NVARS, NREALS*NSKIES)\n",
    "\n",
    "    h1 = plot.draw_med_conf_color(ax, xx, yy, color='tab:blue', linestyle='-')\n",
    "  \n",
    "\n",
    "\n",
    "plt.subplots_adjust(wspace=0.05, hspace=0.38, top=0.93)\n",
    "\n",
    "# labels = ['1st/2nd L', '1st/10th L']\n",
    "# fig.legend(handles=[ h4, h5], labels=labels, bbox_to_anchor=(0.5,0.0), loc='lower center',\n",
    "#            ncols=6, columnspacing=1.5)"
   ]
  },
  {
   "cell_type": "code",
   "execution_count": null,
   "metadata": {},
   "outputs": [],
   "source": [
    "BUILD_ARRAYS=False\n",
    "\n",
    "title='Ratio of detection probabilities'\n",
    "ylabel = 'DP_1st/DP_2nd'\n",
    "ff=0\n",
    "\n",
    "fig, axs = plot.figax_single(nrows=3, ncols=2, sharey=True, sharex=False,\n",
    "                              xscale='linear', height=7)\n",
    "fig.text(0.02, 0.5, ylabel, ha='center', va='center', rotation='vertical')\n",
    "fig.suptitle(title, fontsize=12)\n",
    "for tt,target in enumerate(ALL_TARGETS):\n",
    "    ax = axs.flatten()[tt]\n",
    "    ax.set_xlabel('DP_1st')\n",
    "\n",
    "    xx, _ = detstats.get_ratio_arrays(target)\n",
    "    if BUILD_ARRAYS:\n",
    "        _, _, _, _, _, dp_l1, dp_l2 = detstats.build_noise_arrays(target)\n",
    "    else:\n",
    "        _, _, _, _, _, dp_l1, dp_l2 = detstats.get_noise_arrays_temp(target)\n",
    "\n",
    "   \n",
    "    # sort = np.argsort(dp_l1.reshape(NVARS, NREALS*NSKIES))\n",
    "    # print(sort.shape)\n",
    "    # yy = (dp_l1/dp_l2).reshape(NVARS, NREALS*NSKIES)\n",
    "    # print(yy.shape)\n",
    "    # yy=yy[sort]\n",
    "    # xx = dp_l1[sort]\n",
    "\n",
    "    # h1 = plot.draw_med_conf_color(ax, xx, yy, color='tab:blue', linestyle='-')\n",
    "    # ax.hist2d(dp_l1.flatten(), (dp_l1/dp_l2).flatten(), bins=10)\n",
    "    ax.scatter(dp_l1.flatten(), (dp_l1/dp_l2).flatten(), alpha=0.1, s=1)\n",
    "\n",
    "\n",
    "plt.subplots_adjust(wspace=0.05, hspace=0.38, top=0.93)\n",
    "\n",
    "# labels = ['1st/2nd L', '1st/10th L']\n",
    "# fig.legend(handles=[ h4, h5], labels=labels, bbox_to_anchor=(0.5,0.0), loc='lower center',\n",
    "#            ncols=6, columnspacing=1.5)"
   ]
  },
  {
   "cell_type": "code",
   "execution_count": null,
   "metadata": {},
   "outputs": [],
   "source": [
    "BUILD_ARRAYS=False\n",
    "\n",
    "title='2d histogram, log(N)'\n",
    "ylabel = 'log(DP_1st/DP_2nd)'\n",
    "ff=0\n",
    "\n",
    "fig, axs = plot.figax_single(nrows=3, ncols=2, sharey=True, sharex=False,\n",
    "                              height=7, xscale='linear', yscale='linear')\n",
    "fig.text(0.02, 0.5, ylabel, ha='center', va='center', rotation='vertical')\n",
    "fig.suptitle(title, fontsize=12)\n",
    "for tt,target in enumerate(ALL_TARGETS):\n",
    "    ax = axs.flatten()[tt]\n",
    "    ax.set_xlabel('log(DP_1st)')\n",
    "\n",
    "    xx, _ = detstats.get_ratio_arrays(target)\n",
    "    if BUILD_ARRAYS:\n",
    "        _, _, _, _, _, dp_l1, dp_l2 = detstats.build_noise_arrays(target)\n",
    "    else:\n",
    "        _, _, _, _, _, dp_l1, dp_l2 = detstats.get_noise_arrays_temp(target)\n",
    "\n",
    "   \n",
    "    # sort = np.argsort(dp_l1.reshape(NVARS, NREALS*NSKIES))\n",
    "    # print(sort.shape)\n",
    "    # yy = (dp_l1/dp_l2).reshape(NVARS, NREALS*NSKIES)\n",
    "    # print(yy.shape)\n",
    "    # yy=yy[sort]\n",
    "    # xx = dp_l1[sort]\n",
    "\n",
    "    # h1 = plot.draw_med_conf_color(ax, xx, yy, color='tab:blue', linestyle='-')\n",
    "    hist, dprat_edges, dp1st_edges,  = np.histogram2d(np.log10(dp_l1/dp_l2).flatten(), np.log10(dp_l1).flatten(), bins=60)\n",
    "    dp1st_grid, dprat_grid  = np.meshgrid(dp1st_edges, dprat_edges)\n",
    "    im = ax.pcolormesh(dp1st_grid, dprat_grid, np.log10(hist))\n",
    "\n",
    "\n",
    "plt.subplots_adjust(wspace=0.05, hspace=0.38, top=0.93)\n",
    "\n",
    "# labels = ['1st/2nd L', '1st/10th L']\n",
    "# fig.legend(handles=[ h4, h5], labels=labels, bbox_to_anchor=(0.5,0.0), loc='lower center',\n",
    "#            ncols=6, columnspacing=1.5)"
   ]
  },
  {
   "cell_type": "code",
   "execution_count": null,
   "metadata": {},
   "outputs": [],
   "source": [
    "BUILD_ARRAYS=False\n",
    "\n",
    "title='2d histogram, log(N)'\n",
    "ylabel = 'log(DP_2nd)'\n",
    "xlabel = 'log(DP_1st)'\n",
    "ff=0\n",
    "\n",
    "fig, axs = plot.figax_single(nrows=3, ncols=2, sharey=True, sharex=False,\n",
    "                              height=7, xscale='linear', yscale='linear')\n",
    "fig.text(0.02, 0.5, ylabel, ha='center', va='center', rotation='vertical')\n",
    "fig.text(0.5, 0.08, xlabel, ha='center', va='center')\n",
    "fig.suptitle(title, fontsize=12)\n",
    "for tt,target in enumerate(ALL_TARGETS):\n",
    "    ax = axs.flatten()[tt]\n",
    "    \n",
    "\n",
    "    xx, _ = detstats.get_ratio_arrays(target)\n",
    "    if BUILD_ARRAYS:\n",
    "        _, _, _, _, _, dp_l1, dp_l2 = detstats.build_noise_arrays(target)\n",
    "    else:\n",
    "        _, _, _, _, _, dp_l1, dp_l2 = detstats.get_noise_arrays_temp(target)\n",
    "\n",
    "\n",
    "\n",
    "    # h1 = plot.draw_med_conf_color(ax, xx, yy, color='tab:blue', linestyle='-')\n",
    "    dp2nd_edges = np.linspace(np.log10(np.min(dp_l2)), \n",
    "                               np.log10(np.max(dp_l2)), 100)\n",
    "    dp1st_edges = np.linspace(np.log10(np.min(dp_l1)), \n",
    "                               np.log10(np.max(dp_l1)), 200)\n",
    "    hist, dp2e, dp1e,  = np.histogram2d(np.log10(dp_l2).flatten(), np.log10(dp_l1).flatten(), \n",
    "                                                      bins=(dp2nd_edges, dp1st_edges))\n",
    "    dp1st_grid, dp2nd_grid  = np.meshgrid(dp1st_edges, dp2nd_edges)\n",
    "    im = ax.pcolormesh(dp1st_grid, dp2nd_grid, np.log10(hist))\n",
    "    cbar = plt.colorbar(im ,ax=ax, )\n",
    "    ax.set_xlim(-1, 0)\n",
    "    ax.set_ylim(-1,0)\n",
    "\n",
    "\n",
    "plt.subplots_adjust(wspace=0.05, hspace=0.2, top=0.93)\n",
    "# plt.colorbar(im, ax=axs.ravel().tolist(), shrink=0.4, \n",
    "#              orientation='horizontal', pad=0.22, label='$\\log N$', )\n",
    "\n",
    "\n",
    "\n",
    "# labels = ['1st/2nd L', '1st/10th L']\n",
    "# fig.legend(handles=[ h4, h5], labels=labels, bbox_to_anchor=(0.5,0.0), loc='lower center',\n",
    "#            ncols=6, columnspacing=1.5)"
   ]
  },
  {
   "cell_type": "code",
   "execution_count": null,
   "metadata": {},
   "outputs": [],
   "source": [
    "BUILD_ARRAYS=False\n",
    "\n",
    "title='2d histogram, log(N)'\n",
    "ylabel = 'log(DP_2nd)'\n",
    "xlabel = 'log(DP_1st)'\n",
    "ff=0\n",
    "\n",
    "fig, axs = plot.figax_single(nrows=3, ncols=2, sharey=True, sharex=False,\n",
    "                              height=7, xscale='linear', yscale='linear')\n",
    "fig.text(0.02, 0.5, ylabel, ha='center', va='center', rotation='vertical')\n",
    "fig.text(0.5, 0.08, xlabel, ha='center', va='center')\n",
    "fig.suptitle(title, fontsize=12)\n",
    "for tt,target in enumerate(ALL_TARGETS):\n",
    "    ax = axs.flatten()[tt]\n",
    "    \n",
    "\n",
    "    xx, _ = detstats.get_ratio_arrays(target)\n",
    "    if BUILD_ARRAYS:\n",
    "        _, _, _, _, _, dp_l1, dp_l2 = detstats.build_noise_arrays(target)\n",
    "    else:\n",
    "        _, _, _, _, _, dp_l1, dp_l2 = detstats.get_noise_arrays_temp(target)\n",
    "\n",
    "\n",
    "\n",
    "    # h1 = plot.draw_med_conf_color(ax, xx, yy, color='tab:blue', linestyle='-')\n",
    "    dp2nd_edges = np.linspace(np.log10(np.min(dp_l2)), \n",
    "                               np.log10(np.max(dp_l2)), 100)\n",
    "    dp1st_edges = np.linspace(np.log10(np.min(dp_l1)), \n",
    "                               np.log10(np.max(dp_l1)), 200)\n",
    "    hist, dp2e, dp1e,  = np.histogram2d(np.log10(dp_l2).flatten(), np.log10(dp_l1).flatten(), \n",
    "                                                      bins=(dp2nd_edges, dp1st_edges))\n",
    "    dp1st_grid, dp2nd_grid  = np.meshgrid(dp1st_edges, dp2nd_edges)\n",
    "    im = ax.pcolormesh(dp1st_grid, dp2nd_grid, np.log10(hist))\n",
    "    cbar = plt.colorbar(im ,ax=ax, )\n",
    "    # ax.set_xlim(-1, 0)\n",
    "    # ax.set_ylim(-1,0)\n",
    "\n",
    "\n",
    "plt.subplots_adjust(wspace=0.05, hspace=0.2, top=0.93)\n",
    "# plt.colorbar(im, ax=axs.ravel().tolist(), shrink=0.4, \n",
    "#              orientation='horizontal', pad=0.22, label='$\\log N$', )\n",
    "\n",
    "\n",
    "\n",
    "# labels = ['1st/2nd L', '1st/10th L']\n",
    "# fig.legend(handles=[ h4, h5], labels=labels, bbox_to_anchor=(0.5,0.0), loc='lower center',\n",
    "#            ncols=6, columnspacing=1.5)"
   ]
  },
  {
   "cell_type": "markdown",
   "metadata": {},
   "source": [
    "# Check EV_SS for hard_time"
   ]
  },
  {
   "cell_type": "code",
   "execution_count": null,
   "metadata": {},
   "outputs": [],
   "source": [
    "target = 'hard_time'\n",
    "data, params, dsdat = detstats.get_data(target,\n",
    "        gw_only=False, red2white=None, red_gamma=None,\n",
    "        nloudest=10, bgl=1, nexcl=0,\n",
    "        )"
   ]
  },
  {
   "cell_type": "code",
   "execution_count": null,
   "metadata": {},
   "outputs": [],
   "source": [
    "logevss = []\n",
    "xx = []\n",
    "for ii in range(21):\n",
    "    logevss.append(np.log10(dsdat[ii]['ev_ss']))\n",
    "    xx.append(params[ii][target])\n",
    "logevss = np.array(logevss)\n",
    "print(logevss.shape)"
   ]
  },
  {
   "cell_type": "markdown",
   "metadata": {},
   "source": []
  },
  {
   "cell_type": "code",
   "execution_count": null,
   "metadata": {},
   "outputs": [],
   "source": [
    "fig, ax = plot.figax(xscale='linear', yscale='linear',\n",
    "                     xlabel=plot.PARAM_KEYS[target],\n",
    "                     ylabel='$\\log{\\langle N_\\mathrm{SS} \\\\rangle}$')\n",
    "yy = logevss.reshape(21, 500*100)\n",
    "for pp in [50, 95]:\n",
    "    percs = [50-pp/2, 50+pp/2]\n",
    "    med, *conf = np.percentile(yy, (50, *percs), axis=1)\n",
    "    ax.plot(xx, med)\n",
    "    ax.fill_between(xx, *conf, alpha=0.15)"
   ]
  },
  {
   "cell_type": "code",
   "execution_count": null,
   "metadata": {},
   "outputs": [],
   "source": [
    "dp_ssi = dsdat[10]['gamma_ssi']"
   ]
  },
  {
   "cell_type": "code",
   "execution_count": null,
   "metadata": {},
   "outputs": [],
   "source": [
    "print(dp_ssi.shape)"
   ]
  },
  {
   "cell_type": "markdown",
   "metadata": {},
   "source": [
    "figure out fancy indexing"
   ]
  },
  {
   "cell_type": "code",
   "execution_count": null,
   "metadata": {},
   "outputs": [],
   "source": [
    "randoms = np.asarray(np.random.rand(3*10).reshape(3,10)*10, dtype=int)\n",
    "print(randoms)"
   ]
  },
  {
   "cell_type": "code",
   "execution_count": null,
   "metadata": {},
   "outputs": [],
   "source": [
    "rand_argmax = np.argmax(randoms, axis=0, keepdims=False)\n",
    "print(np.max(rand_argmax))\n",
    "print(rand_argmax.shape)\n",
    "print(rand_argmax)"
   ]
  },
  {
   "cell_type": "code",
   "execution_count": null,
   "metadata": {},
   "outputs": [],
   "source": [
    "reals = np.arange(10)"
   ]
  },
  {
   "cell_type": "code",
   "execution_count": null,
   "metadata": {},
   "outputs": [],
   "source": [
    "print(randoms[rand_argmax,reals])"
   ]
  },
  {
   "cell_type": "code",
   "execution_count": null,
   "metadata": {},
   "outputs": [],
   "source": [
    "randoms[rand_argmax,reals] = 0\n",
    "print(randoms)"
   ]
  },
  {
   "cell_type": "code",
   "execution_count": null,
   "metadata": {},
   "outputs": [],
   "source": [
    "reals = np.arange(100)\n",
    "index = np.array([rand_argmax,reals])\n",
    "print(index.shape)\n",
    "\n",
    "print(randoms[np.swapaxes(index, 0,1)])\n"
   ]
  },
  {
   "cell_type": "code",
   "execution_count": null,
   "metadata": {},
   "outputs": [],
   "source": [
    "print(randoms[rand_argmax].shape)"
   ]
  },
  {
   "cell_type": "code",
   "execution_count": null,
   "metadata": {},
   "outputs": [],
   "source": [
    "\n",
    "reals = np.arange(NREALS*NSKIES)\n",
    "dp_max = dp_ssi[argmax, reals]\n"
   ]
  },
  {
   "cell_type": "code",
   "execution_count": null,
   "metadata": {},
   "outputs": [],
   "source": [
    "dp_ssi = np.swapaxes(dp_ssi, 1,3)\n",
    "print(dp_ssi.shape)\n",
    "dp_ssi = dp_ssi.reshape(NFREQS*NLOUDEST, NSKIES*NREALS)\n",
    "print(dp_ssi.shape)"
   ]
  },
  {
   "cell_type": "code",
   "execution_count": null,
   "metadata": {},
   "outputs": [],
   "source": [
    "argmax = np.argmax(dp_ssi, axis=0, keepdims=True)\n",
    "print(argmax.shape)"
   ]
  }
 ],
 "metadata": {
  "kernelspec": {
   "display_name": "holo310",
   "language": "python",
   "name": "python3"
  },
  "language_info": {
   "codemirror_mode": {
    "name": "ipython",
    "version": 3
   },
   "file_extension": ".py",
   "mimetype": "text/x-python",
   "name": "python",
   "nbconvert_exporter": "python",
   "pygments_lexer": "ipython3",
   "version": "3.10.10"
  }
 },
 "nbformat": 4,
 "nbformat_minor": 2
}
