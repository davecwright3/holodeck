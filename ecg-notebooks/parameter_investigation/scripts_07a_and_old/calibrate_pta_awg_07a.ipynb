{
 "cells": [
  {
   "cell_type": "code",
   "execution_count": null,
   "metadata": {},
   "outputs": [],
   "source": [
    "import numpy as np\n",
    "import matplotlib.pyplot as plt\n",
    "import matplotlib.cm as cm\n",
    "import scipy as sp\n",
    "import h5py\n",
    "\n",
    "import holodeck as holo\n",
    "import holodeck.single_sources as ss\n",
    "from holodeck.constants import YR, MSOL\n",
    "from holodeck import utils, detstats, plot\n",
    "\n",
    "\n",
    "import hasasia.sensitivity as hsen\n",
    "import hasasia.sim as hsim"
   ]
  },
  {
   "attachments": {},
   "cell_type": "markdown",
   "metadata": {},
   "source": [
    "# Read in hdf file"
   ]
  },
  {
   "cell_type": "code",
   "execution_count": null,
   "metadata": {},
   "outputs": [],
   "source": [
    "filepath = '/Users/emigardiner/GWs/holodeck/output/awg_output/uniform-07a_new_n1000_r1000_f40'\n",
    "filename = filepath+'/sam_lib.hdf5'\n",
    "ssfile = h5py.File(filename, 'r')\n",
    "print(list(ssfile.keys()))\n",
    "# print(ssfile['pta_dur'][0])\n",
    "fobs = ssfile['fobs'][:]\n",
    "# dfobs = ssfile['dfobs'][:]\n",
    "# dur = ssfile['pta_dur'][0]\n",
    "# cad = ssfile['pta_cad'][0]\n",
    "hc_ss_all = ssfile['hc_ss'][...]\n",
    "hc_bg_all = ssfile['hc_bg'][...]\n",
    "shape = hc_ss_all.shape\n",
    "nsamp, nfreqs, nreals, nloudest = shape[0], shape[1], shape[2], shape[3]\n",
    "print('N,F,R,L:', nsamp, nfreqs, nreals, nloudest)\n",
    "ssfile.close()"
   ]
  },
  {
   "attachments": {},
   "cell_type": "markdown",
   "metadata": {},
   "source": [
    "# Find dur, cad, and dfobs"
   ]
  },
  {
   "cell_type": "code",
   "execution_count": null,
   "metadata": {},
   "outputs": [],
   "source": [
    "dur = holo.librarian.DEF_PTA_DUR * YR # would be helpful to save this in hdf file\n",
    "hifr = nfreqs/dur\n",
    "cad = 1.0 / (2 * hifr)\n",
    "fobs_cents = holo.utils.nyquist_freqs(dur, cad) \n",
    "fobs_edges = holo.utils.nyquist_freqs_edges(dur, cad)\n",
    "dfobs = np.diff(fobs_edges)\n",
    "\n",
    "assert np.all(fobs_cents == fobs), \"fobs arrays don't match!\"\n",
    "# print(fobs.shape, fobs_cents.shape)\n",
    "# print(fobs, '\\n', fobs_cents)\n",
    "\n"
   ]
  },
  {
   "cell_type": "code",
   "execution_count": null,
   "metadata": {},
   "outputs": [],
   "source": [
    "print(nfreqs)"
   ]
  },
  {
   "cell_type": "code",
   "execution_count": null,
   "metadata": {},
   "outputs": [],
   "source": [
    "print('samples (N):', nsamp, '\\nreals (R):', nreals, '\\nN,F,R,L:', hc_ss_all.shape)"
   ]
  },
  {
   "attachments": {},
   "cell_type": "markdown",
   "metadata": {},
   "source": [
    "# Find Best Sample"
   ]
  },
  {
   "cell_type": "code",
   "execution_count": null,
   "metadata": {},
   "outputs": [],
   "source": [
    "# find best\n",
    "# found this in a another notebook to be sample 30\n",
    "# nn=30\n",
    "fidx=1 # choose second bin\n",
    "hc_ref15_10yr = 11.2*10**-15 \n",
    "print(fobs[fidx]*YR)\n",
    "nsort, fidx, hc_tt, hc_ref15 = detstats.rank_samples(hc_ss_all, hc_bg_all, fobs, fidx=1, \n",
    "                              hc_ref=hc_ref15_10yr, ret_all=True)\n",
    "nn = nsort[0]\n",
    "print(nn, hc_ref15)"
   ]
  },
  {
   "attachments": {},
   "cell_type": "markdown",
   "metadata": {},
   "source": [
    "# Calibrate PTA"
   ]
  },
  {
   "cell_type": "code",
   "execution_count": null,
   "metadata": {},
   "outputs": [],
   "source": [
    "# modify these until dp_bg = .5\n",
    "npsrs=67\n",
    "sigma=2.85e-6\n",
    "\n",
    "# build PTA\n",
    "phis = np.random.uniform(0, 2*np.pi, size = npsrs)\n",
    "thetas = np.random.uniform(np.pi/2, np.pi/2, size = npsrs)\n",
    "# sigmas = np.ones_like(phis)*sigma\n",
    "psrs = hsim.sim_pta(timespan=dur/YR, cad=1/(cad/YR), sigma=sigma,\n",
    "                phi=phis, theta=thetas)"
   ]
  },
  {
   "cell_type": "code",
   "execution_count": null,
   "metadata": {},
   "outputs": [],
   "source": [
    "dp_bg = detstats.detect_bg_pta(psrs, fobs, cad, hc_bg_all[nn])\n",
    "print(np.mean(dp_bg))"
   ]
  },
  {
   "cell_type": "code",
   "execution_count": null,
   "metadata": {},
   "outputs": [],
   "source": []
  }
 ],
 "metadata": {
  "kernelspec": {
   "display_name": "holo310",
   "language": "python",
   "name": "python3"
  },
  "language_info": {
   "codemirror_mode": {
    "name": "ipython",
    "version": 3
   },
   "file_extension": ".py",
   "mimetype": "text/x-python",
   "name": "python",
   "nbconvert_exporter": "python",
   "pygments_lexer": "ipython3",
   "version": "3.10.10"
  }
 },
 "nbformat": 4,
 "nbformat_minor": 2
}
