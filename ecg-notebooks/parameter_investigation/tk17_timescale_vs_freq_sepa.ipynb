{
 "cells": [
  {
   "cell_type": "code",
   "execution_count": null,
   "metadata": {},
   "outputs": [],
   "source": [
    "%reload_ext autoreload\n",
    "%autoreload 2\n",
    "from importlib import reload\n",
    "\n",
    "import numpy as np\n",
    "import matplotlib.pyplot as plt\n",
    "import matplotlib.cm as cm\n",
    "import h5py\n",
    "from tqdm import tqdm\n",
    "import os\n",
    "\n",
    "\n",
    "from holodeck import plot, detstats, utils\n",
    "import holodeck.single_sources as sings\n",
    "from holodeck.constants import YR, MSOL, MPC, GYR, PC\n",
    "import holodeck as holo\n",
    "from holodeck.sams import sam\n",
    "\n",
    "import hasasia.sim as hsim"
   ]
  },
  {
   "cell_type": "code",
   "execution_count": null,
   "metadata": {},
   "outputs": [],
   "source": [
    "RECONSTRUCT_FLAG=True"
   ]
  },
  {
   "cell_type": "code",
   "execution_count": null,
   "metadata": {},
   "outputs": [],
   "source": [
    "SHAPE = None\n",
    "NREALS = 500\n",
    "# NREALS = 20\n",
    "NFREQS = 40\n",
    "NLOUDEST = 10\n",
    "\n",
    "NSTEPS = 20\n",
    "\n",
    "NVARS = 21\n",
    "# NVARS = 6\n",
    "\n",
    "NPSRS = 40\n",
    "NSKIES = 100\n",
    "# NSKIES = 15\n",
    "\n",
    "PARAM_NAMES = ['gsmf_phi0', 'gsmf_mchar0_log10',\n",
    "               'mmb_mamp_log10', 'mmb_scatter_dex', \n",
    "               'hard_time', 'hard_gamma_inner']"
   ]
  },
  {
   "cell_type": "code",
   "execution_count": null,
   "metadata": {},
   "outputs": [],
   "source": [
    "def get_data(\n",
    "        target, nvars=NVARS, nreals=NREALS, nskies=NSKIES, shape=SHAPE, red_gamma = None, red2white=None,\n",
    "    path = '/Users/emigardiner/GWs/holodeck/output/anatomy_redz'     \n",
    "):\n",
    "\n",
    "    if path == '/Users/emigardiner/GWs/holodeck/output/anatomy_09B':\n",
    "        load_data_from_file = path+f'/{target}_v{nvars}_r{nreals}_s{nskies}_shape{str(shape)}.npz' \n",
    "    else:\n",
    "        load_data_from_file = path+f'/{target}_v{nvars}_r{nreals}_shape{str(shape)}/data_params.npz' \n",
    "\n",
    "    if os.path.exists(load_data_from_file) is False:\n",
    "        err = f\"load data file '{load_data_from_file}' does not exist, you need to construct it.\"\n",
    "        raise Exception(err)\n",
    "    # if os.path.exists(load_dets_from_file) is False:\n",
    "    #     err = f\"load dets file '{load_dets_from_file}' does not exist, you need to construct it.\"\n",
    "    #     raise Exception(err)\n",
    "    file = np.load(load_data_from_file, allow_pickle=True)\n",
    "    data = file['data']\n",
    "    params = file['params']\n",
    "    file.close()\n",
    "\n",
    "    # file = np.load(load_dets_from_file, allow_pickle=True)\n",
    "    # dsdat = file['dsdat']\n",
    "    # file.close()\n",
    "\n",
    "    return data, params"
   ]
  },
  {
   "attachments": {},
   "cell_type": "markdown",
   "metadata": {},
   "source": [
    "# Let's just copy Luke's notebook"
   ]
  },
  {
   "attachments": {},
   "cell_type": "markdown",
   "metadata": {},
   "source": [
    "### function to construct evolution data"
   ]
  },
  {
   "cell_type": "code",
   "execution_count": null,
   "metadata": {},
   "outputs": [],
   "source": [
    "def construct_evolution(target_param, params, nsteps, \n",
    "    pspace = holo.param_spaces.PS_Uniform_09B(holo.log, nsamples=1, sam_shape=None, seed=None),\n",
    "):\n",
    "    \"\"\" Construct evolution data.\n",
    "\n",
    "    saves\n",
    "    -----\n",
    "    taus : [nparams][nmasses] array of [nsteps] 1Darrays\n",
    "        hardening timescales\n",
    "    target_param_list : [nparams] \n",
    "        each of the target's values\n",
    "\n",
    "\n",
    "    \"\"\"\n",
    "    m1_range = [1e7*MSOL, 1e8*MSOL]\n",
    "    m2_range = [1e8*MSOL, 1e9*MSOL]\n",
    "    m3_range = [1e9*MSOL, 1e10*MSOL]\n",
    "    m4_range = [1e10*MSOL, 1e11*MSOL]\n",
    "    mtot_ranges = [m1_range, m2_range, m3_range, m4_range]\n",
    "    mrat_range = [0.2, 1.0]\n",
    "    redz_range = [0, np.inf]\n",
    "\n",
    "\n",
    "    # Whatever param we're varying\n",
    "    target_param_list =  []\n",
    "    # range of binary separations to plot\n",
    "    sepa = np.logspace(-3, 3, nsteps)[::-1] * PC\n",
    "\n",
    "    # hcss = []\n",
    "    # hcbg = []\n",
    "    taus = [] # shape [nvars][nmasses]\n",
    "\n",
    "    # Iterate over target lifetimes\n",
    "    for tt in tqdm(range(len(params))):\n",
    "\n",
    "        # using my parameters from above\n",
    "        _params = params[tt] # midpoints\n",
    "        target_param_list.append(_params[target_param])\n",
    "\n",
    "        sam, hard = pspace.model_for_params(_params)\n",
    "        print(sam._gmt_time)\n",
    "\n",
    "        # calculate hc_bg and hc_ss at bin centers, between the given bin edges\n",
    "        # _hcss_step, _hcbg_step, = sam.gwb(fobs_gw_edges, hard, \n",
    "        #                             loudest = NLOUDEST, realize=NREALS)\n",
    "        # print(\"got strains!\")\n",
    "        # print(sam._gmt)\n",
    "        # hcss.append(_hcss_step)\n",
    "        # hcbg.append(_hcbg_step)\n",
    "\n",
    "        # _hcss.append(data[tt]['hc_ss'])\n",
    "        # _hcbg.append(data[tt]['hc_bg'])\n",
    "\n",
    "        # call static_binary_density property to setup variables\n",
    "        _ = sam.static_binary_density \n",
    "        print(sam._gmt_time)\n",
    "\n",
    "\n",
    "        # calculate binary properties at target separations\n",
    "        _edges, _dnum, _redz_final, _details = sam._dynamic_binary_number_at_sepa_consistent(\n",
    "            hard, sepa, details=True) # it would be better if I saved these details when I first calculated them!\n",
    "        \n",
    "        # select the bins with target binary parameters\n",
    "        _tau = [] # Shape [nmassses,]\n",
    "        for mtot_range in mtot_ranges:\n",
    "            sel_mtot  = (mtot_range[0] < sam.mtot) & (sam.mtot <= mto_range[1])\n",
    "            sel_mrat = (mrat_range[0] < sam.mrat) & (sam.mrat <= mrat_range[1])\n",
    "            sel_redz = (redz_range[0] < sam.redz) & (sam.redz <= redz_range[1])\n",
    "            sel = (\n",
    "                sel_mtot[:, np.newaxis, np.newaxis] *\n",
    "                sel_mrat[np.newaxis, :, np.newaxis] * \n",
    "                sel_redz[np.newaxis, np.newaxis, :]\n",
    "            )\n",
    "            _tau.append(_details['tau'][sel].T)\n",
    "        taus.append(_tau)\n",
    "        \n",
    "    # save results\n",
    "    fileloc = '/Users/emigardiner/GWs/holodeck/ecg-notebooks/parameter_investigation/anatomy_uniform09B/'\n",
    "    filename = fileloc+f'evol_{target_param}.npz' \n",
    "    print(f\"{filename=}\")\n",
    "    np.savez(filename, taus=taus, target_param_list=target_param_list,\n",
    "            nsteps=nsteps, sepa=sepa,\n",
    "            mtot_ranges = mtot_ranges)\n"
   ]
  },
  {
   "attachments": {},
   "cell_type": "markdown",
   "metadata": {},
   "source": [
    "# hard_gamma_inner"
   ]
  },
  {
   "cell_type": "code",
   "execution_count": null,
   "metadata": {},
   "outputs": [],
   "source": [
    "target='hard_gamma_inner'\n",
    " \n",
    "data, params = get_data(target)\n",
    "data = [data[0], data[10], data[20]]\n",
    "params = [params[0], params[10], params[20]]\n",
    "fobs_gw_cents = data[0]['fobs_cents']\n",
    "_, fobs_gw_edges = holo.utils.pta_freqs()"
   ]
  },
  {
   "cell_type": "code",
   "execution_count": null,
   "metadata": {},
   "outputs": [],
   "source": [
    "if RECONSTRUCT_FLAG:\n",
    "    construct_evolution(target_param=target, params=params, nsteps=NSTEPS)"
   ]
  },
  {
   "attachments": {},
   "cell_type": "markdown",
   "metadata": {},
   "source": [
    "## load hard time results"
   ]
  },
  {
   "cell_type": "markdown",
   "metadata": {},
   "source": [
    "    np.savez(filename, taus=taus, target_param_list=target_param_list,\n",
    "            nsteps=nsteps, sepa=sepa,\n",
    "            mtot_ranges = mtot_ranges)"
   ]
  },
  {
   "cell_type": "code",
   "execution_count": null,
   "metadata": {},
   "outputs": [],
   "source": [
    "def load_evolution(target)\n",
    "    fileloc = '/Users/emigardiner/GWs/holodeck/ecg-notebooks/parameter_investigation/anatomy_uniform09B/'\n",
    "    filename = fileloc+f'evol_{target_param}.npz'"
   ]
  },
  {
   "cell_type": "code",
   "execution_count": null,
   "metadata": {},
   "outputs": [],
   "source": [
    "target_param='hard_time'\n",
    "fileloc = '/Users/emigardiner/GWs/holodeck/ecg-notebooks/parameter_investigation/anatomy_uniform09A_fullshape'\n",
    "filename = fileloc+'/evol_%s_%dsteps.npz' % (target_param, nsteps)\n",
    "file = np.load(filename)\n",
    "taus=file['taus']\n",
    "taus_high=file['taus_high'] \n",
    "target_param_list=file['target_param_list']\n",
    "hcss=file['hcss']\n",
    "hcbg=file['hcbg']\n",
    "nsteps=file['nsteps']\n",
    "sepa=file['sepa']\n",
    "mtot_range=file['mtot_range'] \n",
    "mtot_hirng=file['mtot_hirng']\n",
    "mrat_range=file['mrat_range']\n",
    "redz_range=file['redz_range']\n",
    "file.close()"
   ]
  },
  {
   "attachments": {},
   "cell_type": "markdown",
   "metadata": {},
   "source": [
    "# Plot current function"
   ]
  },
  {
   "cell_type": "code",
   "execution_count": null,
   "metadata": {},
   "outputs": [],
   "source": [
    "def plot_current():\n",
    "    fig, axs = plot.figax_double(height=7, nrows=2,  ncols=2, hspace=0.35, bottom=0.1)\n",
    "\n",
    "    xx = sepa/PC\n",
    "    YR_LABEL_PAD = -4\n",
    "    colors = ['tab:green', 'tab:blue', 'tab:orange']\n",
    "\n",
    "    # ------------------------   Ax Row 0   ----------------------------\n",
    "    ax = axs[0,0]\n",
    "    ax1 = axs[0,1]\n",
    "\n",
    "    ax.set_title(f'Mass Range: {mtot_range/MSOL}')\n",
    "    ax1.set_title(f\"Mass Range: {mtot_hirng/MSOL}\")\n",
    "    ax1.sharex(ax)\n",
    "    ax1.sharey(ax)\n",
    "\n",
    "    for axis in [ax, ax1]:\n",
    "        axis.set(xlabel=plot.LABEL_SEPARATION_PC, ylabel=plot.LABEL_HARDENING_TIME, xscale='log', yscale='log')\n",
    "    axis.invert_xaxis()\n",
    "\n",
    "        # axis.axhline(times_list[1], color='k', alpha=0.65)\n",
    "        # axis.axhline(times_list[0], color='k', ls='--', alpha=0.25)\n",
    "\n",
    "\n",
    "    labels = []\n",
    "    handles = []\n",
    "    for ii, tau in enumerate(taus):\n",
    "        print(ii)\n",
    "        yy = tau / GYR\n",
    "        hh = plot.draw_med_conf_color(ax, xx, yy, fracs=[0.5], filter=True, color=colors[ii])\n",
    "        # colors.append(hh[0].get_color())\n",
    "        handles.append(hh[0])\n",
    "        labels.append(f\"${target_param_list[ii]:.1f}$\")\n",
    "\n",
    "        y1 = taus_high[ii]/GYR   \n",
    "        plot.draw_med_conf_color(ax1, xx, y1, fracs=[0.5], filter=True, color=colors[ii])\n",
    "\n",
    "\n",
    "\n",
    "    leg = ax.legend(handles, labels, loc='lower left', \n",
    "                    ncol=len(handles), title=target_param, title_fontsize=14)\n",
    "\n",
    "    # ----------------------------- Ax Row 1 --------------------------------\n",
    "\n",
    "    ax = axs[1,0]\n",
    "    ax1 = axs[1,1]\n",
    "\n",
    "    ax1.sharex(ax)\n",
    "    ax1.sharey(ax)\n",
    "\n",
    "    for axis in [ax, ax1]:\n",
    "        axis.set(xlabel=plot.LABEL_GW_FREQUENCY_NHZ, ylabel=plot.LABEL_CHARACTERISTIC_STRAIN, xscale='log', yscale='log')\n",
    "\n",
    "    xx = fobs_gw_cents*1e9 # nHz\n",
    "\n",
    "    labels=[]\n",
    "    handles=[]\n",
    "    # colors = []\n",
    "\n",
    "    for ii, yy in enumerate(hcbg):\n",
    "        # yy = np.median(yy, axis=-1)\n",
    "        hh = plot.draw_med_conf_color(ax, xx, yy, fracs=[0.5], filter=False, color=colors[ii])\n",
    "        # colors.append(hh[0].get_color())\n",
    "        ss = hcss[ii]\n",
    "        for rr in range(len(ss[0])):\n",
    "            ax.scatter(xx, ss[:,rr,0], color = colors[ii], alpha=0.5, s=5) # only single include loudest of each realization\n",
    "\n",
    "    return fig"
   ]
  },
  {
   "attachments": {},
   "cell_type": "markdown",
   "metadata": {},
   "source": [
    "## Plot Results"
   ]
  },
  {
   "cell_type": "code",
   "execution_count": null,
   "metadata": {},
   "outputs": [],
   "source": [
    "fig = plot_current()"
   ]
  },
  {
   "cell_type": "markdown",
   "metadata": {},
   "source": []
  },
  {
   "attachments": {},
   "cell_type": "markdown",
   "metadata": {},
   "source": [
    "# gamma_inner"
   ]
  },
  {
   "cell_type": "code",
   "execution_count": null,
   "metadata": {},
   "outputs": [],
   "source": [
    "target='hard_gamma_inner'\n",
    "nsteps=20\n",
    " \n",
    "data, params = get_data(target)\n",
    "fobs_gw_cents = data[0]['fobs_cents']\n",
    "_, fobs_gw_edges = holo.utils.pta_freqs()\n",
    "\n",
    "if RECONSTRUCT_FLAG:\n",
    "    construct_evolution(target_param=target, params=params, NSTEPS=nsteps)"
   ]
  },
  {
   "attachments": {},
   "cell_type": "markdown",
   "metadata": {},
   "source": [
    "## load gamma_inner results"
   ]
  },
  {
   "cell_type": "code",
   "execution_count": null,
   "metadata": {},
   "outputs": [],
   "source": [
    "fileloc = '/Users/emigardiner/GWs/holodeck/ecg-notebooks/parameter_investigation/anatomy_uniform09B/'\n",
    "filename = fileloc+'evol_%s_%dsteps.npz' % (target, nsteps)\n",
    "file = np.load(filename)\n",
    "taus=file['taus']\n",
    "taus_high=file['taus_high'] \n",
    "target_param_list=file['target_param_list']\n",
    "hcss=file['hcss']\n",
    "hcbg=file['hcbg']\n",
    "nsteps=file['nsteps']\n",
    "sepa=file['sepa']\n",
    "mtot_range=file['mtot_range'] \n",
    "mtot_hirng=file['mtot_hirng']\n",
    "mrat_range=file['mrat_range']\n",
    "redz_range=file['redz_range']\n",
    "file.close()"
   ]
  },
  {
   "attachments": {},
   "cell_type": "markdown",
   "metadata": {},
   "source": [
    "## plot results"
   ]
  },
  {
   "cell_type": "code",
   "execution_count": null,
   "metadata": {},
   "outputs": [],
   "source": [
    "def plot_current():\n",
    "    fig, ax = plot.figax_single(ncols=2, sharey=True)\n",
    "\n",
    "    xx = sepa/PC\n",
    "    x1_m1 = utils.kepler_freq_from_sepa(mass, sepa)\n",
    "    YR_LABEL_PAD = -4\n",
    "    colors = ['tab:green', 'tab:blue', 'tab:orange']\n",
    "\n",
    "    # ------------------------   Ax Row 0   ----------------------------\n",
    "\n",
    "    ax1.sharex(ax)\n",
    "    ax1.sharey(ax)\n",
    "\n",
    "    for axis in [ax, ax1]:\n",
    "        axis.set(xlabel=plot.LABEL_SEPARATION_PC, ylabel=plot.LABEL_HARDENING_TIME, xscale='log', yscale='log')\n",
    "    axis.invert_xaxis()\n",
    "\n",
    "        # axis.axhline(times_list[1], color='k', alpha=0.65)\n",
    "        # axis.axhline(times_list[0], color='k', ls='--', alpha=0.25)\n",
    "\n",
    "\n",
    "    labels = []\n",
    "    handles = []\n",
    "    for ii, tau in enumerate(taus):\n",
    "        print(ii)\n",
    "        yy = tau / GYR\n",
    "        hh = plot.draw_med_conf_color(ax, xx, yy, fracs=[0.5], filter=True, color=colors[ii])\n",
    "        # colors.append(hh[0].get_color())\n",
    "        handles.append(hh[0])\n",
    "        labels.append(f\"${target_param_list[ii]:.1f}$\")\n",
    "\n",
    "        y1 = taus_high[ii]/GYR   \n",
    "        plot.draw_med_conf_color(ax1, xx, y1, fracs=[0.5], filter=True, color=colors[ii])\n",
    "\n",
    "\n",
    "\n",
    "    leg = ax.legend(handles, labels, loc='lower left', \n",
    "                    ncol=len(handles), title=target_param, title_fontsize=14)\n",
    "\n",
    "    # ----------------------------- Ax Row 1 --------------------------------\n",
    "\n",
    "    ax = axs[1,0]\n",
    "    ax1 = axs[1,1]\n",
    "\n",
    "    ax1.sharex(ax)\n",
    "    ax1.sharey(ax)\n",
    "\n",
    "    for axis in [ax, ax1]:\n",
    "        axis.set(xlabel=plot.LABEL_GW_FREQUENCY_NHZ, ylabel=plot.LABEL_CHARACTERISTIC_STRAIN, xscale='log', yscale='log')\n",
    "\n",
    "    xx = fobs_gw_cents*1e9 # nHz\n",
    "\n",
    "    labels=[]\n",
    "    handles=[]\n",
    "    # colors = []\n",
    "\n",
    "    for ii, yy in enumerate(hcbg):\n",
    "        # yy = np.median(yy, axis=-1)\n",
    "        hh = plot.draw_med_conf_color(ax, xx, yy, fracs=[0.5], filter=False, color=colors[ii])\n",
    "        # colors.append(hh[0].get_color())\n",
    "        ss = hcss[ii]\n",
    "        for rr in range(len(ss[0])):\n",
    "            ax.scatter(xx, ss[:,rr,0], color = colors[ii], alpha=0.5, s=5) # only single include loudest of each realization\n",
    "\n",
    "    return fig"
   ]
  },
  {
   "cell_type": "code",
   "execution_count": null,
   "metadata": {},
   "outputs": [],
   "source": [
    "fig = plot_current()"
   ]
  },
  {
   "attachments": {},
   "cell_type": "markdown",
   "metadata": {},
   "source": [
    "# mmb_mamp_log10"
   ]
  },
  {
   "cell_type": "code",
   "execution_count": null,
   "metadata": {},
   "outputs": [],
   "source": [
    "target_param = 'mmb_mamp_log10'\n",
    "nsteps = 20\n",
    "npz = np.load('/Users/emigardiner/GWs/holodeck/ecg-notebooks/parameter_investigation/anatomy_uniform09A_fullshape/%s_p0.5_0.5_0.5_0.5_0.5_0.5_s91_81_101.npz'\n",
    "              % target_param,\n",
    "                        allow_pickle=True)       \n",
    "params = npz['params']\n",
    "npz.close()\n",
    "if RECONSTRUCT_FLAG:\n",
    "    construct_evolution(target_param=target_param, params=params, NSTEPS=nsteps)"
   ]
  },
  {
   "attachments": {},
   "cell_type": "markdown",
   "metadata": {},
   "source": [
    "## load mmb_mamp_log10 results"
   ]
  },
  {
   "cell_type": "code",
   "execution_count": null,
   "metadata": {},
   "outputs": [],
   "source": [
    "fileloc = '/Users/emigardiner/GWs/holodeck/ecg-notebooks/parameter_investigation/anatomy_uniform09A_fullshape'\n",
    "filename = fileloc+'/evol_%s_%dsteps.npz' % (target_param, nsteps)\n",
    "file = np.load(filename)\n",
    "taus=file['taus']\n",
    "taus_high=file['taus_high'] \n",
    "target_param_list=file['target_param_list']\n",
    "hcss=file['hcss']\n",
    "hcbg=file['hcbg']\n",
    "nsteps=file['nsteps']\n",
    "sepa=file['sepa']\n",
    "mtot_range=file['mtot_range'] \n",
    "mtot_hirng=file['mtot_hirng']\n",
    "mrat_range=file['mrat_range']\n",
    "redz_range=file['redz_range']\n",
    "file.close()"
   ]
  },
  {
   "cell_type": "markdown",
   "metadata": {},
   "source": [
    "## plot results"
   ]
  },
  {
   "cell_type": "code",
   "execution_count": null,
   "metadata": {},
   "outputs": [],
   "source": [
    "fig = plot_current()"
   ]
  },
  {
   "attachments": {},
   "cell_type": "markdown",
   "metadata": {},
   "source": [
    "# mmb_scatter_dex"
   ]
  },
  {
   "cell_type": "code",
   "execution_count": null,
   "metadata": {},
   "outputs": [],
   "source": [
    "target_param = 'mmb_scatter_dex'\n",
    "nsteps=20\n",
    "npz = np.load('/Users/emigardiner/GWs/holodeck/ecg-notebooks/parameter_investigation/anatomy_uniform09A_fullshape/%s_p0.5_0.5_0.5_0.5_0.5_0.5_s91_81_101.npz'\n",
    "              % target_param, allow_pickle=True)       \n",
    "params = npz['params']\n",
    "npz.close()\n",
    "if RECONSTRUCT_FLAG:\n",
    "    construct_evolution(target_param, params, nsteps)"
   ]
  },
  {
   "attachments": {},
   "cell_type": "markdown",
   "metadata": {},
   "source": [
    "## load mmb_scatter_dex results"
   ]
  },
  {
   "cell_type": "code",
   "execution_count": null,
   "metadata": {},
   "outputs": [],
   "source": [
    "fileloc = '/Users/emigardiner/GWs/holodeck/ecg-notebooks/parameter_investigation/anatomy_uniform09A_fullshape'\n",
    "filename = fileloc+'/evol_%s_%dsteps.npz' % (target_param, nsteps)\n",
    "file = np.load(filename)\n",
    "taus=file['taus']\n",
    "taus_high=file['taus_high'] \n",
    "target_param_list=file['target_param_list']\n",
    "hcss=file['hcss']\n",
    "hcbg=file['hcbg']\n",
    "nsteps=file['nsteps']\n",
    "sepa=file['sepa']\n",
    "mtot_range=file['mtot_range'] \n",
    "mtot_hirng=file['mtot_hirng']\n",
    "mrat_range=file['mrat_range']\n",
    "redz_range=file['redz_range']\n",
    "file.close()"
   ]
  },
  {
   "attachments": {},
   "cell_type": "markdown",
   "metadata": {},
   "source": [
    "## plot results"
   ]
  },
  {
   "cell_type": "code",
   "execution_count": null,
   "metadata": {},
   "outputs": [],
   "source": [
    "fig = plot_current()"
   ]
  },
  {
   "attachments": {},
   "cell_type": "markdown",
   "metadata": {},
   "source": [
    "# gsmf_phi0"
   ]
  },
  {
   "cell_type": "code",
   "execution_count": null,
   "metadata": {},
   "outputs": [],
   "source": [
    "target_param = 'gsmf_phi0'\n",
    "nsteps = 20\n",
    "npz = np.load('/Users/emigardiner/GWs/holodeck/ecg-notebooks/parameter_investigation/anatomy_uniform09A_fullshape/%s_p0.5_0.5_0.5_0.5_0.5_0.5_s91_81_101.npz'\n",
    "              % target_param,\n",
    "                        allow_pickle=True)       \n",
    "params = npz['params']\n",
    "npz.close()\n",
    "if RECONSTRUCT_FLAG:\n",
    "    construct_evolution(target_param=target_param, params=params, NSTEPS=nsteps)"
   ]
  },
  {
   "attachments": {},
   "cell_type": "markdown",
   "metadata": {},
   "source": [
    "## load gsmf_phi0 results"
   ]
  },
  {
   "cell_type": "code",
   "execution_count": null,
   "metadata": {},
   "outputs": [],
   "source": [
    "fileloc = '/Users/emigardiner/GWs/holodeck/ecg-notebooks/parameter_investigation/anatomy_uniform09A_fullshape'\n",
    "filename = fileloc+'/evol_%s_%dsteps.npz' % (target_param, nsteps)\n",
    "file = np.load(filename)\n",
    "taus=file['taus']\n",
    "taus_high=file['taus_high'] \n",
    "target_param_list=file['target_param_list']\n",
    "hcss=file['hcss']\n",
    "hcbg=file['hcbg']\n",
    "nsteps=file['nsteps']\n",
    "sepa=file['sepa']\n",
    "mtot_range=file['mtot_range'] \n",
    "mtot_hirng=file['mtot_hirng']\n",
    "mrat_range=file['mrat_range']\n",
    "redz_range=file['redz_range']\n",
    "file.close()"
   ]
  },
  {
   "cell_type": "markdown",
   "metadata": {},
   "source": [
    "## plot results"
   ]
  },
  {
   "cell_type": "code",
   "execution_count": null,
   "metadata": {},
   "outputs": [],
   "source": [
    "fig = plot_current()"
   ]
  },
  {
   "attachments": {},
   "cell_type": "markdown",
   "metadata": {},
   "source": [
    "# gsmf_mchar0_log10"
   ]
  },
  {
   "cell_type": "code",
   "execution_count": null,
   "metadata": {},
   "outputs": [],
   "source": [
    "target_param = 'gsmf_mchar0_log10'\n",
    "nsteps = 20\n",
    "npz = np.load('/Users/emigardiner/GWs/holodeck/ecg-notebooks/parameter_investigation/anatomy_uniform09A_fullshape/%s_p0.5_0.5_0.5_0.5_0.5_0.5_s91_81_101.npz'\n",
    "              % target_param, allow_pickle=True)       \n",
    "params = npz['params']\n",
    "npz.close()\n",
    "if RECONSTRUCT_FLAG:\n",
    "    construct_evolution(target_param=target_param, params=params, NSTEPS=nsteps)"
   ]
  },
  {
   "cell_type": "markdown",
   "metadata": {},
   "source": [
    "## load gsmf_phi0 results"
   ]
  },
  {
   "cell_type": "code",
   "execution_count": null,
   "metadata": {},
   "outputs": [],
   "source": [
    "fileloc = '/Users/emigardiner/GWs/holodeck/ecg-notebooks/parameter_investigation/anatomy_uniform09A_fullshape'\n",
    "filename = fileloc+'/evol_%s_%dsteps.npz' % (target_param, nsteps)\n",
    "file = np.load(filename)\n",
    "taus=file['taus']\n",
    "taus_high=file['taus_high'] \n",
    "target_param_list=file['target_param_list']\n",
    "hcss=file['hcss']\n",
    "hcbg=file['hcbg']\n",
    "nsteps=file['nsteps']\n",
    "sepa=file['sepa']\n",
    "mtot_range=file['mtot_range'] \n",
    "mtot_hirng=file['mtot_hirng']\n",
    "mrat_range=file['mrat_range']\n",
    "redz_range=file['redz_range']\n",
    "file.close()"
   ]
  },
  {
   "cell_type": "markdown",
   "metadata": {},
   "source": [
    "## plot results"
   ]
  },
  {
   "cell_type": "code",
   "execution_count": null,
   "metadata": {},
   "outputs": [],
   "source": [
    "fig = plot_current()"
   ]
  },
  {
   "cell_type": "markdown",
   "metadata": {},
   "source": []
  }
 ],
 "metadata": {
  "kernelspec": {
   "display_name": "holo310",
   "language": "python",
   "name": "python3"
  },
  "language_info": {
   "codemirror_mode": {
    "name": "ipython",
    "version": 3
   },
   "file_extension": ".py",
   "mimetype": "text/x-python",
   "name": "python",
   "nbconvert_exporter": "python",
   "pygments_lexer": "ipython3",
   "version": "3.10.10"
  }
 },
 "nbformat": 4,
 "nbformat_minor": 2
}
