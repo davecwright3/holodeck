{
 "cells": [
  {
   "cell_type": "code",
   "execution_count": null,
   "metadata": {},
   "outputs": [],
   "source": [
    "%reload_ext autoreload\n",
    "%autoreload 2\n",
    "from importlib import reload\n",
    "\n",
    "import numpy as np\n",
    "import matplotlib.pyplot as plt\n",
    "import matplotlib.cm as cm\n",
    "import h5py\n",
    "import matplotlib as mpl\n",
    "from tqdm import tqdm\n",
    "\n",
    "\n",
    "from holodeck import plot, detstats\n",
    "import holodeck.anisotropy as anis\n",
    "from holodeck.constants import YR, MSOL, MPC\n",
    "import holodeck as holo\n",
    "\n",
    "import hasasia.sim as hsim\n",
    "import os\n"
   ]
  },
  {
   "cell_type": "code",
   "execution_count": null,
   "metadata": {},
   "outputs": [],
   "source": [
    "SHAPE = None\n",
    "NREALS = 500\n",
    "# NREALS = 20\n",
    "NFREQS = 40\n",
    "NLOUDEST = 10\n",
    "BGL = 1\n",
    "\n",
    "BUILD_ARRAYS = False\n",
    "SAVEFIG = True\n",
    "TOL=0.01\n",
    "MAXBADS=5\n",
    "\n",
    "NVARS = 21\n",
    "# NVARS = 6\n",
    "\n",
    "NPSRS = 40\n",
    "NSKIES = 100\n",
    "# NSKIES = 15\n",
    "\n",
    "SHOW_GW=True\n",
    "ALL_TARGETS = ['hard_time', 'gsmf_phi0', 'gsmf_mchar0_log10', 'mmb_mamp_log10', 'mmb_scatter_dex', 'hard_gamma_inner']"
   ]
  },
  {
   "cell_type": "code",
   "execution_count": null,
   "metadata": {},
   "outputs": [],
   "source": [
    "cmap_Blues = plot.truncate_colormap('Blues', 0.4, 1)\n",
    "cmap_Greens = plot.truncate_colormap('Greens', 0.4, 1)\n",
    "cmap_Oranges = plot.truncate_colormap('Oranges', 0.4, 1)\n"
   ]
  },
  {
   "cell_type": "code",
   "execution_count": null,
   "metadata": {},
   "outputs": [],
   "source": [
    "data, params, dsdat = detstats.get_data(target='hard_time',\n",
    "        gw_only=False, red2white=None, red_gamma=None,\n",
    "        nloudest=10, bg_nloudest=1, \n",
    "        gsc_flag=False, dsc_flag=False, divide_flag=False)\n"
   ]
  },
  {
   "cell_type": "code",
   "execution_count": null,
   "metadata": {},
   "outputs": [],
   "source": [
    "dd = [10]\n",
    "lmax=8\n",
    "moll_hc10, Cl10 = anis.sph_harm_from_hc(\n",
    "    data[10]['hc_ss'], data[10]['hc_bg'], nside=8, lmax=lmax\n",
    ")\n",
    "\n",
    "# Cl in shape (F, R, lmax+1)"
   ]
  },
  {
   "cell_type": "code",
   "execution_count": null,
   "metadata": {},
   "outputs": [],
   "source": [
    "lmax=8"
   ]
  },
  {
   "cell_type": "markdown",
   "metadata": {},
   "source": [
    "# Showing all harmonics looks the same"
   ]
  },
  {
   "cell_type": "code",
   "execution_count": null,
   "metadata": {},
   "outputs": [],
   "source": [
    "xx = data[0]['fobs_cents'] * YR\n",
    "colors = ['#0a5da4', '#00ba44', '#ff9503', '#fe2c02', '#845b98', '#474747']\n",
    "\n",
    "\n",
    "xlabel = plot.LABEL_GW_FREQUENCY_YR\n",
    "ylabel = plot.LABEL_CLC0\n",
    "fig, ax = plot.figax_single(\n",
    ")\n",
    "ax.set_xlabel(xlabel)\n",
    "ax.set_ylabel(ylabel)\n",
    "\n",
    "\n",
    "for ll in range(1,7):\n",
    "    plot.draw_med_conf_color(ax, xx, Cl[:,:,ll]/Cl[:,:,0], color=colors[ll-1])\n",
    "\n"
   ]
  },
  {
   "cell_type": "markdown",
   "metadata": {},
   "source": [
    "# For several different vars"
   ]
  },
  {
   "cell_type": "code",
   "execution_count": null,
   "metadata": {},
   "outputs": [],
   "source": [
    "parvars = [0,10,20]\n",
    "lmax=8\n",
    "\n",
    "yy_cl = [] #npars len array of (F,R,l=1) arrays\n",
    "for pv in parvars:\n",
    "    moll_hc, Cl = anis.sph_harm_from_hc(\n",
    "        data[pv]['hc_ss'], data[pv]['hc_bg'], nside=8, lmax=lmax\n",
    "    )\n",
    "    yy_cl.append(Cl)\n",
    "\n",
    "# Cl in shape (F, R, lmax+1)\n"
   ]
  },
  {
   "cell_type": "markdown",
   "metadata": {},
   "source": [
    " Middle again"
   ]
  },
  {
   "cell_type": "code",
   "execution_count": null,
   "metadata": {},
   "outputs": [],
   "source": [
    "xx = data[0]['fobs_cents'] * YR\n",
    "colors = ['#0a5da4', '#00ba44', '#ff9503', '#fe2c02', '#845b98', '#474747']\n",
    "\n",
    "\n",
    "xlabel = plot.LABEL_GW_FREQUENCY_YR\n",
    "ylabel = plot.LABEL_CLC0\n",
    "fig, ax = plot.figax_single(\n",
    ")\n",
    "ax.set_xlabel(xlabel)\n",
    "ax.set_ylabel(ylabel)\n",
    "\n",
    "\n",
    "for ll in range(1,7):\n",
    "    plot.draw_med_conf_color(ax, xx, yy_cl[1][:,:,ll]/yy_cl[1][:,:,0], color=colors[ll-1])\n",
    "\n"
   ]
  },
  {
   "cell_type": "code",
   "execution_count": null,
   "metadata": {},
   "outputs": [],
   "source": [
    "for pp in range(3):\n",
    "    print(holo.utils.stats(yy_cl[pp]))"
   ]
  },
  {
   "cell_type": "code",
   "execution_count": null,
   "metadata": {},
   "outputs": [],
   "source": [
    "\n",
    "\n",
    "xx = data[0]['fobs_cents'] * YR\n",
    "colors = cmap_Blues(np.linspace(0,1,len(parvars)))\n",
    "target='hard_time'\n",
    "\n",
    "\n",
    "xlabel = plot.LABEL_GW_FREQUENCY_YR\n",
    "ylabel = plot.LABEL_CLC0\n",
    "fig, ax = plot.figax_single(\n",
    ")\n",
    "ax.set_xlabel(xlabel)\n",
    "ax.set_ylabel(ylabel)\n",
    "\n",
    "ll=1\n",
    "handles = []\n",
    "for vv, var in enumerate(parvars):\n",
    "    yy = yy_cl[vv][:,:,ll]/yy_cl[vv][:,:,0] # F,R\n",
    "    pp = 68\n",
    "    med, *conf = np.percentile(yy, (50, 50-pp/2, 50+pp/2), axis=-1)\n",
    "    hh, = ax.plot(xx, med, label=params[var][target], color=colors[vv])\n",
    "    handles.append(hh)\n",
    "    ax.fill_between(xx, *conf, alpha=0.25, color=colors[vv])\n",
    "\n",
    "ax.legend(handles=handles, loc='lower right', title = plot.PARAM_KEYS[target], ncols=3)"
   ]
  },
  {
   "cell_type": "code",
   "execution_count": null,
   "metadata": {},
   "outputs": [],
   "source": [
    "def build_anis_arrays(\n",
    "        target, nreals=500, nskies=100, \n",
    "        gw_only=False, red2white=None, red_gamma=None, \n",
    "        nloudest=10, bgl=10, \n",
    "        gsc_flag=False, dsc_flag=False, divide_flag=False,\n",
    "        figpath = '/Users/emigardiner/GWs/holodeck/output/anatomy_redz/figdata/ratio',\n",
    "        parvars = [0,10,20] \n",
    "\n",
    "        ):\n",
    "    \n",
    "    data, params, dsdat = detstats.get_data(target,\n",
    "        gw_only=gw_only, red2white=red2white, red_gamma=red_gamma,\n",
    "        nloudest=10, bg_nloudest=10, \n",
    "        gsc_flag=gsc_flag, dsc_flag=dsc_flag, divide_flag=divide_flag)\n",
    "\n",
    "\n",
    "    lmax=8\n",
    "\n",
    "    yy_cl = [] # PV len array of (F,R,l=1) arrays\n",
    "    params_cl = []\n",
    "    xx_fobs = data[0]['fobs_cents']\n",
    "    for var in parvars:\n",
    "        _, Cl = anis.sph_harm_from_hc(\n",
    "            data[var]['hc_ss'], data[var]['hc_bg'], nside=8, lmax=lmax\n",
    "        )\n",
    "        yy_cl.append(Cl)\n",
    "        params_cl.append(params[var])\n",
    "    return yy_cl, xx_fobs, params_cl\n"
   ]
  },
  {
   "cell_type": "markdown",
   "metadata": {},
   "source": [
    "# Vary hard_nu_inner"
   ]
  },
  {
   "cell_type": "code",
   "execution_count": null,
   "metadata": {},
   "outputs": [],
   "source": [
    "target = 'hard_gamma_inner'\n",
    "parvars = [0,10,20]\n",
    "yy_cl, xx_fobs, params_cl = build_anis_arrays(target, parvars=parvars)"
   ]
  },
  {
   "cell_type": "code",
   "execution_count": null,
   "metadata": {},
   "outputs": [],
   "source": [
    "xx = data[0]['fobs_cents'] * YR\n",
    "colors = cmap_Blues(np.linspace(0,1,len(parvars)))\n",
    "\n",
    "\n",
    "xlabel = plot.LABEL_GW_FREQUENCY_YR\n",
    "ylabel = plot.LABEL_CLC0\n",
    "fig, ax = plot.figax_single(\n",
    ")\n",
    "ax.set_xlabel(xlabel)\n",
    "ax.set_ylabel(ylabel)\n",
    "\n",
    "ll=1\n",
    "handles = []\n",
    "for vv, var in enumerate(parvars):\n",
    "    yy = yy_cl[vv][:,:,ll]/yy_cl[vv][:,:,0] # F,R\n",
    "    pp = 68\n",
    "    med, *conf = np.percentile(yy, (50, 50-pp/2, 50+pp/2), axis=-1)\n",
    "    hh, = ax.plot(xx, med, label=params_cl[vv][target], color=colors[vv])\n",
    "    handles.append(hh)\n",
    "    ax.fill_between(xx, *conf, alpha=0.25, color=colors[vv])\n",
    "\n",
    "ax.legend(handles=handles, loc='lower right', title = plot.PARAM_KEYS[target], ncols=3)"
   ]
  },
  {
   "cell_type": "code",
   "execution_count": null,
   "metadata": {},
   "outputs": [],
   "source": [
    "\n",
    "\n",
    "def plot_anis_vars(target, xx, yy_cl, params_cl, colors, parvars):\n",
    "    xlabel = plot.LABEL_GW_FREQUENCY_YR\n",
    "    ylabel = plot.LABEL_CLC0\n",
    "    fig, ax = plot.figax_single(\n",
    "    )\n",
    "    ax.set_xlabel(xlabel)\n",
    "    ax.set_ylabel(ylabel)\n",
    "    \n",
    "    handles = draw_anis_vars(ax, target, xx, yy_cl, params_cl, colors, parvars)\n",
    "    \n",
    "    ax.legend(handles=handles, loc='lower right', title = plot.PARAM_KEYS[target], ncols=3)\n",
    "\n",
    "    return fig\n",
    "\n",
    "def draw_anis_vars(ax, target, xx, yy_cl, params_cl, colors, parvars):\n",
    "    ll=1\n",
    "    handles = []\n",
    "    for vv, var in enumerate(parvars):\n",
    "        yy = yy_cl[vv][:,:,ll]/yy_cl[vv][:,:,0] # F,R\n",
    "        pp = 68\n",
    "        med, *conf = np.percentile(yy, (50, 50-pp/2, 50+pp/2), axis=-1)\n",
    "        hh, = ax.plot(xx, med, label=params_cl[vv][target], color=colors[vv])\n",
    "        handles.append(hh)\n",
    "        ax.fill_between(xx, *conf, alpha=0.25, color=colors[vv])\n",
    "    return handles\n",
    "    "
   ]
  },
  {
   "cell_type": "markdown",
   "metadata": {},
   "source": [
    "# Vary gsmf_phi0"
   ]
  },
  {
   "cell_type": "code",
   "execution_count": null,
   "metadata": {},
   "outputs": [],
   "source": [
    "target = 'gsmf_phi0'\n",
    "parvars = [0,10,20]\n",
    "yy_cl2, xx_fobs, params_cl2 = build_anis_arrays(target, parvars=parvars)\n"
   ]
  },
  {
   "cell_type": "code",
   "execution_count": null,
   "metadata": {},
   "outputs": [],
   "source": [
    "colors = cmap_Greens(np.linspace(0,1,len(parvars)))\n",
    "fig = plot_anis_vars(target, xx_fobs*YR, yy_cl2, params_cl2,\n",
    "                     colors=colors, parvars=parvars)"
   ]
  },
  {
   "cell_type": "code",
   "execution_count": null,
   "metadata": {},
   "outputs": [],
   "source": [
    "xlabel = plot.LABEL_GW_FREQUENCY_YR\n",
    "ylabel = r\"$C_1/C_0$\"\n",
    "targets = [\n",
    "    'gsmf_phi0', 'gsmf_mchar0_log10', \n",
    "      'mmb_mamp_log10',  'mmb_scatter_dex',\n",
    "      'hard_time',  'hard_gamma_inner']\n",
    "cmaps = [\n",
    "    cmap_Greens, cmap_Greens,\n",
    "    cmap_Oranges, cmap_Oranges,\n",
    "    cmap_Blues, cmap_Blues\n",
    "]\n",
    "parvars = [0,10,20]\n",
    "\n",
    "fig, axs = plot.figax_single(ncols=2, nrows=3)\n",
    "fig.text(0.5, 0.08, xlabel, va='center', ha='center')\n",
    "fig.text(0.08, 0.5, ylabel, va='center', ha='center', rotation='vertical')\n",
    "\n",
    "for ii, ax in enumerate(axs.flatten()):\n",
    "    filename = '/Users/emigardiner/GWs/holodeck/output/figures/bigplots/anis/anis'\n",
    "    filename = detstats.append_filename(filename,\n",
    "                                        bgl=BGL)\n",
    "    filename += f\"_pv3\"\n",
    "    filename += f\".npz\"\n",
    "    if BUILD_ARRAYS:\n",
    "        yy_cl, xx_fobs, params_cl = build_anis_arrays(targets[ii], parvars=parvars)\n",
    "        np.savez(filename, yy_cl=yy_cl, xx_fobs=xx_fobs, params_cl=params_cl)\n",
    "    else:\n",
    "        file = np.load(filename)\n",
    "        yy_cl = file['yy_cl']\n",
    "        params_cl = file['params_cl']\n",
    "        xx_fobs = file['xx_fobs']\n",
    "        file.close()\n",
    "\n",
    "    colors = cmaps[ii](np.linspace(0,1,len(parvars)))\n",
    "    handles = draw_anis_vars(ax, targets[ii], xx_fobs*YR, yy_cl, params_cl, colors, parvars)\n"
   ]
  },
  {
   "cell_type": "code",
   "execution_count": null,
   "metadata": {},
   "outputs": [],
   "source": [
    "BUILD_ARRAYS=True"
   ]
  },
  {
   "cell_type": "code",
   "execution_count": null,
   "metadata": {},
   "outputs": [],
   "source": [
    "xlabel = plot.LABEL_GW_FREQUENCY_YR\n",
    "ylabel = r\"$C_1/C_0$\"\n",
    "targets = [\n",
    "    'gsmf_phi0', 'gsmf_mchar0_log10', \n",
    "      'mmb_mamp_log10',  'mmb_scatter_dex',\n",
    "      'hard_time',  'hard_gamma_inner']\n",
    "cmaps = [\n",
    "    cmap_Greens, cmap_Greens,\n",
    "    cmap_Oranges, cmap_Oranges,\n",
    "    cmap_Blues, cmap_Blues\n",
    "]\n",
    "parvars = [0,10,20]\n",
    "\n",
    "fig, axs = plot.figax_single(ncols=2, nrows=3, height=7)\n",
    "fig.text(0.5, 0.08, xlabel, va='center', ha='center')\n",
    "fig.text(0.08, 0.5, ylabel, va='center', ha='center', rotation='vertical')\n",
    "\n",
    "for ii, ax in enumerate(axs.flatten()):\n",
    "    filename = '/Users/emigardiner/GWs/holodeck/output/anatomy_redz/figdata/anis/anis'\n",
    "    filename = detstats.append_filename(filename,\n",
    "                                        bgl=BGL)\n",
    "    filename += f\"_pv3\"\n",
    "    filename += f\".npz\"\n",
    "    if BUILD_ARRAYS:\n",
    "        yy_cl, xx_fobs, params_cl = build_anis_arrays(targets[ii], parvars=parvars)\n",
    "        np.savez(filename, yy_cl=yy_cl, xx_fobs=xx_fobs, params_cl=params_cl)\n",
    "    else:\n",
    "        file = np.load(filename)\n",
    "        yy_cl = file['yy_cl']\n",
    "        params_cl = file['params_cl']\n",
    "        xx_fobs = file['xx_fobs']\n",
    "        file.close()\n",
    "\n",
    "    colors = cmaps[ii](np.linspace(0,1,len(parvars)))\n",
    "    handles = draw_anis_vars(ax, targets[ii], xx_fobs*YR, yy_cl, params_cl, colors, parvars)\n"
   ]
  },
  {
   "cell_type": "code",
   "execution_count": null,
   "metadata": {},
   "outputs": [],
   "source": [
    "BUILD_ARRAYS=False\n",
    "\n",
    "\n",
    "\n",
    "xlabel = plot.LABEL_GW_FREQUENCY_YR\n",
    "ylabel = r\"$C_1/C_0$\"\n",
    "targets = [\n",
    "    'gsmf_phi0', 'gsmf_mchar0_log10', \n",
    "      'mmb_mamp_log10',  'mmb_scatter_dex',\n",
    "      'hard_time',  'hard_gamma_inner']\n",
    "cmaps = [\n",
    "    cmap_Greens, cmap_Greens,\n",
    "    cmap_Oranges, cmap_Oranges,\n",
    "    cmap_Blues, cmap_Blues\n",
    "]\n",
    "parvars = [0,10,20]\n",
    "\n",
    "\n",
    "\n",
    "fig, axs = plot.figax_single(ncols=2, nrows=3, height=7,\n",
    "                             sharey=True, sharex=True)\n",
    "fig.text(0.5, 0.08, xlabel, va='center', ha='center')\n",
    "fig.text(0.05, 0.5, ylabel, va='center', ha='center', rotation='vertical')\n",
    "\n",
    "for ii, ax in enumerate(axs.flatten()):\n",
    "    filename = '/Users/emigardiner/GWs/holodeck/output/anatomy_redz/figdata/anis/anis'\n",
    "    filename = detstats.append_filename(filename,\n",
    "                                        bgl=BGL)\n",
    "    filename += f\"_pv3\"\n",
    "    filename += f\".npz\"\n",
    "    if BUILD_ARRAYS:\n",
    "        yy_cl, xx_fobs, params_cl = build_anis_arrays(targets[ii], parvars=parvars)\n",
    "        np.savez(filename, yy_cl=yy_cl, xx_fobs=xx_fobs, params_cl=params_cl)\n",
    "    else:\n",
    "        file = np.load(filename, allow_pickle=True)\n",
    "        yy_cl = file['yy_cl']\n",
    "        params_cl = file['params_cl']\n",
    "        xx_fobs = file['xx_fobs']\n",
    "        file.close()\n",
    "    colors = cmaps[ii](np.linspace(0,1,len(parvars)))\n",
    "    handles = draw_anis_vars(ax, targets[ii], xx_fobs*YR, yy_cl, params_cl, colors, parvars)\n",
    "fig.subplots_adjust(wspace=0, hspace=0)\n"
   ]
  },
  {
   "cell_type": "code",
   "execution_count": null,
   "metadata": {},
   "outputs": [],
   "source": []
  }
 ],
 "metadata": {
  "kernelspec": {
   "display_name": "holo310",
   "language": "python",
   "name": "python3"
  },
  "language_info": {
   "codemirror_mode": {
    "name": "ipython",
    "version": 3
   },
   "file_extension": ".py",
   "mimetype": "text/x-python",
   "name": "python",
   "nbconvert_exporter": "python",
   "pygments_lexer": "ipython3",
   "version": "3.10.10"
  }
 },
 "nbformat": 4,
 "nbformat_minor": 2
}
