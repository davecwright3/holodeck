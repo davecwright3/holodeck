{
 "cells": [
  {
   "cell_type": "code",
   "execution_count": null,
   "metadata": {},
   "outputs": [],
   "source": [
    "%reload_ext autoreload\n",
    "%autoreload 2\n",
    "from importlib import reload\n",
    "\n",
    "import holodeck as holo\n",
    "from holodeck import single_sources, utils, plot, detstats\n",
    "from holodeck.constants import YR\n",
    "import holodeck.anisotropy as anis\n",
    "\n",
    "import numpy as np\n",
    "import healpy as hp\n",
    "import scipy as sp\n",
    "import matplotlib.pyplot as plt\n",
    "import matplotlib.cm as cm\n",
    "import h5py\n",
    "import cmath"
   ]
  },
  {
   "attachments": {},
   "cell_type": "markdown",
   "metadata": {},
   "source": [
    "Read in sam data"
   ]
  },
  {
   "cell_type": "code",
   "execution_count": null,
   "metadata": {},
   "outputs": [],
   "source": [
    "nn=615\n",
    "filename = '/Users/emigardiner/GWs/holodeck/output/brc_output/ss60_anis09B_2023-06-16_uniform-09b_n1000_r50_f40_l2000/sam-lib__p000615.npz'\n",
    "file = np.load(filename)\n",
    "print(file.files)\n",
    "hc_ss = file['hc_ss']\n",
    "hc_bg = file['hc_bg']\n",
    "fobs = file['fobs']\n",
    "\n",
    "\n",
    "file.close()\n",
    "\n",
    "shape=hc_ss.shape\n",
    "nfreqs = shape[-3]\n",
    "nreals = shape[-2]\n",
    "nloudest = shape[-1]\n",
    "print('nfreqs=%d, nreals=%d, nloudest=%d' % (nfreqs, nreals, nloudest))\n",
    "\n",
    "\n",
    "# sspath = '/Users/emigardiner/GWs/holodeck/output/brc_output/ss51-2023-05-22_uniform_07a_n1000_r100_f40_l2000/'\n",
    "# hdfname = sspath+'sam_lib.hdf5'\n",
    "# ssfile = h5py.File(hdfname, 'r')\n",
    "# dfobs = ssfile['dfobs'][:]"
   ]
  },
  {
   "attachments": {},
   "cell_type": "markdown",
   "metadata": {},
   "source": [
    "## Spherical Harmonic Functions\n",
    "$$ a_\\ell^m = \\frac{4\\pi}{N} \\sum_{i=1}^N \\bar{Y_\\ell}^m (\\lambda_i, \\theta_i)f(\\lambda_i, \\theta_i) $$\n",
    "$0 \\leq \\ell \\leq \\ell_\\mathrm{max}$, $-\\ell \\leq m \\leq \\ell $\n",
    "For real harmonics only, $m=0$"
   ]
  },
  {
   "cell_type": "code",
   "execution_count": null,
   "metadata": {},
   "outputs": [],
   "source": [
    "def calc_alm(ell, emm, func, nside):\n",
    "    \"\"\" \n",
    "    \n",
    "    func : \n",
    "        function of ipix or theta,phi\n",
    "    \"\"\"\n",
    "    npix = hp.nside2npix(nside)\n",
    "    theta, phi = hp.pix2ang(nside, np.arange(npix))\n",
    "    Ylm = sp.special.sph_harm(emm, ell, phi, theta,)\n",
    "    integrand = np.sum(np.conjugate(Ylm) * func)\n",
    "    alm = 4*np.pi/npix * integrand\n",
    "    return alm\n"
   ]
  },
  {
   "attachments": {},
   "cell_type": "markdown",
   "metadata": {},
   "source": [
    "$$C_\\ell = \\frac{1}{2\\ell+1} \\sum_m |a_\\ell^m|^2$$"
   ]
  },
  {
   "cell_type": "code",
   "execution_count": null,
   "metadata": {},
   "outputs": [],
   "source": [
    "\n",
    "def calc_Cl(ell, func, nside):\n",
    "    sum = 0\n",
    "    for emm in range(-ell, ell+1):\n",
    "        # print('l=%d, m=%d' % (ell, emm))\n",
    "        alm = calc_alm(ell, emm, func, nside)\n",
    "        sum += alm*np.conjugate(alm)\n",
    "    Cl = 1/(2*ell + 1) * sum\n",
    "    # if Cl.imag != 0:\n",
    "    #     # print(f\"warning! {Cl=} contains imaginary numbers\")\n",
    "    #     # print(f\"{alm=}\")\n",
    "    #     return Cl\n",
    "    return Cl.real"
   ]
  },
  {
   "cell_type": "code",
   "execution_count": null,
   "metadata": {},
   "outputs": [],
   "source": [
    "nside = 2\n",
    "npix = hp.nside2npix(nside)\n",
    "theta, phi = hp.pix2ang(nside, np.arange(npix))\n",
    "moll = anis.healpix_map(hc_ss[0:1,0:1], hc_bg[0:1,0:1], nside)\n",
    "moll = np.squeeze(moll)\n",
    "print(theta.shape)\n",
    "print(phi.shape)\n",
    "# print(theta,phi)\n",
    "print(moll.shape)"
   ]
  },
  {
   "cell_type": "code",
   "execution_count": null,
   "metadata": {},
   "outputs": [],
   "source": [
    "lmax = 6\n",
    "Cl_arr = np.zeros(lmax+1)\n",
    "for ll in range(lmax+1):\n",
    "    Cl_arr[ll] = calc_Cl(ll, moll, nside).real\n",
    "    print('C_%d = %.2e' % (ll, Cl_arr[ll]))"
   ]
  },
  {
   "attachments": {},
   "cell_type": "markdown",
   "metadata": {},
   "source": [
    "# ff=1, rr=0, ll=1"
   ]
  },
  {
   "cell_type": "code",
   "execution_count": null,
   "metadata": {},
   "outputs": [],
   "source": [
    "rr = 0\n",
    "ll=1\n",
    "\n",
    "xx = np.arange(lmax+1)\n",
    "yy = Cl_arr\n",
    "\n",
    "# colors = cm.rainbow(np.linspace(0,1,yy))\n",
    "\n",
    "fig, ax = plot.figax(xlabel='$\\ell$', ylabel='$C_\\ell$', xscale='linear')\n",
    "ax.plot(xx, yy)\n",
    "ax.set_title('Analytic' )\n",
    "fig.tight_layout()"
   ]
  },
  {
   "cell_type": "code",
   "execution_count": null,
   "metadata": {},
   "outputs": [],
   "source": [
    "ff = 1\n",
    "rr = 0\n",
    "\n",
    "\n",
    "nsides = np.array([4, 8, 16, 32, 64])\n",
    "colors = cm.rainbow(np.linspace(0, 1, len(nsides)))\n",
    "fig, ax = plot.figax(xlabel='$\\ell$', ylabel='$C_\\ell$', xscale='linear')\n",
    "\n",
    "for ii, nside in enumerate(nsides):\n",
    "    npix = hp.nside2npix(nside)\n",
    "    theta, phi = hp.pix2ang(nside, np.arange(npix))\n",
    "    moll = anis.healpix_map(hc_ss[ff:ff+1,rr:rr+1], hc_bg[ff:ff+1,rr:rr+1], nside)\n",
    "    moll = np.squeeze(moll)\n",
    "\n",
    "    lmax = 8\n",
    "    Cl_arr = np.zeros(lmax+1)\n",
    "    for ll in range(lmax+1):\n",
    "        Cl_arr[ll] = calc_Cl(ll, moll, nside).real\n",
    "        # print('C_%d = %.2e' % (ll, Cl_arr[ll]))\n",
    "\n",
    "    xx = np.arange(lmax+1)\n",
    "    yy = Cl_arr\n",
    "    ax.plot(xx, yy, label = 'Drake Eqs. (1) & (3), nside=%d' % nside,\n",
    "            color=colors[ii])\n",
    "\n",
    "ax.legend()\n",
    "ax.set_title('Sample %d, Realization %d, $f$=%.2f/yr, $h_c^2/d\\Omega$' % (nn, rr, fobs[ff]*YR, ))\n",
    "fig.tight_layout()\n"
   ]
  },
  {
   "cell_type": "code",
   "execution_count": null,
   "metadata": {},
   "outputs": [],
   "source": [
    "ff=1\n",
    "rr=1\n",
    "\n",
    "nsides = np.array([8, 16, 32, 64])\n",
    "colors = cm.rainbow(np.linspace(0, 1, len(nsides)))\n",
    "fig, ax = plot.figax(xlabel='$\\ell$', ylabel='$C_\\ell$', xscale='linear')\n",
    "\n",
    "for ii, nside in enumerate(nsides):\n",
    "    print('\\n nside=%d' % nside)\n",
    "    npix = hp.nside2npix(nside)\n",
    "    area = hp.nside2pixarea(nside)\n",
    "    theta, phi = hp.pix2ang(nside, np.arange(npix))\n",
    "    moll = anis.healpix_map(hc_ss[ff:ff+1,rr:rr+1], hc_bg[ff:ff+1,rr:rr+1], nside)\n",
    "    # moll = moll/area\n",
    "\n",
    "    lmax = 8\n",
    "    Cl_arr = np.zeros(lmax+1)\n",
    "    for ll in range(lmax+1):\n",
    "        Cl_arr[ll] = calc_Cl(ll, moll, nside).real\n",
    "        # print('C_%d = %.2e' % (ll, Cl_arr[ll]))\n",
    "\n",
    "    xx = np.arange(lmax+1)\n",
    "    yy = Cl_arr\n",
    "    ax.plot(xx, yy, label = 'From Eq. (3), nside=%d' % nside,\n",
    "            color=colors[ii])\n",
    "ax.legend()\n",
    "ax.set_title('Sample %d, Realization %d, $f$=%.2f/yr, $h_c^2/d\\Omega$' % (nn, rr, fobs[ff]*YR, ))\n",
    "fig.tight_layout()\n"
   ]
  },
  {
   "cell_type": "code",
   "execution_count": null,
   "metadata": {},
   "outputs": [],
   "source": [
    "ff=1\n",
    "rr=1\n",
    "\n",
    "nsides = np.array([8, 16, 32, 64])\n",
    "colors = cm.rainbow(np.linspace(0, 1, len(nsides)))\n",
    "fig, ax = plot.figax(xlabel='$\\ell$', ylabel='$C_\\ell/C_0$', xscale='linear')\n",
    "\n",
    "for ii, nside in enumerate(nsides):\n",
    "    print('\\n nside=%d' % nside)\n",
    "    npix = hp.nside2npix(nside)\n",
    "    area = hp.nside2pixarea(nside)\n",
    "    theta, phi = hp.pix2ang(nside, np.arange(npix))\n",
    "    moll = anis.healpix_map(hc_ss[ff:ff+1,rr:rr+1], hc_bg[ff:ff+1,rr:rr+1], nside)\n",
    "    # moll = moll/area\n",
    "\n",
    "    lmax = 8\n",
    "    Cl_arr = np.zeros(lmax+1)\n",
    "    for ll in range(lmax+1):\n",
    "        print(moll.shape)\n",
    "        Cl_arr[ll] = calc_Cl(ll, moll, nside).real\n",
    "        # print('C_%d = %.2e' % (ll, Cl_arr[ll]))\n",
    "\n",
    "    xx = np.arange(lmax+1)\n",
    "    yy = Cl_arr/Cl_arr[...,0,np.newaxis]\n",
    "    ax.plot(xx, yy, label = 'From Eq. (3), nside=%d' % nside,\n",
    "            color=colors[ii])\n",
    "ax.legend()\n",
    "ax.set_title('Sample %d, Realization %d, $f$=%.2f/yr, $h_c^2/d\\Omega$' % (nn, rr, fobs[ff]*YR, ))\n",
    "fig.tight_layout()\n"
   ]
  },
  {
   "cell_type": "markdown",
   "metadata": {},
   "source": [
    "# Calculate new from hc_ss and hc_bg"
   ]
  },
  {
   "cell_type": "code",
   "execution_count": null,
   "metadata": {},
   "outputs": [],
   "source": [
    "ff = 1\n",
    "rr = 0\n",
    "lmax = 6\n",
    "nside=8\n",
    "moll, Cl_hpy = anis.sph_harm_from_hc(hc_ss, hc_bg, nside, lmax)\n",
    "print(Cl_hpy.shape)"
   ]
  },
  {
   "cell_type": "code",
   "execution_count": null,
   "metadata": {},
   "outputs": [],
   "source": [
    "Cl_arr = np.zeros(lmax+1)\n",
    "for ll in range(lmax+1):\n",
    "        Cl_arr[ll] = calc_Cl(ll, moll[ff:ff+1,rr:rr+1], nside)\n",
    "print(Cl_arr.shape)"
   ]
  },
  {
   "cell_type": "code",
   "execution_count": null,
   "metadata": {},
   "outputs": [],
   "source": [
    "fig, ax = plot.figax(xlabel='$\\ell$', ylabel='$C_\\ell/C_0$', xscale='linear')\n",
    "xx = np.arange(1,lmax+1)\n",
    "\n",
    "y1 = Cl_arr[1:]/Cl_arr[0]\n",
    "y2 = Cl_hpy[ff,rr,1:]/Cl_hpy[ff,rr,0]\n",
    "ax.plot(xx, y1, label = 'From Eq. (3), nside=%d' % nside,\n",
    "        color=colors[ii])\n",
    "\n",
    "ax.plot(xx, y2, color=colors[ii], linestyle=':',\n",
    "        label=('hp.anafast, nside=%d' % (nside)))\n",
    "ax.legend()"
   ]
  },
  {
   "attachments": {},
   "cell_type": "markdown",
   "metadata": {},
   "source": [
    "# Compare to healpy results"
   ]
  },
  {
   "cell_type": "code",
   "execution_count": null,
   "metadata": {},
   "outputs": [],
   "source": [
    "save_loc = '/Users/emigardiner/GWs/holodeck/ecg-notebooks/anisotropy/healpix/varying_nside_testnpz'\n",
    "hcfile = np.load(save_loc+'/hc2dOm_09B.npz')\n",
    "print(hcfile.files)\n",
    "Cl2dOm_arrs = hcfile['Cl2dOm_arrs']\n",
    "moll_arrs = [hcfile['moll2dOm_ss08'], hcfile['moll2dOm_tt16'], \n",
    "                      hcfile['moll2dOm_tt32'], hcfile['moll2dOm_tt64']]\n",
    "# nsides=hcfile['nsides']\n",
    "\n",
    "hcfile.close()\n",
    "print(Cl2dOm_arrs.shape)\n",
    "    "
   ]
  },
  {
   "cell_type": "code",
   "execution_count": null,
   "metadata": {},
   "outputs": [],
   "source": [
    "# print(moll_arrs[0].shape)"
   ]
  },
  {
   "cell_type": "code",
   "execution_count": null,
   "metadata": {},
   "outputs": [],
   "source": [
    "ff = 1\n",
    "rr = 0\n",
    "lmax=6\n",
    "xx = np.arange(lmax+1)\n",
    "\n",
    "nsides = np.array([8, 16, 32, 64])\n",
    "colors = cm.rainbow(np.linspace(0, 1, len(nsides)))\n",
    "fig, ax = plot.figax(xlabel='$\\ell$', ylabel='$C_\\ell$', xscale='linear')\n",
    "\n",
    "for ii, nside in enumerate(nsides):\n",
    "    npix = hp.nside2npix(nside)\n",
    "    area = hp.nside2pixarea(nside)\n",
    "    theta, phi = hp.pix2ang(nside, np.arange(npix))\n",
    "    # moll = anis.healpix_map(hc_ss[ff:ff+1,rr:rr+1], hc_bg[ff:ff+1,rr:rr+1], nside)\n",
    "    # moll = np.squeeze(moll)\n",
    "    moll = moll_arrs[ii][ff,rr]\n",
    "\n",
    "    Cl_arr = np.zeros(lmax+1)\n",
    "    Cl_hpy = hp.anafast(moll, lmax=lmax)\n",
    "    for ll in range(lmax+1):\n",
    "        Cl_arr[ll] = calc_Cl(ll, moll, nside)\n",
    "        # print('C_%d = %.2e' % (ll, Cl_arr[ll]))\n",
    "\n",
    "\n",
    "    yy = Cl_arr\n",
    "    ax.plot(xx, yy, label = 'From Eq. (3), nside=%d' % nside,\n",
    "            color=colors[ii], linestyle='-', marker='o')\n",
    "    # ax.plot(xx, Cl2dOm_arrs[ii,ff,rr,:], color=colors[ii], linestyle=':',\n",
    "    #         label=('hp.anafast, nside=%d' % (nside)))\n",
    "    ax.plot(xx, Cl_hpy[:], color=colors[ii], linestyle=':', marker='x',\n",
    "            label=('hp.anafast, nside=%d' % (nside)), markersize=10, linewidth=3)\n",
    "\n",
    "ax.legend()\n",
    "ax.set_title('Sample %d, Realization %d, $f$=%.2f/yr, $h_c^2/d\\Omega$' % (nn, rr, fobs[ff]*YR, ))\n",
    "fig.tight_layout()\n"
   ]
  },
  {
   "attachments": {},
   "cell_type": "markdown",
   "metadata": {},
   "source": [
    "# ClC0 Comparison"
   ]
  },
  {
   "cell_type": "code",
   "execution_count": null,
   "metadata": {},
   "outputs": [],
   "source": [
    "ff = 1\n",
    "rr = 0\n",
    "lmax=6\n",
    "xx = np.arange(1,lmax+1)\n",
    "\n",
    "nsides = np.array([8, 16, 32, 64])\n",
    "colors = cm.rainbow(np.linspace(0, 1, len(nsides)))\n",
    "fig, ax = plot.figax(xlabel='$\\ell$', ylabel='$C_\\ell/C_0$', xscale='linear')\n",
    "\n",
    "for ii, nside in enumerate(nsides):\n",
    "    npix = hp.nside2npix(nside)\n",
    "    area = hp.nside2pixarea(nside)\n",
    "    theta, phi = hp.pix2ang(nside, np.arange(npix))\n",
    "    moll = moll_arrs[ii][ff,rr]\n",
    "\n",
    "    Cl_arr = np.zeros(lmax+1)\n",
    "    Cl_hpy = hp.anafast(moll, lmax=lmax)\n",
    "    for ll in range(lmax+1):\n",
    "        Cl_arr[ll] = calc_Cl(ll, moll, nside)\n",
    "        # print('C_%d = %.2e' % (ll, Cl_arr[ll]))\n",
    "\n",
    "\n",
    "    y1 = Cl_arr[1:]/Cl_arr[0]\n",
    "    y2 = Cl_hpy[1:]/Cl_hpy[0]\n",
    "    ax.plot(xx, y1, label = 'From Eq. (3), nside=%d' % nside,\n",
    "            color=colors[ii])\n",
    "    # ax.plot(xx, Cl2dOm_arrs[ii,ff,rr,:], color=colors[ii], linestyle=':',\n",
    "    #         label=('hp.anafast, nside=%d' % (nside)))\n",
    "    ax.plot(xx, y2, color=colors[ii], linestyle=':',\n",
    "            label=('hp.anafast, nside=%d' % (nside)))\n",
    "\n",
    "ax.legend()\n",
    "ax.set_title('Sample %d, Realization %d, $f$=%.2f/yr, $h_c^2/d\\Omega$' % (nn, rr, fobs[ff]*YR, ))\n",
    "fig.tight_layout()\n"
   ]
  },
  {
   "attachments": {},
   "cell_type": "markdown",
   "metadata": {},
   "source": [
    "alm values"
   ]
  },
  {
   "cell_type": "code",
   "execution_count": null,
   "metadata": {},
   "outputs": [],
   "source": [
    "ff = 1\n",
    "rr = 0\n",
    "mm = 0\n",
    "lmax=6\n",
    "\n",
    "nsides = np.array([8, 16, 32, 64])\n",
    "colors = cm.rainbow(np.linspace(0, 1, len(nsides)))\n",
    "fig, ax = plot.figax(xlabel='$\\ell$', ylabel='$C_\\ell$', xscale='linear')\n",
    "\n",
    "for ii, nside in enumerate(nsides):\n",
    "    npix = hp.nside2npix(nside)\n",
    "    area = hp.nside2pixarea(nside)\n",
    "    theta, phi = hp.pix2ang(nside, np.arange(npix))\n",
    "    moll = anis.healpix_map(hc_ss[ff:ff+1,rr:rr+1], hc_bg[ff:ff+1,rr:rr+1], nside)\n",
    "    moll = np.squeeze(moll)**2/area\n",
    "\n",
    "    lmax = 6\n",
    "    xx = np.arange(lmax+1)\n",
    "\n",
    "    for ll in range(lmax+1):\n",
    "        emm_arr = np.arange(-lmax, lmax+1)\n",
    "        print(f\"{emm_arr}\")\n",
    "        for mm, emm in enumerate(emm_arr):\n",
    "            alm_arr = np.zeros(len(emm_arr))\n",
    "            alm_arr[mm] = calc_alm(ll, emm, moll, nside)\n",
    "            ax.scatter(xx[ll], alm_arr[mm])\n",
    "        # print('C_%d = %.2e' % (ll, Cl_arr[ll]))\n",
    "\n",
    "    # yy = alm_arr\n",
    "    # ax.scatter(xx, yy, label = '$a_\\ell^m$, nside=%d, $m$=%d' % (nside,mm),\n",
    "    #         color=colors[ii])\n",
    "for ii, nside in enumerate(nsides):\n",
    "    ax.plot(xx, Cl2dOm_arrs[ii,ff,rr,:], color=colors[ii], linestyle=':',\n",
    "            label=('hp.anafast, nside=%d' % (nside)))\n",
    "\n",
    "ax.legend()\n",
    "ax.set_title('Sample %d, Realization %d, $f$=%.2f/yr, $h_c^2/d\\Omega$' % (nn, rr, fobs[ff]*YR, ))\n",
    "fig.tight_layout()\n"
   ]
  },
  {
   "cell_type": "code",
   "execution_count": null,
   "metadata": {},
   "outputs": [],
   "source": [
    "ax.legend()\n",
    "fig"
   ]
  },
  {
   "attachments": {},
   "cell_type": "markdown",
   "metadata": {},
   "source": [
    "# Different realizations and frequencies"
   ]
  },
  {
   "attachments": {},
   "cell_type": "markdown",
   "metadata": {},
   "source": [
    "plot_Cl_vs_l"
   ]
  },
  {
   "cell_type": "code",
   "execution_count": null,
   "metadata": {},
   "outputs": [],
   "source": [
    "def plot_Cl_vs_l(ff, rr, lmax):\n",
    "    xx = np.arange(lmax+1)\n",
    "\n",
    "    nsides = np.array([8, 16, 32, 64])\n",
    "    colors = cm.rainbow(np.linspace(0, 1, len(nsides)))\n",
    "    fig, ax = plot.figax(xlabel='$\\ell$', ylabel='$C_\\ell$', xscale='linear',\n",
    "                         figsize=(6,4))\n",
    "\n",
    "    for ii, nside in enumerate(nsides):\n",
    "        npix = hp.nside2npix(nside)\n",
    "        area = hp.nside2pixarea(nside)\n",
    "        theta, phi = hp.pix2ang(nside, np.arange(npix))\n",
    "        # moll = anis.healpix_map(hc_ss[ff:ff+1,rr:rr+1], hc_bg[ff:ff+1,rr:rr+1], nside)\n",
    "        # moll = np.squeeze(moll)\n",
    "        moll = moll_arrs[ii][ff,rr]\n",
    "\n",
    "        Cl_arr = np.zeros(lmax+1)\n",
    "        Cl_hpy = hp.anafast(moll, lmax=lmax)\n",
    "        for ll in range(lmax+1):\n",
    "            Cl_arr[ll] = calc_Cl(ll, moll, nside)\n",
    "            # print('C_%d = %.2e' % (ll, Cl_arr[ll]))\n",
    "\n",
    "\n",
    "        yy = Cl_arr\n",
    "        ax.plot(xx, yy, label = 'From Eq. (3), nside=%d' % nside,\n",
    "                color=colors[ii], linestyle='-', marker='o')\n",
    "        # ax.plot(xx, Cl2dOm_arrs[ii,ff,rr,:], color=colors[ii], linestyle=':',\n",
    "        #         label=('hp.anafast, nside=%d' % (nside)))\n",
    "        ax.plot(xx, Cl_hpy[:], color=colors[ii], linestyle=':', marker='x',\n",
    "                label=('hp.anafast, nside=%d' % (nside)))\n",
    "\n",
    "    ax.legend(fontsize=10, loc='upper right')\n",
    "    ax.set_title('Sample %d, Realization %d, $f$=%.2f/yr, $h_c^2/d\\Omega$' % (nn, rr, fobs[ff]*YR, ))\n",
    "    fig.tight_layout()\n",
    "    return fig"
   ]
  },
  {
   "attachments": {},
   "cell_type": "markdown",
   "metadata": {},
   "source": [
    "plot_ClC0_vs_l"
   ]
  },
  {
   "cell_type": "code",
   "execution_count": null,
   "metadata": {},
   "outputs": [],
   "source": [
    "def plot_ClC0_vs_l(ff, rr, lmax):\n",
    "    xx = np.arange(1,lmax+1)\n",
    "\n",
    "    nsides = np.array([8, 16, 32, 64])\n",
    "    colors = cm.rainbow(np.linspace(0, 1, len(nsides)))\n",
    "    fig, ax = plot.figax(xlabel='$\\ell$', ylabel='$C_\\ell/C_0$', xscale='linear',\n",
    "                         figsize=(6,4))\n",
    "\n",
    "    for ii, nside in enumerate(nsides):\n",
    "        npix = hp.nside2npix(nside)\n",
    "        area = hp.nside2pixarea(nside)\n",
    "        theta, phi = hp.pix2ang(nside, np.arange(npix))\n",
    "        moll = moll_arrs[ii][ff,rr]\n",
    "\n",
    "        Cl_arr = np.zeros(lmax+1)\n",
    "        Cl_hpy = hp.anafast(moll, lmax=lmax)\n",
    "        for ll in range(lmax+1):\n",
    "            Cl_arr[ll] = calc_Cl(ll, moll, nside)\n",
    "            # print('C_%d = %.2e' % (ll, Cl_arr[ll]))\n",
    "\n",
    " \n",
    "        y1 = Cl_arr[1:]/Cl_arr[0]\n",
    "        y2 = Cl_hpy[1:]/Cl_hpy[0]\n",
    "        ax.plot(xx, y1, label = 'From Eq. (3), nside=%d' % nside,\n",
    "                color=colors[ii])\n",
    "        # ax.plot(xx, Cl2dOm_arrs[ii,ff,rr,:], color=colors[ii], linestyle=':',\n",
    "        #         label=('hp.anafast, nside=%d' % (nside)))\n",
    "        ax.plot(xx, y2, color=colors[ii], linestyle=':',\n",
    "                label=('hp.anafast, nside=%d' % (nside)))\n",
    "\n",
    "    ax.legend(fontsize=8, loc='upper right')\n",
    "    ax.set_title('Sample %d, Realization %d, $f$=%.2f/yr, $h_c^2/d\\Omega$' % (nn, rr, fobs[ff]*YR, ))\n",
    "    fig.tight_layout()\n",
    "    return fig\n"
   ]
  },
  {
   "cell_type": "code",
   "execution_count": null,
   "metadata": {},
   "outputs": [],
   "source": [
    "def plot_C0_vs_nside(ff, rr, lmax):\n",
    "\n",
    "    nsides = np.array([8, 16, 32, 64])\n",
    "    xx = np.arange(len(nsides))\n",
    "    # colors = cm.rainbow(np.linspace(0, 1, len(nsides)))\n",
    "    fig, ax = plot.figax(xlabel='$N_\\mathrm{side}$', ylabel='$C_{\\ell=0}$', xscale='log',\n",
    "                         figsize=(5,3))\n",
    "\n",
    "    # Calculate Cl from Eqs.\n",
    "    moll = moll_arrs[ii][ff,rr]\n",
    "    C0_arr = np.zeros(len(nsides))\n",
    "    C0_hpy = np.zeros(len(nsides))\n",
    "    for nn, nside in enumerate(nsides):\n",
    "        moll = moll_arrs[nn][ff,rr]\n",
    "        C0_arr[nn] = calc_Cl(0, moll, nside)\n",
    "        C0_hpy[nn] = hp.anafast(moll, lmax=lmax)[0]\n",
    "\n",
    "    y1 = C0_arr\n",
    "    y2 = C0_hpy\n",
    "    ax.plot(xx, y1, label = 'From Eq. (3)' % nside, linestyle='-')\n",
    "    ax.plot(xx, y2, label=('hp.anafast' % (nside)), linestyle=':', )\n",
    "\n",
    "    ax.legend(fontsize=12, loc='lower right')\n",
    "    ax.set_title('Sample %d, Realization %d, $f$=%.2f/yr, $h_c^2/d\\Omega$' % (nn, rr, fobs[ff]*YR, ))\n",
    "    fig.tight_layout()\n",
    "    return fig\n"
   ]
  },
  {
   "attachments": {},
   "cell_type": "markdown",
   "metadata": {},
   "source": [
    "C0 vs nside"
   ]
  },
  {
   "cell_type": "code",
   "execution_count": null,
   "metadata": {},
   "outputs": [],
   "source": [
    "for rr in range(10):\n",
    "    fig = plot_C0_vs_nside(1, rr, lmax)\n"
   ]
  },
  {
   "attachments": {},
   "cell_type": "markdown",
   "metadata": {},
   "source": [
    "Cl Comparison"
   ]
  },
  {
   "cell_type": "code",
   "execution_count": null,
   "metadata": {},
   "outputs": [],
   "source": [
    "for rr in range(10):\n",
    "    fig = plot_Cl_vs_l(1, rr, lmax)\n"
   ]
  },
  {
   "attachments": {},
   "cell_type": "markdown",
   "metadata": {},
   "source": [
    "ClC0 comparison"
   ]
  },
  {
   "cell_type": "code",
   "execution_count": null,
   "metadata": {},
   "outputs": [],
   "source": [
    "for rr in range(10):\n",
    "    fig = plot_ClC0_vs_l(1, rr, lmax)\n"
   ]
  },
  {
   "cell_type": "code",
   "execution_count": null,
   "metadata": {},
   "outputs": [],
   "source": []
  }
 ],
 "metadata": {
  "kernelspec": {
   "display_name": "holo310",
   "language": "python",
   "name": "python3"
  },
  "language_info": {
   "codemirror_mode": {
    "name": "ipython",
    "version": 3
   },
   "file_extension": ".py",
   "mimetype": "text/x-python",
   "name": "python",
   "nbconvert_exporter": "python",
   "pygments_lexer": "ipython3",
   "version": "3.10.10"
  }
 },
 "nbformat": 4,
 "nbformat_minor": 2
}
