{
 "cells": [
  {
   "cell_type": "code",
   "execution_count": null,
   "metadata": {},
   "outputs": [],
   "source": [
    "%reload_ext autoreload\n",
    "%autoreload 2\n",
    "from importlib import reload\n",
    "\n",
    "import holodeck as holo\n",
    "from holodeck import single_sources, utils, plot, detstats\n",
    "from holodeck.constants import YR\n",
    "import holodeck.anisotropy as anis\n",
    "\n",
    "import numpy as np\n",
    "import healpy as hp\n",
    "import scipy as sp\n",
    "import matplotlib.pyplot as plt\n",
    "import matplotlib.cm as cm\n",
    "import h5py\n",
    "import cmath"
   ]
  },
  {
   "cell_type": "markdown",
   "metadata": {},
   "source": [
    "# Spherical Harmonic Decomposition/Angular Power Spectrum"
   ]
  },
  {
   "cell_type": "markdown",
   "metadata": {},
   "source": [
    "$$     a_{\\ell m} = \\frac{4\\pi}{N_\\mathrm{pix}} \\sum_{p=0}^{N_\\mathrm{pix}-1} Y^*_{\\ell m} (\\gamma_p) f(\\gamma_p) $$\n",
    "$$ C_\\ell = \\frac{1}{2\\ell + 1} \\sum_{m=-\\ell}^\\ell |a_{\\ell m} |^2 $$\n",
    "\\\n",
    "$f = h_c^2 / d\\Omega$ = healpix map values, $N=12N_\\mathrm{side}^2$ = number of pixels"
   ]
  },
  {
   "cell_type": "markdown",
   "metadata": {},
   "source": [
    "# Spherical Harmonic Conventions\n",
    "\n",
    "$$ Y_{\\ell m}(\\theta, \\phi) = \\lambda_{\\ell m} (\\cos\\theta)e^{i m \\phi} $$\n",
    "$$ \\lambda_{\\ell m} = \\sqrt{\\frac{2\\ell + 1}{4\\pi}\\frac{(\\ell-m)!}{(\\ell+m)!}} P_{\\ell m}(x) $$\n",
    "where $x\\equiv \\cos\\theta$ and $P_{\\ell m}(x)$ are the Legendre Polynomials\n"
   ]
  },
  {
   "cell_type": "code",
   "execution_count": null,
   "metadata": {},
   "outputs": [],
   "source": [
    "def calc_alm(ell, emm, func, nside):\n",
    "    \"\"\" \n",
    "    \n",
    "    func : \n",
    "        function of ipix or theta,phi\n",
    "    \"\"\"\n",
    "    npix = hp.nside2npix(nside)\n",
    "    theta, phi = hp.pix2ang(nside, np.arange(npix))\n",
    "    Ylm = sp.special.sph_harm(emm, ell, phi, theta)\n",
    "    integrand = np.sum(np.conjugate(Ylm) * func)\n",
    "    alm = 4*np.pi/npix * integrand\n",
    "\n",
    "    \n",
    "    return alm\n",
    "\n",
    "def calc_cl(ell, func, nside):\n",
    "    sum = 0\n",
    "    for emm in range(-ell, ell+1):\n",
    "        alm = calc_alm(ell, emm, func, nside)\n",
    "        sum += alm * np.conjugate(alm)\n",
    "    cl = sum/(2*ell + 1)\n",
    "    return cl"
   ]
  },
  {
   "cell_type": "code",
   "execution_count": null,
   "metadata": {},
   "outputs": [],
   "source": [
    "nside = 8\n",
    "lmax=8\n",
    "npix = hp.nside2npix(8)\n",
    "moll = np.random.rand(npix)*100 / hp.nside2pixarea(nside)\n",
    "\n",
    "ells = np.arange(lmax+1)\n",
    "cl_drk = np.zeros_like(ells)\n",
    "alm_drk = []\n",
    "for ii, ell in enumerate(ells):\n",
    "    cl_drk[ii] = calc_cl(ell, moll, nside)\n",
    "    for emm in range(-ell, ell+1):\n",
    "        alm_drk.append(calc_alm(ell, emm, moll, nside))\n",
    "\n",
    "cl_hpy, alm_hpy = hp.anafast(moll, alm=True, lmax=lmax)"
   ]
  },
  {
   "cell_type": "code",
   "execution_count": null,
   "metadata": {},
   "outputs": [],
   "source": [
    "print(cl_hpy.shape, alm_hpy.shape, np.array(alm_drk).shape)"
   ]
  },
  {
   "cell_type": "code",
   "execution_count": null,
   "metadata": {},
   "outputs": [],
   "source": [
    "plt.plot(np.arange(len(alm_hpy)), alm_hpy, '-', label='healpy')\n",
    "plt.plot(np.arange(len(alm_drk)), alm_drk, '--', label='equation')\n",
    "plt.legend()"
   ]
  },
  {
   "cell_type": "code",
   "execution_count": null,
   "metadata": {},
   "outputs": [],
   "source": []
  },
  {
   "cell_type": "code",
   "execution_count": null,
   "metadata": {},
   "outputs": [],
   "source": []
  },
  {
   "cell_type": "code",
   "execution_count": null,
   "metadata": {},
   "outputs": [],
   "source": [
    "print(cl_drk)"
   ]
  },
  {
   "cell_type": "code",
   "execution_count": null,
   "metadata": {},
   "outputs": [],
   "source": [
    "fig, ax = plot.figax(xlabel='$\\ell$', ylabel='$C_\\ell$', xscale='linear')\n",
    "\n",
    "ells = np.arange(9)\n",
    "cl_drk = np.zeros_like(ells)\n",
    "\n",
    "nside_colors=['tab:red', 'tab:blue', 'tab:purple']\n",
    "for nn, nside in enumerate([8,16,32]):\n",
    "    npix = hp.nside2npix(nside)\n",
    "    moll = np.random.rand(npix)*100 / hp.nside2pixarea(nside)\n",
    "\n",
    "    for ii, ell in enumerate(ells):\n",
    "        cl_drk[ii] = calc_cl(ell, moll, nside)\n",
    "\n",
    "    cl_hpy = hp.anafast(moll)\n",
    "\n",
    "    ax.plot(ells, cl_drk, label=f'drake, ns{nside}', linestyle=':', color=nside_colors[nn], linewidth=3)\n",
    "    ax.plot(ells, cl_hpy[:len(cl_drk)], label=f'anafast, ns{nside}', color=nside_colors[nn])\n",
    "\n",
    "ax.legend()"
   ]
  },
  {
   "cell_type": "code",
   "execution_count": null,
   "metadata": {},
   "outputs": [],
   "source": [
    "fig, ax = plot.figax(xlabel='$\\ell$', ylabel='$C_\\ell/C_0$', xscale='linear')\n",
    "\n",
    "ells = np.arange(9)\n",
    "cl_drk = np.zeros_like(ells)\n",
    "\n",
    "nside_colors=['tab:red', 'tab:blue', 'tab:purple']\n",
    "for nn, nside in enumerate([8,16,32]):\n",
    "    npix = hp.nside2npix(nside)\n",
    "    moll = np.random.rand(npix)*100 / hp.nside2pixarea(nside)\n",
    "\n",
    "    for ii, ell in enumerate(ells):\n",
    "        cl_drk[ii] = calc_cl(ell, moll, nside)\n",
    "\n",
    "    cl_hpy = hp.anafast(moll)\n",
    "\n",
    "    ydrk = cl_drk[1:]/cl_drk[0]\n",
    "    print(cl_drk.shape)\n",
    "    ax.plot(ells[1:], cl_drk[1:]/cl_drk[0], label=f'drake, ns{nside}', linestyle=':', color=nside_colors[nn])\n",
    "    ax.plot(ells[1:], cl_hpy[1:len(cl_drk)]/cl_hpy[0], label=f'anafast, ns{nside}', color=nside_colors[nn])\n",
    "\n",
    "ax.legend()"
   ]
  },
  {
   "cell_type": "markdown",
   "metadata": {},
   "source": [
    "# Nihan's Way\n",
    "\n"
   ]
  },
  {
   "cell_type": "code",
   "execution_count": null,
   "metadata": {},
   "outputs": [],
   "source": []
  },
  {
   "cell_type": "code",
   "execution_count": null,
   "metadata": {},
   "outputs": [],
   "source": []
  }
 ],
 "metadata": {
  "kernelspec": {
   "display_name": "holo310",
   "language": "python",
   "name": "python3"
  },
  "language_info": {
   "codemirror_mode": {
    "name": "ipython",
    "version": 3
   },
   "file_extension": ".py",
   "mimetype": "text/x-python",
   "name": "python",
   "nbconvert_exporter": "python",
   "pygments_lexer": "ipython3",
   "version": "3.10.10"
  }
 },
 "nbformat": 4,
 "nbformat_minor": 2
}
