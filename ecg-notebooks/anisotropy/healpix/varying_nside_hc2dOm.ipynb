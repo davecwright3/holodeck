{
 "cells": [
  {
   "cell_type": "code",
   "execution_count": null,
   "metadata": {},
   "outputs": [],
   "source": [
    "import holodeck as holo\n",
    "from holodeck import single_sources, utils, plot, detstats\n",
    "from holodeck.constants import YR\n",
    "import holodeck.anisotropy as anis\n",
    "\n",
    "import numpy as np\n",
    "import healpy as hp\n",
    "import matplotlib.pyplot as plt\n",
    "import matplotlib.cm as cm\n",
    "import h5py"
   ]
  },
  {
   "cell_type": "code",
   "execution_count": null,
   "metadata": {},
   "outputs": [],
   "source": [
    "nn=615\n",
    "filename = '/Users/emigardiner/GWs/holodeck/output/brc_output/ss60_anis09B_2023-06-16_uniform-09b_n1000_r50_f40_l2000/sam-lib__p000615.npz'\n",
    "file = np.load(filename)\n",
    "print(file.files)\n",
    "hc_ss = file['hc_ss']\n",
    "hc_bg = file['hc_bg']\n",
    "fobs = file['fobs']\n",
    "\n",
    "\n",
    "file.close()\n",
    "\n",
    "shape=hc_ss.shape\n",
    "nfreqs = shape[-3]\n",
    "nreals = shape[-2]\n",
    "nloudest = shape[-1]\n",
    "print('nfreqs=%d, nreals=%d, nloudest=%d' % (nfreqs, nreals, nloudest))\n",
    "\n",
    "\n",
    "# sspath = '/Users/emigardiner/GWs/holodeck/output/brc_output/ss51-2023-05-22_uniform_07a_n1000_r100_f40_l2000/'\n",
    "# hdfname = sspath+'sam_lib.hdf5'\n",
    "# ssfile = h5py.File(hdfname, 'r')\n",
    "# dfobs = ssfile['dfobs'][:]"
   ]
  },
  {
   "attachments": {},
   "cell_type": "markdown",
   "metadata": {},
   "source": [
    "# 1 hc\n"
   ]
  },
  {
   "attachments": {},
   "cell_type": "markdown",
   "metadata": {},
   "source": [
    "## 1.0A Calculate and save NPZ"
   ]
  },
  {
   "cell_type": "code",
   "execution_count": null,
   "metadata": {},
   "outputs": [],
   "source": [
    "# place single sources at random pixels, for one map\n",
    "def make_ss_map(hc_ss, nside, pix_ss=None):\n",
    "    npix = hp.nside2npix(nside)\n",
    "    if pix_ss is None:\n",
    "        pix_ss = np.random.randint(0, npix-1, size=hc_ss.size).reshape(hc_ss.shape)\n",
    "    moll_ss = np.zeros((len(hc_ss), len(hc_ss[0]), npix,))\n",
    "    for ff in range(hc_ss.shape[-3]):\n",
    "        for rr in range(hc_ss.shape[-2]):\n",
    "            for ll in range(hc_ss.shape[-1]):\n",
    "                moll_ss[ff,rr,pix_ss[ff,rr,ll]] = np.sqrt(moll_ss[ff,rr,pix_ss[ff,rr,ll]]**2\n",
    "                                                         + hc_ss[ff,rr,ll]**2)\n",
    "    return moll_ss, pix_ss\n",
    "moll_ss08, pix_ss08 = make_ss_map(hc_ss, 8)\n",
    "print(f\"{moll_ss08.shape=}\")\n",
    "print(f\"{pix_ss08.shape=}\")\n",
    "\n",
    "\n",
    "def convert_pix_ss(pix_ss1, nside1, nside2):\n",
    "    theta, phi = hp.pix2ang(nside1, pix_ss1)\n",
    "    print(f\"{theta.shape=}, {phi.shape=}\")\n",
    "    pix_ss2 = hp.ang2pix(nside2, theta, phi).reshape(pix_ss1.shape)\n",
    "    return pix_ss2\n",
    "\n",
    "pix_ss16 = convert_pix_ss(pix_ss08, 8, 16)\n",
    "pix_ss32 = convert_pix_ss(pix_ss08, 8, 32)\n",
    "pix_ss64 = convert_pix_ss(pix_ss08, 8, 64)\n",
    "# pix_ss128 = convert_pix_ss(pix_ss08, 8, 128)"
   ]
  },
  {
   "cell_type": "code",
   "execution_count": null,
   "metadata": {},
   "outputs": [],
   "source": [
    "save_loc = '/Users/emigardiner/GWs/holodeck/ecg-notebooks/anisotropy/healpix/varying_nside_testnpz'\n",
    "\n",
    "np.savez(save_loc+'/pix_ss_B684.npz', \n",
    "         pix_ss08=pix_ss08, pix_ss16=pix_ss16, pix_ss32=pix_ss32, pix_ss64=pix_ss64,) #pix_ss128=pix_ss128,\n",
    "        #  moll2dOm_ss08=moll2dOm_ss08, moll2dOm_ss16=moll2dOm_ss16, moll2dOm_ss32=moll2dOm_ss32, moll2dOm_ss64=moll2dOm_ss64, #moll2dOm_ss128=moll2dOm_ss128,\n",
    "        #  moll2dOm_bg08=moll2dOm_bg08, moll2dOm_bg16=moll2dOm_bg16, moll2dOm_bg32=moll2dOm_bg32, moll2dOm_bg64=moll2dOm_bg64,# moll_bg128=moll_bg128,\n",
    "        #  moll2dOm_tt08=moll2dOm_tt08, moll2dOm_tt16=moll2dOm_tt16, moll2dOm_tt32=moll2dOm_tt32, moll2dOm_tt64=moll2dOm_tt64, #moll_tt128=moll_tt128,\n",
    "        #  Cl2dOm_arrs=Cl2dOm_arrs, nsides=nsides)\n",
    "        #  Cl_08=Cl_08, Cl_16=Cl_16, Cl_32=Cl_32, Cl_64=Cl_64, Cl_128=Cl_128)"
   ]
  },
  {
   "attachments": {},
   "cell_type": "markdown",
   "metadata": {},
   "source": [
    "## 1.0 Load NPZ"
   ]
  },
  {
   "cell_type": "code",
   "execution_count": null,
   "metadata": {},
   "outputs": [],
   "source": [
    "save_loc = '/Users/emigardiner/GWs/holodeck/ecg-notebooks/anisotropy/healpix/varying_nside_testnpz'\n",
    "hcfile = np.load(save_loc+'/pix_ss_B684.npz')\n",
    "\n",
    "# pix_ss08=pix_ss08, pix_ss16=pix_ss16, pix_ss32=pix_ss32, pix_ss64=pix_ss64, pix_ss128=pix_ss128,\n",
    "# moll_ss08=moll_ss08, moll_ss16=moll_ss16, moll_ss32=moll_ss32, moll_ss64=moll_ss64, moll_ss128=moll_ss128,\n",
    "# moll_bg08=moll_bg08, moll_bg16=moll_bg16, moll_bg32=moll_bg32, moll_bg64=moll_bg64, moll_bg128=moll_bg128,\n",
    "# moll_tt08=moll_tt08, moll_tt16=moll_tt16, moll_tt32=moll_tt32, moll_tt64=moll_tt64, moll_tt128=moll_tt128,\n",
    "pix_ss08 = hcfile['pix_ss08']\n",
    "pix_ss16 = hcfile['pix_ss16']\n",
    "pix_ss32 = hcfile['pix_ss32']\n",
    "pix_ss64 = hcfile['pix_ss64']\n",
    "# pix_ss128 = hcfile['pix_ss128']\n",
    "# Cl_arrs = hcfile['Cl_arrs']\n",
    "# nsides=hcfile['nsides']\n",
    "\n",
    "hcfile.close()\n",
    "\n",
    "lmax=6\n",
    "nsides=np.array([8,16,32,64])"
   ]
  },
  {
   "attachments": {},
   "cell_type": "markdown",
   "metadata": {},
   "source": [
    "# 3 hc^2/dOmega \n"
   ]
  },
  {
   "attachments": {},
   "cell_type": "markdown",
   "metadata": {},
   "source": [
    "## 3.0 Load NPZ"
   ]
  },
  {
   "cell_type": "code",
   "execution_count": null,
   "metadata": {},
   "outputs": [],
   "source": [
    "# save_loc = '/Users/emigardiner/GWs/holodeck/ecg-notebooks/anisotropy/healpix/varying_nside_testnpz'\n",
    "# hcfile = np.load(save_loc+'/hc2dOm_A.npz')\n",
    "\n",
    "# # pix_ss08=pix_ss08, pix_ss16=pix_ss16, pix_ss32=pix_ss32, pix_ss64=pix_ss64, pix_ss128=pix_ss128,\n",
    "# # moll_ss08=moll_ss08, moll_ss16=moll_ss16, moll_ss32=moll_ss32, moll_ss64=moll_ss64, moll_ss128=moll_ss128,\n",
    "# # moll_bg08=moll_bg08, moll_bg16=moll_bg16, moll_bg32=moll_bg32, moll_bg64=moll_bg64, moll_bg128=moll_bg128,\n",
    "# # moll_tt08=moll_tt08, moll_tt16=moll_tt16, moll_tt32=moll_tt32, moll_tt64=moll_tt64, moll_tt128=moll_tt128,\n",
    "# # pix_ss08 = hcfile['pix_ss08']\n",
    "# # pix_ss16 = hcfile['pix_ss16']\n",
    "# # pix_ss32 = hcfile['pix_ss32']\n",
    "# # pix_ss64 = hcfile['pix_ss64']\n",
    "# # # pix_ss128 = hcfile['pix_ss128']\n",
    "# Cl2dOm_arrs = hcfile['Cl2dOm_arrs']\n",
    "# # nsides=hcfile['nsides']\n",
    "\n",
    "# hcfile.close()\n",
    "\n",
    "# lmax=6"
   ]
  },
  {
   "attachments": {},
   "cell_type": "markdown",
   "metadata": {},
   "source": [
    "## 3.1 Maps"
   ]
  },
  {
   "cell_type": "code",
   "execution_count": null,
   "metadata": {},
   "outputs": [],
   "source": [
    "# spread background evenly across pixels\n",
    "\n",
    "def make_hc2dOm_bg_map(hc_bg, nside):\n",
    "    npix = hp.nside2npix(nside)\n",
    "    area = hp.nside2pixarea(nside)\n",
    "    moll_bg = (np.ones((hc_bg.shape + (npix,))) \n",
    "            * hc_bg[:,:,np.newaxis]**2/npix/area) # (frequency, realization, pixel)\n",
    "    return moll_bg\n",
    "\n",
    "nsides=np.array([8,16,32, 64]) #, 128])\n",
    "moll2dOm_bg08 = make_hc2dOm_bg_map(hc_bg, nside=8)\n",
    "moll2dOm_bg16 = make_hc2dOm_bg_map(hc_bg, nside=16)\n",
    "moll2dOm_bg32 = make_hc2dOm_bg_map(hc_bg, nside=32)\n",
    "moll2dOm_bg64 = make_hc2dOm_bg_map(hc_bg, nside=64)\n",
    "# moll2dOm_bg128 = make_hc2dOm_bg_map(hc_bg, nside=128)\n",
    "print(moll2dOm_bg08.shape)\n"
   ]
  },
  {
   "cell_type": "code",
   "execution_count": null,
   "metadata": {},
   "outputs": [],
   "source": [
    "# place single sources at random pixels, for one map\n",
    "\n",
    "def make_hc2dOm_ss_map(hc_ss, nside, pix_ss=None):\n",
    "    npix = hp.nside2npix(nside)\n",
    "    area = hp.nside2pixarea(nside)\n",
    "    if pix_ss is None:\n",
    "        pix_ss = np.random.randint(0, npix-1, size=hc_ss.size).reshape(hc_ss.shape)\n",
    "    moll_ss = np.zeros((len(hc_ss), len(hc_ss[0]), npix,))\n",
    "    for ff in range(hc_ss.shape[-3]):\n",
    "        for rr in range(hc_ss.shape[-2]):\n",
    "            for ll in range(hc_ss.shape[-1]):\n",
    "                moll_ss[ff,rr,pix_ss[ff,rr,ll]] = (moll_ss[ff,rr,pix_ss[ff,rr,ll]] \n",
    "                                                   + hc_ss[ff,rr,ll]**2 /area)\n",
    "    return moll_ss, pix_ss"
   ]
  },
  {
   "cell_type": "code",
   "execution_count": null,
   "metadata": {},
   "outputs": [],
   "source": [
    "moll2dOm_ss08, temp = make_hc2dOm_ss_map(hc_ss, 8, pix_ss=pix_ss08)\n",
    "moll2dOm_ss16, temp = make_hc2dOm_ss_map(hc_ss, 16, pix_ss16)\n",
    "moll2dOm_ss32, temp = make_hc2dOm_ss_map(hc_ss, 32, pix_ss32)\n",
    "moll2dOm_ss64, temp = make_hc2dOm_ss_map(hc_ss, 64, pix_ss64)\n",
    "# moll2dOm_ss128, temp = make_hc2dOm_ss_map(hc_ss, 128, pix_ss128)"
   ]
  },
  {
   "cell_type": "code",
   "execution_count": null,
   "metadata": {},
   "outputs": [],
   "source": [
    "moll2dOm_tt08 = (moll2dOm_ss08 + moll2dOm_bg08)\n",
    "moll2dOm_tt16 = (moll2dOm_ss16 + moll2dOm_bg16)\n",
    "moll2dOm_tt32 = (moll2dOm_ss32 + moll2dOm_bg32)\n",
    "moll2dOm_tt64 = (moll2dOm_ss64 + moll2dOm_bg64)\n",
    "# moll2dOm_tt128 = (moll2dOm_ss128 + moll2dOm_bg128)"
   ]
  },
  {
   "cell_type": "code",
   "execution_count": null,
   "metadata": {},
   "outputs": [],
   "source": [
    "\n",
    "rr=0\n",
    "for ff in range(0,5):\n",
    "    fig, axs = plot.figax(ncols=3, figsize=(15,5))\n",
    "    plt.axes(axs[0])\n",
    "    hp.mollview(moll2dOm_tt08[ff,rr], unit='$h_c^2/d\\Omega$',\n",
    "                title='f=%.2f yr$^{-1}$, nside=%d' % (fobs[ff]*YR,  8), hold=True )\n",
    "    plt.axes(axs[1])\n",
    "    hp.mollview(moll2dOm_tt16[ff,rr], unit='$h_c^2/d\\Omega$',\n",
    "                title='f=%.2f yr$^{-1}$, nside=%d' % (fobs[ff]*YR, 16), hold=True )\n",
    "    plt.axes(axs[2])\n",
    "    hp.mollview(moll2dOm_tt32[ff,rr], unit='$h_c^2/d\\Omega$',\n",
    "                title='f=%.2f yr$^{-1}$, nside=%d' % (fobs[ff]*YR, 32), hold=True )\n",
    "    fig.tight_layout()\n"
   ]
  },
  {
   "attachments": {},
   "cell_type": "markdown",
   "metadata": {},
   "source": [
    "## 3.2 sph harm"
   ]
  },
  {
   "cell_type": "code",
   "execution_count": null,
   "metadata": {},
   "outputs": [],
   "source": [
    "lmax=6\n",
    "Cl2dOm_08 = anis.sph_harm_from_map(moll2dOm_tt08, lmax=6)\n",
    "Cl2dOm_16 = anis.sph_harm_from_map(moll2dOm_tt16, lmax=6)\n",
    "Cl2dOm_32 = anis.sph_harm_from_map(moll2dOm_tt32, lmax=6)\n",
    "Cl2dOm_64 = anis.sph_harm_from_map(moll2dOm_tt64, lmax=6)\n",
    "# Cl2dOm_128 = anis.sph_harm_from_map(moll2dOm_tt128, lmax=6)"
   ]
  },
  {
   "cell_type": "code",
   "execution_count": null,
   "metadata": {},
   "outputs": [],
   "source": [
    "Cl2dOm_arrs = np.array([Cl2dOm_08, Cl2dOm_16, Cl2dOm_32, Cl2dOm_64]) #, Cl2dOm_128])\n",
    "print(Cl2dOm_arrs.shape)"
   ]
  },
  {
   "cell_type": "code",
   "execution_count": null,
   "metadata": {},
   "outputs": [],
   "source": [
    "print(nsides)"
   ]
  },
  {
   "cell_type": "code",
   "execution_count": null,
   "metadata": {},
   "outputs": [],
   "source": [
    "rr = 0\n",
    "ll=1\n",
    "\n",
    "xx = np.arange(lmax+1)\n",
    "colors = cm.rainbow(np.linspace(0,1,len(Cl2dOm_arrs)))\n",
    "\n",
    "for ff in np.array([1,5,10]):\n",
    "    yy = Cl2dOm_arrs\n",
    "    fig, ax = plot.figax(xlabel='$\\ell$', ylabel='$C_\\ell$', xscale='linear')\n",
    "    for ii, nside in enumerate(nsides):\n",
    "        ax.plot(xx, yy[ii,ff,rr,:], color=colors[ii], label=('$\\ell=%d$, $\\ell_\\mathrm{max}=%d,$ nside=%d' % (ll, lmax, nside)))\n",
    "    ax.legend()\n",
    "    ax.set_title('Sample %d, Realization %d, $f$=%.2f/yr, $h_c^2/d\\Omega$' % (nn, rr,  fobs[ff]*YR, ))\n",
    "    fig.tight_layout()"
   ]
  },
  {
   "cell_type": "code",
   "execution_count": null,
   "metadata": {},
   "outputs": [],
   "source": [
    "ll=1\n",
    "\n",
    "xx = fobs*YR\n",
    "colors = cm.rainbow(np.linspace(0,1,len(Cl2dOm_arrs)))\n",
    "\n",
    "for ll in range(1,7):\n",
    "    yy = Cl2dOm_arrs[...,ll]/Cl2dOm_arrs[...,0]\n",
    "    fig, ax = plot.figax(xlabel='$f$ yr$^{-1}$', ylabel='$C_1/C_0$')\n",
    "    for ii, nside in enumerate(nsides):\n",
    "        ax.plot(xx, np.median(yy[ii], axis=-1), color=colors[ii], label=('$\\ell=%d$, $\\ell_\\mathrm{max}=%d,$ nside=%d' % (ll, lmax, nside)))\n",
    "        for pp in [50,]:\n",
    "            percs = pp/2\n",
    "            percs = [50-percs, 50+percs]\n",
    "            ax.fill_between(xx, *np.percentile(yy[ii], percs, axis=-1), alpha=0.25, color=colors[ii])\n",
    "\n",
    "    ax.legend()\n",
    "    ax.set_title('Sample %d, $\\ell$=%d, $h_c^2/d\\Omega$' % (nn,ll))\n",
    "    fig.tight_layout()"
   ]
  },
  {
   "attachments": {},
   "cell_type": "markdown",
   "metadata": {},
   "source": [
    "## 3.3 Save npz"
   ]
  },
  {
   "cell_type": "code",
   "execution_count": null,
   "metadata": {},
   "outputs": [],
   "source": [
    "save_loc = '/Users/emigardiner/GWs/holodeck/ecg-notebooks/anisotropy/healpix/varying_nside_testnpz'\n",
    "np.savez(save_loc+'/hc2dOm_09B.npz', \n",
    "         pix_ss08=pix_ss08, pix_ss16=pix_ss16, pix_ss32=pix_ss32, pix_ss64=pix_ss64, #pix_ss128=pix_ss128,\n",
    "         moll2dOm_ss08=moll2dOm_ss08, moll2dOm_ss16=moll2dOm_ss16, moll2dOm_ss32=moll2dOm_ss32, moll2dOm_ss64=moll2dOm_ss64, #moll2dOm_ss128=moll2dOm_ss128,\n",
    "         moll2dOm_bg08=moll2dOm_bg08, moll2dOm_bg16=moll2dOm_bg16, moll2dOm_bg32=moll2dOm_bg32, moll2dOm_bg64=moll2dOm_bg64,# moll_bg128=moll_bg128,\n",
    "         moll2dOm_tt08=moll2dOm_tt08, moll2dOm_tt16=moll2dOm_tt16, moll2dOm_tt32=moll2dOm_tt32, moll2dOm_tt64=moll2dOm_tt64, #moll_tt128=moll_tt128,\n",
    "         Cl2dOm_arrs=Cl2dOm_arrs, nsides=nsides)\n",
    "        #  Cl_08=Cl_08, Cl_16=Cl_16, Cl_32=Cl_32, Cl_64=Cl_64, Cl_128=Cl_128)"
   ]
  },
  {
   "cell_type": "code",
   "execution_count": null,
   "metadata": {},
   "outputs": [],
   "source": []
  }
 ],
 "metadata": {
  "kernelspec": {
   "display_name": "holo310",
   "language": "python",
   "name": "python3"
  },
  "language_info": {
   "codemirror_mode": {
    "name": "ipython",
    "version": 3
   },
   "file_extension": ".py",
   "mimetype": "text/x-python",
   "name": "python",
   "nbconvert_exporter": "python",
   "pygments_lexer": "ipython3",
   "version": "3.10.10"
  }
 },
 "nbformat": 4,
 "nbformat_minor": 2
}
