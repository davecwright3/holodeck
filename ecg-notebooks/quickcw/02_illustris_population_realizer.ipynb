{
 "cells": [
  {
   "cell_type": "code",
   "execution_count": null,
   "metadata": {},
   "outputs": [],
   "source": [
    "%reload_ext autoreload\n",
    "%autoreload 2\n",
    "from importlib import reload\n",
    "\n",
    "import numpy as np\n",
    "import matplotlib.pyplot as plt\n",
    "\n",
    "from holodeck import plot, detstats, utils\n",
    "from holodeck.constants import YR, MSOL, MPC, GYR\n",
    "import holodeck as holo\n",
    "from holodeck import extensions as holo_extensions\n"
   ]
  },
  {
   "cell_type": "markdown",
   "metadata": {},
   "source": [
    "# Make realizer"
   ]
  },
  {
   "cell_type": "code",
   "execution_count": null,
   "metadata": {},
   "outputs": [],
   "source": [
    "f_cents, f_bins = holo.utils.pta_freqs()\n",
    "realizer = holo_extensions.Realizer(f_bins/2, resample=2.0, lifetime=3*GYR, mamp=1e9*MSOL, dens=2.0)\n"
   ]
  },
  {
   "cell_type": "code",
   "execution_count": null,
   "metadata": {},
   "outputs": [],
   "source": [
    "print(realizer)"
   ]
  },
  {
   "cell_type": "code",
   "execution_count": null,
   "metadata": {},
   "outputs": [],
   "source": [
    "for key in realizer.__dict__.keys():\n",
    "    print(key)\n",
    "\n",
    "binary_vals = realizer._binary_vals\n",
    "vals_names = realizer._vals_names\n",
    "weights = realizer._binary_weights\n",
    "\n",
    "print(f\"{vals_names=}\")\n",
    "print(f\"{binary_vals[0].shape=}\")\n",
    "print(f\"{len(realizer._binary_vals)=}\")\n",
    "# print(f\"{realizer._binary_weights=}\")\n",
    "print(f\"{weights.shape=}\")\n",
    "\n",
    "for ii in range(4):\n",
    "    print(f\"{realizer._vals_names[ii]} vals:\", holo.utils.stats(realizer._binary_vals[ii]))"
   ]
  },
  {
   "cell_type": "code",
   "execution_count": null,
   "metadata": {},
   "outputs": [],
   "source": [
    "for ii, val in enumerate(vals_names):\n",
    "    # if ii==1 or ii==3:\n",
    "    #     xscale='linear'\n",
    "    # else:\n",
    "    xscale='log'\n",
    "    fig, ax = plot.figax(xlabel=val, ylabel='weights', xscale=xscale)\n",
    "    ax.scatter(10**binary_vals[ii], weights, s=1, alpha=0.1)\n",
    "    print(f\"{realizer._vals_names[ii]} vals:\", holo.utils.stats(realizer._binary_vals[ii]))"
   ]
  },
  {
   "cell_type": "markdown",
   "metadata": {},
   "source": [
    "# Calling realizer()\n",
    "\n",
    "realizer() returns names, samples\n",
    "\n",
    "names is just ['mtot', 'mrat', 'redz', 'fobs']\n",
    "\n",
    "\n",
    "* mtots = 10^samples[0]\n",
    "* mrats = 10^samples[1]\n",
    "* redz = 10^samples[2]\n",
    "* f0 = 10^samples[3]\n",
    "\n",
    "but we want to keep all in log space"
   ]
  },
  {
   "cell_type": "code",
   "execution_count": null,
   "metadata": {},
   "outputs": [],
   "source": [
    "names, samples = realizer(down_sample=50)"
   ]
  },
  {
   "cell_type": "code",
   "execution_count": null,
   "metadata": {},
   "outputs": [],
   "source": [
    "print(samples)"
   ]
  },
  {
   "cell_type": "code",
   "execution_count": null,
   "metadata": {},
   "outputs": [],
   "source": [
    "print(samples.shape)"
   ]
  },
  {
   "cell_type": "markdown",
   "metadata": {},
   "source": [
    "# Make SAM version"
   ]
  },
  {
   "cell_type": "code",
   "execution_count": null,
   "metadata": {},
   "outputs": [],
   "source": []
  }
 ],
 "metadata": {
  "kernelspec": {
   "display_name": "quickcw",
   "language": "python",
   "name": "python3"
  },
  "language_info": {
   "codemirror_mode": {
    "name": "ipython",
    "version": 3
   },
   "file_extension": ".py",
   "mimetype": "text/x-python",
   "name": "python",
   "nbconvert_exporter": "python",
   "pygments_lexer": "ipython3",
   "version": "3.9.18"
  }
 },
 "nbformat": 4,
 "nbformat_minor": 2
}
