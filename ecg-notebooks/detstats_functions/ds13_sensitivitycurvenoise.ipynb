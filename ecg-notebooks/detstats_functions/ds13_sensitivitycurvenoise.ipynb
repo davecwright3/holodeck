{
 "cells": [
  {
   "cell_type": "code",
   "execution_count": null,
   "metadata": {},
   "outputs": [],
   "source": [
    "%reload_ext autoreload\n",
    "%autoreload 2\n",
    "from importlib import reload\n",
    "\n",
    "import numpy as np\n",
    "import matplotlib.pyplot as plt\n",
    "import matplotlib.cm as cm\n",
    "import h5py\n",
    "import os\n",
    "\n",
    "from holodeck import plot, detstats, utils\n",
    "from holodeck.constants import YR, MSOL, MPC, GYR\n",
    "import holodeck as holo\n",
    "\n",
    "import hasasia.sensitivity as hsen\n",
    "import hasasia.sim as hsim\n",
    "import hasasia.skymap as hsky"
   ]
  },
  {
   "cell_type": "code",
   "execution_count": null,
   "metadata": {},
   "outputs": [],
   "source": [
    "SHAPE = None\n",
    "NREALS = 500\n",
    "NFREQS = 40\n",
    "NLOUDEST = 10\n",
    "\n",
    "SAVEFIG = False\n",
    "TOL=0.01\n",
    "MAXBADS=5\n",
    "\n",
    "RED_GAMMA = None\n",
    "RED2WHITE = None\n",
    "\n",
    "NVARS = 21\n",
    "\n",
    "NPSRS = 40\n",
    "NSKIES = 100\n",
    "TARGET = 'gsmf_phi0' # EDIT AS NEEDED\n",
    "TITLE = plot.PARAM_KEYS[TARGET]  # EDIT AS NEEDED"
   ]
  },
  {
   "cell_type": "code",
   "execution_count": null,
   "metadata": {},
   "outputs": [],
   "source": [
    "def get_data(\n",
    "        target, nvars=NVARS, nreals=NREALS, nskies=NSKIES, shape=SHAPE, red_gamma = None, red2white=None,\n",
    "    path = '/Users/emigardiner/GWs/holodeck/output/anatomy_redz',     \n",
    "):\n",
    "    load_data_from_file = path+f'/{target}_v{nvars}_r{nreals}_shape{str(shape)}/data_params.npz' \n",
    "\n",
    "    if os.path.exists(load_data_from_file) is False:\n",
    "        err = f\"load data file '{load_data_from_file}' does not exist, you need to construct it.\"\n",
    "        raise Exception(err)\n",
    "    file = np.load(load_data_from_file, allow_pickle=True)\n",
    "    data = file['data']\n",
    "    params = file['params']\n",
    "    file.close()\n",
    "    print(target, \"got data\")\n",
    "\n",
    "    return data, params"
   ]
  },
  {
   "cell_type": "code",
   "execution_count": null,
   "metadata": {},
   "outputs": [],
   "source": [
    "data, params = get_data(TARGET)"
   ]
  },
  {
   "cell_type": "code",
   "execution_count": null,
   "metadata": {},
   "outputs": [],
   "source": [
    "var=10\n",
    "\n",
    "fobs_cents = data[var]['fobs_cents']\n",
    "dur = 1.0 / fobs_cents[0]\n",
    "cad = 1.0 / (2.0 * fobs_cents[-1])\n",
    "hc_ss = data[var]['hc_ss']\n",
    "hc_bg = data[var]['hc_bg']"
   ]
  },
  {
   "cell_type": "code",
   "execution_count": null,
   "metadata": {},
   "outputs": [],
   "source": [
    "phis = None\n",
    "thetas = None\n",
    "npsrs = NPSRS\n",
    "red2white = RED2WHITE\n",
    "sigstart = 1.5e-7\n",
    "\n",
    "# randomize pulsar positions\n",
    "if phis is None: phis = np.random.uniform(0, 2*np.pi, size = npsrs)\n",
    "if thetas is None: thetas = np.random.uniform(np.pi/2, np.pi/2, size = npsrs)\n",
    "sigma = sigstart\n",
    "# if red2white is not None:\n",
    "#     red_amp = _white_noise(cad, sigma) * red2white\n",
    "\n",
    "psrs = hsim.sim_pta(timespan=dur/YR, cad=1/(cad/YR), sigma=sigma,\n",
    "                phi=phis, theta=thetas)"
   ]
  },
  {
   "cell_type": "code",
   "execution_count": null,
   "metadata": {},
   "outputs": [],
   "source": [
    "dp_bg = detstats.detect_bg_pta(psrs, fobs_cents, hc_bg=hc_bg[:,np.newaxis], hc_ss=hc_ss[:,np.newaxis,:],\n",
    "                            red_amp=None, red_gamma=None, ss_noise=False)[0]\n",
    "print(holo.utils.stats(dp_bg))"
   ]
  },
  {
   "cell_type": "code",
   "execution_count": null,
   "metadata": {},
   "outputs": [],
   "source": [
    "spectra = []\n",
    "for psr in psrs:\n",
    "    sp = hsen.Spectrum(psr, freqs=fobs_cents)\n",
    "    sp.NcalInv\n",
    "    spectra.append(sp)"
   ]
  },
  {
   "cell_type": "code",
   "execution_count": null,
   "metadata": {},
   "outputs": [],
   "source": [
    "sc_ss = hsen.DeterSensitivityCurve(spectra).h_c\n",
    "sc_bg = hsen.GWBSensitivityCurve(spectra).h_c"
   ]
  },
  {
   "cell_type": "code",
   "execution_count": null,
   "metadata": {},
   "outputs": [],
   "source": [
    "fig, ax = plot.figax(xlabel=plot.LABEL_GW_FREQUENCY_YR, ylabel=plot.LABEL_CHARACTERISTIC_STRAIN)\n",
    "xx = fobs_cents*YR\n",
    "ax.plot(xx, sc_bg, label='BG Sensitivity', linestyle='--', color='tab:blue')\n",
    "ax.plot(xx, sc_ss, label='SS Sensitivity', linestyle='--', color='tab:pink')\n",
    "\n",
    "ax.fill_between(xx, *np.percentile(hc_bg, (25,75), axis=-1), \n",
    "                color='tab:blue', alpha=0.2)\n",
    "ax.plot(xx, np.median(hc_bg, axis=-1), label='hc_BG', color='tab:blue')\n",
    "\n",
    "ax.fill_between(xx, *np.percentile(hc_ss[:,:,0], (25, 75), axis=-1),\n",
    "                color='tab:pink', alpha=0.2)\n",
    "ax.plot(xx, np.median(hc_ss[:,:,0], axis=-1), label='hc_SS', color='tab:pink')\n",
    "ax.legend()"
   ]
  },
  {
   "cell_type": "markdown",
   "metadata": {},
   "source": [
    "# Calculate detstats"
   ]
  },
  {
   "cell_type": "code",
   "execution_count": null,
   "metadata": {},
   "outputs": [],
   "source": [
    "# def detect_ss_pta_custom_noise(pulsars, fobs, hc_ss, hc_bg, noise,\n",
    "#               theta_ss=None, phi_ss=None, Phi0_ss=None, iota_ss=None, psi_ss=None, nskies=25, \n",
    "#               Fe_bar = None, red_amp=None, red_gamma=None, alpha_0=0.001, Fe_bar_guess=15,\n",
    "#               ret_snr=False, print_nans=False, snr_cython=True, gamma_cython=True, grid_path=detstats.GAMMA_RHO_GRID_PATH):\n",
    "#     \"\"\" Calculate the single source detection probability, and all intermediary steps for\n",
    "#     R strain realizations and S sky realizations.\n",
    "\n",
    "#     Parameters\n",
    "#     ----------\n",
    "#     pulsars : (P,) list of hasasia.Pulsar objects\n",
    "#         A set of pulsars generated by hasasia.sim.sim_pta()\n",
    "#     fobs : (F,) 1Darray of scalars\n",
    "#         Observer frame gw frequency bin centers in Hz.\n",
    "#     hc_ss : (F,R,L) NDarray of scalars\n",
    "#         Characteristic strain of the L loudest single sources at\n",
    "#         each frequency, for R realizations.\n",
    "#     hc_bg : (F,R)\n",
    "#         Characteristic strain of the background at each frequency,\n",
    "#         for R realizations.\n",
    "#     theta_ss : (F,S,L) NDarray\n",
    "#         Polar (latitudinal) angular position in the sky of each single source.\n",
    "#         Must be provided, to give the shape for sky realizations.\n",
    "#     phi_ss : (F,S,L) NDarray or None\n",
    "#         Azimuthal (longitudinal) angular position in the sky of each single source.\n",
    "#         If None, random values between 0 and 2pi will be assigned.\n",
    "#     Phi0_ss : (F,S,L) NDarray or None\n",
    "#         Initial GW phase.\n",
    "#         If None, random values between 0 and 2pi will be assigned.\n",
    "#     iota_ss : (F,S,L) NDarray or None\n",
    "#         Inclination of each single source with respect to the line of sight.\n",
    "#         If None, random values between 0 and pi will be assigned.\n",
    "#     psi_ss : (F,S,L) NDarray or None\n",
    "#         Polarization of each single source.\n",
    "#         If None, random values between 0 and pi will be assigned.\n",
    "#     Fe_bar : scalar or None\n",
    "#         Threshold F-statistic\n",
    "#     red_amp : scalar or None\n",
    "#         Amplitude of pulsar red noise.\n",
    "#     red_gamma : scalar or None\n",
    "#         Power law index of pulsar red noise.\n",
    "#     alpha_0 : scalar\n",
    "#         False alarm probability\n",
    "#     ret_snr : Bool\n",
    "#         Whether or not to also return snr_ss.\n",
    "\n",
    "#     Returns\n",
    "#     -------\n",
    "#     gamma_ss : (R,S) NDarray\n",
    "#         Probability of detecting any single source, for each R and S realization.\n",
    "#     snr_ss : (F,R,S,L) NDarray\n",
    "#         SNR of each single source. Returned only if ret_snr is True.\n",
    "#     gamma_ssi : (F,R,S,L) NDarray\n",
    "#         DP of each single source. Returned only if ret_snr is True.\n",
    "\n",
    "#     \"\"\"\n",
    "\n",
    "#     dur = 1.0/fobs[0]\n",
    "#     cad = 1.0/(2*fobs[-1])\n",
    "#     fobs_cents, fobs_edges = utils.pta_freqs(dur, num=len(fobs))\n",
    "#     dfobs = np.diff(fobs_edges)\n",
    "\n",
    "#     # Assign random single source sky params, if not provided.\n",
    "#     nfreqs, nreals, nloudest = [*hc_ss.shape]\n",
    "#     if theta_ss is None:\n",
    "#         theta_ss = np.random.uniform(0,np.pi, size=nfreqs*nskies*nloudest).reshape(nfreqs, nskies, nloudest)\n",
    "#     if phi_ss is None:\n",
    "#         phi_ss = np.random.uniform(0,2*np.pi, size=theta_ss.size).reshape(theta_ss.shape)\n",
    "#     if Phi0_ss is None:\n",
    "#         Phi0_ss = np.random.uniform(0,2*np.pi, size=theta_ss.size).reshape(theta_ss.shape)\n",
    "#     if iota_ss is None:\n",
    "#         iota_ss = np.random.uniform(0, np.pi, size = theta_ss.size).reshape(theta_ss.shape)\n",
    "#     if psi_ss is None:\n",
    "#         psi_ss = np.random.uniform(0, np.pi, size = theta_ss.size).reshape(theta_ss.shape)\n",
    "\n",
    "#     # unitary vectors\n",
    "#     m_hat = detstats._m_unitary_vector(theta_ss, phi_ss, psi_ss) # (3,F,S,L)\n",
    "#     n_hat = detstats._n_unitary_vector(theta_ss, phi_ss, psi_ss) # (3,F,S,L)\n",
    "#     Omega_hat = detstats._Omega_unitary_vector(theta_ss, phi_ss) # (3,F,S,L)\n",
    "\n",
    "\n",
    "#     # get pulsar properties\n",
    "#     thetas = np.zeros(len(pulsars))\n",
    "#     phis = np.zeros(len(pulsars))\n",
    "#     sigmas = np.zeros(len(pulsars))\n",
    "#     for ii in range(len(pulsars)):\n",
    "#         thetas[ii] = pulsars[ii].theta\n",
    "#         phis[ii] = pulsars[ii].phi\n",
    "#         sigmas[ii] = np.mean(pulsars[ii].toaerrs)\n",
    "\n",
    "#     pi_hat = detstats._pi_unitary_vector(phis, thetas) # (3,P)\n",
    "\n",
    "#     # antenna pattern functions\n",
    "#     F_iplus, F_icross = detstats._antenna_pattern_functions(m_hat, n_hat, Omega_hat,\n",
    "#                                                    pi_hat) # (P,F,S,L)\n",
    "\n",
    "#     # noise spectral density\n",
    "#     # S_i = detstats._total_noise(cad, sigmas, hc_ss, hc_bg, fobs, red_amp, red_gamma)\n",
    "#     S_i = noise\n",
    "#     if noise.shape != (npsrs, nfreqs, nreals, nloudest):\n",
    "#         err = f\"{noise.shape=}, must be shape (P,F,R,L)\"\n",
    "#         raise ValueError(err)\n",
    "\n",
    "#     # amplitudw\n",
    "#     amp = detstats._amplitude(hc_ss, fobs, dfobs) # (F,R,L)\n",
    "\n",
    "#     # SNR (includes a_pol, b_pol, and Phi_T calculations internally)\n",
    "#     if snr_cython:\n",
    "#         snr_ss = detstats._snr_ss(amp, F_iplus, F_icross, iota_ss, dur, Phi0_ss, S_i, fobs) # (F,R,S,L)\n",
    "#     else:\n",
    "#         snr_ss = detstats._snr_ss_5dim(amp, F_iplus, F_icross, iota_ss, dur, Phi0_ss, S_i, fobs) # (F,R,S,L)\n",
    "\n",
    "#     if gamma_cython:\n",
    "#         gamma_ssi = detstats._gamma_ssi_cython(snr_ss, grid_path=grid_path) # (F,R,S,L)\n",
    "#     else:\n",
    "#         if (Fe_bar is None):\n",
    "#             Num = hc_ss[:,0,:].size # number of single sources in a single strain realization (F*L)\n",
    "#             Fe_bar = detstats._Fe_thresh(Num, alpha_0=alpha_0, guess=Fe_bar_guess) # scalar\n",
    "\n",
    "#         gamma_ssi = detstats._gamma_ssi(Fe_bar, rho=snr_ss, print_nans=print_nans) # (F,R,S,L)\n",
    "#     gamma_ss = detstats._ss_detection_probability(gamma_ssi) # (R,S)\n",
    "\n",
    "#     if ret_snr:\n",
    "#         return gamma_ss, snr_ss, gamma_ssi\n",
    "#     else:\n",
    "#         return gamma_ss"
   ]
  },
  {
   "cell_type": "code",
   "execution_count": null,
   "metadata": {},
   "outputs": [],
   "source": [
    "# put noise_ss in desired shape"
   ]
  },
  {
   "cell_type": "markdown",
   "metadata": {},
   "source": [
    "$$ \\mathrm{noise} = \\frac{h_{c,sens}^2}{ 12\\pi^2 f^3 }$$"
   ]
  },
  {
   "cell_type": "code",
   "execution_count": null,
   "metadata": {},
   "outputs": [],
   "source": [
    "print(sc_ss.shape)\n",
    "noise_has_ss = sc_ss**2 / fobs_cents**3 / (12*np.pi**2)\n",
    "noise_ss = np.repeat(noise_has_ss, NPSRS*NREALS*NLOUDEST).reshape(NFREQS, NPSRS, NREALS, NLOUDEST) # (F,P,R,L)\n",
    "noise_ss = np.swapaxes(noise_ss, 0, 1) # (P,F,R,L)\n",
    "\n",
    "Sh_rest = detstats._Sh_rest_noise(hc_ss, hc_bg, fobs_cents) # (F,R,L)\n",
    "noise_ss = noise_ss + Sh_rest[np.newaxis,:,:,:]"
   ]
  },
  {
   "cell_type": "code",
   "execution_count": null,
   "metadata": {},
   "outputs": [],
   "source": [
    "dp_ss_has, snr_ss_has, dp_ssi_has = detstats.detect_ss_pta(\n",
    "    psrs, fobs_cents, hc_ss, hc_bg, nskies=NSKIES,\n",
    "    custom_noise=noise_ss, ret_snr=True)\n",
    "dp_ss_def, snr_ss_def, dp_ssi_def = detstats.detect_ss_pta(\n",
    "    psrs, fobs_cents, hc_ss, hc_bg, nskies=NSKIES,\n",
    "    custom_noise=None, ret_snr=True)"
   ]
  },
  {
   "cell_type": "code",
   "execution_count": null,
   "metadata": {},
   "outputs": [],
   "source": [
    "fig, ax = plot.figax(\n",
    "    xlabel=plot.LABEL_GW_FREQUENCY_YR, ylabel='0th Loudest Detection Probability')\n",
    "xx = fobs_cents*YR\n",
    "\n",
    "y1 = dp_ssi_has[:,:,:,0].reshape(NFREQS, NREALS*NSKIES)\n",
    "label1 = 'noise = has.sc + rest'\n",
    "y2 = dp_ssi_def[:,:,:,0].reshape(NFREQS, NREALS*NSKIES)\n",
    "label2 = 'noise = white + rest'\n",
    "\n",
    "handles = []\n",
    "for yy  in [y1, y2]:\n",
    "    hh = plot.draw_med_conf(ax, xx, yy,)\n",
    "    handles.append(hh)\n",
    "\n",
    "ax.legend(handles=handles, labels=[label1, label2])\n"
   ]
  },
  {
   "cell_type": "code",
   "execution_count": null,
   "metadata": {},
   "outputs": [],
   "source": [
    "fig, ax = plot.figax(\n",
    "    xlabel=plot.LABEL_GW_FREQUENCY_YR, ylabel='Top 3 Detection Probability')\n",
    "xx = fobs_cents*YR\n",
    "\n",
    "y1 = dp_ssi_has[:,:,:,:3].reshape(NFREQS, NREALS*3*NSKIES)\n",
    "label1 = 'noise = has.sc + rest'\n",
    "y2 = dp_ssi_def[:,:,:,:3].reshape(NFREQS, NREALS*3*NSKIES)\n",
    "label2 = 'noise = white + rest'\n",
    "\n",
    "handles = []\n",
    "for yy  in [y1, y2]:\n",
    "    hh = plot.draw_med_conf(ax, xx, yy,)\n",
    "    handles.append(hh)\n",
    "\n",
    "ax.legend(handles=handles, labels=[label1, label2])\n"
   ]
  },
  {
   "cell_type": "code",
   "execution_count": null,
   "metadata": {},
   "outputs": [],
   "source": [
    "fig, ax = plot.figax(\n",
    "    xlabel=plot.LABEL_GW_FREQUENCY_YR, ylabel='0th Loudest SNR')\n",
    "xx = fobs_cents*YR\n",
    "\n",
    "y1 = snr_ss_has[:,:,:,0].reshape(NFREQS, NREALS*NSKIES)\n",
    "label1 = 'noise = has.sc + rest'\n",
    "y2 = snr_ss_def[:,:,:,0].reshape(NFREQS, NREALS*NSKIES)\n",
    "label2 = 'noise = white + rest'\n",
    "\n",
    "handles = []\n",
    "for yy  in [y1, y2]:\n",
    "    hh = plot.draw_med_conf(ax, xx, yy,)\n",
    "    handles.append(hh)\n",
    "\n",
    "ax.legend(handles=handles, labels=[label1, label2])\n"
   ]
  },
  {
   "cell_type": "code",
   "execution_count": null,
   "metadata": {},
   "outputs": [],
   "source": [
    "total_noise_ss = detstats._total_noise(cad, np.repeat(sigma, NPSRS), hc_ss, hc_bg, fobs_cents)\n",
    "print(total_noise_ss.shape)\n",
    "\n",
    "white_noise = detstats._white_noise(cad, np.repeat(sigma, NPSRS))\n",
    "print(white_noise.shape)"
   ]
  },
  {
   "cell_type": "code",
   "execution_count": null,
   "metadata": {},
   "outputs": [],
   "source": [
    "print(noise_has_ss.shape)"
   ]
  },
  {
   "cell_type": "code",
   "execution_count": null,
   "metadata": {},
   "outputs": [],
   "source": [
    "fig, ax = plot.figax(xlabel=plot.LABEL_GW_FREQUENCY_YR, ylabel='noise')\n",
    "xx = fobs_cents*YR\n",
    "\n",
    "y1 = np.swapaxes(noise_ss[:,:,:,0], 0,1).reshape(NFREQS, NPSRS*NREALS)\n",
    "label1 = 'noise = has.sc + hc_rest'\n",
    "y2 = np.swapaxes(total_noise_ss[:,:,:,0], 0,1).reshape(NFREQS, NPSRS*NREALS)\n",
    "label2 = 'noise = white + hc_rest'\n",
    "y3 = white_noise[:,np.newaxis]\n",
    "label3 = 'white'\n",
    "y4 = (detstats._Sh_rest_noise(hc_ss, hc_bg, fobs_cents))[:,:,0]\n",
    "label4 = 'hc_rest'\n",
    "y5 = noise_has_ss[:,np.newaxis]\n",
    "label5 = 'has sens curve'\n",
    "print(y3.shape, y4.shape)\n",
    "\n",
    "handles = []\n",
    "for yy  in [y1, y2, y3, y4, y5]:\n",
    "    hh = plot.draw_med_conf(ax, xx, yy,)\n",
    "    handles.append(hh)\n",
    "labels = [label1, label2, label3, label4, label5]\n",
    "ax.legend(handles=handles, labels=labels)\n"
   ]
  },
  {
   "cell_type": "code",
   "execution_count": null,
   "metadata": {},
   "outputs": [],
   "source": [
    "print(sigma)\n",
    "print(holo.utils.stats(white_noise))"
   ]
  },
  {
   "cell_type": "code",
   "execution_count": null,
   "metadata": {},
   "outputs": [],
   "source": []
  },
  {
   "cell_type": "code",
   "execution_count": null,
   "metadata": {},
   "outputs": [],
   "source": []
  }
 ],
 "metadata": {
  "kernelspec": {
   "display_name": "holo310",
   "language": "python",
   "name": "python3"
  },
  "language_info": {
   "codemirror_mode": {
    "name": "ipython",
    "version": 3
   },
   "file_extension": ".py",
   "mimetype": "text/x-python",
   "name": "python",
   "nbconvert_exporter": "python",
   "pygments_lexer": "ipython3",
   "version": "3.10.10"
  }
 },
 "nbformat": 4,
 "nbformat_minor": 2
}
