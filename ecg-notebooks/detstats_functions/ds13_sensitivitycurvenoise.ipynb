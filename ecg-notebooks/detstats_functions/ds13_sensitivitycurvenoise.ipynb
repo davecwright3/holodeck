{
 "cells": [
  {
   "cell_type": "code",
   "execution_count": null,
   "metadata": {},
   "outputs": [],
   "source": [
    "%reload_ext autoreload\n",
    "%autoreload 2\n",
    "from importlib import reload\n",
    "\n",
    "import numpy as np\n",
    "import matplotlib.pyplot as plt\n",
    "import matplotlib.cm as cm\n",
    "import h5py\n",
    "import os\n",
    "\n",
    "from holodeck import plot, detstats, utils\n",
    "from holodeck.constants import YR, MSOL, MPC, GYR\n",
    "import holodeck as holo\n",
    "\n",
    "import hasasia.sensitivity as hsen\n",
    "import hasasia.sim as hsim\n",
    "import hasasia.skymap as hsky"
   ]
  },
  {
   "cell_type": "code",
   "execution_count": null,
   "metadata": {},
   "outputs": [],
   "source": [
    "SHAPE = None\n",
    "NREALS = 500\n",
    "NFREQS = 40\n",
    "NLOUDEST = 10\n",
    "\n",
    "SAVEFIG = False\n",
    "TOL=0.01\n",
    "MAXBADS=5\n",
    "\n",
    "RED_GAMMA = None\n",
    "RED2WHITE = None\n",
    "\n",
    "NVARS = 21\n",
    "\n",
    "NPSRS = 40\n",
    "NSKIES = 100\n",
    "TARGET = 'gsmf_phi0' # EDIT AS NEEDED\n",
    "TITLE = plot.PARAM_KEYS[TARGET]  # EDIT AS NEEDED"
   ]
  },
  {
   "cell_type": "code",
   "execution_count": null,
   "metadata": {},
   "outputs": [],
   "source": [
    "def get_data(\n",
    "        target, nvars=NVARS, nreals=NREALS, nskies=NSKIES, shape=SHAPE, red_gamma = None, red2white=None,\n",
    "    path = '/Users/emigardiner/GWs/holodeck/output/anatomy_redz',     \n",
    "):\n",
    "    load_data_from_file = path+f'/{target}_v{nvars}_r{nreals}_shape{str(shape)}/data_params.npz' \n",
    "\n",
    "    if os.path.exists(load_data_from_file) is False:\n",
    "        err = f\"load data file '{load_data_from_file}' does not exist, you need to construct it.\"\n",
    "        raise Exception(err)\n",
    "    file = np.load(load_data_from_file, allow_pickle=True)\n",
    "    data = file['data']\n",
    "    params = file['params']\n",
    "    file.close()\n",
    "    print(target, \"got data\")\n",
    "\n",
    "    return data, params"
   ]
  },
  {
   "cell_type": "code",
   "execution_count": null,
   "metadata": {},
   "outputs": [],
   "source": [
    "data, params = get_data(TARGET)"
   ]
  },
  {
   "cell_type": "code",
   "execution_count": null,
   "metadata": {},
   "outputs": [],
   "source": [
    "var=10\n",
    "\n",
    "fobs_cents = data[var]['fobs_cents']\n",
    "dur = 1.0 / fobs_cents[0]\n",
    "cad = 1.0 / (2.0 * fobs_cents[-1])\n",
    "hc_ss = data[var]['hc_ss']\n",
    "hc_bg = data[var]['hc_bg']"
   ]
  },
  {
   "cell_type": "code",
   "execution_count": null,
   "metadata": {},
   "outputs": [],
   "source": [
    "phis = None\n",
    "thetas = None\n",
    "npsrs = NPSRS\n",
    "red2white = RED2WHITE\n",
    "sigstart = 1.5e-7\n",
    "\n",
    "# randomize pulsar positions\n",
    "if phis is None: phis = np.random.uniform(0, 2*np.pi, size = npsrs)\n",
    "if thetas is None: thetas = np.random.uniform(np.pi/2, np.pi/2, size = npsrs)\n",
    "sigma = sigstart\n",
    "# if red2white is not None:\n",
    "#     red_amp = _white_noise(cad, sigma) * red2white\n",
    "\n",
    "psrs = hsim.sim_pta(timespan=dur/YR, cad=1/(cad/YR), sigma=sigma,\n",
    "                phi=phis, theta=thetas)"
   ]
  },
  {
   "cell_type": "code",
   "execution_count": null,
   "metadata": {},
   "outputs": [],
   "source": [
    "dp_bg = detstats.detect_bg_pta(psrs, fobs_cents, hc_bg=hc_bg[:,np.newaxis], hc_ss=hc_ss[:,np.newaxis,:],\n",
    "                            red_amp=None, red_gamma=None, ss_noise=False)[0]\n",
    "print(holo.utils.stats(dp_bg))"
   ]
  },
  {
   "cell_type": "code",
   "execution_count": null,
   "metadata": {},
   "outputs": [],
   "source": [
    "spectra = []\n",
    "for psr in psrs:\n",
    "    sp = hsen.Spectrum(psr, freqs=fobs_cents)\n",
    "    sp.NcalInv\n",
    "    spectra.append(sp)"
   ]
  },
  {
   "cell_type": "code",
   "execution_count": null,
   "metadata": {},
   "outputs": [],
   "source": [
    "sc_ss = hsen.DeterSensitivityCurve(spectra)\n",
    "sc_bg = hsen.GWBSensitivityCurve(spectra)"
   ]
  },
  {
   "cell_type": "code",
   "execution_count": null,
   "metadata": {},
   "outputs": [],
   "source": [
    "noise_ss = sc_ss.h_c\n",
    "noise_bg = sc_bg.h_c"
   ]
  },
  {
   "cell_type": "code",
   "execution_count": null,
   "metadata": {},
   "outputs": [],
   "source": [
    "fig, ax = plot.figax(xlabel=plot.LABEL_GW_FREQUENCY_YR, ylabel=plot.LABEL_CHARACTERISTIC_STRAIN)\n",
    "xx = fobs_cents*YR\n",
    "ax.plot(xx, noise_bg, label='BG Sensitivity', linestyle='--', color='tab:blue')\n",
    "ax.plot(xx, noise_ss, label='SS Sensitivity', linestyle='--', color='tab:pink')\n",
    "\n",
    "ax.fill_between(xx, *np.percentile(hc_bg, (25,75), axis=-1), \n",
    "                color='tab:blue', alpha=0.2)\n",
    "ax.plot(xx, np.median(hc_bg, axis=-1), label='hc_BG', color='tab:blue')\n",
    "\n",
    "ax.fill_between(xx, *np.percentile(hc_ss[:,:,0], (25, 75), axis=-1),\n",
    "                color='tab:pink', alpha=0.2)\n",
    "ax.plot(xx, np.median(hc_ss[:,:,0], axis=-1), label='hc_SS', color='tab:pink')\n",
    "ax.legend()"
   ]
  },
  {
   "cell_type": "code",
   "execution_count": null,
   "metadata": {},
   "outputs": [],
   "source": []
  }
 ],
 "metadata": {
  "kernelspec": {
   "display_name": "holo310",
   "language": "python",
   "name": "python3"
  },
  "language_info": {
   "codemirror_mode": {
    "name": "ipython",
    "version": 3
   },
   "file_extension": ".py",
   "mimetype": "text/x-python",
   "name": "python",
   "nbconvert_exporter": "python",
   "pygments_lexer": "ipython3",
   "version": "3.10.10"
  }
 },
 "nbformat": 4,
 "nbformat_minor": 2
}
