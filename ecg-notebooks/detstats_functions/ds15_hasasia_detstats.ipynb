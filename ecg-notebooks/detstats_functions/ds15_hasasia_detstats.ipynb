{
 "cells": [
  {
   "cell_type": "code",
   "execution_count": null,
   "metadata": {},
   "outputs": [],
   "source": [
    "%reload_ext autoreload\n",
    "%autoreload 2\n",
    "from importlib import reload\n",
    "\n",
    "import numpy as np\n",
    "import matplotlib.pyplot as plt\n",
    "import matplotlib.cm as cm\n",
    "import h5py\n",
    "import os\n",
    "\n",
    "from holodeck import plot, detstats, utils\n",
    "from holodeck.constants import YR, MSOL, MPC, GYR\n",
    "import holodeck as holo\n",
    "\n",
    "import hasasia.sensitivity as hsen\n",
    "import hasasia.sim as hsim\n",
    "import hasasia.skymap as hsky"
   ]
  },
  {
   "cell_type": "code",
   "execution_count": null,
   "metadata": {},
   "outputs": [],
   "source": [
    "def detect_bg_hasasia(pulsars, fobs, hc_bg, ):\n",
    "    \"\"\" Calculate the background detection probability using hasasia\"\"\"\n",
    "    dur = 1.0/fobs[0]\n",
    "    cad = 1.0/(2*fobs[-1])\n",
    "    _, fobs_edges = utils.pta_freqs(dur, num=len(fobs))\n",
    "    dfobs = np.diff(fobs_edges)\n",
    "\n"
   ]
  },
  {
   "cell_type": "code",
   "execution_count": null,
   "metadata": {},
   "outputs": [],
   "source": [
    "def detect_ss_hasasia(pulsars, fobs, hc_ss, hc_bg, nskies=100):\n",
    "    \"\"\" Calculate the single source detection probability using hasasia\"\"\"\n",
    "    dur = 1.0/fobs[0]\n",
    "    cad = 1.0/(2*fobs[-1])\n",
    "    _, fobs_edges = utils.pta_freqs(dur, num=len(fobs))\n",
    "    dfobs = np.diff(fobs_edges)\n",
    "\n",
    "\n",
    "    # Assign random single source sky params, if not provided.\n",
    "    nfreqs, nreals, nloudest = [*hc_ss.shape]\n",
    "    if theta_ss is None:\n",
    "        theta_ss = np.random.uniform(0,np.pi, size=nfreqs*nskies*nloudest).reshape(nfreqs, nskies, nloudest)\n",
    "    if phi_ss is None:\n",
    "        phi_ss = np.random.uniform(0,2*np.pi, size=theta_ss.size).reshape(theta_ss.shape)\n",
    "    if Phi0_ss is None:\n",
    "        Phi0_ss = np.random.uniform(0,2*np.pi, size=theta_ss.size).reshape(theta_ss.shape)\n",
    "    if iota_ss is None:\n",
    "        iota_ss = np.random.uniform(0, np.pi, size = theta_ss.size).reshape(theta_ss.shape)\n",
    "    if psi_ss is None:\n",
    "        psi_ss = np.random.uniform(0, np.pi, size = theta_ss.size).reshape(theta_ss.shape)\n",
    "\n",
    "\n"
   ]
  }
 ],
 "metadata": {
  "kernelspec": {
   "display_name": "holo310",
   "language": "python",
   "name": "python3"
  },
  "language_info": {
   "codemirror_mode": {
    "name": "ipython",
    "version": 3
   },
   "file_extension": ".py",
   "mimetype": "text/x-python",
   "name": "python",
   "nbconvert_exporter": "python",
   "pygments_lexer": "ipython3",
   "version": "3.10.10"
  }
 },
 "nbformat": 4,
 "nbformat_minor": 2
}
