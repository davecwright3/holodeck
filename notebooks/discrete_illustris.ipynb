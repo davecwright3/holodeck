{
 "cells": [
  {
   "cell_type": "code",
   "execution_count": null,
   "metadata": {},
   "outputs": [],
   "source": [
    "# %load ./init.ipy\n",
    "%reload_ext autoreload\n",
    "%autoreload 2\n",
    "from importlib import reload\n",
    "\n",
    "import os\n",
    "import sys\n",
    "import logging\n",
    "import warnings\n",
    "import numpy as np\n",
    "import astropy as ap\n",
    "import scipy as sp\n",
    "import scipy.stats\n",
    "import matplotlib as mpl\n",
    "import matplotlib.pyplot as plt\n",
    "\n",
    "import h5py\n",
    "import tqdm.notebook as tqdm\n",
    "\n",
    "import kalepy as kale\n",
    "import kalepy.utils\n",
    "import kalepy.plot\n",
    "\n",
    "import holodeck as holo\n",
    "import holodeck.sam\n",
    "import holodeck.gravwaves\n",
    "from holodeck import cosmo, utils, plot\n",
    "from holodeck.constants import MSOL, PC, YR, MPC, GYR, SPLC\n",
    "\n",
    "# Silence annoying numpy errors\n",
    "np.seterr(divide='ignore', invalid='ignore', over='ignore')\n",
    "warnings.filterwarnings(\"ignore\", category=UserWarning)\n",
    "\n",
    "# Plotting settings\n",
    "mpl.rc('font', **{'family': 'serif', 'sans-serif': ['Times'], 'size': 15})\n",
    "mpl.rc('lines', solid_capstyle='round')\n",
    "mpl.rc('mathtext', fontset='cm')\n",
    "plt.rcParams.update({'grid.alpha': 0.5})\n",
    "mpl.style.use('default')   # avoid dark backgrounds from dark theme vscode\n",
    "\n",
    "log = holo.log\n",
    "log.setLevel(logging.INFO)"
   ]
  },
  {
   "cell_type": "markdown",
   "metadata": {},
   "source": [
    "# Quick: Population, Evolution, GW Spectrum"
   ]
  },
  {
   "cell_type": "code",
   "execution_count": null,
   "metadata": {},
   "outputs": [],
   "source": [
    "# ---- Create initial population\n",
    "\n",
    "pop = holo.population.Pop_Illustris()\n",
    "\n",
    "# ---- Apply population modifiers\n",
    "\n",
    "# resample to increase the number of binaries\n",
    "mod_resamp = holo.population.PM_Resample(resample=2.0)\n",
    "# modify population (in-place)\n",
    "pop.modify(mod_resamp)\n",
    "\n",
    "# ---- Evolve binary population\n",
    "\n",
    "# create a fixed-total-time hardening mechanism\n",
    "fixed = holo.evolution.Fixed_Time.from_pop(pop, 2.0 * GYR)\n",
    "# add population and hardening to an evolution instance\n",
    "evo = holo.evolution.Evolution(pop, fixed)\n",
    "# evolve binary population\n",
    "evo.evolve()\n",
    "\n",
    "# ---- Calculate and Plot GWB\n",
    "\n",
    "# construct sampling frequencies\n",
    "freqs = holo.utils.nyquist_freqs(dur=20.0*YR, cad=0.3*YR)\n",
    "# calculate discretized GW signals\n",
    "gwb = holo.gravwaves.GW_Discrete(evo, freqs, nreals=30)\n",
    "gwb.emit()\n",
    "\n",
    "plot.plot_gwb(gwb)\n",
    "plt.show()"
   ]
  },
  {
   "cell_type": "markdown",
   "metadata": {},
   "source": [
    "# Step-by-Step"
   ]
  },
  {
   "cell_type": "markdown",
   "metadata": {},
   "source": [
    "## Construct Illustris-Based Binary Population"
   ]
  },
  {
   "cell_type": "code",
   "execution_count": null,
   "metadata": {},
   "outputs": [],
   "source": [
    "pop = holo.population.Pop_Illustris()\n",
    "ill_name = os.path.basename(pop._fname).split('_')[1]\n",
    "print(\"Loaded\", pop.size, \"binaries from Illustris\", ill_name)"
   ]
  },
  {
   "cell_type": "code",
   "execution_count": null,
   "metadata": {},
   "outputs": [],
   "source": [
    "plot.plot_bin_pop(pop)\n",
    "plt.show()"
   ]
  },
  {
   "cell_type": "markdown",
   "metadata": {},
   "source": [
    "### Apply a modifier to resample binary population"
   ]
  },
  {
   "cell_type": "code",
   "execution_count": null,
   "metadata": {},
   "outputs": [],
   "source": [
    "mod_resamp = holo.population.PM_Resample(resample=2.0)\n",
    "pop.modify(mod_resamp)\n",
    "print(\"Population now has\", pop.size, \"elements\")"
   ]
  },
  {
   "cell_type": "markdown",
   "metadata": {},
   "source": [
    "### Apply Modifer to Use McConnell+Ma 2013 BH masses"
   ]
  },
  {
   "cell_type": "code",
   "execution_count": null,
   "metadata": {},
   "outputs": [],
   "source": [
    "# Create the modifier using M-Mbulge relation\n",
    "# mod_mm13 = holo.PM_MM13(relation='mbulge')\n",
    "mmbulge = holo.relations.MMBulge_MM13()\n",
    "mod_mm13 = holo.population.PM_Mass_Reset(mmbulge, scatter=True)\n",
    "\n",
    "# Choose percentiles\n",
    "percs = 100*sp.stats.norm.cdf([-1, 0, 1])\n",
    "percs = [0,] + percs.tolist() + [100,]\n",
    "\n",
    "# Format nicely\n",
    "str_array = lambda xx: \", \".join([\"{:.2e}\".format(yy) for yy in xx])\n",
    "str_masses = lambda xx: str_array(np.percentile(xx/MSOL, percs))\n",
    "\n",
    "# Modify population\n",
    "print(\"Masses before: \", str_masses(pop.mass))\n",
    "pop.modify(mod_mm13)\n",
    "print(\"Masses after : \", str_masses(pop.mass))\n",
    "    \n",
    "plot.plot_mbh_scaling_relations(pop)\n",
    "plt.show()"
   ]
  },
  {
   "cell_type": "markdown",
   "metadata": {},
   "source": [
    "# Binary Evolution"
   ]
  },
  {
   "cell_type": "code",
   "execution_count": null,
   "metadata": {},
   "outputs": [],
   "source": [
    "# Set timescale for all binaries to merge over\n",
    "fix_time = 2.0 * GYR\n",
    "# Construct 'hardening' instance for this fixed time\n",
    "fixed = holo.evolution.Fixed_Time.from_pop(pop, fix_time)\n",
    "# Construct evolution instance using fixed time hardening\n",
    "evo = holo.evolution.Evolution(pop, fixed)\n",
    "# Evolve population\n",
    "evo.evolve()"
   ]
  },
  {
   "cell_type": "markdown",
   "metadata": {},
   "source": [
    "## Compare resulting lifetimes to targeted lifetime"
   ]
  },
  {
   "cell_type": "markdown",
   "metadata": {},
   "source": [
    "Make sure that the resulting evolution timescale is consistent with the desired timescale (`fix_time`).\n",
    "It's okay if there is some difference (a few percent) as the method is approximate."
   ]
  },
  {
   "cell_type": "code",
   "execution_count": null,
   "metadata": {},
   "outputs": [],
   "source": [
    "# Calculate the total lifetime of each binary\n",
    "time = evo.tlbk\n",
    "dt = time[:, 0] - time[:, -1]\n",
    "\n",
    "# Create figure\n",
    "fig, ax = plot.figax(scale='lin', xlabel='Time: actual/specified', ylabel='density')\n",
    "# use kalepy to plot distribution\n",
    "kale.dist1d(dt/fix_time, density=True)\n",
    "\n",
    "plt.show()"
   ]
  },
  {
   "cell_type": "markdown",
   "metadata": {},
   "source": [
    "## Plot Hardening Rate vs. Separation"
   ]
  },
  {
   "cell_type": "code",
   "execution_count": null,
   "metadata": {},
   "outputs": [],
   "source": [
    "# Create spacing in separation (xaxis) to plot against\n",
    "sepa = np.logspace(-4, 4, 100) * PC\n",
    "# Plot hardening rates\n",
    "plot.plot_evo(evo, sepa=sepa)\n",
    "\n",
    "plt.show()"
   ]
  },
  {
   "cell_type": "markdown",
   "metadata": {},
   "source": [
    "## Plot Hardening Rate vs. Frequency"
   ]
  },
  {
   "cell_type": "code",
   "execution_count": null,
   "metadata": {},
   "outputs": [],
   "source": [
    "# Create frequency spacing (xaxis) to plot against\n",
    "# freqs = np.logspace(-2, 1, 20) / YR\n",
    "fobs = holo.utils.nyquist_freqs(20.0, 0.3) / YR\n",
    "\n",
    "plot.plot_evo(evo, freqs=fobs)\n",
    "plt.show()"
   ]
  },
  {
   "cell_type": "markdown",
   "metadata": {},
   "source": [
    "# Calculate GWB"
   ]
  },
  {
   "cell_type": "code",
   "execution_count": null,
   "metadata": {},
   "outputs": [],
   "source": [
    "# freqs = holo.utils.nyquist_freqs(20.0, 0.3) / YR\n",
    "gwb = holo.gravwaves.GW_Discrete(evo, fobs, nreals=5)\n",
    "gwb.emit()"
   ]
  },
  {
   "cell_type": "code",
   "execution_count": null,
   "metadata": {},
   "outputs": [],
   "source": [
    "plot.plot_gwb(gwb)\n",
    "plt.show()"
   ]
  },
  {
   "cell_type": "markdown",
   "metadata": {},
   "source": [
    "# Sample Full Light-Cone Population of Binaries"
   ]
  },
  {
   "cell_type": "code",
   "execution_count": null,
   "metadata": {},
   "outputs": [],
   "source": [
    "pop = holo.population.Pop_Illustris()\n",
    "mod_resamp = holo.population.PM_Resample(resample=2.0)\n",
    "pop.modify(mod_resamp)\n",
    "\n",
    "mmbulge = holo.relations.MMBulge_MM13(mamp=7e8*MSOL)\n",
    "mod_mm13 = holo.population.PM_Mass_Reset(mmbulge, scatter=True)\n",
    "pop.modify(mod_mm13)\n",
    "\n",
    "fixed = holo.evolution.Fixed_Time.from_pop(pop, 2.0 * GYR)\n",
    "evo = holo.evolution.Evolution(pop, fixed)\n",
    "evo.evolve()"
   ]
  },
  {
   "cell_type": "code",
   "execution_count": null,
   "metadata": {},
   "outputs": [],
   "source": [
    "fobs = holo.utils.nyquist_freqs(20.0 * YR, 0.2 * YR)"
   ]
  },
  {
   "cell_type": "code",
   "execution_count": null,
   "metadata": {},
   "outputs": [],
   "source": [
    "gwb = holo.gravwaves.GW_Discrete(evo, fobs, nreals=10)\n",
    "gwb.emit()\n",
    "\n",
    "plot.plot_gwb(gwb)\n",
    "plt.show()"
   ]
  },
  {
   "cell_type": "code",
   "execution_count": null,
   "metadata": {},
   "outputs": [],
   "source": [
    "# samples = evo.sample_full_population(fobs, DOWN=None)\n",
    "# hs, fo = holo.sam._strains_from_samples(samples)\n",
    "\n",
    "# nloud = 5\n",
    "# colors = plot._get_cmap('plasma')(np.linspace(0.05, 0.95, nloud))# print(colors)\n",
    "\n",
    "# fig, ax = plot.figax(figsize=[12, 8], xlabel='Frequency [yr$^{-1}$]', ylabel='c-Strain')\n",
    "# for ii in utils.tqdm(range(fobs.size-1)):\n",
    "#     # if ii < 10 or ii > 16:\n",
    "#     #     continue\n",
    "    \n",
    "#     fextr = [fobs[ii+jj] for jj in range(2)]\n",
    "#     fextr = np.asarray(fextr)\n",
    "#     cycles = 1.0 / np.diff(np.log(fextr))[0]\n",
    "\n",
    "#     idx = (fextr[0] <= fo) & (fo < fextr[1])\n",
    "#     hs_bin = hs[idx]\n",
    "#     fo_bin = fo[idx]    \n",
    "\n",
    "#     tot = np.sqrt(np.sum(cycles * hs_bin**2))\n",
    "#     ax.plot(fextr*YR, tot * np.ones_like(fextr), 'k--')\n",
    "\n",
    "#     idx = np.argsort(hs_bin)[::-1]\n",
    "    \n",
    "#     for jj, cc in enumerate(colors):\n",
    "#         if jj > len(idx):\n",
    "#             break\n",
    "#         hi = idx[jj]\n",
    "#         lo = idx[jj+1:]\n",
    "#         gw_hi = np.sqrt(np.sum(cycles * hs_bin[hi]**2))\n",
    "#         gw_lo = np.sqrt(np.sum(cycles * hs_bin[lo]**2))\n",
    "\n",
    "#         fave = np.average(fo_bin[hi], weights=hs_bin[hi])\n",
    "#         ax.plot(fextr*YR, gw_lo * np.ones_like(fextr), color=cc, lw=0.5)\n",
    "#         ax.scatter(fave*YR, gw_hi, marker='.', color=cc, alpha=0.5)\n",
    "\n",
    "# plt.show()"
   ]
  }
 ],
 "metadata": {
  "interpreter": {
   "hash": "61b4062b24dfb1010f420dad5aa3bd73a4d2af47d0ec44eafec465a35a9d7239"
  },
  "kernelspec": {
   "display_name": "Python 3.9.12 ('py39')",
   "language": "python",
   "name": "python3"
  },
  "language_info": {
   "codemirror_mode": {
    "name": "ipython",
    "version": 3
   },
   "file_extension": ".py",
   "mimetype": "text/x-python",
   "name": "python",
   "nbconvert_exporter": "python",
   "pygments_lexer": "ipython3",
   "version": "3.9.12"
  },
  "toc": {
   "base_numbering": 1,
   "nav_menu": {},
   "number_sections": true,
   "sideBar": true,
   "skip_h1_title": false,
   "title_cell": "Table of Contents",
   "title_sidebar": "Contents",
   "toc_cell": false,
   "toc_position": {},
   "toc_section_display": true,
   "toc_window_display": true
  },
  "varInspector": {
   "cols": {
    "lenName": 16,
    "lenType": 16,
    "lenVar": 40
   },
   "kernels_config": {
    "python": {
     "delete_cmd_postfix": "",
     "delete_cmd_prefix": "del ",
     "library": "var_list.py",
     "varRefreshCmd": "print(var_dic_list())"
    },
    "r": {
     "delete_cmd_postfix": ") ",
     "delete_cmd_prefix": "rm(",
     "library": "var_list.r",
     "varRefreshCmd": "cat(var_dic_list()) "
    }
   },
   "types_to_exclude": [
    "module",
    "function",
    "builtin_function_or_method",
    "instance",
    "_Feature"
   ],
   "window_display": false
  }
 },
 "nbformat": 4,
 "nbformat_minor": 4
}
