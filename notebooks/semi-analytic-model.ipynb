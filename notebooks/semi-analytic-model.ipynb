{
 "cells": [
  {
   "cell_type": "code",
   "execution_count": null,
   "id": "f9a9d9bc",
   "metadata": {},
   "outputs": [],
   "source": [
    "# %load ./init.ipy\n",
    "%reload_ext autoreload\n",
    "%autoreload 2\n",
    "from importlib import reload\n",
    "\n",
    "import os\n",
    "import sys\n",
    "import logging\n",
    "import warnings\n",
    "import numpy as np\n",
    "import astropy as ap\n",
    "import scipy as sp\n",
    "import scipy.stats\n",
    "import matplotlib as mpl\n",
    "import matplotlib.pyplot as plt\n",
    "\n",
    "import h5py\n",
    "import tqdm.notebook as tqdm\n",
    "\n",
    "import kalepy as kale\n",
    "# import kalepy.utils\n",
    "import kalepy.plot\n",
    "\n",
    "import holodeck as holo\n",
    "import holodeck.sam\n",
    "from holodeck import utils, plot, cosmo\n",
    "from holodeck.constants import MSOL, PC, YR, MPC, GYR, SPLC\n",
    "\n",
    "# Silence annoying numpy errors\n",
    "np.seterr(divide='ignore', invalid='ignore', over='ignore')\n",
    "warnings.filterwarnings(\"ignore\", category=UserWarning)\n",
    "\n",
    "# Plotting settings\n",
    "mpl.rc('font', **{'family': 'serif', 'sans-serif': ['Times'], 'size': 15})\n",
    "mpl.rc('lines', solid_capstyle='round')\n",
    "mpl.rc('mathtext', fontset='cm')\n",
    "plt.rcParams.update({'grid.alpha': 0.5})\n",
    "\n",
    "log = holo.log\n",
    "log.setLevel(logging.INFO)"
   ]
  },
  {
   "cell_type": "markdown",
   "id": "630dd2a1",
   "metadata": {},
   "source": [
    "# Quick Start"
   ]
  },
  {
   "cell_type": "code",
   "execution_count": null,
   "id": "4f80bc42",
   "metadata": {},
   "outputs": [],
   "source": [
    "# ---- Construct S.A.M. with default settings ----\n",
    "sam = holo.sam.Semi_Analytic_Model(mtot=[2.75e5*MSOL, 1.0e11*MSOL, 23], mrat=[0.02, 1.0, 25], redz=[0.0, 6.0, 31])"
   ]
  },
  {
   "cell_type": "code",
   "execution_count": null,
   "id": "a4e14d8e",
   "metadata": {},
   "outputs": [],
   "source": [
    "# ---- Choose frequencies, and calculate GWB ----\n",
    "fobs = utils.nyquist_freqs(15.0*YR, 0.1*YR)\n",
    "print(utils.stats(1/(fobs*YR)), \"[yr]\")"
   ]
  },
  {
   "cell_type": "code",
   "execution_count": null,
   "id": "abde3ae2",
   "metadata": {},
   "outputs": [],
   "source": [
    "gwb = sam.gwb(fobs, realize=10)    # calculate 10 different realizations"
   ]
  },
  {
   "cell_type": "code",
   "execution_count": null,
   "id": "b69aed2a",
   "metadata": {},
   "outputs": [],
   "source": [
    "# ---- Plot GWB ----\n",
    "\n",
    "fig, ax = plt.subplots(figsize=[15, 8])\n",
    "ax.set(xscale='log', xlabel='Frequency [1/yr]', yscale='log', ylabel='Characteristic Strain')\n",
    "ax.grid(alpha=0.2)\n",
    "\n",
    "xx = fobs * YR\n",
    "yy = 1e-15 * np.power(xx, -2.0/3.0)\n",
    "ax.plot(xx, yy, 'k--', alpha=0.25, lw=2.0)\n",
    "ax.plot(xx, np.median(gwb, axis=-1), 'k-')\n",
    "for pp in [50, 98]:\n",
    "    percs = pp / 2\n",
    "    percs = [50 - percs, 50 + percs]\n",
    "    ax.fill_between(xx, *np.percentile(gwb, percs, axis=-1), alpha=0.25, color='b')\n",
    "\n",
    "plt.show()"
   ]
  },
  {
   "cell_type": "markdown",
   "id": "835aec19",
   "metadata": {},
   "source": [
    "# build SAM component-by-component"
   ]
  },
  {
   "cell_type": "code",
   "execution_count": null,
   "id": "7dacb18d",
   "metadata": {},
   "outputs": [],
   "source": [
    "gsmf = holo.sam.GSMF_Schechter()        # Galaxy Stellar-Mass Function (GSMF)\n",
    "gpf = holo.sam.GPF_Power_Law()          # Galaxy Pair Fraction         (GPF)\n",
    "gmt = holo.sam.GMT_Power_Law()          # Galaxy Merger Time           (GMT)\n",
    "mmbulge = holo.sam.MMBulge_Simple()     # M-MBulge Relation            (MMB)\n",
    "\n",
    "sam = holo.sam.Semi_Analytic_Model(gsmf=gsmf, gpf=gpf, gmt=gmt, mmbulge=mmbulge)"
   ]
  },
  {
   "cell_type": "code",
   "execution_count": null,
   "id": "e9fc9e99",
   "metadata": {},
   "outputs": [],
   "source": [
    "# ---- Calculate GWB Amplitude distribution at 1/yr ----\n",
    "ayr = sam.gwb(1.0/YR, realize=100)"
   ]
  },
  {
   "cell_type": "code",
   "execution_count": null,
   "id": "e56708aa",
   "metadata": {},
   "outputs": [],
   "source": [
    "fig, ax = plt.subplots(figsize=[10, 6])\n",
    "ax.set(xlabel=r'$\\log_{10}(A_\\mathrm{yr})$', ylabel='Probability Density')\n",
    "ax.grid(alpha=0.2)\n",
    "kale.dist1d(ayr, density=True, confidence=True)\n",
    "\n",
    "plt.show()"
   ]
  },
  {
   "cell_type": "markdown",
   "id": "4b567f98",
   "metadata": {},
   "source": [
    "## Plot GWB Amplitude Distribution vs. M-MBulge parameters"
   ]
  },
  {
   "cell_type": "code",
   "execution_count": null,
   "id": "99f01130",
   "metadata": {},
   "outputs": [],
   "source": [
    "alpha_list = [0.75, 1.0, 1.25]\n",
    "norm_list = np.logspace(7, 9, 11)\n",
    "NREALS = 100\n",
    "FREQ = 1.0 / YR   # [1/s]\n",
    "\n",
    "dist_mmb = np.zeros((len(alpha_list), norm_list.size, NREALS))\n",
    "\n",
    "for aa, alpha in enumerate(tqdm.tqdm(alpha_list)):\n",
    "    for nn, norm in enumerate(tqdm.tqdm(norm_list, leave=False)):\n",
    "        mmbulge = holo.sam.MMBulge_Simple(mass_norm=norm*MSOL, malpha=alpha)\n",
    "        sam = holo.sam.Semi_Analytic_Model(gsmf=gsmf, gpf=gpf, gmt=gmt, mmbulge=mmbulge)\n",
    "        dist_mmb[aa, nn, :] = sam.gwb(FREQ, realize=NREALS)"
   ]
  },
  {
   "cell_type": "code",
   "execution_count": null,
   "id": "22a7c9c1",
   "metadata": {},
   "outputs": [],
   "source": [
    "fig, ax = plt.subplots(figsize=[6, 4])\n",
    "ax.set(xscale='log', xlabel='M-MBulge Mass', yscale='log', ylabel=r'GWB $A_\\mathrm{yr}$')\n",
    "ax.grid(alpha=0.2)\n",
    "\n",
    "dist = dist_mmb\n",
    "\n",
    "for aa, dd in zip(alpha_list, dist):\n",
    "    med = np.median(dd, axis=-1)\n",
    "    cc, = ax.plot(norm_list, med, label=aa)\n",
    "    cc = cc.get_color()\n",
    "    ax.fill_between(norm_list, *np.percentile(dd, [25, 75], axis=-1), color=cc, alpha=0.25)\n",
    "    \n",
    "plt.legend(title='slope')\n",
    "plt.show()"
   ]
  },
  {
   "cell_type": "markdown",
   "id": "705bb9c5",
   "metadata": {},
   "source": [
    "## Plot GWB Amplitude vs. Schecter Mass Parameter"
   ]
  },
  {
   "cell_type": "code",
   "execution_count": null,
   "id": "4b0a5f15",
   "metadata": {},
   "outputs": [],
   "source": [
    "mz = np.array([0.0, 1e10, 1e11])\n",
    "m0 = np.logspace(10, 12, 3)\n",
    "NREALS = 100\n",
    "FREQ = 1.0 / YR   # [1/s]\n",
    "\n",
    "dist_gsmf = np.zeros((len(mz), len(m0), NREALS))\n",
    "\n",
    "for aa, _mz in enumerate(tqdm.tqdm(mz)):\n",
    "    for nn, _m0 in enumerate(tqdm.tqdm(m0, leave=False)):\n",
    "        gsmf = holo.sam.GSMF_Schechter(mref0=_m0 * MSOL, mrefz=_mz * MSOL)\n",
    "        sam = holo.sam.Semi_Analytic_Model(gsmf=gsmf, gpf=gpf, gmt=gmt, mmbulge=mmbulge)\n",
    "        dist_gsmf[aa, nn, :] = sam.gwb(FREQ, realize=NREALS)"
   ]
  },
  {
   "cell_type": "code",
   "execution_count": null,
   "id": "cda9a2d1",
   "metadata": {},
   "outputs": [],
   "source": [
    "fig, ax = plt.subplots(figsize=[16, 6])\n",
    "ax.set(xscale='log', xlabel='Schechter Mass', yscale='log', ylabel=r'GWB $A_\\mathrm{yr}$')\n",
    "ax.grid(alpha=0.2)\n",
    "\n",
    "for aa, dd in zip(mz, dist_gsmf):\n",
    "    med = np.median(dd, axis=-1)\n",
    "    lab = f\"$10^{{{np.log10(aa):+.1f}}}$\" if aa > 0.0 else f\"${aa:+.1f}$\"\n",
    "    cc, = ax.plot(m0, med, label=lab)\n",
    "    cc = cc.get_color()\n",
    "    ax.fill_between(m0, *np.percentile(dd, [25, 75], axis=-1), color=cc, alpha=0.25)\n",
    "    \n",
    "plt.legend(title='$M_0(z)$')\n",
    "plt.show()"
   ]
  },
  {
   "cell_type": "markdown",
   "id": "78a201db",
   "metadata": {},
   "source": [
    "# Discretize Population"
   ]
  },
  {
   "cell_type": "code",
   "execution_count": null,
   "id": "5b497346",
   "metadata": {},
   "outputs": [],
   "source": [
    "sam = holo.sam.Semi_Analytic_Model()\n",
    "fobs = utils.nyquist_freqs(20.0*YR, 0.1*YR)\n",
    "# fobs = utils.nyquist_freqs(200.0*YR, 1.0*YR)"
   ]
  },
  {
   "cell_type": "code",
   "execution_count": null,
   "id": "47998ca8",
   "metadata": {},
   "outputs": [],
   "source": [
    "gff, gwf, gwb = holo.sam.sampled_gws_from_sam(\n",
    "    sam, fobs, sample_threshold=10.0,\n",
    "    cut_below_mass=1e7*MSOL, limit_merger_time=4*GYR\n",
    ")"
   ]
  },
  {
   "cell_type": "code",
   "execution_count": null,
   "id": "4d408a17",
   "metadata": {},
   "outputs": [],
   "source": [
    "fig, ax = plot.figax()\n",
    "xx = kale.utils.midpoints(fobs) * YR   # [1/sec] ==> [1/yr]\n",
    "\n",
    "amp = 10e-16\n",
    "yy = amp * np.power(xx, -2/3)\n",
    "ax.plot(xx, yy, 'k--', alpha=0.25)\n",
    "\n",
    "ax.plot(xx, gwb, 'k-')\n",
    "\n",
    "idx = (gwf > gwb)\n",
    "xx = gff * YR   # [1/sec] ==> [1/yr]\n",
    "ax.scatter(xx[idx], gwf[idx], color='r', s=20, alpha=0.5)\n",
    "ax.scatter(xx[~idx], gwf[~idx], edgecolor='r', facecolor='none', s=20, alpha=0.5)\n",
    "\n",
    "plt.show()"
   ]
  },
  {
   "cell_type": "code",
   "execution_count": null,
   "id": "59d5e238",
   "metadata": {},
   "outputs": [],
   "source": [
    "vals, weights, edges, dens = holo.sam.sample_sam_with_hardening(\n",
    "        sam, holo.evolution.Hard_GW, fobs=fobs,\n",
    "        sample_threshold=10.0, cut_below_mass=1e7, limit_merger_time=4*GYR,\n",
    ")"
   ]
  },
  {
   "cell_type": "code",
   "execution_count": null,
   "id": "004c38ac",
   "metadata": {},
   "outputs": [],
   "source": [
    "gwf_freqs, gwf, gwb = holo.sam._gws_from_samples(vals, weights, fobs)\n",
    "\n",
    "fig, ax = plot.figax()\n",
    "\n",
    "xx = kale.utils.midpoints(fobs) * YR   # [1/sec] ==> [1/yr]\n",
    "\n",
    "amp = 10e-16\n",
    "yy = amp * np.power(xx, -2/3)\n",
    "ax.plot(xx, yy, 'k--', alpha=0.25)\n",
    "\n",
    "# ff = np.sqrt(xx / np.diff(fobs*YR))\n",
    "ff = 1.0\n",
    "\n",
    "ax.plot(xx, gwb*ff, 'k-')\n",
    "\n",
    "idx = (gwf > gwb)\n",
    "xx = gwf_freqs * YR   # [1/sec] ==> [1/yr]\n",
    "ax.scatter(xx[idx], (gwf*ff)[idx], color='r', s=20, alpha=0.5)\n",
    "ax.scatter(xx[~idx], (gwf*ff)[~idx], edgecolor='r', facecolor='none', s=20, alpha=0.5)\n",
    "\n",
    "# ax.plot(fobs*YR, gwb_smooth, 'b--')\n",
    "# ax.plot(fobs*YR, np.median(gwb_rough, axis=-1), 'b:')\n",
    "# ax.fill_between(fobs*YR, *np.percentile(gwb_rough, [25, 75], axis=-1), color='b', alpha=0.25)\n",
    "\n",
    "plt.show()"
   ]
  },
  {
   "cell_type": "markdown",
   "id": "edd344e7",
   "metadata": {},
   "source": [
    "## Step by Step"
   ]
  },
  {
   "cell_type": "code",
   "execution_count": null,
   "id": "0e0f0251",
   "metadata": {},
   "outputs": [],
   "source": [
    "edges, dnum = sam.number_from_hardening(holo.evolution.Hard_GW, fobs=fobs)"
   ]
  },
  {
   "cell_type": "code",
   "execution_count": null,
   "id": "44a4c53f",
   "metadata": {},
   "outputs": [],
   "source": [
    "dens = np.copy(dnum)\n",
    "log_edges = [np.log10(edges[0]), edges[1], edges[2], np.log(edges[3])]\n",
    "cut_below_mass = 1e7 * MSOL\n",
    "# cut_below_mass = None\n",
    "if cut_below_mass is not None:\n",
    "    m2 = edges[0][:, np.newaxis] * edges[1][np.newaxis, :]\n",
    "    bads = (m2 < cut_below_mass)\n",
    "    dens[bads] = 0.0\n",
    "\n",
    "mass = holo.sam._integrate_differential_number(edges, dens, freq=True)"
   ]
  },
  {
   "cell_type": "code",
   "execution_count": null,
   "id": "12cbb63e",
   "metadata": {},
   "outputs": [],
   "source": [
    "sample_threshold = 10.0\n",
    "vals, weights = kale.sample_outliers(log_edges, dens, sample_threshold, mass=mass)\n",
    "vals[0] = 10.0 ** vals[0]\n",
    "vals[3] = np.e ** vals[3]"
   ]
  },
  {
   "cell_type": "code",
   "execution_count": null,
   "id": "3438d16b",
   "metadata": {},
   "outputs": [],
   "source": [
    "idx_m = 16\n",
    "idx_q = 48\n",
    "idx_f = 20\n",
    "truth = np.sum(mass[idx_m, idx_q, :, idx_f])\n",
    "print(truth)\n",
    "\n",
    "bnd_m = edges[0][idx_m:idx_m+2]\n",
    "bnd_q = edges[1][idx_q:idx_q+2]\n",
    "bnd_f = edges[3][idx_f:idx_f+2]\n",
    "df = np.diff(bnd_f)\n",
    "fdf = np.mean(bnd_f) / df\n",
    "dlnf = np.diff(np.log(bnd_f))\n",
    "# print(bnd_m, bnd_q, bnd_f, df, dlnf)\n",
    "\n",
    "sel = (bnd_m[0] < vals[0]) & (vals[0] < bnd_m[1])\n",
    "sel = sel & (bnd_q[0] < vals[1]) & (vals[1] < bnd_q[1])\n",
    "sel = sel & (bnd_f[0] < vals[3]) & (vals[3] < bnd_f[1])\n",
    "test = weights[sel].sum()\n",
    "print(f\"{test:.8e}, {truth:.8e}\", truth/test, sp.stats.poisson.cdf(truth, test))"
   ]
  },
  {
   "cell_type": "code",
   "execution_count": null,
   "id": "182faf0c",
   "metadata": {},
   "outputs": [],
   "source": [
    "bins = (sam.mtot/MSOL, sam.mrat)\n",
    "\n",
    "nums = mass.sum(axis=(-1, -2))\n",
    "\n",
    "extr = [nums[nums > 0].min()/2, 2*nums.max()]\n",
    "extr[0] = np.max([extr[0], 1e-2])\n",
    "norm = mpl.colors.LogNorm(*extr)\n",
    "\n",
    "fig, axes = plt.subplots(figsize=[18, 6], ncols=3)\n",
    "\n",
    "for ax in axes:\n",
    "    ax.set(xscale='log', xlabel='log10 Mass Primary', ylabel='Mass Ratio')\n",
    "\n",
    "ax = axes[0]\n",
    "ax.set(title='Continuous')\n",
    "pcm = ax.pcolormesh(*bins, nums.T, norm=norm)\n",
    "plt.colorbar(pcm, ax=ax, orientation='horizontal')\n",
    "\n",
    "\n",
    "ax = axes[1]\n",
    "ax.set(title='Discrete (sampled)')\n",
    "# idx = (vals[3] < fobs[1])\n",
    "idx = slice(None)\n",
    "hist, *_ = np.histogram2d(vals[0, idx]/MSOL, vals[1, idx], bins=bins, weights=weights[idx])\n",
    "\n",
    "idx = (weights == 1.0)\n",
    "ax.scatter(vals[0, idx]/MSOL, vals[1, idx], color='r', alpha=0.2, s=50)\n",
    "\n",
    "pcm = ax.pcolormesh(*bins, hist.T, norm=norm)\n",
    "plt.colorbar(pcm, ax=ax, orientation='horizontal')\n",
    "\n",
    "\n",
    "ax = axes[2]\n",
    "ax.set(title='Error')\n",
    "# test = kale.utils.midpoints(nums, log=True, axis=None)\n",
    "# diff = np.zeros_like(test)\n",
    "# idx = (test > 0.0)\n",
    "# diff[idx] = (hist[idx] - test[idx]) / test[idx]\n",
    "# diff[~idx] = hist[~idx]\n",
    "diff = (hist - nums) / nums\n",
    "print(\"hist = \", utils.stats(hist[np.isfinite(hist)]))\n",
    "print(\"test = \", utils.stats(test[np.isfinite(test)]))\n",
    "print(\"diff = \", utils.stats(diff), utils.minmax(diff))\n",
    "print(np.argmax(diff))\n",
    "extr = diff\n",
    "extr = [diff.min(), 2.0]\n",
    "# extr = [-0.5, 0.5]\n",
    "smap = plot.smap(extr, midpoint=0.0)\n",
    "pcm = ax.pcolormesh(*bins, diff.T, cmap=smap.cmap, norm=smap.norm)\n",
    "plt.colorbar(pcm, ax=ax, orientation='horizontal')\n",
    "\n",
    "plt.show()"
   ]
  },
  {
   "cell_type": "code",
   "execution_count": null,
   "id": "0e69840d",
   "metadata": {},
   "outputs": [],
   "source": [
    "idx = (weights == 1.0) & (vals[0] < 0.5e9*MSOL)\n",
    "plt.scatter(*np.log10(vals.T[idx].T))"
   ]
  },
  {
   "cell_type": "code",
   "execution_count": null,
   "id": "f5b9dbd8",
   "metadata": {},
   "outputs": [],
   "source": [
    "# vals, weights, ee, dn = holo.sam.sample_sam_with_hardening(\n",
    "#     sam, holo.evolution.Hard_GW, fobs=fobs,\n",
    "#     sample_threshold=10.0, cut_below_mass=1e6*MSOL, limit_merger_time=2.0*GYR\n",
    "# )"
   ]
  },
  {
   "cell_type": "markdown",
   "id": "ba27ff95",
   "metadata": {},
   "source": [
    "## Calculate GWs"
   ]
  },
  {
   "cell_type": "code",
   "execution_count": null,
   "id": "49ba532f",
   "metadata": {},
   "outputs": [],
   "source": [
    "gwb_smooth = sam.gwb(fobs, realize=False)\n",
    "gwb_rough = sam.gwb(fobs, realize=33)"
   ]
  },
  {
   "cell_type": "code",
   "execution_count": null,
   "id": "5562e422",
   "metadata": {},
   "outputs": [],
   "source": [
    "# use_vals = vals\n",
    "# use_weights = weights\n",
    "\n",
    "use_vals = np.copy(vals)\n",
    "use_weights = np.copy(weights)\n",
    "\n",
    "# idx = (vals[2] > 0.2)\n",
    "# use_vals = use_vals.T[idx].T\n",
    "# use_weights = use_weights[idx]\n",
    "\n",
    "gwf_freqs, gwf, gwb = holo.sam._gws_from_samples(use_vals, use_weights, fobs)"
   ]
  },
  {
   "cell_type": "code",
   "execution_count": null,
   "id": "9fdd8fd7",
   "metadata": {},
   "outputs": [],
   "source": [
    "fig, ax = plot.figax()\n",
    "\n",
    "xx = kale.utils.midpoints(fobs) * YR   # [1/sec] ==> [1/yr]\n",
    "\n",
    "amp = 10e-16\n",
    "yy = amp * np.power(xx, -2/3)\n",
    "ax.plot(xx, yy, 'k--', alpha=0.25)\n",
    "\n",
    "ff = np.sqrt(xx / np.diff(fobs*YR))\n",
    "# ff = 1.0\n",
    "\n",
    "ax.plot(xx, gwb*ff, 'k-')\n",
    "\n",
    "idx = (gwf > gwb)\n",
    "xx = gwf_freqs * YR   # [1/sec] ==> [1/yr]\n",
    "ax.scatter(xx[idx], (gwf*ff)[idx], color='r', s=20, alpha=0.5)\n",
    "ax.scatter(xx[~idx], (gwf*ff)[~idx], edgecolor='r', facecolor='none', s=20, alpha=0.5)\n",
    "\n",
    "ax.plot(fobs*YR, gwb_smooth, 'b--')\n",
    "ax.plot(fobs*YR, np.median(gwb_rough, axis=-1), 'b:')\n",
    "ax.fill_between(fobs*YR, *np.percentile(gwb_rough, [25, 75], axis=-1), color='b', alpha=0.25)\n",
    "\n",
    "plt.show()"
   ]
  },
  {
   "cell_type": "code",
   "execution_count": null,
   "id": "ef68b860",
   "metadata": {},
   "outputs": [],
   "source": [
    "breaker()"
   ]
  },
  {
   "cell_type": "markdown",
   "id": "a69a3c65",
   "metadata": {},
   "source": [
    "## Use realistic hardening rate to sample population"
   ]
  },
  {
   "cell_type": "code",
   "execution_count": null,
   "id": "9c925279",
   "metadata": {},
   "outputs": [],
   "source": [
    "gsmf = holo.sam.GSMF_Schechter()\n",
    "gpf = holo.sam.GPF_Power_Law()\n",
    "gmt = holo.sam.GMT_Power_Law()\n",
    "mmbulge = holo.sam.MMBulge_Simple()\n",
    "\n",
    "sam = holo.sam.Semi_Analytic_Model(gsmf=gsmf, gpf=gpf, gmt=gmt, mmbulge=mmbulge)"
   ]
  },
  {
   "cell_type": "code",
   "execution_count": null,
   "id": "88c8d8bd",
   "metadata": {},
   "outputs": [],
   "source": [
    "hard = holo.evolution.Fixed_Time.from_sam(sam, 2.0*GYR)"
   ]
  },
  {
   "cell_type": "code",
   "execution_count": null,
   "id": "d9dbf1cd",
   "metadata": {},
   "outputs": [],
   "source": [
    "fobs = np.logspace(-2, 2, 20)\n",
    "edges_fobs, num_fobs, strain_fobs = sam.number_from_hardening(hard, fobs=fobs)"
   ]
  },
  {
   "cell_type": "code",
   "execution_count": null,
   "id": "dd8f1018",
   "metadata": {},
   "outputs": [],
   "source": [
    "utils.stats(num_fobs), num_fobs.shape, sam.shape"
   ]
  },
  {
   "cell_type": "markdown",
   "id": "1251e858",
   "metadata": {},
   "source": [
    "### Number vs frequency, plot GWB"
   ]
  },
  {
   "cell_type": "code",
   "execution_count": null,
   "id": "86beceae",
   "metadata": {},
   "outputs": [],
   "source": [
    "fobs = np.logspace(-2, 2, 20)\n",
    "edges_fobs, number_fobs, strain_fobs = sam.number_from_hardening(hard, fobs=fobs)\n",
    "# edges_fobs, number_fobs, strain_fobs = sam.number_from_hardening(holo.evolution.Hard_GW, fobs=fobs)"
   ]
  },
  {
   "cell_type": "code",
   "execution_count": null,
   "id": "20b8314b",
   "metadata": {},
   "outputs": [],
   "source": [
    "NREALS = 30\n",
    "fig, ax = plot.figax(ylabel='Characteristic Strain', xlabel='Frequency [1/yr]', ylim=[3e-18, 2e-15])\n",
    "\n",
    "# Draw directly calculate GWB (smooth) spectrum\n",
    "yy = number_fobs\n",
    "zz = strain_fobs**2 * yy\n",
    "zz = zz.sum(axis=(0, 1, 2))\n",
    "zz = np.sqrt(zz)\n",
    "ax.plot(fobs, zz)\n",
    "\n",
    "# Draw poisson variations\n",
    "shp = yy.shape + (NREALS,)\n",
    "zz = strain_fobs[..., np.newaxis]**2 * np.random.poisson(yy[..., np.newaxis], size=shp)\n",
    "zz = zz.sum(axis=(0, 1, 2))\n",
    "zz = np.sqrt(zz)\n",
    "med, *conf = utils.quantiles(zz, [0.5, 0.25, 0.75], axis=1).T\n",
    "ax.plot(fobs, med, 'k--')\n",
    "ax.fill_between(fobs, *conf, color='k', alpha=0.2)\n",
    "\n",
    "# Draw analytic Estimate\n",
    "xx = 1.0\n",
    "tt = sam.gwb(xx, realize=False)\n",
    "aa, mm, bb = np.percentile(tt, [25, 50, 75])\n",
    "print(f\"mm={mm:.2e}\")\n",
    "ax.plot([xx, xx], [aa, bb], 'r-', lw=2.0, alpha=0.5)\n",
    "ax.scatter(xx, mm, color='r', alpha=0.5)\n",
    "\n",
    "plt.show()"
   ]
  },
  {
   "cell_type": "markdown",
   "id": "e5370e0b",
   "metadata": {},
   "source": [
    "### Number vs. Separation - sample"
   ]
  },
  {
   "cell_type": "code",
   "execution_count": null,
   "id": "db8fa495",
   "metadata": {},
   "outputs": [],
   "source": [
    "sepa = np.logspace(-6, 4, 50)\n",
    "edges, number, strain = sam.number_from_hardening(hard, sepa=sepa)"
   ]
  },
  {
   "cell_type": "code",
   "execution_count": null,
   "id": "a4a125f6",
   "metadata": {},
   "outputs": [],
   "source": [
    "fig, ax = plot.figax()\n",
    "yy = number\n",
    "dlna = np.diff(np.log(edges[-1]))[0]\n",
    "yy = yy * dlna\n",
    "yy = yy.sum(axis=(0, 1, 2))\n",
    "ax.plot(sepa, yy)\n",
    "plt.show()"
   ]
  },
  {
   "cell_type": "code",
   "execution_count": null,
   "id": "d602b2be",
   "metadata": {},
   "outputs": [],
   "source": []
  }
 ],
 "metadata": {
  "interpreter": {
   "hash": "61b4062b24dfb1010f420dad5aa3bd73a4d2af47d0ec44eafec465a35a9d7239"
  },
  "kernelspec": {
   "display_name": "Python 3.9.7 64-bit ('py39': conda)",
   "name": "python3"
  },
  "language_info": {
   "codemirror_mode": {
    "name": "ipython",
    "version": 3
   },
   "file_extension": ".py",
   "mimetype": "text/x-python",
   "name": "python",
   "nbconvert_exporter": "python",
   "pygments_lexer": "ipython3",
   "version": "3.9.7"
  },
  "toc": {
   "base_numbering": 1,
   "nav_menu": {},
   "number_sections": true,
   "sideBar": true,
   "skip_h1_title": false,
   "title_cell": "Table of Contents",
   "title_sidebar": "Contents",
   "toc_cell": false,
   "toc_position": {
    "height": "calc(100% - 180px)",
    "left": "10px",
    "top": "150px",
    "width": "165px"
   },
   "toc_section_display": true,
   "toc_window_display": true
  },
  "varInspector": {
   "cols": {
    "lenName": 16,
    "lenType": 16,
    "lenVar": 40
   },
   "kernels_config": {
    "python": {
     "delete_cmd_postfix": "",
     "delete_cmd_prefix": "del ",
     "library": "var_list.py",
     "varRefreshCmd": "print(var_dic_list())"
    },
    "r": {
     "delete_cmd_postfix": ") ",
     "delete_cmd_prefix": "rm(",
     "library": "var_list.r",
     "varRefreshCmd": "cat(var_dic_list()) "
    }
   },
   "types_to_exclude": [
    "module",
    "function",
    "builtin_function_or_method",
    "instance",
    "_Feature"
   ],
   "window_display": false
  }
 },
 "nbformat": 4,
 "nbformat_minor": 5
}
