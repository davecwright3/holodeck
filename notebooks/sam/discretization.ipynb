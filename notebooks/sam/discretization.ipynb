{
 "cells": [
  {
   "cell_type": "code",
   "execution_count": null,
   "id": "f9a9d9bc",
   "metadata": {},
   "outputs": [],
   "source": [
    "# %load ./init.ipy\n",
    "%reload_ext autoreload\n",
    "%autoreload 2\n",
    "from importlib import reload\n",
    "\n",
    "import os\n",
    "import sys\n",
    "import logging\n",
    "import warnings\n",
    "import numpy as np\n",
    "import astropy as ap\n",
    "import scipy as sp\n",
    "import scipy.stats\n",
    "import matplotlib as mpl\n",
    "import matplotlib.pyplot as plt\n",
    "\n",
    "import h5py\n",
    "import tqdm.notebook as tqdm\n",
    "\n",
    "import kalepy as kale\n",
    "# import kalepy.utils\n",
    "import kalepy.plot\n",
    "\n",
    "import holodeck as holo\n",
    "import holodeck.sam\n",
    "from holodeck import utils, plot, cosmo\n",
    "from holodeck.constants import MSOL, PC, YR, MPC, GYR, SPLC\n",
    "\n",
    "# Silence annoying numpy errors\n",
    "np.seterr(divide='ignore', invalid='ignore', over='ignore')\n",
    "warnings.filterwarnings(\"ignore\", category=UserWarning)\n",
    "\n",
    "# Plotting settings\n",
    "mpl.rc('font', **{'family': 'serif', 'sans-serif': ['Times'], 'size': 15})\n",
    "mpl.rc('lines', solid_capstyle='round')\n",
    "mpl.rc('mathtext', fontset='cm')\n",
    "plt.rcParams.update({'grid.alpha': 0.5})\n",
    "\n",
    "log = holo.log\n",
    "log.setLevel(logging.INFO)"
   ]
  },
  {
   "cell_type": "markdown",
   "id": "835aec19",
   "metadata": {},
   "source": [
    "# Initialize SAM model"
   ]
  },
  {
   "cell_type": "code",
   "execution_count": null,
   "id": "7dacb18d",
   "metadata": {},
   "outputs": [],
   "source": [
    "gsmf = holo.sam.GSMF_Schechter()        # Galaxy Stellar-Mass Function (GSMF)\n",
    "gpf = holo.sam.GPF_Power_Law()          # Galaxy Pair Fraction         (GPF)\n",
    "gmt = holo.sam.GMT_Power_Law()          # Galaxy Merger Time           (GMT)\n",
    "mmbulge = holo.sam.MMBulge_Simple()     # M-MBulge Relation            (MMB)\n",
    "\n",
    "sam = holo.sam.Semi_Analytic_Model(gsmf=gsmf, gpf=gpf, gmt=gmt, mmbulge=mmbulge)"
   ]
  },
  {
   "cell_type": "markdown",
   "id": "78a201db",
   "metadata": {},
   "source": [
    "# Sample (Discretize) Assuming GW-Driven Evolution"
   ]
  },
  {
   "cell_type": "code",
   "execution_count": null,
   "id": "5b497346",
   "metadata": {},
   "outputs": [],
   "source": [
    "# Choose observed GW-Frequency bins based on nyquist sampling\n",
    "fobs = utils.nyquist_freqs(20.0*YR, 0.1*YR)"
   ]
  },
  {
   "cell_type": "code",
   "execution_count": null,
   "id": "47998ca8",
   "metadata": {},
   "outputs": [],
   "source": [
    "# gff, gwf, gwb = holo.sam.sampled_gws_from_sam(\n",
    "#     sam, fobs, hard=holo.evolution.Hard_GW,\n",
    "#     sample_threshold=10.0, cut_below_mass=1e7*MSOL, limit_merger_time=4*GYR\n",
    "# )"
   ]
  },
  {
   "cell_type": "code",
   "execution_count": null,
   "id": "4d408a17",
   "metadata": {},
   "outputs": [],
   "source": [
    "# fig, ax = plot.figax()\n",
    "# xx = kale.utils.midpoints(fobs) * YR   # [1/sec] ==> [1/yr]\n",
    "\n",
    "# amp = 10e-16\n",
    "# yy = amp * np.power(xx, -2/3)\n",
    "# ax.plot(xx, yy, 'k--', alpha=0.25)\n",
    "\n",
    "# ax.plot(xx, gwb, 'k-')\n",
    "\n",
    "# idx = (gwf > gwb)\n",
    "# xx = gff * YR   # [1/sec] ==> [1/yr]\n",
    "# ax.scatter(xx[idx], gwf[idx], color='r', s=20, alpha=0.5)\n",
    "# ax.scatter(xx[~idx], gwf[~idx], edgecolor='r', facecolor='none', s=20, alpha=0.5)\n",
    "\n",
    "# plt.show()"
   ]
  },
  {
   "cell_type": "code",
   "execution_count": null,
   "id": "59d5e238",
   "metadata": {},
   "outputs": [],
   "source": [
    "vals, weights, edges, dens = holo.sam.sample_sam_with_hardening(\n",
    "        sam, holo.evolution.Hard_GW, fobs=fobs,\n",
    "        sample_threshold=10.0, cut_below_mass=1e7, limit_merger_time=4*GYR,\n",
    ")"
   ]
  },
  {
   "cell_type": "markdown",
   "id": "f04282c5",
   "metadata": {},
   "source": [
    "# Calculate GWs from Samples"
   ]
  },
  {
   "cell_type": "code",
   "execution_count": null,
   "id": "fdad4132",
   "metadata": {},
   "outputs": [],
   "source": [
    "gwf_freqs, gwf, gwb = holo.sam._gws_from_samples(vals, weights, fobs)"
   ]
  },
  {
   "cell_type": "code",
   "execution_count": null,
   "id": "49ba532f",
   "metadata": {},
   "outputs": [],
   "source": [
    "# gwb_rough = sam.gwb(fobs, realize=33)\n",
    "# gwb_smooth = sam.gwb(fobs, realize=False)"
   ]
  },
  {
   "cell_type": "code",
   "execution_count": null,
   "id": "004c38ac",
   "metadata": {},
   "outputs": [],
   "source": [
    "fig, ax = plot.figax()\n",
    "\n",
    "xx = kale.utils.midpoints(fobs) * YR   # [1/sec] ==> [1/yr]\n",
    "\n",
    "amp = 10e-16\n",
    "yy = amp * np.power(xx, -2/3)\n",
    "ax.plot(xx, yy, 'k--', alpha=0.25)\n",
    "\n",
    "# ff = np.sqrt(xx / np.diff(fobs*YR))\n",
    "ff = 1.0\n",
    "\n",
    "ax.plot(xx, gwb*ff, 'k-')\n",
    "\n",
    "idx = (gwf > gwb)\n",
    "xx = gwf_freqs * YR   # [1/sec] ==> [1/yr]\n",
    "ax.scatter(xx[idx], (gwf*ff)[idx], color='r', s=20, alpha=0.5)\n",
    "ax.scatter(xx[~idx], (gwf*ff)[~idx], edgecolor='r', facecolor='none', s=20, alpha=0.5)\n",
    "\n",
    "# ax.plot(fobs*YR, gwb_smooth, 'b--')\n",
    "# ax.plot(fobs*YR, np.median(gwb_rough, axis=-1), 'b:')\n",
    "# ax.fill_between(fobs*YR, *np.percentile(gwb_rough, [25, 75], axis=-1), color='b', alpha=0.25)\n",
    "\n",
    "plt.show()"
   ]
  },
  {
   "cell_type": "markdown",
   "id": "a69a3c65",
   "metadata": {},
   "source": [
    "# Use realistic hardening rate to sample population"
   ]
  },
  {
   "cell_type": "code",
   "execution_count": null,
   "id": "88c8d8bd",
   "metadata": {},
   "outputs": [],
   "source": [
    "hard = holo.evolution.Fixed_Time.from_sam(sam, 2.0*GYR)"
   ]
  }
 ],
 "metadata": {
  "interpreter": {
   "hash": "61b4062b24dfb1010f420dad5aa3bd73a4d2af47d0ec44eafec465a35a9d7239"
  },
  "kernelspec": {
   "display_name": "Python 3.9.7 64-bit ('py39': conda)",
   "name": "python3"
  },
  "language_info": {
   "codemirror_mode": {
    "name": "ipython",
    "version": 3
   },
   "file_extension": ".py",
   "mimetype": "text/x-python",
   "name": "python",
   "nbconvert_exporter": "python",
   "pygments_lexer": "ipython3",
   "version": "3.9.7"
  },
  "toc": {
   "base_numbering": 1,
   "nav_menu": {},
   "number_sections": true,
   "sideBar": true,
   "skip_h1_title": false,
   "title_cell": "Table of Contents",
   "title_sidebar": "Contents",
   "toc_cell": false,
   "toc_position": {
    "height": "calc(100% - 180px)",
    "left": "10px",
    "top": "150px",
    "width": "165px"
   },
   "toc_section_display": true,
   "toc_window_display": true
  },
  "varInspector": {
   "cols": {
    "lenName": 16,
    "lenType": 16,
    "lenVar": 40
   },
   "kernels_config": {
    "python": {
     "delete_cmd_postfix": "",
     "delete_cmd_prefix": "del ",
     "library": "var_list.py",
     "varRefreshCmd": "print(var_dic_list())"
    },
    "r": {
     "delete_cmd_postfix": ") ",
     "delete_cmd_prefix": "rm(",
     "library": "var_list.r",
     "varRefreshCmd": "cat(var_dic_list()) "
    }
   },
   "types_to_exclude": [
    "module",
    "function",
    "builtin_function_or_method",
    "instance",
    "_Feature"
   ],
   "window_display": false
  }
 },
 "nbformat": 4,
 "nbformat_minor": 5
}
