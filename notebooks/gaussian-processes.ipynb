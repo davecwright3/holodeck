{
 "cells": [
  {
   "cell_type": "code",
   "execution_count": null,
   "id": "f9a9d9bc",
   "metadata": {},
   "outputs": [],
   "source": [
    "# %load ./init.ipy\n",
    "%reload_ext autoreload\n",
    "%autoreload 2\n",
    "from importlib import reload\n",
    "\n",
    "import os\n",
    "import sys\n",
    "import logging\n",
    "import warnings\n",
    "import numpy as np\n",
    "import astropy as ap\n",
    "import scipy as sp\n",
    "import scipy.stats\n",
    "import matplotlib as mpl\n",
    "import matplotlib.pyplot as plt\n",
    "\n",
    "import h5py\n",
    "import tqdm.notebook as tqdm\n",
    "\n",
    "import kalepy as kale\n",
    "# import kalepy.utils\n",
    "import kalepy.plot\n",
    "\n",
    "import holodeck as holo\n",
    "import holodeck.sam\n",
    "from holodeck import utils, plot, cosmo\n",
    "from holodeck.constants import MSOL, PC, YR, MPC, GYR, SPLC\n",
    "\n",
    "# Silence annoying numpy errors\n",
    "np.seterr(divide='ignore', invalid='ignore', over='ignore')\n",
    "warnings.filterwarnings(\"ignore\", category=UserWarning)\n",
    "\n",
    "# Plotting settings\n",
    "mpl.rc('font', **{'family': 'serif', 'sans-serif': ['Times'], 'size': 15})\n",
    "mpl.rc('lines', solid_capstyle='round')\n",
    "mpl.rc('mathtext', fontset='cm')\n",
    "plt.rcParams.update({'grid.alpha': 0.5})\n",
    "\n",
    "log = holo.log\n",
    "log.setLevel(logging.INFO)"
   ]
  },
  {
   "cell_type": "code",
   "execution_count": null,
   "id": "3fc83936",
   "metadata": {},
   "outputs": [],
   "source": [
    "import glob\n",
    "import re"
   ]
  },
  {
   "cell_type": "markdown",
   "id": "3968d2c8",
   "metadata": {},
   "source": [
    "## Create SAM & Realization"
   ]
  },
  {
   "cell_type": "code",
   "execution_count": null,
   "id": "7dacb18d",
   "metadata": {},
   "outputs": [],
   "source": [
    "gsmf = holo.sam.GSMF_Schechter()        # Galaxy Stellar-Mass Function (GSMF)\n",
    "gpf = holo.sam.GPF_Power_Law()          # Galaxy Pair Fraction         (GPF)\n",
    "gmt = holo.sam.GMT_Power_Law()          # Galaxy Merger Time           (GMT)\n",
    "mmbulge = holo.sam.MMBulge_Simple()     # M-MBulge Relation            (MMB)\n",
    "\n",
    "sam = holo.sam.Semi_Analytic_Model(gsmf=gsmf, gpf=gpf, gmt=gmt, mmbulge=mmbulge)"
   ]
  },
  {
   "cell_type": "code",
   "execution_count": null,
   "id": "5b497346",
   "metadata": {},
   "outputs": [],
   "source": [
    "sam = holo.sam.Semi_Analytic_Model()\n",
    "fobs = utils.nyquist_freqs(20.0*YR, 0.1*YR)\n",
    "# fobs = utils.nyquist_freqs(200.0*YR, 1.0*YR)"
   ]
  },
  {
   "cell_type": "code",
   "execution_count": null,
   "id": "47998ca8",
   "metadata": {},
   "outputs": [],
   "source": [
    "gff, gwf, gwb = holo.sam.sampled_gws_from_sam(\n",
    "    sam, fobs, sample_threshold=10.0,\n",
    "    cut_below_mass=1e7*MSOL, limit_merger_time=4*GYR\n",
    ")"
   ]
  },
  {
   "cell_type": "code",
   "execution_count": null,
   "id": "4d408a17",
   "metadata": {},
   "outputs": [],
   "source": [
    "def draw_sampled_gwb(ax, fobs, gff, gwf, gwb):\n",
    "    xx = kale.utils.midpoints(fobs) * YR   # [1/sec] ==> [1/yr]\n",
    "    col, = ax.plot(xx, gwb, ls='-', alpha=0.75, lw=0.75)\n",
    "    col = col.get_color()\n",
    "\n",
    "    idx = (gwf > gwb)\n",
    "    xx = gff * YR   # [1/sec] ==> [1/yr]\n",
    "    ax.scatter(xx[idx], gwf[idx], color=col, s=10, alpha=0.5)\n",
    "    ax.scatter(xx[~idx], gwf[~idx], edgecolor=col, facecolor='none', s=10, alpha=0.5)\n",
    "    return\n",
    "\n",
    "\n",
    "fig, ax = plot.figax()\n",
    "\n",
    "amp = 10e-16\n",
    "xx = utils.minmax(fobs) * YR\n",
    "yy = amp * np.power(xx, -2/3)\n",
    "ax.plot(xx, yy, 'k--', alpha=0.25)\n",
    "\n",
    "draw_sampled_gwb(ax, fobs, gff, gwf, gwb)\n",
    "plt.show()"
   ]
  },
  {
   "cell_type": "markdown",
   "id": "f0475af3",
   "metadata": {},
   "source": [
    "# Load pre-constructed data files"
   ]
  },
  {
   "cell_type": "code",
   "execution_count": null,
   "id": "4c168ad4",
   "metadata": {},
   "outputs": [],
   "source": [
    "path_output = \"/Users/lzkelley/research/nanograv/holodeck/output\"\n",
    "re_pattern = \"sam_output_p([0-9]{3})_r([0-9]{3}).npz\"\n",
    "path_output = os.path.abspath(path_output)\n",
    "print(f\"{path_output=}\")\n",
    "file_pattern = os.path.join(path_output, \"*.*\")\n",
    "# files = sorted(glob.glob(file_pattern))\n",
    "files = glob.glob(file_pattern)\n",
    "print(len(files), files[0])\n",
    "\n",
    "data = np.load(files[0])\n",
    "fobs = data['fobs']\n",
    "# print(fobs.shape, list(data.keys()))\n",
    "\n",
    "num_pars = 10\n",
    "num_reals = 300\n",
    "gwf = np.zeros((num_pars, num_reals, fobs.size - 1))\n",
    "gff = np.zeros_like(gwf)\n",
    "gwb = np.zeros_like(gwf)\n",
    "\n",
    "for fil in tqdm.tqdm(files):\n",
    "    groups = re.findall(re_pattern, fil)[0]\n",
    "    pp, rr = [int(gg) for gg in groups]\n",
    "    # print(fil, \"===>\", pp, rr)\n",
    "    data = np.load(fil)\n",
    "    gff[pp, rr, :] = data['gff']\n",
    "    gwf[pp, rr, :] = data['gwf']\n",
    "    gwb[pp, rr, :] = data['gwb']"
   ]
  },
  {
   "cell_type": "code",
   "execution_count": null,
   "id": "e756e5fe",
   "metadata": {},
   "outputs": [],
   "source": [
    "PAR = 6\n",
    "fig, ax = plot.figax()\n",
    "for ii in range(num_reals):\n",
    "    draw_sampled_gwb(ax, fobs, gff[PAR, ii, :], gwf[PAR, ii, :], gwb[PAR, ii, :])\n",
    "\n",
    "plt.show()"
   ]
  },
  {
   "cell_type": "code",
   "execution_count": null,
   "id": "39434f0d",
   "metadata": {},
   "outputs": [],
   "source": [
    "gwb.shape"
   ]
  },
  {
   "cell_type": "code",
   "execution_count": null,
   "id": "d97a0537",
   "metadata": {},
   "outputs": [],
   "source": [
    "FREQ = 0\n",
    "PAR = 6\n",
    "\n",
    "fig, ax = plot.figax(xscale='linear', yscale='linear')\n",
    "\n",
    "vals = np.log10(gwb[PAR, :, FREQ])\n",
    "extr = utils.minmax(vals)\n",
    "edges = np.linspace(*extr, 300)\n",
    "kale.dist1d(vals, ax=ax, edges=edges, density=True, confidence=False, hist=False)\n",
    "\n",
    "vals = np.log10(gwf[PAR, :, FREQ])\n",
    "extr = utils.minmax(vals)\n",
    "edges = np.linspace(*extr, 300)\n",
    "kale.dist1d(vals, ax=ax, edges=edges, density=True, confidence=False, hist=False)\n",
    "\n",
    "plt.show()"
   ]
  },
  {
   "cell_type": "markdown",
   "id": "f066719b",
   "metadata": {},
   "source": [
    "## Plot Realizations"
   ]
  },
  {
   "cell_type": "code",
   "execution_count": null,
   "id": "715e8bf8",
   "metadata": {},
   "outputs": [],
   "source": [
    "path = holo.__file__\n",
    "path = os.path.join(os.path.dirname(path), os.path.pardir, 'output', '')\n",
    "path = os.path.abspath(path)\n",
    "pattern = os.path.join(path, '*.npz')\n",
    "\n",
    "files = glob.glob(pattern)\n",
    "\n",
    "print(path, pattern)\n",
    "print(f\"Found {len(files)} files.\")\n",
    "if len(files) > 0:\n",
    "    print(f\"\\te.g. '{files[0]}'\")\n",
    "\n",
    "fig, ax = plot.figax()\n",
    "\n",
    "amp = 10e-16\n",
    "xx = utils.minmax(fobs) * YR\n",
    "yy = amp * np.power(xx, -2/3)\n",
    "ax.plot(xx, yy, 'k--', alpha=0.25)\n",
    "\n",
    "for ff in files:\n",
    "    data = np.load(ff)\n",
    "    draw_sampled_gwb(ax, data['fobs'], data['gff'], data['gwf'], data['gwb'])\n",
    "\n",
    "plt.show()\n"
   ]
  }
 ],
 "metadata": {
  "interpreter": {
   "hash": "61b4062b24dfb1010f420dad5aa3bd73a4d2af47d0ec44eafec465a35a9d7239"
  },
  "kernelspec": {
   "display_name": "Python 3.9.7 64-bit ('py39': conda)",
   "name": "python3"
  },
  "language_info": {
   "codemirror_mode": {
    "name": "ipython",
    "version": 3
   },
   "file_extension": ".py",
   "mimetype": "text/x-python",
   "name": "python",
   "nbconvert_exporter": "python",
   "pygments_lexer": "ipython3",
   "version": "3.9.7"
  },
  "toc": {
   "base_numbering": 1,
   "nav_menu": {},
   "number_sections": true,
   "sideBar": true,
   "skip_h1_title": false,
   "title_cell": "Table of Contents",
   "title_sidebar": "Contents",
   "toc_cell": false,
   "toc_position": {
    "height": "calc(100% - 180px)",
    "left": "10px",
    "top": "150px",
    "width": "165px"
   },
   "toc_section_display": true,
   "toc_window_display": true
  },
  "varInspector": {
   "cols": {
    "lenName": 16,
    "lenType": 16,
    "lenVar": 40
   },
   "kernels_config": {
    "python": {
     "delete_cmd_postfix": "",
     "delete_cmd_prefix": "del ",
     "library": "var_list.py",
     "varRefreshCmd": "print(var_dic_list())"
    },
    "r": {
     "delete_cmd_postfix": ") ",
     "delete_cmd_prefix": "rm(",
     "library": "var_list.r",
     "varRefreshCmd": "cat(var_dic_list()) "
    }
   },
   "types_to_exclude": [
    "module",
    "function",
    "builtin_function_or_method",
    "instance",
    "_Feature"
   ],
   "window_display": false
  }
 },
 "nbformat": 4,
 "nbformat_minor": 5
}
