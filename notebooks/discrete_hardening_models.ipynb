{
 "cells": [
  {
   "cell_type": "code",
   "execution_count": null,
   "metadata": {},
   "outputs": [],
   "source": [
    "# %load ./init.ipy\n",
    "%reload_ext autoreload\n",
    "%autoreload 2\n",
    "from importlib import reload\n",
    "\n",
    "import os\n",
    "import sys\n",
    "import logging\n",
    "import warnings\n",
    "import numpy as np\n",
    "import astropy as ap\n",
    "import scipy as sp\n",
    "import scipy.stats\n",
    "import matplotlib as mpl\n",
    "import matplotlib.pyplot as plt\n",
    "\n",
    "import h5py\n",
    "import tqdm.notebook as tqdm\n",
    "\n",
    "import kalepy as kale\n",
    "import kalepy.utils\n",
    "import kalepy.plot\n",
    "\n",
    "import holodeck as holo\n",
    "import holodeck.sam\n",
    "import holodeck.gravwaves\n",
    "from holodeck import cosmo, utils, plot\n",
    "from holodeck.constants import MSOL, PC, YR, MPC, GYR, SPLC\n",
    "\n",
    "# Silence annoying numpy errors\n",
    "np.seterr(divide='ignore', invalid='ignore', over='ignore')\n",
    "warnings.filterwarnings(\"ignore\", category=UserWarning)\n",
    "\n",
    "# Plotting settings\n",
    "mpl.rc('font', **{'family': 'serif', 'sans-serif': ['Times'], 'size': 15})\n",
    "mpl.rc('lines', solid_capstyle='round')\n",
    "mpl.rc('mathtext', fontset='cm')\n",
    "plt.rcParams.update({'grid.alpha': 0.5})\n",
    "mpl.style.use('default')   # avoid dark backgrounds from dark theme vscode\n",
    "\n",
    "log = holo.log\n",
    "log.setLevel(logging.INFO)"
   ]
  },
  {
   "cell_type": "markdown",
   "metadata": {},
   "source": [
    "# Composite Hardening Model"
   ]
  },
  {
   "cell_type": "code",
   "execution_count": null,
   "metadata": {},
   "outputs": [],
   "source": [
    "ecc = holo.population.PM_Eccentricity()\n",
    "pop = holo.population.Pop_Illustris(mods=ecc)\n",
    "\n",
    "hards = [\n",
    "    holo.evolution.Hard_GW,\n",
    "    holo.evolution.Sesana_Scattering(),\n",
    "    holo.evolution.Dynamical_Friction_NFW(),\n",
    "]"
   ]
  },
  {
   "cell_type": "code",
   "execution_count": null,
   "metadata": {},
   "outputs": [],
   "source": [
    "evo = holo.evolution.Evolution(pop, hards, debug=True)\n",
    "evo.evolve()"
   ]
  },
  {
   "cell_type": "code",
   "execution_count": null,
   "metadata": {},
   "outputs": [],
   "source": [
    "rads = np.logspace(-4, 4, 100) * PC\n",
    "num_hard = len(hards)\n",
    "params = ['eccen', 'dadt', 'dedt',] + [f'_dadt_{ii}' for ii in range(num_hard)] + [f'_dedt_{ii}' for ii in range(num_hard)]\n",
    "# lin_interp_list = evo._LIN_INTERP_PARS + params\n",
    "lin_interp_list = params\n",
    "data = evo.at('sepa', rads, params=params, lin_interp=lin_interp_list)"
   ]
  },
  {
   "cell_type": "code",
   "execution_count": null,
   "metadata": {},
   "outputs": [],
   "source": [
    "fig, axes = plot.figax(\n",
    "    figsize=[10, 6], nrows=2,\n",
    "    xlabel=r\"Separation $[\\mathrm{pc}]$\", ylabel=r'Timescale $[\\mathrm{yr}]$',\n",
    ")\n",
    "\n",
    "\n",
    "frac = utils.frac_str(evo.scafa[:, -1] < 1.0, )\n",
    "xx = rads / PC\n",
    "\n",
    "ax = axes[0]\n",
    "ax.set(title=f\"coalescing = {frac}\", ylim=[1e2, 1e12])\n",
    "dadt = data['dadt']\n",
    "vals = np.fabs(dadt)\n",
    "vals = rads / vals\n",
    "vals = vals / YR\n",
    "confs = utils.quantiles(vals, sigmas=[-1, 0, 1], axis=0)\n",
    "confs = confs.T\n",
    "med, *confs = confs[[1, 0, 2]]\n",
    "\n",
    "ax.plot(xx, med, 'k-')\n",
    "ax.fill_between(xx, *confs, color='k', alpha=0.2)\n",
    "\n",
    "ax = axes[1]\n",
    "ax.set_yscale('symlog', linthresh=1e3)\n",
    "ax.set(ylim=[-1e12, 1e12])\n",
    "vals = data[\"dedt\"]\n",
    "vals = data['eccen'] / vals\n",
    "vals = vals / YR\n",
    "confs = utils.quantiles(vals, sigmas=[-1, 0, 1], axis=0)\n",
    "confs = confs.T\n",
    "med, *confs = confs[[1, 0, 2]]\n",
    "ax.plot(xx, med, 'k-', alpha=0.25)\n",
    "ax.fill_between(xx, *confs, color='k', alpha=0.1)\n",
    "\n",
    "vals = data['eccen']\n",
    "xx = rads / PC\n",
    "confs = utils.quantiles(vals, sigmas=[-1, 0, 1], axis=0)\n",
    "confs = confs.T\n",
    "med, *confs = confs[[1, 0, 2]]\n",
    "\n",
    "tw = ax.twinx()\n",
    "tw.set(yscale='linear', label='eccentricity')\n",
    "col = 'r'\n",
    "tw.plot(xx, med, ls='--', color=col, alpha=0.2)\n",
    "tw.plot(xx, confs[0], ls=':', color=col, alpha=0.1)\n",
    "tw.plot(xx, confs[-1], ls=':', color=col, alpha=0.1)\n",
    "tw.fill_between(xx, *confs, color=col, alpha=0.05)\n",
    "\n",
    "for ii in range(num_hard):\n",
    "    try:\n",
    "        lab = hards[ii].__name__\n",
    "    except AttributeError:\n",
    "        lab = hards[ii].__class__.__name__\n",
    "        \n",
    "    vals = np.fabs(data[f\"_dadt_{ii}\"])\n",
    "    vals = rads / vals\n",
    "    vals = vals / YR\n",
    "\n",
    "    confs = utils.quantiles(vals, sigmas=[-1, 1], axis=0).T\n",
    "    axes[0].fill_between(xx, *confs, alpha=0.2, label=lab)\n",
    "\n",
    "    # eccentricity\n",
    "    if evo.eccen is None:\n",
    "        continue\n",
    "\n",
    "    vals = data[f\"_dedt_{ii}\"]\n",
    "    vals = data['eccen'] / vals\n",
    "    vals = vals / YR\n",
    "\n",
    "    confs = utils.quantiles(vals, sigmas=[-1, 1], axis=0).T\n",
    "    axes[1].fill_between(xx, *confs, alpha=0.2)\n",
    "\n",
    "axes[0].legend(loc='lower right')\n",
    "plt.show()"
   ]
  },
  {
   "cell_type": "markdown",
   "metadata": {},
   "source": [
    "# Simplest Custom Population and Hardening Model"
   ]
  },
  {
   "cell_type": "code",
   "execution_count": null,
   "metadata": {},
   "outputs": [],
   "source": [
    "SIZE = 100\n",
    "\n",
    "class Pop(holo.population._Population_Discrete):\n",
    "\n",
    "    def _init(self):\n",
    "        self.mass = (10.0 ** np.random.uniform(6, 10, (SIZE, 2))) * MSOL\n",
    "        self.sepa = (10.0 ** np.random.uniform(1, 3, SIZE)) * 1e3 * PC\n",
    "        self.scafa = np.random.uniform(0.25, 0.75, SIZE)\n",
    "        return\n",
    "\n",
    "class Hard(holo.evolution._Hardening):\n",
    "\n",
    "    def dadt_dedt(self, evo, step, *args, **kwargs):\n",
    "        dadt = -(PC/YR) * np.ones(evo.size)\n",
    "        dedt = None\n",
    "        return dadt, dedt\n",
    "\n",
    "# Construct instances\n",
    "pop = Pop()\n",
    "hard = Hard()\n",
    "evo = holo.evolution.Evolution(pop, hard)\n",
    "# evolve population\n",
    "evo.evolve()"
   ]
  },
  {
   "cell_type": "markdown",
   "metadata": {},
   "source": [
    "Plot the resulting evolution of each binary showing coalescences"
   ]
  },
  {
   "cell_type": "code",
   "execution_count": null,
   "metadata": {},
   "outputs": [],
   "source": [
    "fig, ax = plot.figax()\n",
    "\n",
    "idx = ()\n",
    "xx = evo.tage[idx]/GYR\n",
    "xx = xx - xx[:, 0, np.newaxis]\n",
    "yy = evo.sepa[idx]/PC\n",
    "\n",
    "ax.plot(xx.T, yy.T)\n",
    "\n",
    "plt.show()"
   ]
  }
 ],
 "metadata": {
  "kernelspec": {
   "display_name": "Python 3.10.2 ('py310')",
   "language": "python",
   "name": "python3"
  },
  "language_info": {
   "codemirror_mode": {
    "name": "ipython",
    "version": 3
   },
   "file_extension": ".py",
   "mimetype": "text/x-python",
   "name": "python",
   "nbconvert_exporter": "python",
   "pygments_lexer": "ipython3",
   "version": "3.10.2"
  },
  "toc": {
   "base_numbering": 1,
   "nav_menu": {},
   "number_sections": true,
   "sideBar": true,
   "skip_h1_title": false,
   "title_cell": "Table of Contents",
   "title_sidebar": "Contents",
   "toc_cell": false,
   "toc_position": {},
   "toc_section_display": true,
   "toc_window_display": true
  },
  "varInspector": {
   "cols": {
    "lenName": 16,
    "lenType": 16,
    "lenVar": 40
   },
   "kernels_config": {
    "python": {
     "delete_cmd_postfix": "",
     "delete_cmd_prefix": "del ",
     "library": "var_list.py",
     "varRefreshCmd": "print(var_dic_list())"
    },
    "r": {
     "delete_cmd_postfix": ") ",
     "delete_cmd_prefix": "rm(",
     "library": "var_list.r",
     "varRefreshCmd": "cat(var_dic_list()) "
    }
   },
   "types_to_exclude": [
    "module",
    "function",
    "builtin_function_or_method",
    "instance",
    "_Feature"
   ],
   "window_display": false
  },
  "vscode": {
   "interpreter": {
    "hash": "1f0c7602c82e39efa19a01e5e068584db7a6d17aff8711ab06660aac81377393"
   }
  }
 },
 "nbformat": 4,
 "nbformat_minor": 4
}
