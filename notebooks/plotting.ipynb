{
 "cells": [
  {
   "cell_type": "code",
   "execution_count": null,
   "metadata": {},
   "outputs": [],
   "source": [
    "from pathlib import Path\n",
    "import numpy as np\n",
    "import matplotlib as mpl\n",
    "import matplotlib.pyplot as plt\n",
    "\n",
    "import tqdm\n",
    "\n",
    "import kalepy as kale\n",
    "\n",
    "import holodeck as holo\n",
    "from holodeck import plot, utils\n",
    "from holodeck.constants import YR, GYR\n",
    "\n",
    "# ==== Plotting Setup ====\n",
    "figsize = 6\n",
    "fontsize = 13\n",
    "\n",
    "mpl.style.use('default')   # avoid dark backgrounds from dark theme vscode\n",
    "plt.rcParams['axes.grid'] = True\n",
    "plt.rcParams['grid.alpha'] = 0.25\n",
    "plt.rcParams[\"mathtext.fontset\"] = \"cm\"\n",
    "plt.rcParams[\"font.family\"] = \"serif\"\n",
    "plt.rcParams[\"font.size\"] = fontsize\n",
    "plt.rcParams[\"legend.fontsize\"] = fontsize*0.8\n",
    "plt.rcParams[\"legend.handlelength\"] = 1.5\n",
    "plt.rcParams[\"lines.solid_capstyle\"] = 'round'\n",
    "mpl.rcParams['xtick.labelsize'] = fontsize*0.8\n",
    "mpl.rcParams['ytick.labelsize'] = fontsize*0.8\n"
   ]
  },
  {
   "attachments": {},
   "cell_type": "markdown",
   "metadata": {},
   "source": [
    "# Plotting style"
   ]
  },
  {
   "attachments": {},
   "cell_type": "markdown",
   "metadata": {},
   "source": [
    "## single-column"
   ]
  },
  {
   "attachments": {},
   "cell_type": "markdown",
   "metadata": {},
   "source": [
    "Quick:"
   ]
  },
  {
   "cell_type": "code",
   "execution_count": null,
   "metadata": {},
   "outputs": [],
   "source": [
    "fig, ax = plot.figax_single(xlabel='x label', ylabel='y label', scale='linear')\n",
    "xx = np.linspace(-2.0, 2.0, 1000) * np.pi\n",
    "yy = np.sin(xx)**2 / xx\n",
    "ax.plot(xx, yy)\n",
    "plt.show()"
   ]
  },
  {
   "attachments": {},
   "cell_type": "markdown",
   "metadata": {},
   "source": [
    "Dirty:"
   ]
  },
  {
   "cell_type": "code",
   "execution_count": null,
   "metadata": {},
   "outputs": [],
   "source": [
    "from pathlib import Path\n",
    "import matplotlib as mpl\n",
    "import matplotlib.pyplot as plt\n",
    "import numpy as np\n",
    "\n",
    "figsize = 6\n",
    "fontsize = 13\n",
    "\n",
    "mpl.style.use('default')   # avoid dark backgrounds from dark theme vscode\n",
    "plt.rcParams['axes.grid'] = True\n",
    "plt.rcParams['grid.alpha'] = 0.25\n",
    "plt.rcParams[\"mathtext.fontset\"] = \"cm\"\n",
    "plt.rcParams[\"font.family\"] = \"serif\"\n",
    "plt.rcParams[\"font.size\"] = fontsize\n",
    "plt.rcParams[\"legend.fontsize\"] = fontsize*0.8\n",
    "plt.rcParams[\"legend.handlelength\"] = 1.5\n",
    "plt.rcParams[\"lines.solid_capstyle\"] = 'round'\n",
    "mpl.rcParams['xtick.labelsize'] = fontsize*0.8\n",
    "mpl.rcParams['ytick.labelsize'] = fontsize*0.8\n",
    "\n",
    "figsize_single = [figsize, figsize * (np.sqrt(5)-1)/2]\n",
    "adjust_single = dict(left=0.12, bottom=0.15, right=0.95, top=0.95)\n",
    "\n",
    "fig, ax = plt.subplots(figsize=figsize_single)\n",
    "plt.subplots_adjust(**adjust_single)\n",
    "ax.set(xlabel='x-label', yscale='log', ylabel='y-label')\n",
    "\n",
    "xx = np.sort(np.random.uniform(-10.0, +10.0, 1000))\n",
    "yy = np.sin(xx) / xx + 0.05*xx\n",
    "yy = np.exp(yy)\n",
    "zz = yy + np.random.normal(0.0, 0.1, xx.size)\n",
    "\n",
    "plt.plot(xx, yy, ls='-', color='0.75', alpha=0.5, lw=4.0)\n",
    "plt.plot(xx, yy, ls='-', color='0.25', alpha=0.85, label='$f(x) = \\sin(x)/x + x$')\n",
    "plt.scatter(xx, zz, alpha=0.25, s=8)\n",
    "\n",
    "ax.legend()\n",
    "# fig.savefig(\"test_single.pdf\")\n",
    "plt.show()"
   ]
  },
  {
   "attachments": {},
   "cell_type": "markdown",
   "metadata": {},
   "source": [
    "## double-wide"
   ]
  },
  {
   "attachments": {},
   "cell_type": "markdown",
   "metadata": {},
   "source": [
    "Quick:"
   ]
  },
  {
   "cell_type": "code",
   "execution_count": null,
   "metadata": {},
   "outputs": [],
   "source": [
    "fig, ax = plot.figax_double(xlabel='x label', ylabel='y label', scale='linear')\n",
    "xx = np.linspace(-2.0, 2.0, 1000) * np.pi\n",
    "yy = np.sin(xx)**2 / xx\n",
    "ax.plot(xx, yy)\n",
    "plt.show()"
   ]
  },
  {
   "attachments": {},
   "cell_type": "markdown",
   "metadata": {},
   "source": [
    "Dirty:"
   ]
  },
  {
   "cell_type": "code",
   "execution_count": null,
   "metadata": {},
   "outputs": [],
   "source": [
    "from pathlib import Path\n",
    "import matplotlib as mpl\n",
    "import matplotlib.pyplot as plt\n",
    "import numpy as np\n",
    "\n",
    "figsize = 6\n",
    "fontsize = 13\n",
    "\n",
    "mpl.style.use('default')   # avoid dark backgrounds from dark theme vscode\n",
    "plt.rcParams['axes.grid'] = True\n",
    "plt.rcParams['grid.alpha'] = 0.25\n",
    "plt.rcParams[\"mathtext.fontset\"] = \"cm\"\n",
    "plt.rcParams[\"font.family\"] = \"serif\"\n",
    "plt.rcParams[\"font.size\"] = fontsize\n",
    "plt.rcParams[\"legend.fontsize\"] = fontsize*0.8\n",
    "plt.rcParams[\"legend.handlelength\"] = 1.5\n",
    "plt.rcParams[\"lines.solid_capstyle\"] = 'round'\n",
    "mpl.rcParams['xtick.labelsize'] = fontsize*0.8\n",
    "mpl.rcParams['ytick.labelsize'] = fontsize*0.8\n",
    "\n",
    "figsize_double = [2*fss for fss in figsize_single]\n",
    "adjust_double = dict(left=0.08, bottom=0.10, right=0.98, top=0.95)\n",
    "\n",
    "\n",
    "fig, ax = plt.subplots(figsize=figsize_double)\n",
    "plt.subplots_adjust(**adjust_double)\n",
    "ax.set(xlabel='x-label', yscale='log', ylabel='y-label')\n",
    "\n",
    "xx = np.sort(np.random.uniform(-10.0, +10.0, 10000))\n",
    "yy = np.sin(xx) / xx + 0.05*xx\n",
    "yy = np.exp(-yy)\n",
    "zz = yy + np.random.normal(0.0, 0.05, xx.size)\n",
    "\n",
    "plt.plot(xx, yy, ls='-', color='0.75', alpha=0.5, lw=4.0)\n",
    "plt.plot(xx, yy, ls='-', color='0.25', alpha=0.85, label='$f(x) = \\sin(x)/x + x$')\n",
    "plt.scatter(xx, zz, alpha=0.25, s=8)\n",
    "\n",
    "ax.legend()\n",
    "# fig.savefig(\"test_double.pdf\")\n",
    "plt.show()"
   ]
  },
  {
   "attachments": {},
   "cell_type": "markdown",
   "metadata": {},
   "source": [
    "# Corner"
   ]
  },
  {
   "attachments": {},
   "cell_type": "markdown",
   "metadata": {},
   "source": [
    "Generate some random data for plotting"
   ]
  },
  {
   "cell_type": "code",
   "execution_count": null,
   "metadata": {},
   "outputs": [],
   "source": [
    "SIZE = 10000\n",
    "\n",
    "xx = np.random.normal(0.0, 2.0, SIZE)\n",
    "yy = 10.0**np.random.normal(1.0, 0.2, SIZE)\n",
    "zz = np.sin(np.random.uniform(-np.pi, np.pi, SIZE))\n",
    "zz *= 0.2 * (xx / xx.max())\n",
    "data1 = [xx, yy, zz]"
   ]
  },
  {
   "attachments": {},
   "cell_type": "markdown",
   "metadata": {},
   "source": [
    "Corner plot a single dataset"
   ]
  },
  {
   "cell_type": "code",
   "execution_count": null,
   "metadata": {},
   "outputs": [],
   "source": [
    "npars = np.shape(data1)[0]\n",
    "names = ['x', 'y', 'z']\n",
    "\n",
    "# Setup arguments\n",
    "dist1d = dict(\n",
    "    carpet=True,      # scatter points at the bottom\n",
    "    hist=True,        # histogram\n",
    "    density=True,     # KDE generated 1D density distributions\n",
    ")\n",
    "\n",
    "dist2d = dict(\n",
    "    smooth=1,         # smooth the data used for contours\n",
    "    upsample=4,        # upsample the number of bins used for contours (similar to smoothing)\n",
    "    hist=True,        # 2D histogram \n",
    "    contour=True,    # contours\n",
    "    scatter=True,    # scatter points\n",
    ")\n",
    "\n",
    "color = 'purple'         # this color is also used to create a colormap for the histogram and contours\n",
    "\n",
    "fig = plt.figure(figsize=[8, 6])\n",
    "corner = holo.plot.Corner(npars, labels=names, fig=fig, origin='bl')\n",
    "corner.plot(\n",
    "    data1,\n",
    "    color=color,\n",
    "    dist1d=dist1d,\n",
    "    dist2d=dist2d,\n",
    ")\n",
    "plt.show()"
   ]
  },
  {
   "attachments": {},
   "cell_type": "markdown",
   "metadata": {},
   "source": [
    "Make a second dataset"
   ]
  },
  {
   "cell_type": "code",
   "execution_count": null,
   "metadata": {},
   "outputs": [],
   "source": [
    "xx = np.random.normal(0.0, 2.0, SIZE)**2\n",
    "yy = np.random.normal(1.0, 0.2, SIZE) * np.sqrt(np.fabs(xx)) * 10\n",
    "zz = np.cos(np.random.uniform(-np.pi, np.pi, SIZE))\n",
    "zz *= (yy / yy.max())\n",
    "data2 = [xx, yy, zz]\n"
   ]
  },
  {
   "attachments": {},
   "cell_type": "markdown",
   "metadata": {},
   "source": [
    "Overplot two different data-sets"
   ]
  },
  {
   "cell_type": "code",
   "execution_count": null,
   "metadata": {},
   "outputs": [],
   "source": [
    "npars = np.shape(data1)[0]\n",
    "names = ['x', 'y', 'z']\n",
    "\n",
    "# Setup arguments\n",
    "dist1d = dict(\n",
    "    carpet=False,      # scatter points at the bottom\n",
    "    hist=True,        # histogram\n",
    "    density=False,     # KDE generated 1D density distributions\n",
    ")\n",
    "\n",
    "dist2d = dict(\n",
    "    dict(smooth=1),   # smooth the (histogram/binned) distributions\n",
    "    hist=False,        # 2D histogram\n",
    "    contour=True,    # contours\n",
    "    scatter=False,    # scatter points\n",
    ")\n",
    "\n",
    "color = None         # this color is also used to create a colormap for the histogram and contours\n",
    "\n",
    "fig = plt.figure(figsize=[8, 6])\n",
    "corner = holo.plot.Corner(npars, labels=names, fig=fig, origin='bl')\n",
    "\n",
    "handles = []\n",
    "labels = ['data 1', 'data 2']\n",
    "for data in [data1, data2]:\n",
    "    hh = corner.plot(\n",
    "        data,\n",
    "        color=color,\n",
    "        sigmas=[2, 3],\n",
    "        dist1d=dist1d,\n",
    "        dist2d=dist2d,\n",
    "    )\n",
    "    handles.append(hh)\n",
    "\n",
    "corner.legend(handles, labels)\n",
    "plt.show()"
   ]
  },
  {
   "attachments": {},
   "cell_type": "markdown",
   "metadata": {},
   "source": [
    "# Violins"
   ]
  },
  {
   "attachments": {},
   "cell_type": "markdown",
   "metadata": {},
   "source": [
    "Analytically calculate a function, and draw the violins"
   ]
  },
  {
   "cell_type": "code",
   "execution_count": null,
   "metadata": {},
   "outputs": [],
   "source": [
    "fig, ax = plot.figax(scale='linear')\n",
    "\n",
    "# y-values at which the violins are plotted\n",
    "yy = np.linspace(-2.0, 2.0, 1000)\n",
    "\n",
    "xlocs = [1.0, 2.0, 3.0]\n",
    "sides = ['left', 'both', 'right']\n",
    "\n",
    "for xx, ss in zip(xlocs, sides):\n",
    "    # Whatever function you want to violin to be proportional to\n",
    "    zz = np.exp(-(yy+0.5-xx/2.0)**2/0.5)\n",
    "    \n",
    "    plot.violin(ax, xx, yy, zz, width=0.5, side=ss, median=True)\n",
    "    \n",
    "plt.show()"
   ]
  },
  {
   "cell_type": "code",
   "execution_count": null,
   "metadata": {},
   "outputs": [],
   "source": [
    "fig, ax = plot.figax(scale='linear')\n",
    "\n",
    "xlocs = [1.0, 2.0, 3.0]\n",
    "\n",
    "# use the data from above\n",
    "for xx, dd in zip(xlocs, data2):\n",
    "\n",
    "    # get a KDE density reconstruction of the data\n",
    "    #     kalepy chooses appropriate sample points (yy) which to get the density\n",
    "    yy, zz = kale.density(dd, probability=True)\n",
    "\n",
    "    plot.violin(ax, xx, yy, zz, width=0.5, side='both', median=True)\n",
    "    \n",
    "plt.show()"
   ]
  }
 ],
 "metadata": {
  "kernelspec": {
   "display_name": "py310",
   "language": "python",
   "name": "python3"
  },
  "language_info": {
   "codemirror_mode": {
    "name": "ipython",
    "version": 3
   },
   "file_extension": ".py",
   "mimetype": "text/x-python",
   "name": "python",
   "nbconvert_exporter": "python",
   "pygments_lexer": "ipython3",
   "version": "3.10.11"
  }
 },
 "nbformat": 4,
 "nbformat_minor": 2
}
