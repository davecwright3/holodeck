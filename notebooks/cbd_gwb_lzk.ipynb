{
 "cells": [
  {
   "cell_type": "code",
   "execution_count": null,
   "id": "ebaa2223",
   "metadata": {},
   "outputs": [],
   "source": [
    "# import misc\n",
    "# import copy\n",
    "\n",
    "import holodeck as holo\n",
    "import numpy as np\n",
    "import matplotlib.pyplot as plt\n",
    "import matplotlib as mpl\n",
    "from holodeck import utils, cosmo\n",
    "from holodeck import plot as hplot\n",
    "import holodeck.accretion\n",
    "from holodeck.constants import MSOL, PC, YR, MPC, GYR, MYR\n",
    "import gwb as psgwb\n",
    "# import seaborn as sns\n",
    "\n",
    "holo.log.setLevel(holo.log.INFO)"
   ]
  },
  {
   "cell_type": "code",
   "execution_count": null,
   "id": "223f95c1",
   "metadata": {},
   "outputs": [],
   "source": [
    "ECCEN_INIT = 0.5\n",
    "F_EDD = 0.5\n",
    "NSTEPS = 100\n",
    "\n",
    "pop = holo.population.Pop_Illustris()\n",
    "size = pop.size\n",
    "eccen = np.ones(size) * ECCEN_INIT\n",
    "pop = holo.population.Pop_Illustris(eccen=eccen)\n",
    "\n",
    "# redz = cosmo.a_to_z(pop.scafa)\n",
    "\n",
    "hards = [\n",
    "    holo.hardening.Hard_GW,\n",
    "    holo.hardening.CBD_Torques(),\n",
    "    holo.hardening.Sesana_Scattering(),\n",
    "    holo.hardening.Dynamical_Friction_NFW(attenuate=True),\n",
    "]\n",
    "\n",
    "acc = holo.accretion.Accretion(accmod='Siwek22', f_edd=F_EDD, subpc=True, evol_mass=True, edd_lim=1.0)"
   ]
  },
  {
   "cell_type": "code",
   "execution_count": null,
   "id": "e09d4685",
   "metadata": {},
   "outputs": [],
   "source": [
    "evo._last_index"
   ]
  },
  {
   "cell_type": "code",
   "execution_count": null,
   "id": "7b9ee228",
   "metadata": {},
   "outputs": [],
   "source": [
    "evo = holo.evolution.Evolution(pop, hards, debug=True, acc=acc)\n",
    "evo.evolve()"
   ]
  },
  {
   "cell_type": "code",
   "execution_count": null,
   "id": "6a00b2d0",
   "metadata": {},
   "outputs": [],
   "source": [
    "fig, ax = holo.plot.figax()\n",
    "beg = 0\n",
    "bin_vals = range(evo._size)\n",
    "# bin_vals = [3]\n",
    "for bin in bin_vals:\n",
    "    if bin > 0:\n",
    "        beg = evo._last_index[bin-1] + 1\n",
    "    end = evo._last_index[bin] + 1\n",
    "    if beg >= end-1:\n",
    "        break\n",
    "    print(beg, end)\n",
    "    xx = evo.tlook[beg:end]/GYR\n",
    "    print(xx)\n",
    "    yy = evo.sepa[beg:end]/PC\n",
    "    ax.plot(xx, yy, marker='x', label=bin)\n",
    "    beg = end - 1\n",
    "    \n",
    "    \n",
    "plt.legend()\n",
    "plt.show()"
   ]
  },
  {
   "cell_type": "code",
   "execution_count": null,
   "id": "46499354",
   "metadata": {},
   "outputs": [],
   "source": [
    "breaker()"
   ]
  },
  {
   "cell_type": "code",
   "execution_count": null,
   "id": "3f54dbc6",
   "metadata": {},
   "outputs": [],
   "source": []
  },
  {
   "cell_type": "code",
   "execution_count": null,
   "id": "2e549d23",
   "metadata": {},
   "outputs": [],
   "source": []
  },
  {
   "cell_type": "markdown",
   "id": "5b7b8042",
   "metadata": {},
   "source": [
    "# Generate evolution objects for populations with and without CBD influence"
   ]
  },
  {
   "cell_type": "code",
   "execution_count": null,
   "id": "d47bf206",
   "metadata": {},
   "outputs": [],
   "source": [
    "keys = ['no_doteb', 'doteb']\n",
    "f_edd = 0.1\n",
    "nsteps = 100\n",
    "eccen_init=0.01\n",
    "keys, evol_dict = misc.generate_evol(keys, f_edd=f_edd, eccen_init=eccen_init, ecc_test=True, nsteps=nsteps)"
   ]
  },
  {
   "cell_type": "code",
   "execution_count": null,
   "id": "2c9a5f43",
   "metadata": {},
   "outputs": [],
   "source": [
    "fig, ax = holo.plot.figax()\n",
    "ax.grid(True, alpha=0.25)\n",
    "fobs, _ = utils.pta_freqs(num=40)\n",
    "nreals=30\n",
    "plot_nanograv23 = True\n",
    "\n",
    "lw = 3\n",
    "ticksize = 5\n",
    "tickwidth = 2\n",
    "alpha = 1.0\n",
    "fs = 20\n",
    "\n",
    "for key in keys:\n",
    "    evol = evol_dict[key]\n",
    "    gwb = holo.gravwaves.GW_Discrete(evol, fobs, nreals=nreals)\n",
    "    gwb.emit(eccen=True)\n",
    "    median_gwb = np.median(gwb.both, axis=-1)\n",
    "\n",
    "    if 'ls_%s' %key in evol_dict.keys():\n",
    "        ls = evol_dict['ls_%s' %key]\n",
    "    else:\n",
    "        ls = '-'\n",
    "\n",
    "    cc, = ax.plot(fobs, median_gwb, label=evol_dict['label_%s' %key], \\\n",
    "                    color=evol_dict['color_%s' %key], linewidth=lw, \\\n",
    "                    linestyle=ls)\n",
    "    conf = np.percentile(gwb.both, [25, 75], axis=-1)\n",
    "    ax.fill_between(fobs, *conf, color=cc.get_color(), alpha=0.1)\n",
    "\n",
    "    twin_ax = hplot._twin_yr(ax, nano=False, fs=fs, label=False)\n",
    "\n",
    "    plt.setp(twin_ax.get_xticklabels(which='both'), fontsize=fs, rotation=0)\n",
    "    plt.setp(twin_ax.get_yticklabels(which='both'), fontsize=fs)\n",
    "    twin_ax.tick_params(axis='both', which='major', direction='inout', size=ticksize, width=tickwidth)\n",
    "    twin_ax.tick_params(axis='both', which='minor', direction='inout', size=0.7*ticksize, width=0.7*tickwidth)\n",
    "\n",
    "    plt.setp(ax.get_xticklabels(which='both'), fontsize=fs, rotation=0)\n",
    "    plt.setp(ax.get_yticklabels(which='both'), fontsize=fs)\n",
    "    ax.tick_params(axis='both', which='major', direction='inout', size=ticksize, width=tickwidth)\n",
    "    ax.tick_params(axis='both', which='minor', direction='inout', size=0.7*ticksize, width=0.7*tickwidth)\n",
    "\n",
    "if plot_nanograv23:\n",
    "    f_det = 1./YR\n",
    "    amp_det = 2.4*10**(-15)\n",
    "    err_det = np.array([[0.6*10**(-15),0.7*10**(-15)]]).T\n",
    "    ax.errorbar(f_det, amp_det, yerr=err_det, color = 'royalblue', \\\n",
    "            marker='*', markersize=4*lw, mew=lw, label='NANOGrav\\n(2023)')\n",
    "\n",
    "twin_ax.set_xlabel(r'$f_{\\rm GW} \\ [\\rm{yr}^{-1}]$', fontsize=fs)\n",
    "ax.set_xlabel(r'$f_{\\rm GW} \\ [\\rm{Hz}]$', fontsize=fs)\n",
    "ax.legend(fontsize=0.8*fs, ncol=max(1,int(len(keys)/2.)+1), loc='lower center')\n",
    "fig.tight_layout()"
   ]
  },
  {
   "cell_type": "code",
   "execution_count": null,
   "id": "b885f425",
   "metadata": {},
   "outputs": [],
   "source": [
    "evo_neg_cbd = evol_dict['no_doteb']\n",
    "evo_pos_cbd = evol_dict['doteb']\n",
    "evo_neg_cbd, evo_pos_cbd"
   ]
  },
  {
   "cell_type": "code",
   "execution_count": null,
   "id": "8166ebfe",
   "metadata": {},
   "outputs": [],
   "source": [
    "pars = evo_neg_cbd._EVO_PARS"
   ]
  },
  {
   "cell_type": "code",
   "execution_count": null,
   "id": "100569c5",
   "metadata": {},
   "outputs": [],
   "source": [
    "for pp in pars:\n",
    "    print(pp)\n",
    "    for evo in [evo_neg_cbd, evo_pos_cbd]:\n",
    "        scafa = evo.scafa[:, -1]\n",
    "        sel = (scafa < 1.0)\n",
    "        vv = getattr(evo, pp)[sel, -1]\n",
    "        print(vv.shape, utils.stats(vv))\n",
    "\n",
    "    # print()\n",
    "    # scafa = evo.scafa[:, -1]\n",
    "    # sel = (scafa < 1.0)\n",
    "    # print(f\"{utils.frac_str(sel)=}\")\n",
    "\n",
    "    # mass = evo.mass[:, -1, :]\n",
    "    # print(\"all\")\n",
    "    # for mm in mass.T:\n",
    "    #     print(utils.stats(mm))\n",
    "\n",
    "    # print(\"coal\")\n",
    "    # mass = evo.mass[sel, -1, :]\n",
    "    # for mm in mass.T:\n",
    "    #     print(utils.stats(mm))\n",
    "\n",
    "    # mc = utils.chirp_mass(*mass.T)\n",
    "    # print(f\"{utils.stats(mc/MSOL)=}\")\n"
   ]
  },
  {
   "cell_type": "code",
   "execution_count": null,
   "id": "757edadf",
   "metadata": {},
   "outputs": [],
   "source": [
    "fobs, _ = utils.pta_freqs(dur=100*YR, num=100)\n",
    "nreals = 10"
   ]
  },
  {
   "cell_type": "code",
   "execution_count": null,
   "id": "bdbcb7c0",
   "metadata": {},
   "outputs": [],
   "source": [
    "fig, ax = holo.plot.figax()\n",
    "\n",
    "gwbs = []\n",
    "for evo in [evo_neg_cbd, evo_pos_cbd]:\n",
    "    gwb = holo.gravwaves.GW_Discrete(evo, fobs, nreals=nreals)\n",
    "    gwb.emit(eccen=True)\n",
    "    hc = gwb.both\n",
    "    hc = np.median(hc, axis=-1)\n",
    "    ax.plot(fobs, hc)\n",
    "    gwbs.append(gwb)\n",
    "    \n",
    "plt.show()\n"
   ]
  },
  {
   "cell_type": "code",
   "execution_count": null,
   "id": "c8f89eeb",
   "metadata": {},
   "outputs": [],
   "source": [
    "num = 6\n",
    "fig, axes = holo.plot.figax(figsize=[10, 5], ncols=2, ylim=[1e-20, 1e-13])\n",
    "\n",
    "for ax, gwb in zip(axes, gwbs):\n",
    "    hc = gwb.harms\n",
    "    _, nharms = hc.shape\n",
    "    colors = mpl.cm.get_cmap('viridis')(np.linspace(0.0, 1.0, nharms-num))\n",
    "\n",
    "    ax.plot(fobs, np.sqrt(np.sum(hc, axis=1)), 'k--', alpha=0.5)\n",
    "    for ii in range(num):\n",
    "        ax.plot(fobs, np.sqrt(hc[:, ii]), alpha=0.8, label=ii+1)    \n",
    "\n",
    "    for ii, col in enumerate(colors):\n",
    "        jj = num + ii\n",
    "        lab = jj+1 if jj%10 == 0 else None\n",
    "        ax.plot(fobs, np.sqrt(hc[:, jj]), color=col, alpha=0.8, label=lab)\n",
    "        \n",
    "ax.legend()\n",
    "plt.show()"
   ]
  },
  {
   "cell_type": "code",
   "execution_count": null,
   "id": "bd1ca05f",
   "metadata": {},
   "outputs": [],
   "source": [
    "fig, ax = holo.plot.figax()\n",
    "\n",
    "gwbs = []\n",
    "for eccen in [True, False]:\n",
    "    gwb = holo.gravwaves.GW_Discrete(evo_pos_cbd, fobs, nreals=nreals)\n",
    "    gwb.emit(eccen=eccen)\n",
    "    hc = gwb.both\n",
    "    hc = np.median(hc, axis=-1)\n",
    "    ax.plot(fobs, hc)\n",
    "    gwbs.append(gwb)\n",
    "    \n",
    "plt.show()\n"
   ]
  },
  {
   "cell_type": "code",
   "execution_count": null,
   "id": "8a9d7ddb",
   "metadata": {},
   "outputs": [],
   "source": [
    "num = 6\n",
    "fig, axes = holo.plot.figax(figsize=[10, 5], ncols=2, ylim=[1e-20, 1e-13])\n",
    "\n",
    "for ax, gwb in zip(axes, gwbs):\n",
    "    hc = gwb.harms\n",
    "    _, nharms = hc.shape\n",
    "\n",
    "\n",
    "    ax.plot(fobs, np.sqrt(np.sum(hc, axis=1)), 'k--', alpha=0.5)\n",
    "\n",
    "    if nharms == 1:\n",
    "        continue\n",
    "    \n",
    "    for ii in range(num):\n",
    "        ax.plot(fobs, np.sqrt(hc[:, ii]), alpha=0.8, label=ii+1)    \n",
    "\n",
    "    colors = mpl.cm.get_cmap('viridis')(np.linspace(0.0, 1.0, nharms-num))\n",
    "\n",
    "    for ii, col in enumerate(colors):\n",
    "        jj = num + ii\n",
    "        lab = jj+1 if jj%10 == 0 else None\n",
    "        ax.plot(fobs, np.sqrt(hc[:, jj]), color=col, alpha=0.8, label=lab)\n",
    "        \n",
    "ax.legend()\n",
    "plt.show()"
   ]
  }
 ],
 "metadata": {
  "kernelspec": {
   "display_name": "py311",
   "language": "python",
   "name": "python3"
  },
  "language_info": {
   "codemirror_mode": {
    "name": "ipython",
    "version": 3
   },
   "file_extension": ".py",
   "mimetype": "text/x-python",
   "name": "python",
   "nbconvert_exporter": "python",
   "pygments_lexer": "ipython3",
   "version": "3.11.4"
  }
 },
 "nbformat": 4,
 "nbformat_minor": 5
}
