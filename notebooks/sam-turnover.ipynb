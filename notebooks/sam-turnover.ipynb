{
 "cells": [
  {
   "cell_type": "code",
   "execution_count": null,
   "id": "f9a9d9bc",
   "metadata": {},
   "outputs": [],
   "source": [
    "# %load ./init.ipy\n",
    "%reload_ext autoreload\n",
    "%autoreload 2\n",
    "\n",
    "# Builtin packages\n",
    "from datetime import datetime\n",
    "from importlib import reload\n",
    "import logging\n",
    "import os\n",
    "from pathlib import Path\n",
    "import sys\n",
    "import warnings\n",
    "\n",
    "# standard secondary packages\n",
    "import astropy as ap\n",
    "import h5py\n",
    "import matplotlib as mpl\n",
    "import matplotlib.pyplot as plt\n",
    "import numpy as np\n",
    "import scipy as sp\n",
    "import scipy.stats\n",
    "import tqdm.notebook as tqdm\n",
    "\n",
    "# development packages\n",
    "import kalepy as kale\n",
    "import kalepy.utils\n",
    "import kalepy.plot\n",
    "\n",
    "# --- Holodeck ----\n",
    "import holodeck as holo\n",
    "import holodeck.sam\n",
    "from holodeck import cosmo, utils, plot\n",
    "from holodeck.constants import MSOL, PC, YR, MPC, GYR, SPLC, NWTG\n",
    "import holodeck.gravwaves\n",
    "import holodeck.evolution\n",
    "import holodeck.population\n",
    "\n",
    "# Silence annoying numpy errors\n",
    "np.seterr(divide='ignore', invalid='ignore', over='ignore')\n",
    "warnings.filterwarnings(\"ignore\", category=UserWarning)\n",
    "\n",
    "# Plotting settings\n",
    "mpl.rc('font', **{'family': 'serif', 'sans-serif': ['Times'], 'size': 15})\n",
    "mpl.rc('lines', solid_capstyle='round')\n",
    "mpl.rc('mathtext', fontset='cm')\n",
    "mpl.style.use('default')   # avoid dark backgrounds from dark theme vscode\n",
    "plt.rcParams.update({'grid.alpha': 0.5})\n",
    "\n",
    "# Load log and set logging level\n",
    "log = holo.log\n",
    "log.setLevel(logging.INFO)"
   ]
  },
  {
   "cell_type": "code",
   "execution_count": null,
   "id": "b3da63b3",
   "metadata": {},
   "outputs": [],
   "source": [
    "DEF_NUM_FBINS = 40\n",
    "DEF_PTA_DUR = 16.03     # [yrs]\n",
    "\n",
    "# Choose observed GW-Frequency bins based on nyquist sampling\n",
    "fobs_edges = utils.nyquist_freqs_edges(DEF_PTA_DUR*YR, cad=0.1*YR)\n",
    "fobs_edges = fobs_edges[:DEF_NUM_FBINS+1]\n",
    "fobs = utils.midpoints(fobs_edges)"
   ]
  },
  {
   "attachments": {},
   "cell_type": "markdown",
   "id": "835aec19",
   "metadata": {},
   "source": [
    "## Basic Example"
   ]
  },
  {
   "cell_type": "code",
   "execution_count": null,
   "id": "7dacb18d",
   "metadata": {},
   "outputs": [],
   "source": [
    "gsmf = holo.sam.GSMF_Schechter()               # Galaxy Stellar-Mass Function (GSMF)\n",
    "gpf = holo.sam.GPF_Power_Law()                 # Galaxy Pair Fraction         (GPF)\n",
    "gmt = holo.sam.GMT_Power_Law()                 # Galaxy Merger Time           (GMT)\n",
    "mmbulge = holo.relations.MMBulge_Standard()    # M-MBulge Relation            (MMB)\n",
    "\n",
    "sam = holo.sam.Semi_Analytic_Model(gsmf=gsmf, gpf=gpf, gmt=gmt, mmbulge=mmbulge, shape=40)"
   ]
  },
  {
   "cell_type": "code",
   "execution_count": null,
   "id": "099905c8",
   "metadata": {},
   "outputs": [],
   "source": [
    "hard_gw = holo.hardening.Hard_GW()\n",
    "gwb = sam.gwb(fobs, realize=20, hard=hard_gw)    # calculate many different realizations"
   ]
  },
  {
   "cell_type": "code",
   "execution_count": null,
   "id": "9bd6f390",
   "metadata": {},
   "outputs": [],
   "source": [
    "fig, ax = plot.figax(xlabel='Frequency $f_\\mathrm{obs}$ [1/yr]', ylabel='Characteristic Strain $h_c$')\n",
    "\n",
    "xx = (fobs[1:] + fobs[:-1]) * 0.5\n",
    "ax.plot(xx, np.median(gwb, axis=1))\n",
    "\n",
    "ax.fill_between(xx, *np.percentile(gwb, [25, 75], axis=1), alpha=0.2)\n",
    "\n",
    "plt.show()"
   ]
  },
  {
   "cell_type": "code",
   "execution_count": null,
   "id": "df53a22f",
   "metadata": {},
   "outputs": [],
   "source": [
    "Fixed_Time = holo.hardening.Fixed_Time\n",
    "fixed = Fixed_Time.from_sam(sam, 2 * GYR)"
   ]
  },
  {
   "cell_type": "code",
   "execution_count": null,
   "id": "718cadbf",
   "metadata": {},
   "outputs": [],
   "source": [
    "gwb_fixed = sam.gwb(fobs, realize=3, hard=fixed)    # calculate many different realizations"
   ]
  },
  {
   "cell_type": "code",
   "execution_count": null,
   "id": "3f2ccf11",
   "metadata": {},
   "outputs": [],
   "source": [
    "fig, ax = plot.figax(xlabel='Frequency $f_\\mathrm{obs}$ [1/yr]', ylabel='Characteristic Strain $h_c$')\n",
    "\n",
    "xx = (fobs[1:] + fobs[:-1]) * 0.5\n",
    "ax.plot(xx, np.median(gwb_fixed, axis=1))\n",
    "\n",
    "ax.fill_between(xx, *np.percentile(gwb_fixed, [25, 75], axis=1), alpha=0.2)\n",
    "\n",
    "plt.show()"
   ]
  },
  {
   "attachments": {},
   "cell_type": "markdown",
   "id": "4fcb1d8c",
   "metadata": {},
   "source": [
    "## Compare GW-Only to Phenomenological Hardening Model"
   ]
  },
  {
   "cell_type": "code",
   "execution_count": null,
   "id": "00a27cd7",
   "metadata": {},
   "outputs": [],
   "source": [
    "sam = holo.sam.Semi_Analytic_Model(shape=40)"
   ]
  },
  {
   "cell_type": "code",
   "execution_count": null,
   "id": "bb6f1d47",
   "metadata": {},
   "outputs": [],
   "source": [
    "gwb_gw = sam.gwb(fobs_edges, realize=300, hard=holo.hardening.Hard_GW(), zero_stalled=False)"
   ]
  },
  {
   "cell_type": "code",
   "execution_count": null,
   "id": "00f0d136",
   "metadata": {},
   "outputs": [],
   "source": [
    "NREALS = 300\n",
    "# hard_times = np.linspace(0.1, 12.0, 3)\n",
    "hard_times = [0.1, 0.5, 1.0, 2.0, 5.0, 10.0]\n",
    "ntimes = len(hard_times)\n",
    "nfobs = fobs.size\n",
    "gwb_ph = np.zeros((ntimes, nfobs, NREALS))\n",
    "\n",
    "for ii, htime in enumerate(hard_times):\n",
    "    print(ii, htime)\n",
    "    hard = holo.hardening.Fixed_Time.from_sam(sam, htime*GYR)\n",
    "    _gwb = sam.gwb(fobs_edges, realize=NREALS, hard=hard, zero_stalled=True)\n",
    "    gwb_ph[ii, :, :] = _gwb\n"
   ]
  },
  {
   "cell_type": "code",
   "execution_count": null,
   "id": "471e236d",
   "metadata": {},
   "outputs": [],
   "source": [
    "PLAW_FIT_NFREQS = 0\n",
    "COLORBAR = False\n",
    "\n",
    "if COLORBAR:\n",
    "    kw = dict(bottom=0.25)\n",
    "else:\n",
    "    kw = {}\n",
    "    \n",
    "fig, axes = plot.figax(figsize=[10, 6], ncols=2, wspace=0.1, **kw)\n",
    "\n",
    "xx = fobs * YR\n",
    "NSAMP = 0\n",
    "\n",
    "axes[0].set(xlabel=plot.LABEL_GW_FREQUENCY_YR, ylabel=plot.LABEL_CHARACTERISTIC_STRAIN)\n",
    "axes[1].set(xlabel=plot.LABEL_GW_FREQUENCY_YR, ylabel=\"Ratio (phenom / GW)\")\n",
    "\n",
    "smap = plot.smap(hard_times, log=True, cmap='Spectral')\n",
    "colors = smap.to_rgba(hard_times)\n",
    "\n",
    "med_gw = np.median(gwb_gw, axis=-1)\n",
    "# log10amp, gamma = utils.fit_powerlaw(xx[:PLAW_FIT_NFREQS], med_gw[:PLAW_FIT_NFREQS])\n",
    "gamma = -2.0 / 3.0\n",
    "if PLAW_FIT_NFREQS > 1:\n",
    "    log10amp = utils.fit_powerlaw_fixed_index(xx[:PLAW_FIT_NFREQS], med_gw[:PLAW_FIT_NFREQS], index=gamma)\n",
    "else:\n",
    "    amp = med_gw[0] * np.power(xx[0], +2.0/3.0)\n",
    "    log10amp = np.log10(amp)\n",
    "\n",
    "plaw = np.power(10.0, log10amp + gamma * np.log10(xx))\n",
    "ref = med_gw\n",
    "\n",
    "# plot.draw_gwb(axes[0], xx, gwb_gw, color='k', nsamp=NSAMP)\n",
    "axes[0].plot(xx, med_gw, color='k', zorder=10)\n",
    "axes[0].plot(xx, plaw, ls=':', color='k', alpha=0.5, lw=2.0)\n",
    "axes[1].plot(xx, np.ones_like(ref), ls='-', color='k', alpha=0.5)\n",
    "\n",
    "labels = []\n",
    "handles = []\n",
    "for ii, htime in enumerate(hard_times):\n",
    "    lab = f\"{htime:.1f}\"\n",
    "    col = colors[ii]\n",
    "    hh = plot.draw_gwb(axes[0], xx, gwb_ph[ii, :, :], color=col, nsamp=NSAMP, fracs=[0.5])\n",
    "    med = np.median(gwb_ph[ii], axis=-1)\n",
    "    axes[1].plot(xx, med/ref, color=col, alpha=0.5)\n",
    "    handles.append(hh)\n",
    "    labels.append(lab)\n",
    "\n",
    "if COLORBAR:\n",
    "    cax = fig.add_axes([0.2, 0.08, 0.6, 0.03])\n",
    "    plt.colorbar(smap, label='Lifetime [Gyr]', orientation='horizontal', cax=cax)\n",
    "else:\n",
    "    axes[0].legend(handles, labels, fontsize=8)    \n",
    "\n",
    "plot._twin_hz(axes[0])\n",
    "plot._twin_hz(axes[1])\n",
    "\n",
    "axes[1].yaxis.set_label_position('right')\n",
    "axes[1].yaxis.set_ticks_position('right')\n",
    "\n",
    "plt.show()\n",
    "filekey = \"\"\n",
    "fname = f\"phenom-hard{filekey}.png\"\n",
    "fname = Path(holo._PATH_OUTPUT).joinpath(fname)\n",
    "fig.savefig(fname, dpi=400)\n",
    "print(f\"Saved to {fname}, size {utils.get_file_size(fname)}\")\n"
   ]
  },
  {
   "cell_type": "code",
   "execution_count": null,
   "id": "0aaceab2",
   "metadata": {},
   "outputs": [],
   "source": [
    "sepa = np.logspace(-6, 4, 30) * PC\n",
    "ntimes = len(hard_times)\n",
    "numbers = []\n",
    "taus = []\n",
    "\n",
    "for ii, htime in enumerate(tqdm.tqdm_notebook(hard_times)):\n",
    "    print(ii, htime, \"Gyr\")\n",
    "    hard = holo.hardening.Fixed_Time.from_sam(sam, htime*GYR)\n",
    "    edges, number, details = sam.dynamic_binary_number(hard, sepa=sepa, return_details=True)\n",
    "    numbers.append(number)\n",
    "    taus.append(details['tau'])\n",
    "    break"
   ]
  },
  {
   "cell_type": "code",
   "execution_count": null,
   "id": "9bad504e",
   "metadata": {},
   "outputs": [],
   "source": [
    "xx = sepa / PC\n",
    "# hc2 = holo.gravwaves.char_strain_sq_from_bin_edges(edges)\n",
    "mc = holo.utils.chirp_mass_mtmr(edges[0][:, np.newaxis], edges[1][np.newaxis, :])\n",
    "dc = cosmo.comoving_distance(edges[2]).cgs.value\n",
    "\n",
    "print(mc.shape)\n",
    "\n",
    "tau = taus[0]\n",
    "mc = mc[:, :, np.newaxis, np.newaxis] * np.ones_like(tau)\n",
    "hc2 = np.power(mc, 4.0/3.0) / dc[np.newaxis, np.newaxis, :, np.newaxis]**2\n",
    "\n",
    "nn = numbers[0]\n",
    "nn = np.moveaxis(nn, -1, 0).reshape(xx.size, -1)\n",
    "tau = np.moveaxis(tau, -1, 0).reshape(xx.size, -1)\n",
    "\n",
    "fig, ax = plot.figax(ylim=[1e1, 1e9])\n",
    "plot.draw_med_conf(ax, xx, tau/YR)\n",
    "plot.draw_med_conf(ax, xx, tau/YR, weights=nn)\n",
    "\n",
    "weights = np.moveaxis(hc2, -1, 0).reshape(xx.size, -1)\n",
    "plot.draw_med_conf(ax, xx, tau/YR, weights=weights)\n",
    "\n",
    "tw = ax.twinx()\n",
    "tw.set(yscale='log')\n",
    "nn = utils._integrate_grid_differential_number(edges, numbers[0], freq=False)\n",
    "tw.plot(xx, np.sum(np.nan_to_num(nn), axis=(0, 1, 2)), 'k--')\n",
    "# tw.plot(xx, np.sum(numbers[0], axis=(0, 1, 2)))\n",
    "\n",
    "plt.show()"
   ]
  },
  {
   "cell_type": "code",
   "execution_count": null,
   "id": "556d7667",
   "metadata": {},
   "outputs": [],
   "source": [
    "xx = sepa / PC\n",
    "plt.loglog(xx, number.sum(axis=(0, 1, 2)))\n",
    "plt.show()"
   ]
  }
 ],
 "metadata": {
  "kernelspec": {
   "display_name": "py310",
   "language": "python",
   "name": "python3"
  },
  "language_info": {
   "codemirror_mode": {
    "name": "ipython",
    "version": 3
   },
   "file_extension": ".py",
   "mimetype": "text/x-python",
   "name": "python",
   "nbconvert_exporter": "python",
   "pygments_lexer": "ipython3",
   "version": "3.10.9"
  },
  "toc": {
   "base_numbering": 1,
   "nav_menu": {},
   "number_sections": true,
   "sideBar": true,
   "skip_h1_title": false,
   "title_cell": "Table of Contents",
   "title_sidebar": "Contents",
   "toc_cell": false,
   "toc_position": {
    "height": "calc(100% - 180px)",
    "left": "10px",
    "top": "150px",
    "width": "165px"
   },
   "toc_section_display": true,
   "toc_window_display": true
  },
  "varInspector": {
   "cols": {
    "lenName": 16,
    "lenType": 16,
    "lenVar": 40
   },
   "kernels_config": {
    "python": {
     "delete_cmd_postfix": "",
     "delete_cmd_prefix": "del ",
     "library": "var_list.py",
     "varRefreshCmd": "print(var_dic_list())"
    },
    "r": {
     "delete_cmd_postfix": ") ",
     "delete_cmd_prefix": "rm(",
     "library": "var_list.r",
     "varRefreshCmd": "cat(var_dic_list()) "
    }
   },
   "types_to_exclude": [
    "module",
    "function",
    "builtin_function_or_method",
    "instance",
    "_Feature"
   ],
   "window_display": false
  },
  "vscode": {
   "interpreter": {
    "hash": "1f0c7602c82e39efa19a01e5e068584db7a6d17aff8711ab06660aac81377393"
   }
  }
 },
 "nbformat": 4,
 "nbformat_minor": 5
}
