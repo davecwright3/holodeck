{
 "cells": [
  {
   "cell_type": "code",
   "execution_count": null,
   "id": "f9a9d9bc",
   "metadata": {},
   "outputs": [],
   "source": [
    "# %load ../init.ipy\n",
    "%reload_ext autoreload\n",
    "%autoreload 2\n",
    "from importlib import reload\n",
    "\n",
    "import os\n",
    "import sys\n",
    "import logging\n",
    "import warnings\n",
    "import numpy as np\n",
    "import astropy as ap\n",
    "import scipy as sp\n",
    "import scipy.stats\n",
    "import matplotlib as mpl\n",
    "import matplotlib.pyplot as plt\n",
    "\n",
    "import h5py\n",
    "import tqdm.notebook as tqdm\n",
    "\n",
    "import kalepy as kale\n",
    "import kalepy.utils\n",
    "import kalepy.plot\n",
    "\n",
    "import holodeck as holo\n",
    "import holodeck.sam\n",
    "from holodeck import cosmo, utils, plot\n",
    "from holodeck.constants import MSOL, PC, YR, MPC, GYR\n",
    "\n",
    "# Silence annoying numpy errors\n",
    "np.seterr(divide='ignore', invalid='ignore', over='ignore')\n",
    "warnings.filterwarnings(\"ignore\", category=UserWarning)\n",
    "\n",
    "# Plotting settings\n",
    "mpl.rc('font', **{'family': 'serif', 'sans-serif': ['Times'], 'size': 15})\n",
    "mpl.rc('lines', solid_capstyle='round')\n",
    "mpl.rc('mathtext', fontset='cm')\n",
    "mpl.style.use('default')   # avoid dark backgrounds from dark theme vscode\n",
    "plt.rcParams.update({'grid.alpha': 0.5})\n",
    "\n",
    "log = holo.log\n",
    "log.setLevel(logging.INFO)"
   ]
  },
  {
   "cell_type": "markdown",
   "id": "1e200808",
   "metadata": {},
   "source": [
    "# Reproduce Error"
   ]
  },
  {
   "cell_type": "code",
   "execution_count": null,
   "id": "7dacb18d",
   "metadata": {},
   "outputs": [],
   "source": [
    "gsmf = holo.sam.GSMF_Schechter()        # Galaxy Stellar-Mass Function (GSMF)\n",
    "gpf = holo.sam.GPF_Power_Law()          # Galaxy Pair Fraction         (GPF)\n",
    "gmt = holo.sam.GMT_Power_Law()          # Galaxy Merger Time           (GMT)\n",
    "mmbulge = holo.sam.MMBulge_Simple()     # M-MBulge Relation            (MMB)\n",
    "\n",
    "sam = holo.sam.Semi_Analytic_Model(gsmf=gsmf, gpf=gpf, gmt=gmt, mmbulge=mmbulge)"
   ]
  },
  {
   "cell_type": "code",
   "execution_count": null,
   "id": "5b497346",
   "metadata": {},
   "outputs": [],
   "source": [
    "# Choose observed GW-Frequency bins based on nyquist sampling\n",
    "fobs = utils.nyquist_freqs(10.0*YR, 0.1*YR)\n",
    "# idx = (1.0/YR < fobs) & (fobs < 2.0/YR)\n",
    "# idx = (fobs > 2.0/YR) & (fobs < 3.0/YR)\n",
    "idx = (fobs > 4.0/YR) & (fobs < 5.0/YR)\n",
    "print(np.count_nonzero(idx))\n",
    "fobs = fobs[idx]\n",
    "hard = holo.evolution.Hard_GW"
   ]
  },
  {
   "cell_type": "code",
   "execution_count": null,
   "id": "59d5e238",
   "metadata": {},
   "outputs": [],
   "source": [
    "vals, weights, edges, dens = holo.sam.sample_sam_with_hardening(\n",
    "        sam, hard, fobs=fobs, cut_below_mass=3e7, limit_merger_time=4*GYR, \n",
    "        # sample_threshold=1.0e2,   # 2.5s ==> 4.1e6, 3.5e9   [fobs < 1/YR]\n",
    "        # sample_threshold=1.0e3,   # 22.8s ==> 4.0e7, 3.5e9   [fobs < 1/YR]\n",
    "        # sample_threshold=1.0e4,   # 257s ==> 4.0e8, 3.5e9   [fobs < 1/YR]\n",
    "        sample_threshold=None,   # 257s ==> 4.0e8, 3.5e9   [fobs < 0.5/YR]\n",
    "        interpolate=False\n",
    ")"
   ]
  },
  {
   "cell_type": "code",
   "execution_count": null,
   "id": "3f6fcfec",
   "metadata": {},
   "outputs": [],
   "source": [
    "mt, mr, rz, fo = vals\n",
    "print(f\"{fo.size=:.4e}, {weights.size=:.4e}, {np.sum(weights)=:.4e}\")"
   ]
  },
  {
   "cell_type": "code",
   "execution_count": null,
   "id": "daa20a77",
   "metadata": {},
   "outputs": [],
   "source": [
    "# None\n",
    "fig = plot_error(fo, fobs)\n",
    "# fig = plot_error(fo, fobs, weights=weights)\n",
    "plt.show()"
   ]
  },
  {
   "cell_type": "code",
   "execution_count": null,
   "id": "32d231d1",
   "metadata": {},
   "outputs": [],
   "source": [
    "# 1e4\n",
    "fig = plot_error(fo, fobs)\n",
    "fig = plot_error(fo, fobs, weights=weights)\n",
    "plt.show()"
   ]
  },
  {
   "cell_type": "code",
   "execution_count": null,
   "id": "8668b443",
   "metadata": {},
   "outputs": [],
   "source": [
    "# 1e3\n",
    "fig = plot_error(fo, fobs)\n",
    "fig = plot_error(fo, fobs, weights=weights)\n",
    "plt.show()"
   ]
  },
  {
   "cell_type": "code",
   "execution_count": null,
   "id": "94e7b9d7",
   "metadata": {},
   "outputs": [],
   "source": [
    "# 1e3\n",
    "fig = plot_error(fo, fobs)\n",
    "fig = plot_error(fo, fobs, weights=weights)\n",
    "plt.show()"
   ]
  },
  {
   "cell_type": "code",
   "execution_count": null,
   "id": "318c3d7b",
   "metadata": {},
   "outputs": [],
   "source": [
    "# 1e3\n",
    "fig = plot_error(fo, fobs)\n",
    "fig = plot_error(fo, fobs, weights=weights)\n",
    "plt.show()"
   ]
  },
  {
   "cell_type": "code",
   "execution_count": null,
   "id": "248acc2c",
   "metadata": {},
   "outputs": [],
   "source": [
    "def double_bins(xx):\n",
    "    xx = np.concatenate([xx, kale.utils.midpoints(xx)])\n",
    "    xx = np.sort(np.unique(xx))\n",
    "    return xx\n",
    "\n",
    "def plot_error(fo, bins, weights=None, **kw):\n",
    "    fig, ax = plot.figax(figsize=[8, 2], xscale='log') # , xlim=[0.9*fo.min(), fo.min()*20])\n",
    "    plt.tight_layout()\n",
    "\n",
    "    kw = dict(weights=weights, rwidth=0.9, histtype='step', density=True)\n",
    "    xx = bins*YR\n",
    "    ax.hist(fo*YR, bins=xx, **kw)\n",
    "\n",
    "    for ii in range(2):\n",
    "        xx = double_bins(xx)\n",
    "        ax.hist(fo*YR, bins=xx, **kw)\n",
    "\n",
    "    return fig\n",
    "\n",
    "fig = plot_error(fo, fobs)\n",
    "# fig = plot_error(fo, fobs, weights=weights)\n",
    "plt.show()"
   ]
  },
  {
   "cell_type": "code",
   "execution_count": null,
   "id": "0c2dd7c4",
   "metadata": {},
   "outputs": [],
   "source": [
    "fig, ax = plot.figax()\n",
    "ax.hist(fo, bins=200, weights=weights, rwidth=0.9, histtype='step')\n",
    "tw = ax.twinx()\n",
    "tw.set(yscale='log')\n",
    "tw.hist(fo, bins=200, rwidth=0.9, histtype='step', color='r', ls='--')\n",
    "\n",
    "plt.show()"
   ]
  },
  {
   "cell_type": "markdown",
   "id": "3ee6fe74",
   "metadata": {},
   "source": [
    "# Reproduce with kalepy directly in 2D"
   ]
  },
  {
   "cell_type": "code",
   "execution_count": null,
   "id": "ad416131",
   "metadata": {},
   "outputs": [],
   "source": [
    "sample_threshold = 5.0e4\n",
    "edges, dnum = sam.number_from_hardening(hard, fobs=fobs)\n",
    "log_edges = [np.log10(edges[0]), edges[1], edges[2], np.log(edges[3])]\n",
    "\n",
    "# integrate each bin to convert from probability- density to mass\n",
    "# NOTE: _integrate_differential_number() has log-vs-lin spacings hardcoded! use `edges` as is\n",
    "mass = holo.sam._integrate_differential_number(edges, dnum, freq=True)\n",
    "# sample binaries from distribution, using appropriate spacing as needed\n",
    "# BUG: should the density used for proportional sampling `dnum` be log(density) ?!\n",
    "# vals, weights = kale.sample_outliers(edges, dnum, sample_threshold, mass=mass)\n",
    "\n",
    "vals, weights = kale.sample_outliers(log_edges, dnum, sample_threshold, mass=mass)\n",
    "vals[0] = 10.0 ** vals[0]\n",
    "vals[3] = np.e ** vals[3]"
   ]
  },
  {
   "cell_type": "code",
   "execution_count": null,
   "id": "5c453ae9",
   "metadata": {},
   "outputs": [],
   "source": [
    "vals.size/1e9, np.count_nonzero(weights == 1.0)/1e9"
   ]
  },
  {
   "cell_type": "code",
   "execution_count": null,
   "id": "7a331182",
   "metadata": {},
   "outputs": [],
   "source": [
    "mass.shape"
   ]
  },
  {
   "cell_type": "code",
   "execution_count": null,
   "id": "4ef72f45",
   "metadata": {},
   "outputs": [],
   "source": [
    "fig = plot_error(vals[3], fobs, weights=weights)\n",
    "plt.show()"
   ]
  },
  {
   "cell_type": "code",
   "execution_count": null,
   "id": "f4cc6bbb",
   "metadata": {},
   "outputs": [],
   "source": [
    "thresh = 10.0e6\n",
    "test = mass.sum(axis=(0, 1, 2))\n",
    "dd = holo.utils.trapz(dnum, np.log10(edges[0]), axis=0, cumsum=False)\n",
    "dd = holo.utils.trapz(dd, edges[1], axis=1, cumsum=False)\n",
    "dd = holo.utils.trapz(dd, edges[2], axis=2, cumsum=False)\n",
    "dd = dd.sum(axis=(0, 1, 2))\n",
    "\n",
    "print(test.shape, dd.shape, test.sum()/1e9)\n",
    "\n",
    "vv, ww = kale.sample_outliers([log_edges[-1]], dd, thresh, mass=test)\n"
   ]
  },
  {
   "cell_type": "code",
   "execution_count": null,
   "id": "70b97045",
   "metadata": {},
   "outputs": [],
   "source": [
    "vv.shape, ww.shape, np.count_nonzero(ww == 1.0)"
   ]
  },
  {
   "cell_type": "code",
   "execution_count": null,
   "id": "688edb9c",
   "metadata": {},
   "outputs": [],
   "source": [
    "le = log_edges[-1]\n",
    "print(le.shape, dd.shape, test.shape)\n",
    "fig, ax = plot.figax(xscale='lin', xlim=[-16.5, -15.5])\n",
    "# ax.plot(le, dd)\n",
    "# kale.plot.draw_hist1d(ax, le, test)\n",
    "\n",
    "kw = dict(\n",
    "    # ax=ax, ls='--', \n",
    "    ax=ax, ls='--', weights=ww, probability=True, density=True,\n",
    ")\n",
    "\n",
    "h1a, e1a, _ = kale.plot.hist1d(vv[0], edges=le, **kw)\n",
    "oo = double_bins(le)\n",
    "h2a, e2a, _ = kale.plot.hist1d(vv[0], edges=oo, **kw)\n",
    "\n",
    "plt.show()"
   ]
  }
 ],
 "metadata": {
  "interpreter": {
   "hash": "61b4062b24dfb1010f420dad5aa3bd73a4d2af47d0ec44eafec465a35a9d7239"
  },
  "kernelspec": {
   "display_name": "Python 3.9.7 64-bit ('py39': conda)",
   "name": "python3"
  },
  "language_info": {
   "codemirror_mode": {
    "name": "ipython",
    "version": 3
   },
   "file_extension": ".py",
   "mimetype": "text/x-python",
   "name": "python",
   "nbconvert_exporter": "python",
   "pygments_lexer": "ipython3",
   "version": "3.9.7"
  },
  "toc": {
   "base_numbering": 1,
   "nav_menu": {},
   "number_sections": true,
   "sideBar": true,
   "skip_h1_title": false,
   "title_cell": "Table of Contents",
   "title_sidebar": "Contents",
   "toc_cell": false,
   "toc_position": {
    "height": "calc(100% - 180px)",
    "left": "10px",
    "top": "150px",
    "width": "165px"
   },
   "toc_section_display": true,
   "toc_window_display": true
  },
  "varInspector": {
   "cols": {
    "lenName": 16,
    "lenType": 16,
    "lenVar": 40
   },
   "kernels_config": {
    "python": {
     "delete_cmd_postfix": "",
     "delete_cmd_prefix": "del ",
     "library": "var_list.py",
     "varRefreshCmd": "print(var_dic_list())"
    },
    "r": {
     "delete_cmd_postfix": ") ",
     "delete_cmd_prefix": "rm(",
     "library": "var_list.r",
     "varRefreshCmd": "cat(var_dic_list()) "
    }
   },
   "types_to_exclude": [
    "module",
    "function",
    "builtin_function_or_method",
    "instance",
    "_Feature"
   ],
   "window_display": false
  }
 },
 "nbformat": 4,
 "nbformat_minor": 5
}
