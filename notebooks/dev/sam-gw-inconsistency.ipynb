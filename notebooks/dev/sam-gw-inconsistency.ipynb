{
 "cells": [
  {
   "cell_type": "code",
   "execution_count": null,
   "id": "f9a9d9bc",
   "metadata": {},
   "outputs": [],
   "source": [
    "# %load ../init.ipy\n",
    "%reload_ext autoreload\n",
    "%autoreload 2\n",
    "from importlib import reload\n",
    "\n",
    "import os\n",
    "import sys\n",
    "import logging\n",
    "import warnings\n",
    "import numpy as np\n",
    "import astropy as ap\n",
    "import scipy as sp\n",
    "import scipy.stats\n",
    "import matplotlib as mpl\n",
    "import matplotlib.pyplot as plt\n",
    "\n",
    "import h5py\n",
    "import tqdm.notebook as tqdm\n",
    "\n",
    "import kalepy as kale\n",
    "import kalepy.utils\n",
    "import kalepy.plot\n",
    "\n",
    "import holodeck as holo\n",
    "import holodeck.sam\n",
    "from holodeck import cosmo, utils, plot\n",
    "from holodeck.constants import MSOL, PC, YR, MPC, GYR\n",
    "\n",
    "# Silence annoying numpy errors\n",
    "np.seterr(divide='ignore', invalid='ignore', over='ignore')\n",
    "warnings.filterwarnings(\"ignore\", category=UserWarning)\n",
    "\n",
    "# Plotting settings\n",
    "mpl.rc('font', **{'family': 'serif', 'sans-serif': ['Times'], 'size': 15})\n",
    "mpl.rc('lines', solid_capstyle='round')\n",
    "mpl.rc('mathtext', fontset='cm')\n",
    "mpl.style.use('default')   # avoid dark backgrounds from dark theme vscode\n",
    "plt.rcParams.update({'grid.alpha': 0.5})\n",
    "\n",
    "log = holo.log\n",
    "log.setLevel(logging.INFO)"
   ]
  },
  {
   "cell_type": "code",
   "execution_count": null,
   "id": "e0a05009",
   "metadata": {},
   "outputs": [],
   "source": [
    "import zcode\n",
    "import zcode.math as zmath\n",
    "import zcode.plot as zplot"
   ]
  },
  {
   "cell_type": "code",
   "execution_count": null,
   "id": "7dacb18d",
   "metadata": {},
   "outputs": [],
   "source": [
    "gsmf = holo.sam.GSMF_Schechter()        # Galaxy Stellar-Mass Function (GSMF)\n",
    "gpf = holo.sam.GPF_Power_Law()          # Galaxy Pair Fraction         (GPF)\n",
    "gmt = holo.sam.GMT_Power_Law()          # Galaxy Merger Time           (GMT)\n",
    "mmbulge = holo.relations.MMBulge_Standard()     # M-MBulge Relation            (MMB)\n",
    "# shape = (150, 151, 152)\n",
    "shape = (30, 31, 32)\n",
    "# shape = None\n",
    "\n",
    "sam = holo.sam.Semi_Analytic_Model(gsmf=gsmf, gpf=gpf, gmt=gmt, mmbulge=mmbulge, shape=shape)"
   ]
  },
  {
   "cell_type": "code",
   "execution_count": null,
   "id": "5b497346",
   "metadata": {},
   "outputs": [],
   "source": [
    "fobs = utils.nyquist_freqs(10.0*YR, 0.1*YR)\n",
    "# fobs = utils.nyquist_freqs(10.0*YR, 1.0*YR)\n",
    "# fobs = kale.utils.spacing(fobs, scale='log', num=fobs.size)"
   ]
  },
  {
   "cell_type": "code",
   "execution_count": null,
   "id": "f9fcd8ea",
   "metadata": {},
   "outputs": [],
   "source": [
    "NUM_REALS = 30"
   ]
  },
  {
   "cell_type": "code",
   "execution_count": null,
   "id": "49ba532f",
   "metadata": {},
   "outputs": [],
   "source": [
    "gwb_smooth = sam.gwb(fobs, realize=False)\n",
    "gwb_rough = sam.gwb(fobs, realize=NUM_REALS)"
   ]
  },
  {
   "cell_type": "code",
   "execution_count": null,
   "id": "7708eae8",
   "metadata": {},
   "outputs": [],
   "source": [
    "gwb = np.zeros((fobs.size-1, NUM_REALS))\n",
    "gwf = np.zeros((fobs.size-1, NUM_REALS))\n",
    "for ii in utils.tqdm(range(NUM_REALS)):\n",
    "    gwf_freqs, gwf[:, ii], gwb[:, ii] = holo.sam.sampled_gws_from_sam(\n",
    "        sam, fobs=fobs, hard=holo.evolution.Hard_GW, cut_below_mass=1e6*MSOL, limit_merger_time=None,\n",
    "        sample_threshold=10, poisson_inside=True, poisson_outside=True,\n",
    "    )\n",
    "    # gwb[:, ii] = np.sqrt(_gwb[:]**2 + gwf**2)\n",
    "    # break"
   ]
  },
  {
   "cell_type": "code",
   "execution_count": null,
   "id": "de7b0749",
   "metadata": {},
   "outputs": [],
   "source": [
    "fig, ax = plot.figax()\n",
    "\n",
    "def plot_gwb(xx, yy, **kwargs):\n",
    "    cc, = ax.plot(xx, np.median(yy, axis=-1), ls='--', **kwargs)\n",
    "    cc = cc.get_color()\n",
    "    temp = np.percentile(yy, [25, 75], axis=-1)\n",
    "    ax.fill_between(xx, *temp, color=cc, alpha=0.25)    \n",
    "    return\n",
    "\n",
    "xx = kale.utils.midpoints(fobs) * YR   # [1/sec] ==> [1/yr]\n",
    "\n",
    "# amp = 10e-16\n",
    "# yy = amp * np.power(xx, -2/3)\n",
    "# ax.plot(xx, yy, 'k--', alpha=0.25)\n",
    "\n",
    "ax.plot(xx, gwb_smooth, 'b:')\n",
    "plot_gwb(xx, gwb_rough, label='roughed')\n",
    "if np.ndim(gwb) == 1:\n",
    "    ax.plot(xx, gwb, 'k-', alpha=0.25)\n",
    "else:\n",
    "    plot_gwb(xx, gwb, label='sampled')\n",
    "    # plot_gwb(xx, np.sqrt(gwb**2 + gwf**2), label='sampled')\n",
    "\n",
    "plt.legend()\n",
    "plt.show()\n",
    "fig.savefig('temp.png')"
   ]
  },
  {
   "cell_type": "markdown",
   "id": "08a294b1",
   "metadata": {},
   "source": [
    "# Manual"
   ]
  },
  {
   "cell_type": "code",
   "execution_count": null,
   "id": "99afa0b2",
   "metadata": {},
   "outputs": [],
   "source": [
    "gsmf = holo.sam.GSMF_Schechter()        # Galaxy Stellar-Mass Function (GSMF)\n",
    "gpf = holo.sam.GPF_Power_Law()          # Galaxy Pair Fraction         (GPF)\n",
    "gmt = holo.sam.GMT_Power_Law()          # Galaxy Merger Time           (GMT)\n",
    "mmbulge = holo.relations.MMBulge_Standard()     # M-MBulge Relation            (MMB)\n",
    "hard = holo.evolution.Hard_GW\n",
    "# shape = (150, 151, 152)\n",
    "shape = (30, 31, 32)\n",
    "# shape = (30, 31, 300)\n",
    "# shape = None\n",
    "\n",
    "sam = holo.sam.Semi_Analytic_Model(\n",
    "        gsmf=gsmf, gpf=gpf, gmt=gmt, mmbulge=mmbulge, shape=shape,\n",
    "        redz=[1e-2, 6.0, 32]\n",
    ")\n",
    "print(f\"{sam.shape=}\")\n",
    "\n",
    "fobs = utils.nyquist_freqs(10.0*YR, 0.1*YR)\n",
    "\n",
    "vals, weights, edges, dens, mass = holo.sam.sample_sam_with_hardening(\n",
    "        sam, hard, fobs=fobs, cut_below_mass=None, limit_merger_time=None,\n",
    "        sample_threshold=10.0, poisson_inside=True, poisson_outside=True,\n",
    ")\n",
    "print(f\"{weights.size=:.4e}, {weights.sum()=:.8e}\")"
   ]
  },
  {
   "cell_type": "code",
   "execution_count": null,
   "id": "669d03c3",
   "metadata": {},
   "outputs": [],
   "source": [
    "sam.edges[2]"
   ]
  },
  {
   "cell_type": "code",
   "execution_count": null,
   "id": "830ecd1e",
   "metadata": {},
   "outputs": [],
   "source": [
    "gwb_smooth = sam.gwb(fobs, realize=False)\n",
    "gwb_rough = sam.gwb(fobs, realize=NUM_REALS)"
   ]
  },
  {
   "cell_type": "code",
   "execution_count": null,
   "id": "fb7be9cf",
   "metadata": {},
   "outputs": [],
   "source": [
    "use_weights = np.copy(weights)\n",
    "use_vals = np.copy(vals)\n",
    "print(kale.utils.stats_str(use_weights))\n",
    "\n",
    "# sel = (use_vals[2] < 0.5)\n",
    "# use_vals[2][sel] *= 2.0\n",
    "\n",
    "sel = slice(None)\n",
    "# sel = (vals[2] > 0.5)\n",
    "# sel = (use_weights > 1.0)\n",
    "# sel = (use_weights < 1.0)\n",
    "# sel = (use_weights != 1.0)\n",
    "# sel = ~sel\n",
    "\n",
    "use_weights = use_weights[sel]\n",
    "# use_weights = np.random.poisson(use_weights)\n",
    "print(kale.utils.stats_str(use_weights))\n",
    "\n",
    "# print(kale.utils.stats_str(use_weights[sel]))\n",
    "# print(kale.utils.stats_str(use_weights[~sel]))\n",
    "# print(f\"weights: {zmath.frac_str(sel)}\")\n",
    "\n",
    "gff, gwf, gwb = holo.sam._gws_from_samples(use_vals[:, sel], use_weights, fobs)\n",
    "fig, ax = plot.figax()\n",
    "ff = kale.utils.midpoints(fobs)\n",
    "ax.plot(ff, gwb)\n",
    "ax.plot(gff, gwf, 'rx', alpha=0.5)\n",
    "\n",
    "ax.plot(ff, gwb_smooth, 'b:')\n",
    "plot_gwb(ff, gwb_rough, label='roughed')\n",
    "\n",
    "plt.show()"
   ]
  },
  {
   "cell_type": "markdown",
   "id": "96893787",
   "metadata": {},
   "source": [
    "# Compare Properties of Sampled Population to pure-SAM"
   ]
  },
  {
   "cell_type": "code",
   "execution_count": null,
   "id": "cea4b0ea",
   "metadata": {},
   "outputs": [],
   "source": [
    "NUM_REALS = 10\n",
    "vals = []\n",
    "weights = []\n",
    "for ii in holo.utils.tqdm(range(NUM_REALS)):\n",
    "    _vals, _weights, edges, dens, mass = holo.sam.sample_sam_with_hardening(\n",
    "            sam, holo.evolution.Hard_GW, fobs=fobs,\n",
    "            sample_threshold=5.0, cut_below_mass=None, limit_merger_time=None,\n",
    "    )\n",
    "    vals.append(_vals)\n",
    "    weights.append(_weights)"
   ]
  },
  {
   "cell_type": "markdown",
   "id": "0a9653ef",
   "metadata": {},
   "source": [
    "## Number of Sources vs. Frequency"
   ]
  },
  {
   "cell_type": "code",
   "execution_count": null,
   "id": "c87b8cc5",
   "metadata": {},
   "outputs": [],
   "source": [
    "num_fobs = fobs.size\n",
    "MASS_MIN = 1.0e8 * MSOL\n",
    "# MASS_MIN = 0.0/\n",
    "num = np.zeros((num_fobs, NUM_REALS))\n",
    "\n",
    "for ii in holo.utils.tqdm(range(NUM_REALS)):\n",
    "    fo = vals[ii][-1]\n",
    "    idx = np.digitize(fo, fobs) - 1\n",
    "    for jj in range(num_fobs):\n",
    "        sel = (idx == jj) & (vals[ii][0] > MASS_MIN)\n",
    "        num[jj, ii] = np.sum(weights[ii][sel])\n",
    "        \n",
    "sel = (kale.utils.midpoints(edges[0]) > MASS_MIN)\n",
    "idx = list(np.arange(mass.ndim))\n",
    "idx.pop(mass.ndim - 1)\n",
    "sam_num = np.sum(mass[sel], axis=tuple(idx))"
   ]
  },
  {
   "cell_type": "code",
   "execution_count": null,
   "id": "9faa1ac1",
   "metadata": {},
   "outputs": [],
   "source": [
    "fig, ax = plot.figax()\n",
    "xx = fobs*YR\n",
    "# ax.plot(xx, num)\n",
    "ax.plot(kale.utils.midpoints(xx), num.mean(axis=-1)[:-1], 'b-')\n",
    "ax.plot(kale.utils.midpoints(xx), sam_num, 'r--')\n",
    "\n",
    "aa, bb = plot._get_hist_steps(xx, sam_num)\n",
    "ax.plot(aa, bb, 'r:')\n",
    "# ax.set(xlim=[0.95e-1, 2.5e-1], ylim=[2e9, 4e10])\n",
    "plt.show()"
   ]
  },
  {
   "cell_type": "markdown",
   "id": "16e60c88",
   "metadata": {},
   "source": [
    "# Chirp-mass Distribution"
   ]
  },
  {
   "cell_type": "code",
   "execution_count": null,
   "id": "a5d5b525",
   "metadata": {},
   "outputs": [],
   "source": [
    "mchirp = []\n",
    "for ii in range(NUM_REALS):\n",
    "    vv = vals[ii]\n",
    "    mc = utils.m1m2_from_mtmr(vv[0], vv[1])\n",
    "    mc = utils.chirp_mass(*mc)\n",
    "    print(mc.shape, utils.stats(mc/MSOL))\n",
    "    break"
   ]
  },
  {
   "cell_type": "markdown",
   "id": "183b6d6e",
   "metadata": {},
   "source": [
    "## Distance/Redshift Distribution"
   ]
  },
  {
   "cell_type": "code",
   "execution_count": null,
   "id": "5aabea63",
   "metadata": {},
   "outputs": [],
   "source": [
    "gsmf = holo.sam.GSMF_Schechter()        # Galaxy Stellar-Mass Function (GSMF)\n",
    "gpf = holo.sam.GPF_Power_Law()          # Galaxy Pair Fraction         (GPF)\n",
    "gmt = holo.sam.GMT_Power_Law()          # Galaxy Merger Time           (GMT)\n",
    "mmbulge = holo.relations.MMBulge_Standard()     # M-MBulge Relation            (MMB)\n",
    "hard = holo.evolution.Hard_GW\n",
    "# shape = (150, 151, 152)\n",
    "shape = (30, 31, 32)\n",
    "# shape = (30, 31, 300)\n",
    "# shape = None\n",
    "\n",
    "sam = holo.sam.Semi_Analytic_Model(\n",
    "        gsmf=gsmf, gpf=gpf, gmt=gmt, mmbulge=mmbulge, shape=shape,\n",
    "        redz=[0.01, 6.0, 32]\n",
    ")\n",
    "print(f\"{sam.shape=}\")\n",
    "\n",
    "fobs = utils.nyquist_freqs(10.0*YR, 0.1*YR)"
   ]
  },
  {
   "cell_type": "code",
   "execution_count": null,
   "id": "6ee32348",
   "metadata": {},
   "outputs": [],
   "source": [
    "z = 1.0e-3\n",
    "\n",
    "zz = np.linspace(0.0, z, 100)\n",
    "# dv = cosmo.differential_comoving_volume(zz) * 4*np.pi\n",
    "dv = cosmo.dVcdz(zz, cgs=False)\n",
    "v1 = np.sum(0.5 * (dv[1:] + dv[:-1]) * np.diff(zz))\n",
    "v2 = cosmo.comoving_volume(zz)\n",
    "print(v1, v2[-1], v1/v2[-1])\n",
    "aa = v2[1]\n",
    "bb = 0.5 * (dv[0] + dv[1]) * zz[1]\n",
    "print(aa, bb, aa/bb)"
   ]
  },
  {
   "cell_type": "code",
   "execution_count": null,
   "id": "12dab374",
   "metadata": {},
   "outputs": [],
   "source": [
    "cosmo.dcom_to_z(dc)"
   ]
  },
  {
   "cell_type": "code",
   "execution_count": null,
   "id": "6bac7a8f",
   "metadata": {},
   "outputs": [],
   "source": [
    "vals, weights, edges, dens, mass = holo.sam.sample_sam_with_hardening(\n",
    "        sam, hard, fobs=fobs, cut_below_mass=None, limit_merger_time=None,\n",
    "        sample_threshold=10.0, poisson_inside=True, poisson_outside=True,\n",
    ")\n",
    "print(f\"{weights.size=:.4e}, {weights.sum()=:.8e}\")"
   ]
  },
  {
   "cell_type": "code",
   "execution_count": null,
   "id": "b0fe72dc",
   "metadata": {},
   "outputs": [],
   "source": [
    "NBINS = 30\n",
    "dc = cosmo.comoving_distance(vals[2]).to('Mpc').value\n",
    "nsamp = weights.sum()\n",
    "dcmax = dc.max()\n",
    "dens = nsamp / ((4.0*np.pi*dcmax**3)/3.0)\n",
    "\n",
    "fig, axes = plot.figax(nrows=2)\n",
    "\n",
    "ax = axes[0]\n",
    "xx = vals[2]\n",
    "bins = kale.utils.spacing(xx, 'log', NBINS)\n",
    "ax.hist(xx, bins=bins, histtype='step', weights=weights)\n",
    "ax.hist(xx, bins=sam.edges[2], histtype='step', weights=weights)\n",
    "\n",
    "ax = axes[1]\n",
    "xx = dc\n",
    "bins = kale.utils.spacing(xx, 'log', NBINS)\n",
    "ax.hist(xx, bins=bins, histtype='step', weights=weights)\n",
    "yy = ((4.0*np.pi*bins**3)/3.0) * dens\n",
    "ax.plot(bins, yy, 'k--')\n",
    "\n",
    "plt.show()"
   ]
  },
  {
   "cell_type": "code",
   "execution_count": null,
   "id": "4f8a33a9",
   "metadata": {},
   "outputs": [],
   "source": [
    "NBINS = 10\n",
    "dc = cosmo.comoving_distance(vals[2]).to('Mpc').value\n",
    "nsamp = weights.sum()\n",
    "dcmax = dc.max()\n",
    "dens = nsamp / ((4.0*np.pi*dcmax**3)/3.0)\n",
    "\n",
    "fig, axes = plot.figax(nrows=2)\n",
    "\n",
    "ax = axes[0]\n",
    "xx = vals[2]\n",
    "bins = kale.utils.spacing(xx, 'log', NBINS)\n",
    "ax.hist(xx, bins=bins, histtype='step', weights=weights)\n",
    "ax.hist(xx, bins=sam.edges[2], histtype='step', weights=weights)\n",
    "\n",
    "ax = axes[1]\n",
    "xx = dc\n",
    "bins = kale.utils.spacing(xx, 'log', NBINS)\n",
    "ax.hist(xx, bins=bins, histtype='step', weights=weights)\n",
    "yy = ((4.0*np.pi*bins**3)/3.0) * dens\n",
    "ax.plot(bins, yy, 'k--')\n",
    "\n",
    "plt.show()"
   ]
  }
 ],
 "metadata": {
  "interpreter": {
   "hash": "61b4062b24dfb1010f420dad5aa3bd73a4d2af47d0ec44eafec465a35a9d7239"
  },
  "kernelspec": {
   "display_name": "Python 3.9.7 64-bit ('py39': conda)",
   "name": "python3"
  },
  "language_info": {
   "codemirror_mode": {
    "name": "ipython",
    "version": 3
   },
   "file_extension": ".py",
   "mimetype": "text/x-python",
   "name": "python",
   "nbconvert_exporter": "python",
   "pygments_lexer": "ipython3",
   "version": "3.9.12"
  },
  "toc": {
   "base_numbering": 1,
   "nav_menu": {},
   "number_sections": true,
   "sideBar": true,
   "skip_h1_title": false,
   "title_cell": "Table of Contents",
   "title_sidebar": "Contents",
   "toc_cell": false,
   "toc_position": {
    "height": "calc(100% - 180px)",
    "left": "10px",
    "top": "150px",
    "width": "165px"
   },
   "toc_section_display": true,
   "toc_window_display": true
  },
  "varInspector": {
   "cols": {
    "lenName": 16,
    "lenType": 16,
    "lenVar": 40
   },
   "kernels_config": {
    "python": {
     "delete_cmd_postfix": "",
     "delete_cmd_prefix": "del ",
     "library": "var_list.py",
     "varRefreshCmd": "print(var_dic_list())"
    },
    "r": {
     "delete_cmd_postfix": ") ",
     "delete_cmd_prefix": "rm(",
     "library": "var_list.r",
     "varRefreshCmd": "cat(var_dic_list()) "
    }
   },
   "types_to_exclude": [
    "module",
    "function",
    "builtin_function_or_method",
    "instance",
    "_Feature"
   ],
   "window_display": false
  }
 },
 "nbformat": 4,
 "nbformat_minor": 5
}
