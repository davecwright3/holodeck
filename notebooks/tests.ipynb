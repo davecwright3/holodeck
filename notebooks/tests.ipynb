{
 "cells": [
  {
   "cell_type": "code",
   "execution_count": null,
   "id": "passing-albuquerque",
   "metadata": {},
   "outputs": [],
   "source": [
    "# %load ./init.ipy\n",
    "%reload_ext autoreload\n",
    "%autoreload 2\n",
    "from importlib import reload\n",
    "\n",
    "import os\n",
    "import sys\n",
    "import logging\n",
    "import warnings\n",
    "import numpy as np\n",
    "import astropy as ap\n",
    "import scipy as sp\n",
    "import scipy.stats\n",
    "import matplotlib as mpl\n",
    "import matplotlib.pyplot as plt\n",
    "\n",
    "import h5py\n",
    "import tqdm\n",
    "import tqdm.notebook\n",
    "\n",
    "import kalepy as kale\n",
    "import kalepy.utils\n",
    "import kalepy.plot\n",
    "\n",
    "import holodeck as holo\n",
    "import holodeck.sam\n",
    "from holodeck import cosmo, utils\n",
    "from holodeck.constants import MSOL, PC, YR, MPC, GYR\n",
    "\n",
    "# Silence annoying numpy errors\n",
    "np.seterr(divide='ignore', invalid='ignore', over='ignore')\n",
    "warnings.filterwarnings(\"ignore\", category=UserWarning)\n",
    "\n",
    "# Plotting settings\n",
    "mpl.rc('font', **{'family': 'serif', 'sans-serif': ['Times'], 'size': 15})\n",
    "mpl.rc('lines', solid_capstyle='round')\n",
    "mpl.rc('mathtext', fontset='cm')\n",
    "plt.rcParams.update({'grid.alpha': 0.5, 'pcolor.shading': 'gouraud'})"
   ]
  },
  {
   "cell_type": "code",
   "execution_count": null,
   "id": "5b275120",
   "metadata": {},
   "outputs": [],
   "source": [
    "import zcode.math as zmath\n",
    "import zcode.plot as zplot"
   ]
  },
  {
   "cell_type": "markdown",
   "id": "c6d73c1c",
   "metadata": {},
   "source": [
    "# Discretize Population"
   ]
  },
  {
   "cell_type": "code",
   "execution_count": null,
   "id": "6d1021fc",
   "metadata": {},
   "outputs": [],
   "source": [
    "import holodeck.sam\n",
    "reload(holodeck.sam)\n",
    "sam = holodeck.sam.BP_Semi_Analytic()\n",
    "nbh = sam.dnbh()"
   ]
  },
  {
   "cell_type": "code",
   "execution_count": null,
   "id": "b5e40ad8",
   "metadata": {},
   "outputs": [],
   "source": [
    "sam = holodeck.sam.BP_Semi_Analytic()\n",
    "nbh = sam.dnbh()\n",
    "\n",
    "sam_new = holo.sam.Semi_Analytic_Model()\n",
    "nbh_new = sam_new.density"
   ]
  },
  {
   "cell_type": "code",
   "execution_count": null,
   "id": "181736ef",
   "metadata": {},
   "outputs": [],
   "source": [
    "sam = holodeck.sam.BP_Semi_Analytic()\n",
    "nbh = sam.dnbh()\n",
    "\n",
    "sam_new = holo.sam.Semi_Analytic_Model()\n",
    "nbh_new = sam_new.density\n",
    "\n",
    "def compare(mt, mr, rz):\n",
    "    zz = zmath.argnearest(sam.redz, rz)\n",
    "    qq = zmath.argnearest(sam.mrat, mr)\n",
    "    olds = nbh[:, qq, zz]\n",
    "    m1 = (10.0 ** sam.mbh1)\n",
    "    m2 = mr * m1\n",
    "    # xx = m1 + m2\n",
    "    # y1 = zmath.interp(mt, xx, olds)\n",
    "    xx = m1\n",
    "    y1 = zmath.interp(mt / (1 + mr), xx, olds)\n",
    "    \n",
    "    zz = zmath.argnearest(sam_new.redz, rz)\n",
    "    qq = zmath.argnearest(sam_new.mrat, mr)\n",
    "    news = nbh_new[:, qq, zz]\n",
    "#     print(mt, sam_new.mtot)\n",
    "    y2 = zmath.interp(mt, sam_new.mtot, news)\n",
    "    return y1, y2\n",
    "\n",
    "mt = np.logspace(5, 10, 100)\n",
    "\n",
    "fig, ax = zplot.figax(yscale='log') # , xlim=[1e8, 3e11])\n",
    "\n",
    "qlist = [0.05, 0.05, 0.5, 0.5, 1.0, 1.0]\n",
    "zlist = [0.1, 1.0, 0.1, 1.0, 0.1, 1.0]\n",
    "for qq, zz in zip(qlist, zlist):\n",
    "    y1, y2 = compare(mt, qq, zz)\n",
    "#     hh, = ax.plot(mt, y1, label=[qq, zz], ls='--', lw=3.0, alpha=0.5)\n",
    "#     ax.plot(mt, y2, color=hh.get_color())\n",
    "\n",
    "#     rr = (y2-y1)/y1\n",
    "#     rr = np.fabs(rr)\n",
    "\n",
    "    rr = y2/y1\n",
    "    tt = zmath.argfirst(rr > 0)\n",
    "    print(rr[tt])\n",
    "    hh, = ax.plot(mt, rr, label=[qq, zz])\n",
    "\n",
    "plt.legend()\n",
    "plt.show()\n"
   ]
  },
  {
   "cell_type": "code",
   "execution_count": null,
   "id": "884ebdc6",
   "metadata": {},
   "outputs": [],
   "source": [
    "idx = 1\n",
    "\n",
    "fig, axes = zplot.figax(figsize=[15, 5], ncols=3, ylim=[1e-2, 1])\n",
    "vals = [nbh[:, :, idx], nbh_new[:, :, idx]]\n",
    "rat = np.zeros_like(vals[0])\n",
    "idx = vals[0] > 0.0\n",
    "rat[idx] = (vals[1][idx] - vals[0][idx]) / vals[0][idx]\n",
    "\n",
    "mr = np.ones_like(rat) * sam_new.mrat[np.newaxis, :]\n",
    "idx = (mr < 0.1)\n",
    "print(zmath.stats_str(rat[idx]))\n",
    "\n",
    "smap = zplot.smap(vals, scale='linear')\n",
    "vals.append(rat)\n",
    "\n",
    "levels = None\n",
    "for ii, (ax, vv) in enumerate(zip(axes, vals)):\n",
    "    if ii == 2:\n",
    "        smap = zplot.smap([-1, 1], scale='linear')\n",
    "        # smap = zplot.smap(vv, scale='linear')\n",
    "        levels = None\n",
    "        \n",
    "    ax.pcolormesh(sam_new.mtot, sam_new.mrat, vv.T, cmap=smap.cmap, norm=smap.norm)\n",
    "    qcs = ax.contour(sam_new.mtot, sam_new.mrat, vv.T, levels=levels)\n",
    "    cbar = plt.colorbar(smap, orientation='horizontal', ax=ax)\n",
    "    zplot.draw_colorbar_contours(cbar, qcs, smap=smap)\n",
    "    levels = qcs.levels\n",
    "    \n",
    "plt.show()"
   ]
  },
  {
   "cell_type": "code",
   "execution_count": null,
   "id": "2d7c37fa",
   "metadata": {},
   "outputs": [],
   "source": [
    "fobs = utils.nyquist_freqs()\n",
    "sam = holo.sam.Semi_Analytic_Model()\n",
    "# edges, num, strain = sam.number_at_gw_fobs(fobs, limit_merger_time=True)\n",
    "ff = zmath.argnearest(fobs*YR, 1.0)\n",
    "hs = np.sqrt(np.sum(num[..., ff] * np.square(strain[..., ff])))\n",
    "print(f\"{num.sum():.4e}, {hs:.4e}\")"
   ]
  },
  {
   "cell_type": "code",
   "execution_count": null,
   "id": "fdf1cc77",
   "metadata": {},
   "outputs": [],
   "source": [
    "sam = holo.sam.Semi_Analytic_Model()\n",
    "gwb = sam.gwb(fobs, realize=100)"
   ]
  },
  {
   "cell_type": "code",
   "execution_count": null,
   "id": "9b56ccd7",
   "metadata": {},
   "outputs": [],
   "source": [
    "fig, ax = zplot.figax()\n",
    "zplot.conf_fill(ax, fobs, gwb)"
   ]
  },
  {
   "cell_type": "code",
   "execution_count": null,
   "id": "3e9099bd",
   "metadata": {},
   "outputs": [],
   "source": []
  },
  {
   "cell_type": "code",
   "execution_count": null,
   "id": "1ac58849",
   "metadata": {},
   "outputs": [],
   "source": []
  },
  {
   "cell_type": "code",
   "execution_count": null,
   "id": "4e42a927",
   "metadata": {},
   "outputs": [],
   "source": [
    "ratio = nbh / nbh_new\n",
    "print(zmath.stats_str(ratio))"
   ]
  },
  {
   "cell_type": "code",
   "execution_count": null,
   "id": "13781216",
   "metadata": {},
   "outputs": [],
   "source": [
    "freqs = utils.nyquist_freqs(20.0, 0.1, trim=[None, 5.0])\n",
    "\n",
    "edges_fobs, num_mbhb_fobs, mbhb_hs = sam.num_mbhb(freqs/YR)\n",
    "log_edges_fobs = [np.log10(edges_fobs[0]), edges_fobs[1], edges_fobs[2], np.log10(edges_fobs[3])]\n",
    "\n",
    "num = num_mbhb_fobs.sum()\n",
    "print(f\"num={num:.4e}\")"
   ]
  },
  {
   "cell_type": "code",
   "execution_count": null,
   "id": "7f63e94d",
   "metadata": {},
   "outputs": [],
   "source": [
    "log_edges_fobs = [np.log10(edges_fobs[0]), edges_fobs[1], edges_fobs[2], np.log10(edges_fobs[3])]\n",
    "outliers = kale.sample.Sample_Outliers(log_edges_fobs, num_mbhb_fobs, threshold=10.0)\n",
    "# vals, weights = kale.sample_outliers(log_edges_fobs, num_mbhb_fobs, 10.0)\n",
    "# print(vals.shape, weights.shape, zmath.argfirst(weights > 1.0))\n",
    "nsamp = outliers._data_outs.sum()\n",
    "print(f\"nsamp={nsamp:.2e}\")"
   ]
  },
  {
   "cell_type": "code",
   "execution_count": null,
   "id": "077946c3",
   "metadata": {},
   "outputs": [],
   "source": [
    "NREALS = 10\n",
    "nsamp = np.random.poisson(NREALS * nsamp)\n",
    "print(f\"nsamp={nsamp:.2e}\")"
   ]
  },
  {
   "cell_type": "code",
   "execution_count": null,
   "id": "efddbce7",
   "metadata": {},
   "outputs": [],
   "source": []
  },
  {
   "cell_type": "code",
   "execution_count": null,
   "id": "0e9b8d01",
   "metadata": {},
   "outputs": [],
   "source": [
    "vals = num_mbhb_fobs[..., 0].sum(axis=-1)\n",
    "plt.pcolormesh(sam.mbh1, sam.mrat, vals.T)\n",
    "plt.show()"
   ]
  },
  {
   "cell_type": "code",
   "execution_count": null,
   "id": "375c6945",
   "metadata": {},
   "outputs": [],
   "source": [
    "class Corner_Grid:\n",
    "    \n",
    "    def __init__(self, edges, data, labels=None):\n",
    "        shape = [len(ee) for ee in edges]\n",
    "        ndim = len(shape)\n",
    "        \n",
    "        fsize = np.clip(ndim * 5, 8, 24)\n",
    "        fsize = [fsize, fsize * 0.75]\n",
    "        fig, axes = plt.subplots(figsize=fsize, ncols=ndim, nrows=ndim, sharex='col')\n",
    "        \n",
    "        self._ndim = ndim\n",
    "        self._shape = shape\n",
    "        self.fig = fig\n",
    "        self.axes = axes\n",
    "        \n",
    "        self._edges = edges\n",
    "        self._data = data\n",
    "        self._labels = labels\n",
    "\n",
    "        self.setup()\n",
    "        self.draw(edges, data)\n",
    "        return\n",
    "    \n",
    "    @property\n",
    "    def last(self):\n",
    "        return self._ndim - 1        \n",
    "    \n",
    "    def setup(self):\n",
    "        labels = self._labels\n",
    "    \n",
    "        def diag(jj, ax):\n",
    "            ax.set_yscale('log')\n",
    "            return\n",
    "\n",
    "        def offdiag(ii, jj, ax):\n",
    "            if jj > ii:\n",
    "                ax.set_visible(False)\n",
    "                return\n",
    "            \n",
    "            if labels is None:\n",
    "                return\n",
    "            \n",
    "            if (ii == self.last):\n",
    "                ax.set_xlabel(labels[jj])\n",
    "                \n",
    "            if (jj == 0) and (ii > 0):\n",
    "                ax.set_ylabel(labels[ii])\n",
    "            \n",
    "            return\n",
    "        \n",
    "        self.loop(diag, offdiag, skip=False)\n",
    "        return\n",
    "\n",
    "    def loop(self, diag, offdiag, skip=True):\n",
    "        axes = self.axes\n",
    "        diag_list = []\n",
    "        for jj, ax in enumerate(axes.diagonal()):\n",
    "            rv = diag(jj, ax)\n",
    "            diag_list.append(rv)\n",
    "\n",
    "        offd_list = []\n",
    "        for (ii, jj), ax in np.ndenumerate(axes):\n",
    "            if skip and (jj >= ii):\n",
    "                continue\n",
    "            rv = offdiag(ii, jj, ax)\n",
    "            offd_list.append(rv)\n",
    "        \n",
    "        return diag_list, offd_list\n",
    "    \n",
    "    def draw(self, edges, data):\n",
    "        ndim = self._ndim\n",
    "\n",
    "        def diag(jj, ax):\n",
    "            xx = edges[jj]\n",
    "            idx = np.arange(ndim).tolist()\n",
    "            idx.pop(jj)\n",
    "            vv = np.sum(data, axis=tuple(idx))\n",
    "            return self._draw1d(ax, xx, vv)\n",
    "\n",
    "        def offdiag(ii, jj, ax):\n",
    "            idx = np.arange(ndim).tolist()\n",
    "            for kk in [ii, jj]:\n",
    "                idx.pop(kk)\n",
    "\n",
    "            vv = np.sum(data, axis=tuple(idx))\n",
    "            xx = edges[jj]\n",
    "            yy = edges[ii]\n",
    "                \n",
    "            return self._draw2d(ax, [xx, yy], np.log10(vv))\n",
    "        \n",
    "        self.loop(diag, offdiag)\n",
    "        return\n",
    "    \n",
    "    def _draw1d(self, ax, edges, hist, **kwargs):\n",
    "        if len(edges) == len(hist) + 1:\n",
    "            xx = np.hstack([[edges[jj], edges[jj+1]] for jj in range(len(edges)-1)])\n",
    "            yy = np.hstack([[hh, hh] for hh in hist])\n",
    "        elif len(edges) == len(hist):\n",
    "            xx = edges\n",
    "            yy = hist\n",
    "        else:\n",
    "            raise\n",
    "            \n",
    "        line, = ax.plot(xx, yy, **kwargs)\n",
    "        return\n",
    "\n",
    "    def _draw2d(self, ax, edges, hist, mask_below=None, **kwargs):\n",
    "        if mask_below not in [False, None]:\n",
    "            hist = np.ma.masked_less_equal(hist, mask_below)\n",
    "        kwargs.setdefault('shading', 'auto')\n",
    "        # NOTE: this avoids edge artifacts when alpha is not unity!\n",
    "        kwargs.setdefault('edgecolors', [1.0, 1.0, 1.0, 0.0])\n",
    "        kwargs.setdefault('linewidth', 0.01)\n",
    "        # Plot\n",
    "        rv = ax.pcolormesh(*edges, hist.T, **kwargs)\n",
    "        return\n",
    "    \n",
    "# Corner_Grid(log_edges_fobs, num_mbhb_fobs, labels=['log10(M)', 'q', 'z', 'log10(f)'])\n",
    "# plt.show()"
   ]
  },
  {
   "cell_type": "code",
   "execution_count": null,
   "id": "e0b30ce2",
   "metadata": {},
   "outputs": [],
   "source": [
    "# Corner_Grid(log_edges_fobs, mbhb_hs, labels=['log10(M)', 'q', 'z', 'log10(f)'])\n",
    "# plt.show()"
   ]
  },
  {
   "cell_type": "markdown",
   "id": "76f88b8a",
   "metadata": {},
   "source": [
    "# Sample full population"
   ]
  },
  {
   "cell_type": "code",
   "execution_count": null,
   "id": "3d0c9030",
   "metadata": {},
   "outputs": [],
   "source": [
    "# nsamp = num_mbhb_fobs.sum()\n",
    "# print(f\"dirst sum = {nsamp:.8e}\")\n",
    "# nsamp = np.random.poisson(nsamp)\n",
    "# print(f\"poisson   = {nsamp:.8e}\")\n",
    "\n",
    "# nsamp = 1e8\n",
    "# samples = kale.sample_grid(log_edges_fobs, num_mbhb_fobs, nsamp)"
   ]
  },
  {
   "cell_type": "markdown",
   "id": "cee6e0c0",
   "metadata": {},
   "source": [
    "## Down-Sample Grid"
   ]
  },
  {
   "cell_type": "markdown",
   "id": "d4be245e",
   "metadata": {},
   "source": [
    "Modify the true distribution to downweight by a continuous function of chirp-mass and redshift."
   ]
  },
  {
   "cell_type": "code",
   "execution_count": null,
   "id": "50946f4c",
   "metadata": {},
   "outputs": [],
   "source": [
    "outliers = kale.sample.Sample_Outliers(log_edges_fobs, num_mbhb_fobs, threshold=10.0)\n",
    "nsamp, _vals, _weights = outliers.sample()"
   ]
  },
  {
   "cell_type": "code",
   "execution_count": null,
   "id": "33f214e4",
   "metadata": {},
   "outputs": [],
   "source": [
    "print(f\"Fraction of samples that are 'outliers': {zmath.frac_str(_weights == 1.0)}\")"
   ]
  },
  {
   "cell_type": "code",
   "execution_count": null,
   "id": "c0856e39",
   "metadata": {},
   "outputs": [],
   "source": [
    "CUT_BELOW_MASS_SEC = 1e6\n",
    "\n",
    "vals = np.copy(_vals)\n",
    "weights = np.copy(_weights)\n",
    "\n",
    "if CUT_BELOW_MASS_SEC is not None:\n",
    "    # cut_below = np.log10(CUT_BELOW_MASS_SEC)\n",
    "    cut_below = CUT_BELOW_MASS_SEC    \n",
    "    bads = ((10.0 ** vals[0]) * vals[1] < cut_below)\n",
    "    print(f\"Cutting {zmath.frac_str(bads)}\")\n",
    "    \n",
    "    vals = vals.T[~bads].T\n",
    "    weights = weights[~bads]\n",
    "    print(f\"vals.shape={vals.shape}\")"
   ]
  },
  {
   "cell_type": "code",
   "execution_count": null,
   "id": "5b6b5b2d",
   "metadata": {},
   "outputs": [],
   "source": [
    "corner = Corner_Grid(log_edges_fobs, num_mbhb_fobs, labels=['log10(M)', 'q', 'z', 'log10(f)'])\n",
    "SKIP = None\n",
    "SKIP = 3\n",
    "\n",
    "def draw_samples_in_out(corner, in_only, out_only, color):\n",
    "\n",
    "    sep = np.argmax(weights > 1.0)\n",
    "    \n",
    "    def take(*args):\n",
    "        if out_only:\n",
    "            args = [xx[:sep] for xx in args]\n",
    "        elif in_only:\n",
    "            args = [xx[sep:] for xx in args]\n",
    "\n",
    "        if SKIP is not None:\n",
    "            args = [xx[::SKIP] for xx in args]\n",
    "        return args\n",
    "\n",
    "    def diag(jj, ax):\n",
    "        bins = log_edges_fobs[jj]\n",
    "        xx, yy = take(vals[jj], weights)\n",
    "        ax.hist(xx, weights=yy, bins=bins, color=color, histtype='step', zorder=100, lw=2.0, alpha=0.5)\n",
    "        return\n",
    "\n",
    "    def offdiag(ii, jj, ax):\n",
    "        xx, yy = take(vals[jj], vals[ii])\n",
    "        ax.scatter(xx, yy, facecolor=color, edgecolor='none', zorder=100, s=5, alpha=0.25)\n",
    "        return\n",
    "\n",
    "    corner.loop(diag, offdiag)\n",
    "    return\n",
    "\n",
    "draw_samples_in_out(corner, True, False, 'r')\n",
    "draw_samples_in_out(corner, False, True, 'b')\n",
    "\n",
    "plt.show()"
   ]
  },
  {
   "cell_type": "code",
   "execution_count": null,
   "id": "c75bbff5",
   "metadata": {},
   "outputs": [],
   "source": [
    "corner = Corner_Grid(log_edges_fobs, outliers._data_ins, labels=['log10(M)', 'q', 'z', 'log10(f)'])\n",
    "draw_samples_in_out(corner, True, False, 'r')"
   ]
  },
  {
   "cell_type": "code",
   "execution_count": null,
   "id": "aea50c85",
   "metadata": {},
   "outputs": [],
   "source": [
    "corner = Corner_Grid(log_edges_fobs, outliers._data_outs, labels=['log10(M)', 'q', 'z', 'log10(f)'])\n",
    "draw_samples_in_out(corner, False, True, 'r')"
   ]
  },
  {
   "cell_type": "code",
   "execution_count": null,
   "id": "e4f76792",
   "metadata": {},
   "outputs": [],
   "source": []
  },
  {
   "cell_type": "code",
   "execution_count": null,
   "id": "921d3513",
   "metadata": {},
   "outputs": [],
   "source": [
    "mc = np.copy(vals[:2, :])\n",
    "mc[0] = 10.0 ** mc[0]\n",
    "mc[1] = mc[1] * mc[0]\n",
    "print(\"\\t\", utils.stats(mc))\n",
    "mc = utils.chirp_mass(*mc)\n",
    "print(utils.stats(mc))\n",
    "dl = vals[2, :]\n",
    "frst = (10.0 ** vals[3]) * (1.0 + dl)\n",
    "dl = cosmo.luminosity_distance(dl).cgs.value\n",
    "print(utils.stats(dl))\n",
    "print(utils.stats(frst))\n",
    "hs = utils.gw_strain_source(mc * MSOL, dc, frst)\n",
    "print(hs.shape, utils.stats(hs))"
   ]
  },
  {
   "cell_type": "code",
   "execution_count": null,
   "id": "7d172fd0",
   "metadata": {},
   "outputs": [],
   "source": [
    "num_freq = freqs.size - 1\n",
    "gwb = np.zeros(num_freq)\n",
    "gwf = np.zeros_like(gwb)\n",
    "ffr = np.zeros_like(gwb)\n",
    "\n",
    "for ii in range(num_freq):\n",
    "    lo = log_edges_fobs[-1][ii]\n",
    "    hi = log_edges_fobs[-1][ii+1]\n",
    "    fr_bin = vals[-1, :]\n",
    "    idx = (lo < fr_bin) & (fr_bin < hi)\n",
    "    hs_bin = hs[idx]\n",
    "    fr_bin = fr_bin[idx]\n",
    "    ww_bin = weights[idx]\n",
    "    pp = (ww_bin > 1.0)\n",
    "    ww_bin[pp] = np.random.poisson(ww_bin[pp])\n",
    "    \n",
    "    floc = np.argmax(hs_bin)\n",
    "    ffr[ii] = fr_bin[floc]\n",
    "    gwf[ii] = hs_bin[floc]\n",
    "    gwb[ii] = np.sum(ww_bin * np.square(hs_bin))\n",
    "    gwb[ii] = gwb[ii] - gwf[ii]**2\n",
    "    \n",
    "ffr = (10.0 ** ffr) * YR\n",
    "gwb = np.sqrt(gwb)"
   ]
  },
  {
   "cell_type": "code",
   "execution_count": null,
   "id": "49fa287b",
   "metadata": {},
   "outputs": [],
   "source": [
    "fig, ax = zplot.figax()\n",
    "\n",
    "ax.scatter(ffr, gwf, color='r')\n",
    "\n",
    "# xx = kale.utils.midpoints(freqs)\n",
    "xx = zmath.midpoints(freqs, log=False)\n",
    "ax.plot(xx, gwb, 'k-')\n",
    "ax.plot(xx, np.sqrt(gwb**2 + gwf**2), 'b:', alpha=0.2)\n",
    "\n",
    "amp = 3e-16\n",
    "yy = amp * np.power(xx, -2/3)\n",
    "ax.plot(xx, yy, 'k--', alpha=0.25)\n",
    "\n",
    "plt.show()"
   ]
  },
  {
   "cell_type": "code",
   "execution_count": null,
   "id": "04b646ce",
   "metadata": {},
   "outputs": [],
   "source": []
  },
  {
   "cell_type": "code",
   "execution_count": null,
   "id": "433c9b2d",
   "metadata": {},
   "outputs": [],
   "source": [
    "DUR = 20.0\n",
    "CAD = 0.1\n",
    "\n",
    "fobs = utils.nyquist_freqs(DUR, CAD)\n",
    "gwb_cont = holo.sam.gwb_continuous(sam, fobs/YR)\n",
    "gwb_cont_tot = gwb_cont.sum(axis=(1, 2, 3))\n",
    "gwb_cont_tot = np.sqrt(gwb_cont_tot)"
   ]
  },
  {
   "cell_type": "code",
   "execution_count": null,
   "id": "e715609b",
   "metadata": {},
   "outputs": [],
   "source": [
    "gff, gwf, gwb = holo.sam.gwb_discrete(sam, fobs/YR)"
   ]
  },
  {
   "cell_type": "code",
   "execution_count": null,
   "id": "a1346c9e",
   "metadata": {},
   "outputs": [],
   "source": [
    "xx = kale.utils.midpoints(fobs)\n",
    "\n",
    "fig, ax = zplot.figax()\n",
    "ax.plot(fobs, gwb_cont_tot)\n",
    "ax.plot(xx, gwb)\n",
    "ax.plot(gff*YR, gwf, 'ro', alpha=0.2)\n",
    "\n",
    "plt.show()"
   ]
  },
  {
   "cell_type": "code",
   "execution_count": null,
   "id": "07b0bb46",
   "metadata": {},
   "outputs": [],
   "source": []
  },
  {
   "cell_type": "markdown",
   "id": "3409dcb4",
   "metadata": {},
   "source": [
    "## Calculate GW Realizations"
   ]
  },
  {
   "cell_type": "code",
   "execution_count": null,
   "id": "6acdb355",
   "metadata": {},
   "outputs": [],
   "source": [
    "# log_edges_fobs = [np.log10(edges_fobs[0]), edges_fobs[1], edges_fobs[2], np.log10(edges_fobs[3])]\n",
    "# vals, weights = kale.sample_outliers(log_edges_fobs, num_mbhb_fobs, 10.0)"
   ]
  },
  {
   "cell_type": "code",
   "execution_count": null,
   "id": "bdb58c43",
   "metadata": {},
   "outputs": [],
   "source": [
    "def mc_gws_from_sam(edges_fobs, num_mbhb_fobs, threshold=10.0, cut_below_mass=1e6):\n",
    "    \"\"\"\n",
    "    \n",
    "    Arguments\n",
    "    ---------\n",
    "    fobs : units are [1/yr]\n",
    "    \n",
    "    \"\"\"\n",
    "\n",
    "    log_edges_fobs = [np.log10(edges_fobs[0]), edges_fobs[1], edges_fobs[2], np.log10(edges_fobs[3])]\n",
    "\n",
    "    if cut_below_mass is not None:\n",
    "        m2 = edges_fobs[0][:, np.newaxis] * edges_fobs[1][np.newaxis, :]\n",
    "        bads = (m2 < cut_below_mass)\n",
    "        nbef = num_mbhb_fobs.sum()\n",
    "        num_mbhb_fobs[bads] = 0.0\n",
    "        naft = num_mbhb_fobs.sum()\n",
    "    \n",
    "    vals, weights = kale.sample_outliers(log_edges_fobs, num_mbhb_fobs, threshold)\n",
    "    \n",
    "    if cut_below_mass is not None:\n",
    "        bads = ((10.0 ** vals[0]) * vals[1] < cut_below_mass)\n",
    "        vals = vals.T[~bads].T\n",
    "        weights = weights[~bads]\n",
    "        \n",
    "    vals[0] = 10.0 ** vals[0]\n",
    "    vals[1] = vals[1] * vals[0]\n",
    "    mc = utils.chirp_mass(vals[0], vals[1])\n",
    "    dl = vals[2, :]\n",
    "    frst = (10.0 ** vals[3]) * (1.0 + dl)\n",
    "    dl = cosmo.luminosity_distance(dl).cgs.value\n",
    "    hs = utils.gw_strain_source(mc * MSOL, dc, frst)\n",
    "    fo = vals[-1, :]\n",
    "    del vals\n",
    "    \n",
    "    gff, gwf, gwb = holo.sam.gws_from_sampled_strains(log_edges_fobs[-1], fo, hs, weights)\n",
    "    gff = (10.0 ** gff) * YR\n",
    "\n",
    "    return gff, gwf, gwb\n",
    "\n",
    "\n",
    "NREALS = 10\n",
    "DUR = 20.0\n",
    "CAD = 0.1\n",
    "\n",
    "fobs = utils.nyquist_freqs(DUR, CAD)\n",
    "gwf_freqs = np.zeros((fobs.size - 1, NREALS))\n",
    "gwf = np.zeros_like(gwf_freqs)\n",
    "gwb = np.zeros_like(gwf_freqs)\n",
    "\n",
    "print(\"num_mbhb\")\n",
    "edges_fobs, num_mbhb_fobs, _ = sam.num_mbhb(fobs/YR)\n",
    "\n",
    "for rr in tqdm.notebook.tqdm(range(NREALS)):\n",
    "    _gff, _gwf, _gwb = mc_gws_from_sam(edges_fobs, num_mbhb_fobs, threshold=10.0, cut_below_mass=1e6)\n",
    "    gwf_freqs[:, rr] = _gff\n",
    "    gwf[:, rr] = _gwf\n",
    "    gwb[:, rr] = _gwb\n",
    "    break"
   ]
  },
  {
   "cell_type": "code",
   "execution_count": null,
   "id": "937ee3ef",
   "metadata": {},
   "outputs": [],
   "source": [
    "fig, ax = zplot.figax(figsize=[16, 10])\n",
    "\n",
    "xx = zmath.midpoints(fobs, log=False)\n",
    "\n",
    "for rr in range(NREALS):\n",
    "    hh, = ax.plot(xx, gwb[:, rr], lw=0.75, alpha=0.35)\n",
    "    col = hh.get_color()\n",
    "    idx = (gwf[:, rr] > gwb[:, rr] * 0.5)\n",
    "    ax.scatter(gwf_freqs[idx, rr], gwf[idx, rr], alpha=0.25, color=col, s=5)\n",
    "    \n",
    "# med, conf, ci = zmath.confidence_intervals(gwf, percs=[0.5, 0.9, 0.98], axis=-1, return_ci=True)\n",
    "# ax.plot(xx, med, 'r-', alpha=0.25)\n",
    "# conf = conf.squeeze()\n",
    "# for ii in range(ci.size):\n",
    "#     ax.fill_between(xx, *conf[:, ii, :].T, color='r', alpha=0.15)\n",
    "\n",
    "# med, conf, ci = zmath.confidence_intervals(gwf, percs=0.9, axis=-1, return_ci=True)\n",
    "# ax.plot(xx, conf[:, 0, -1], 'r-', alpha=0.25)\n",
    "\n",
    "med, conf = zmath.confidence_intervals(gwb, percs=0.5, axis=-1)\n",
    "conf = conf.squeeze()\n",
    "ax.plot(xx, med, 'b-')\n",
    "ax.fill_between(xx, *conf.T, color='b', alpha=0.25)\n",
    "\n",
    "amp_loc = 0.1\n",
    "amp = zmath.interp(amp_loc, xx, med)\n",
    "yy = amp * np.power(xx/amp_loc, -2.0/3.0)\n",
    "ax.plot(xx, yy, 'k--', lw=2.5, alpha=0.5)\n",
    "\n",
    "ax.set(ylim=[3e-18, 1e-14], xlim=zmath.minmax(xx, log_stretch=0.02))\n",
    "plt.show()"
   ]
  },
  {
   "cell_type": "code",
   "execution_count": null,
   "id": "57d8a033",
   "metadata": {},
   "outputs": [],
   "source": [
    "log_edges_fobs = [np.log10(edges_fobs[0]), edges_fobs[1], edges_fobs[2], np.log10(edges_fobs[3])]\n",
    "vals, weights = kale.sample_outliers(log_edges_fobs, num_mbhb_fobs, 10.0)"
   ]
  },
  {
   "cell_type": "code",
   "execution_count": null,
   "id": "49b5b677",
   "metadata": {},
   "outputs": [],
   "source": [
    "print([bb.size for bb in bins])\n",
    "[bb.size for bb in log_edges_fobs]"
   ]
  },
  {
   "cell_type": "code",
   "execution_count": null,
   "id": "92738007",
   "metadata": {},
   "outputs": [],
   "source": [
    "ii = 0\n",
    "bins = [sam.mbh1, sam.mrat]\n",
    "\n",
    "fig, ax = plt.subplots(figsize=[20, 10])\n",
    "\n",
    "nums = num_mbhb_fobs[..., 0].sum(axis=-1)\n",
    "nums = kale.utils.midpoints(nums, axis=None)\n",
    "\n",
    "idx = (vals[-1] < log_edges_fobs[-1][1])\n",
    "hist, *_ = np.histogram2d(vals[0][idx], vals[1][idx], bins=bins, weights=weights[idx])\n",
    "print(nums.shape, hist.shape)\n",
    "\n",
    "data = np.ones_like(nums) * np.nan\n",
    "idx = (hist > 0)\n",
    "data[idx] = (nums[idx] / hist[idx]) - 1.0\n",
    "print(utils.stats(data))\n",
    "\n",
    "data = np.log10(np.fabs(data))\n",
    "\n",
    "pcm = ax.pcolormesh(*bins, data.T)\n",
    "plt.colorbar(pcm)\n",
    "\n",
    "plt.show()"
   ]
  },
  {
   "cell_type": "code",
   "execution_count": null,
   "id": "209b3dc5",
   "metadata": {},
   "outputs": [],
   "source": []
  },
  {
   "cell_type": "code",
   "execution_count": null,
   "id": "5a0ea87a",
   "metadata": {},
   "outputs": [],
   "source": []
  },
  {
   "cell_type": "code",
   "execution_count": null,
   "id": "96b325cd",
   "metadata": {},
   "outputs": [],
   "source": []
  },
  {
   "cell_type": "markdown",
   "id": "5499d047",
   "metadata": {},
   "source": [
    "# Examine convergence properties"
   ]
  },
  {
   "cell_type": "code",
   "execution_count": null,
   "id": "13071387",
   "metadata": {},
   "outputs": [],
   "source": [
    "FREQ = 1.0 / YR\n",
    "MSTAR = [8.5, 13.0, 46]\n",
    "MRAT = [0.02, 1.0, 50]\n",
    "REDZ = [0.0, 6.0, 61]\n",
    "# np.logspace(*MSTAR)"
   ]
  },
  {
   "cell_type": "markdown",
   "id": "a10f5e8d",
   "metadata": {},
   "source": [
    "### mass"
   ]
  },
  {
   "cell_type": "code",
   "execution_count": null,
   "id": "regulated-report",
   "metadata": {},
   "outputs": [],
   "source": [
    "mstar_args = [\n",
    "    [8.5, 13, 41],    \n",
    "    [8.5, 13.5, 41],    \n",
    "    [8.5, 14.0, 41],    \n",
    "    [8.5, 13, 41],    \n",
    "    [8.5, 13, 61],    \n",
    "    [8.5, 13, 81],    \n",
    "]\n",
    "\n",
    "fig, ax = zplot.figax(scale='linear')\n",
    "\n",
    "strain = []\n",
    "labels = []\n",
    "for ii, mstar in enumerate(mstar_args):\n",
    "    sam = holodeck.sam.BP_Semi_Analytic(mstar_pri=mstar, mrat=MRAT, redz=REDZ)\n",
    "    gwb = sam.gwb_sa(FREQ)\n",
    "    hc = np.sqrt(np.sum(gwb))\n",
    "    ax.plot(ii+1, hc, marker='o', label=str(mstar))\n",
    "    \n",
    "plt.legend()\n",
    "plt.show()"
   ]
  },
  {
   "cell_type": "markdown",
   "id": "4990bb7a",
   "metadata": {},
   "source": [
    "### mass-ratio"
   ]
  },
  {
   "cell_type": "code",
   "execution_count": null,
   "id": "continental-champion",
   "metadata": {},
   "outputs": [],
   "source": [
    "args = [\n",
    "    [0.02, 1.0, 40],\n",
    "    [0.02, 1.0, 50],\n",
    "    [0.02, 1.0, 60],\n",
    "    [0.02, 1.0, 70],\n",
    "    [0.02, 1.0, 80],\n",
    "    [0.02, 1.0, 160],\n",
    "    [0.02, 1.0, 320],\n",
    "    [0.02, 1.0, 640],\n",
    "    [0.02, 1.0, 160],\n",
    "    [0.002, 1.0, 160],\n",
    "    [0.0002, 1.0, 160],\n",
    "]\n",
    "\n",
    "fig, ax = zplot.figax(scale='linear')\n",
    "\n",
    "strain = []\n",
    "labels = []\n",
    "for ii, arg in enumerate(args):\n",
    "    sam = holodeck.sam.BP_Semi_Analytic(mstar_pri=MSTAR, mrat=arg, redz=REDZ)\n",
    "    gwb = sam.gwb_sa(FREQ)\n",
    "    hc = np.sqrt(np.sum(gwb))\n",
    "    ax.plot(ii+1, hc, marker='o', label=str(arg))\n",
    "    \n",
    "plt.legend()\n",
    "plt.show()"
   ]
  },
  {
   "cell_type": "markdown",
   "id": "ba79bb6f",
   "metadata": {},
   "source": [
    "### redshift"
   ]
  },
  {
   "cell_type": "code",
   "execution_count": null,
   "id": "211ba942",
   "metadata": {},
   "outputs": [],
   "source": [
    "fig, ax = zplot.figax(scale='linear')\n",
    "\n",
    "strain = []\n",
    "labels = []\n",
    "for ii in range(10):\n",
    "    arg = [0.0, 1.0 + ii, int((1.0 + ii)/0.05)]\n",
    "    sam = holodeck.sam.BP_Semi_Analytic(mstar_pri=MSTAR, mrat=MRAT, redz=arg)\n",
    "    gwb = sam.gwb_sa(FREQ)\n",
    "    hc = np.sqrt(np.sum(gwb))\n",
    "    ax.plot(ii+1, hc, marker='o', label=str(arg))\n",
    "    \n",
    "plt.legend()\n",
    "plt.show()"
   ]
  },
  {
   "cell_type": "code",
   "execution_count": null,
   "id": "unlimited-status",
   "metadata": {},
   "outputs": [],
   "source": [
    "args = [\n",
    "    [0.0, 6.0, 40],\n",
    "    [0.0, 6.0, 80],\n",
    "    [0.0, 6.0, 100],\n",
    "    [0.0, 6.0, 150],\n",
    "    [0.0, 6.0, 200],\n",
    "    [0.0, 6.0, 250],\n",
    "    [0.0, 6.0, 300],\n",
    "]\n",
    "\n",
    "fig, ax = zplot.figax(scale='linear')\n",
    "\n",
    "strain = []\n",
    "labels = []\n",
    "for ii, arg in enumerate(args):\n",
    "    sam = holodeck.sam.BP_Semi_Analytic(mstar_pri=MSTAR, mrat=MRAT, redz=arg)\n",
    "    \n",
    "    gwb = sam.gwb_sa(FREQ)   # [:, :, :, 1:]\n",
    "    hc = np.sqrt(np.sum(gwb))\n",
    "\n",
    "    ax.plot(ii+1, hc, marker='o', label=str(arg))\n",
    "    \n",
    "plt.legend()\n",
    "plt.show()"
   ]
  },
  {
   "cell_type": "code",
   "execution_count": null,
   "id": "active-benchmark",
   "metadata": {},
   "outputs": [],
   "source": []
  },
  {
   "cell_type": "code",
   "execution_count": null,
   "id": "hollywood-trademark",
   "metadata": {},
   "outputs": [],
   "source": []
  },
  {
   "cell_type": "code",
   "execution_count": null,
   "id": "conservative-junior",
   "metadata": {},
   "outputs": [],
   "source": []
  },
  {
   "cell_type": "code",
   "execution_count": null,
   "id": "acoustic-meter",
   "metadata": {},
   "outputs": [],
   "source": []
  }
 ],
 "metadata": {
  "kernelspec": {
   "display_name": "py38",
   "language": "python",
   "name": "py38"
  },
  "language_info": {
   "codemirror_mode": {
    "name": "ipython",
    "version": 3
   },
   "file_extension": ".py",
   "mimetype": "text/x-python",
   "name": "python",
   "nbconvert_exporter": "python",
   "pygments_lexer": "ipython3",
   "version": "3.8.11"
  },
  "toc": {
   "base_numbering": 1,
   "nav_menu": {},
   "number_sections": true,
   "sideBar": true,
   "skip_h1_title": false,
   "title_cell": "Table of Contents",
   "title_sidebar": "Contents",
   "toc_cell": false,
   "toc_position": {
    "height": "calc(100% - 180px)",
    "left": "10px",
    "top": "150px",
    "width": "165px"
   },
   "toc_section_display": true,
   "toc_window_display": true
  },
  "varInspector": {
   "cols": {
    "lenName": 16,
    "lenType": 16,
    "lenVar": 40
   },
   "kernels_config": {
    "python": {
     "delete_cmd_postfix": "",
     "delete_cmd_prefix": "del ",
     "library": "var_list.py",
     "varRefreshCmd": "print(var_dic_list())"
    },
    "r": {
     "delete_cmd_postfix": ") ",
     "delete_cmd_prefix": "rm(",
     "library": "var_list.r",
     "varRefreshCmd": "cat(var_dic_list()) "
    }
   },
   "types_to_exclude": [
    "module",
    "function",
    "builtin_function_or_method",
    "instance",
    "_Feature"
   ],
   "window_display": false
  }
 },
 "nbformat": 4,
 "nbformat_minor": 5
}
