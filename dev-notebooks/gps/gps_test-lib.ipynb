{
 "cells": [
  {
   "cell_type": "code",
   "execution_count": null,
   "metadata": {},
   "outputs": [],
   "source": [
    "# %load ../init.ipy\n",
    "%reload_ext autoreload\n",
    "%autoreload 2\n",
    "\n",
    "# Builtin packages\n",
    "from importlib import reload\n",
    "import logging\n",
    "import os\n",
    "from pathlib import Path\n",
    "import sys\n",
    "import warnings\n",
    "\n",
    "# standard secondary packages\n",
    "import astropy as ap\n",
    "import h5py\n",
    "import matplotlib as mpl\n",
    "import matplotlib.pyplot as plt\n",
    "import numpy as np\n",
    "import scipy as sp\n",
    "import scipy.stats\n",
    "import tqdm.notebook as tqdm\n",
    "\n",
    "# development packages\n",
    "import kalepy as kale\n",
    "import kalepy.utils\n",
    "import kalepy.plot\n",
    "\n",
    "# --- Holodeck ----\n",
    "import holodeck as holo\n",
    "import holodeck.sam\n",
    "from holodeck import cosmo, utils, plot\n",
    "from holodeck.constants import MSOL, PC, YR, MPC, GYR\n",
    "\n",
    "# Silence annoying numpy errors\n",
    "np.seterr(divide='ignore', invalid='ignore', over='ignore')\n",
    "warnings.filterwarnings(\"ignore\", category=UserWarning)\n",
    "\n",
    "# Plotting settings\n",
    "mpl.rc('font', **{'family': 'serif', 'sans-serif': ['Times'], 'size': 15})\n",
    "mpl.rc('lines', solid_capstyle='round')\n",
    "mpl.rc('mathtext', fontset='cm')\n",
    "mpl.style.use('default')   # avoid dark backgrounds from dark theme vscode\n",
    "plt.rcParams.update({'grid.alpha': 0.5})\n",
    "\n",
    "# Load log and set logging level\n",
    "log = holo.log\n",
    "log.setLevel(logging.INFO)"
   ]
  },
  {
   "cell_type": "code",
   "execution_count": null,
   "metadata": {},
   "outputs": [],
   "source": [
    "PATH = \"test_2022-06-27\"\n",
    "PATH = Path(holo._PATH_OUTPUT).resolve().joinpath(PATH)\n",
    "\n",
    "fname = Path(PATH).joinpath('lib_sams.hdf5')\n",
    "exists = fname.exists()\n",
    "print(fname, exists)\n",
    "if not exists:\n",
    "    raise\n",
    "\n",
    "data = h5py.File(fname, 'r')\n",
    "print(list(data.keys()))\n",
    "print(list(data.attrs['params']))\n",
    "print(data['gwb'].shape)\n",
    "print(f\"gsmf_phi0={data['gsmf_phi0'].shape}, mmb_amp={data['mmb_amp'].shape}, mmb_plaw={data['mmb_plaw'].shape}, fobs={data['fobs'].shape}\")"
   ]
  },
  {
   "cell_type": "markdown",
   "metadata": {},
   "source": [
    "# Train GPs"
   ]
  },
  {
   "cell_type": "code",
   "execution_count": null,
   "metadata": {},
   "outputs": [],
   "source": []
  }
 ],
 "metadata": {
  "kernelspec": {
   "display_name": "Python 3.9.12 ('py39')",
   "language": "python",
   "name": "python3"
  },
  "language_info": {
   "codemirror_mode": {
    "name": "ipython",
    "version": 3
   },
   "file_extension": ".py",
   "mimetype": "text/x-python",
   "name": "python",
   "nbconvert_exporter": "python",
   "pygments_lexer": "ipython3",
   "version": "3.9.13"
  },
  "vscode": {
   "interpreter": {
    "hash": "61b4062b24dfb1010f420dad5aa3bd73a4d2af47d0ec44eafec465a35a9d7239"
   }
  }
 },
 "nbformat": 4,
 "nbformat_minor": 2
}
