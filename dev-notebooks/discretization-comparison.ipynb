{
 "cells": [
  {
   "cell_type": "code",
   "execution_count": null,
   "metadata": {},
   "outputs": [],
   "source": [
    "# %load ../init.ipy\n",
    "%reload_ext autoreload\n",
    "%autoreload 2\n",
    "from importlib import reload\n",
    "\n",
    "import os\n",
    "import sys\n",
    "import logging\n",
    "from pathlib import Path\n",
    "import warnings\n",
    "import numpy as np\n",
    "import astropy as ap\n",
    "import scipy as sp\n",
    "import scipy.stats\n",
    "import matplotlib as mpl\n",
    "import matplotlib.pyplot as plt\n",
    "\n",
    "import h5py\n",
    "import tqdm.notebook as tqdm\n",
    "\n",
    "import kalepy as kale\n",
    "import kalepy.utils\n",
    "import kalepy.plot\n",
    "\n",
    "import holodeck as holo\n",
    "import holodeck.sam\n",
    "from holodeck import cosmo, utils, plot\n",
    "from holodeck.constants import MSOL, PC, YR, MPC, GYR\n",
    "\n",
    "# Silence annoying numpy errors\n",
    "np.seterr(divide='ignore', invalid='ignore', over='ignore')\n",
    "warnings.filterwarnings(\"ignore\", category=UserWarning)\n",
    "\n",
    "# Plotting settings\n",
    "mpl.rc('font', **{'family': 'serif', 'sans-serif': ['Times'], 'size': 15})\n",
    "mpl.rc('lines', solid_capstyle='round')\n",
    "mpl.rc('mathtext', fontset='cm')\n",
    "mpl.style.use('default')   # avoid dark backgrounds from dark theme vscode\n",
    "plt.rcParams.update({'grid.alpha': 0.5})\n",
    "\n",
    "log = holo.log\n",
    "log.setLevel(logging.INFO)"
   ]
  },
  {
   "cell_type": "code",
   "execution_count": null,
   "metadata": {},
   "outputs": [],
   "source": [
    "fobs_edges = utils.nyquist_freqs_edges()\n",
    "fobs = 0.5 * (fobs_edges[1:] + fobs_edges[:-1])\n",
    "print(f\"Number of frequency bins: {fobs.size-1}\")\n",
    "print(f\"  between [{fobs[0]*YR:5.2f}, {fobs[-1]*YR:7.2f}] 1/yr  <==>  [{1/fobs[0]/YR:.2f}, {1/fobs[-1]/YR:.2f}] yr\")\n",
    "print(f\"          [{fobs[0]*1e9:5.2f}, {fobs[-1]*1e9:7.2f}] nHz\")"
   ]
  },
  {
   "cell_type": "code",
   "execution_count": null,
   "metadata": {},
   "outputs": [],
   "source": [
    "sam = holo.sam.Semi_Analytic_Model()"
   ]
  },
  {
   "cell_type": "code",
   "execution_count": null,
   "metadata": {},
   "outputs": [],
   "source": [
    "gwb = sam.gwb(fobs_edges, realize=200)    # calculate many different realizations"
   ]
  },
  {
   "cell_type": "code",
   "execution_count": null,
   "metadata": {},
   "outputs": [],
   "source": [
    "percs = [2, 5, 10, 25, 50, 75, 90, 95, 98]\n",
    "gwb_percs = np.percentile(gwb, percs, axis=-1)"
   ]
  },
  {
   "cell_type": "code",
   "execution_count": null,
   "metadata": {},
   "outputs": [],
   "source": [
    "sam._dynamic_binary_number.shape\n",
    "sam._density.shape\n",
    "\n",
    "fname = Path(holo._PATH_ROOT).resolve()\n",
    "fname = fname.joinpath(\"discretization-comparison_luke-sam-data_2023-02-13.npz\")\n",
    "np.savez(\n",
    "    fname,\n",
    "    mtot=sam.mtot, mrat=sam.mrat, redz=sam.redz, fobs=fobs,\n",
    "    density=sam._density,\n",
    "    number=sam._dynamic_binary_number,\n",
    "    gwb=gwb,\n",
    "    percs=percs,\n",
    "    gwb_percs=gwb_percs,\n",
    ")\n",
    "print(f\"Saved to {fname}, size {utils.get_file_size(fname)}\")\n"
   ]
  },
  {
   "cell_type": "code",
   "execution_count": null,
   "metadata": {},
   "outputs": [],
   "source": [
    "number = sam._dynamic_binary_number\n",
    "nn = number.sum(axis=(0, 1, 2))\n",
    "plt.loglog(xx, nn)\n",
    "plt.show()"
   ]
  },
  {
   "cell_type": "code",
   "execution_count": null,
   "metadata": {},
   "outputs": [],
   "source": [
    "nsamp = 10    # number of sample GWB spectra to plot\n",
    "fig, ax = plot.figax(figsize=[8, 4], xlabel='Frequency $f_\\mathrm{obs}$ [1/yr]', ylabel='Characteristic Strain $h_c$')\n",
    "\n",
    "# `fobs` are bin centers in CGS units, convert to [1/yr]\n",
    "xx = fobs * YR\n",
    "\n",
    "# plot a reference, pure power-law  strain spectrum:   h_c(f) = 1e-15 * (f * yr) ^ -2/3\n",
    "yy = 1e-15 * np.power(xx, -2.0/3.0)\n",
    "ax.plot(xx, yy, 'k--', alpha=0.25, lw=2.0)\n",
    "\n",
    "# Plot the median GWB spectrum\n",
    "ax.plot(xx, np.median(gwb, axis=-1), 'k-')\n",
    "\n",
    "# Plot `nsamp` random spectra \n",
    "nsamp = np.min([nsamp, gwb.shape[1]])\n",
    "idx = np.random.choice(gwb.shape[1], nsamp, replace=False)\n",
    "# ax.plot(xx, gwb[:, idx], 'k-', lw=1.0, alpha=0.1)\n",
    "\n",
    "for ii in range(len(percs)//2):\n",
    "    # print(ii, len(percs)-1-ii, \"==>\", percs[ii], percs[-1-ii])\n",
    "    lo = gwb_percs[ii, :]\n",
    "    hi = gwb_percs[-1-ii, :]\n",
    "    ax.fill_between(xx, lo, hi, alpha=0.15, color='b')\n",
    "    \n",
    "plot._twin_hz(ax)\n",
    "fname_fig = fname.with_suffix('.png')\n",
    "fig.savefig(fname_fig, dpi=400)\n",
    "print(f\"Saved to {fname_fig}, size {utils.get_file_size(fname_fig)}\")\n",
    "plt.show()"
   ]
  },
  {
   "cell_type": "code",
   "execution_count": null,
   "metadata": {},
   "outputs": [],
   "source": [
    "nsamp = 10    # number of sample GWB spectra to plot\n",
    "fig, ax = plot.figax(xlabel='Frequency $f_\\mathrm{obs}$ [1/yr]', ylabel='Characteristic Strain $h_c$')\n",
    "\n",
    "# `fobs` are bin centers in CGS units, convert to [1/yr]\n",
    "xx = fobs * YR\n",
    "\n",
    "# plot a reference, pure power-law  strain spectrum:   h_c(f) = 1e-15 * (f * yr) ^ -2/3\n",
    "yy = 1e-15 * np.power(xx, -2.0/3.0)\n",
    "ax.plot(xx, yy, 'k--', alpha=0.25, lw=2.0)\n",
    "\n",
    "# Plot the median GWB spectrum\n",
    "ax.plot(xx, np.median(gwb, axis=-1), 'k-')\n",
    "\n",
    "for ii in range(len(percs)//2):\n",
    "    print(ii, len(percs)-1-ii, \"==>\", percs[ii], percs[-1-ii])\n",
    "    lo = gwb_percs[ii, :]\n",
    "    hi = gwb_percs[-1-ii, :]\n",
    "    ax.fill_between(xx, lo, hi, alpha=0.2, color='b')\n",
    "    \n",
    "plt.show()"
   ]
  }
 ],
 "metadata": {
  "kernelspec": {
   "display_name": "py310",
   "language": "python",
   "name": "python3"
  },
  "language_info": {
   "codemirror_mode": {
    "name": "ipython",
    "version": 3
   },
   "file_extension": ".py",
   "mimetype": "text/x-python",
   "name": "python",
   "nbconvert_exporter": "python",
   "pygments_lexer": "ipython3",
   "version": "3.10.8"
  },
  "vscode": {
   "interpreter": {
    "hash": "1f0c7602c82e39efa19a01e5e068584db7a6d17aff8711ab06660aac81377393"
   }
  }
 },
 "nbformat": 4,
 "nbformat_minor": 2
}
